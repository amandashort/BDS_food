{
  "nbformat": 4,
  "nbformat_minor": 0,
  "metadata": {
    "colab": {
      "name": "Project_graphs.ipynb",
      "provenance": [],
      "collapsed_sections": [],
      "machine_shape": "hm"
    },
    "kernelspec": {
      "name": "python3",
      "display_name": "Python 3"
    },
    "language_info": {
      "name": "python"
    }
  },
  "cells": [
    {
      "cell_type": "code",
      "metadata": {
        "colab": {
          "base_uri": "https://localhost:8080/"
        },
        "id": "w9LhMiIf4UZ4",
        "outputId": "fa37e959-3722-4edf-e7c2-9fb9bb5a4690"
      },
      "source": [
        "import os\n",
        "!pip install pyspark\n",
        "!pip install -U -q PyDrive\n",
        "!pip install pyvis\n",
        "!apt-get install graphviz graphviz-dev\n",
        "!pip install pygraphviz\n"
      ],
      "execution_count": null,
      "outputs": [
        {
          "output_type": "stream",
          "text": [
            "Collecting pyspark\n",
            "\u001b[?25l  Downloading https://files.pythonhosted.org/packages/45/b0/9d6860891ab14a39d4bddf80ba26ce51c2f9dc4805e5c6978ac0472c120a/pyspark-3.1.1.tar.gz (212.3MB)\n",
            "\u001b[K     |████████████████████████████████| 212.3MB 35kB/s \n",
            "\u001b[?25hCollecting py4j==0.10.9\n",
            "\u001b[?25l  Downloading https://files.pythonhosted.org/packages/9e/b6/6a4fb90cd235dc8e265a6a2067f2a2c99f0d91787f06aca4bcf7c23f3f80/py4j-0.10.9-py2.py3-none-any.whl (198kB)\n",
            "\u001b[K     |████████████████████████████████| 204kB 47.5MB/s \n",
            "\u001b[?25hBuilding wheels for collected packages: pyspark\n",
            "  Building wheel for pyspark (setup.py) ... \u001b[?25l\u001b[?25hdone\n",
            "  Created wheel for pyspark: filename=pyspark-3.1.1-py2.py3-none-any.whl size=212767604 sha256=00d08934320d803482e6f91c688bf9e0c259c36867843e5e0831473d97b1a84e\n",
            "  Stored in directory: /root/.cache/pip/wheels/0b/90/c0/01de724414ef122bd05f056541fb6a0ecf47c7ca655f8b3c0f\n",
            "Successfully built pyspark\n",
            "Installing collected packages: py4j, pyspark\n",
            "Successfully installed py4j-0.10.9 pyspark-3.1.1\n",
            "Collecting pyvis\n",
            "  Downloading https://files.pythonhosted.org/packages/07/d1/e87844ec86e96df7364f21af2263ad6030c0d727660ae89935c7af56a540/pyvis-0.1.9-py3-none-any.whl\n",
            "Collecting jsonpickle>=1.4.1\n",
            "  Downloading https://files.pythonhosted.org/packages/bb/1a/f2db026d4d682303793559f1c2bb425ba3ec0d6fd7ac63397790443f2461/jsonpickle-2.0.0-py2.py3-none-any.whl\n",
            "Requirement already satisfied: jinja2>=2.9.6 in /usr/local/lib/python3.7/dist-packages (from pyvis) (2.11.3)\n",
            "Requirement already satisfied: networkx>=1.11 in /usr/local/lib/python3.7/dist-packages (from pyvis) (2.5.1)\n",
            "Requirement already satisfied: ipython>=5.3.0 in /usr/local/lib/python3.7/dist-packages (from pyvis) (5.5.0)\n",
            "Requirement already satisfied: importlib-metadata; python_version < \"3.8\" in /usr/local/lib/python3.7/dist-packages (from jsonpickle>=1.4.1->pyvis) (3.10.1)\n",
            "Requirement already satisfied: MarkupSafe>=0.23 in /usr/local/lib/python3.7/dist-packages (from jinja2>=2.9.6->pyvis) (1.1.1)\n",
            "Requirement already satisfied: decorator<5,>=4.3 in /usr/local/lib/python3.7/dist-packages (from networkx>=1.11->pyvis) (4.4.2)\n",
            "Requirement already satisfied: setuptools>=18.5 in /usr/local/lib/python3.7/dist-packages (from ipython>=5.3.0->pyvis) (56.0.0)\n",
            "Requirement already satisfied: simplegeneric>0.8 in /usr/local/lib/python3.7/dist-packages (from ipython>=5.3.0->pyvis) (0.8.1)\n",
            "Requirement already satisfied: pygments in /usr/local/lib/python3.7/dist-packages (from ipython>=5.3.0->pyvis) (2.6.1)\n",
            "Requirement already satisfied: pickleshare in /usr/local/lib/python3.7/dist-packages (from ipython>=5.3.0->pyvis) (0.7.5)\n",
            "Requirement already satisfied: pexpect; sys_platform != \"win32\" in /usr/local/lib/python3.7/dist-packages (from ipython>=5.3.0->pyvis) (4.8.0)\n",
            "Requirement already satisfied: prompt-toolkit<2.0.0,>=1.0.4 in /usr/local/lib/python3.7/dist-packages (from ipython>=5.3.0->pyvis) (1.0.18)\n",
            "Requirement already satisfied: traitlets>=4.2 in /usr/local/lib/python3.7/dist-packages (from ipython>=5.3.0->pyvis) (5.0.5)\n",
            "Requirement already satisfied: zipp>=0.5 in /usr/local/lib/python3.7/dist-packages (from importlib-metadata; python_version < \"3.8\"->jsonpickle>=1.4.1->pyvis) (3.4.1)\n",
            "Requirement already satisfied: typing-extensions>=3.6.4; python_version < \"3.8\" in /usr/local/lib/python3.7/dist-packages (from importlib-metadata; python_version < \"3.8\"->jsonpickle>=1.4.1->pyvis) (3.7.4.3)\n",
            "Requirement already satisfied: ptyprocess>=0.5 in /usr/local/lib/python3.7/dist-packages (from pexpect; sys_platform != \"win32\"->ipython>=5.3.0->pyvis) (0.7.0)\n",
            "Requirement already satisfied: six>=1.9.0 in /usr/local/lib/python3.7/dist-packages (from prompt-toolkit<2.0.0,>=1.0.4->ipython>=5.3.0->pyvis) (1.15.0)\n",
            "Requirement already satisfied: wcwidth in /usr/local/lib/python3.7/dist-packages (from prompt-toolkit<2.0.0,>=1.0.4->ipython>=5.3.0->pyvis) (0.2.5)\n",
            "Requirement already satisfied: ipython-genutils in /usr/local/lib/python3.7/dist-packages (from traitlets>=4.2->ipython>=5.3.0->pyvis) (0.2.0)\n",
            "Installing collected packages: jsonpickle, pyvis\n",
            "Successfully installed jsonpickle-2.0.0 pyvis-0.1.9\n",
            "Reading package lists... Done\n",
            "Building dependency tree       \n",
            "Reading state information... Done\n",
            "Note, selecting 'libgraphviz-dev' instead of 'graphviz-dev'\n",
            "graphviz is already the newest version (2.40.1-2).\n",
            "The following package was automatically installed and is no longer required:\n",
            "  libnvidia-common-460\n",
            "Use 'apt autoremove' to remove it.\n",
            "The following additional packages will be installed:\n",
            "  libgail-common libgail18 libgtk2.0-0 libgtk2.0-bin libgtk2.0-common\n",
            "  libgvc6-plugins-gtk libxdot4\n",
            "Suggested packages:\n",
            "  gvfs\n",
            "The following NEW packages will be installed:\n",
            "  libgail-common libgail18 libgraphviz-dev libgtk2.0-0 libgtk2.0-bin\n",
            "  libgtk2.0-common libgvc6-plugins-gtk libxdot4\n",
            "0 upgraded, 8 newly installed, 0 to remove and 34 not upgraded.\n",
            "Need to get 2,120 kB of archives.\n",
            "After this operation, 7,128 kB of additional disk space will be used.\n",
            "Get:1 http://archive.ubuntu.com/ubuntu bionic/main amd64 libgtk2.0-common all 2.24.32-1ubuntu1 [125 kB]\n",
            "Get:2 http://archive.ubuntu.com/ubuntu bionic/main amd64 libgtk2.0-0 amd64 2.24.32-1ubuntu1 [1,769 kB]\n",
            "Get:3 http://archive.ubuntu.com/ubuntu bionic/main amd64 libgail18 amd64 2.24.32-1ubuntu1 [14.2 kB]\n",
            "Get:4 http://archive.ubuntu.com/ubuntu bionic/main amd64 libgail-common amd64 2.24.32-1ubuntu1 [112 kB]\n",
            "Get:5 http://archive.ubuntu.com/ubuntu bionic/universe amd64 libxdot4 amd64 2.40.1-2 [15.7 kB]\n",
            "Get:6 http://archive.ubuntu.com/ubuntu bionic/universe amd64 libgvc6-plugins-gtk amd64 2.40.1-2 [18.2 kB]\n",
            "Get:7 http://archive.ubuntu.com/ubuntu bionic/universe amd64 libgraphviz-dev amd64 2.40.1-2 [57.3 kB]\n",
            "Get:8 http://archive.ubuntu.com/ubuntu bionic/main amd64 libgtk2.0-bin amd64 2.24.32-1ubuntu1 [7,536 B]\n",
            "Fetched 2,120 kB in 1s (1,779 kB/s)\n",
            "Selecting previously unselected package libgtk2.0-common.\n",
            "(Reading database ... 160690 files and directories currently installed.)\n",
            "Preparing to unpack .../0-libgtk2.0-common_2.24.32-1ubuntu1_all.deb ...\n",
            "Unpacking libgtk2.0-common (2.24.32-1ubuntu1) ...\n",
            "Selecting previously unselected package libgtk2.0-0:amd64.\n",
            "Preparing to unpack .../1-libgtk2.0-0_2.24.32-1ubuntu1_amd64.deb ...\n",
            "Unpacking libgtk2.0-0:amd64 (2.24.32-1ubuntu1) ...\n",
            "Selecting previously unselected package libgail18:amd64.\n",
            "Preparing to unpack .../2-libgail18_2.24.32-1ubuntu1_amd64.deb ...\n",
            "Unpacking libgail18:amd64 (2.24.32-1ubuntu1) ...\n",
            "Selecting previously unselected package libgail-common:amd64.\n",
            "Preparing to unpack .../3-libgail-common_2.24.32-1ubuntu1_amd64.deb ...\n",
            "Unpacking libgail-common:amd64 (2.24.32-1ubuntu1) ...\n",
            "Selecting previously unselected package libxdot4.\n",
            "Preparing to unpack .../4-libxdot4_2.40.1-2_amd64.deb ...\n",
            "Unpacking libxdot4 (2.40.1-2) ...\n",
            "Selecting previously unselected package libgvc6-plugins-gtk.\n",
            "Preparing to unpack .../5-libgvc6-plugins-gtk_2.40.1-2_amd64.deb ...\n",
            "Unpacking libgvc6-plugins-gtk (2.40.1-2) ...\n",
            "Selecting previously unselected package libgraphviz-dev.\n",
            "Preparing to unpack .../6-libgraphviz-dev_2.40.1-2_amd64.deb ...\n",
            "Unpacking libgraphviz-dev (2.40.1-2) ...\n",
            "Selecting previously unselected package libgtk2.0-bin.\n",
            "Preparing to unpack .../7-libgtk2.0-bin_2.24.32-1ubuntu1_amd64.deb ...\n",
            "Unpacking libgtk2.0-bin (2.24.32-1ubuntu1) ...\n",
            "Setting up libgtk2.0-common (2.24.32-1ubuntu1) ...\n",
            "Setting up libxdot4 (2.40.1-2) ...\n",
            "Setting up libgtk2.0-0:amd64 (2.24.32-1ubuntu1) ...\n",
            "Setting up libgail18:amd64 (2.24.32-1ubuntu1) ...\n",
            "Setting up libgail-common:amd64 (2.24.32-1ubuntu1) ...\n",
            "Setting up libgvc6-plugins-gtk (2.40.1-2) ...\n",
            "Setting up libgraphviz-dev (2.40.1-2) ...\n",
            "Setting up libgtk2.0-bin (2.24.32-1ubuntu1) ...\n",
            "Processing triggers for man-db (2.8.3-2ubuntu0.1) ...\n",
            "Processing triggers for libc-bin (2.27-3ubuntu1.2) ...\n",
            "/sbin/ldconfig.real: /usr/local/lib/python3.7/dist-packages/ideep4py/lib/libmkldnn.so.0 is not a symbolic link\n",
            "\n",
            "Collecting pygraphviz\n",
            "\u001b[?25l  Downloading https://files.pythonhosted.org/packages/3a/d6/2c56f09ee83dbebb62c40487e4c972135661b9984fec9b30b77fb497090c/pygraphviz-1.7.zip (118kB)\n",
            "\u001b[K     |████████████████████████████████| 122kB 6.3MB/s \n",
            "\u001b[?25hBuilding wheels for collected packages: pygraphviz\n",
            "  Building wheel for pygraphviz (setup.py) ... \u001b[?25l\u001b[?25hdone\n",
            "  Created wheel for pygraphviz: filename=pygraphviz-1.7-cp37-cp37m-linux_x86_64.whl size=166117 sha256=6e012d8e0e1c8bbaf2b72226659571a7db6292498f867759dc3b43de3eaab12f\n",
            "  Stored in directory: /root/.cache/pip/wheels/32/59/00/14934a4292c4359eeabcdbf90f33d309b55d0f1be8a1262523\n",
            "Successfully built pygraphviz\n",
            "Installing collected packages: pygraphviz\n",
            "Successfully installed pygraphviz-1.7\n"
          ],
          "name": "stdout"
        }
      ]
    },
    {
      "cell_type": "code",
      "metadata": {
        "id": "URjkbyBD-1WD"
      },
      "source": [
        "import pandas as pd\n",
        "import gzip\n",
        "import json\n",
        "import networkx as nx\n",
        "import matplotlib.pyplot as plt\n",
        "import pyspark.sql.functions as sf\n",
        "import pygraphviz as pgv"
      ],
      "execution_count": null,
      "outputs": []
    },
    {
      "cell_type": "code",
      "metadata": {
        "id": "BWZhqwla_ISB"
      },
      "source": [
        "#sc.stop()\n",
        "#spark.stop()\n",
        "from pyspark.sql import SparkSession\n",
        "from pyspark import SparkConf, SparkContext\n",
        "\n",
        "# create the context\n",
        "conf = SparkConf().set(\"spark.ui.port\", \"4050\")\n",
        "sc = SparkContext(conf=conf)\n",
        "\n",
        "# create the session\n",
        "spark = SparkSession.builder.getOrCreate()"
      ],
      "execution_count": null,
      "outputs": []
    },
    {
      "cell_type": "code",
      "metadata": {
        "id": "V85sHzz28d02",
        "colab": {
          "base_uri": "https://localhost:8080/"
        },
        "outputId": "eb623692-3224-43a7-9ac6-082327fc23b6"
      },
      "source": [
        "from google.colab import drive\n",
        "drive.mount('/content/drive')"
      ],
      "execution_count": null,
      "outputs": [
        {
          "output_type": "stream",
          "text": [
            "Mounted at /content/drive\n"
          ],
          "name": "stdout"
        }
      ]
    },
    {
      "cell_type": "code",
      "metadata": {
        "id": "iXzS_UAT8py-"
      },
      "source": [
        "cur_path = \"/content/drive/MyDrive/Colab Notebooks/BigData/Project/Data/\"\n",
        "os.chdir(cur_path)"
      ],
      "execution_count": null,
      "outputs": []
    },
    {
      "cell_type": "code",
      "metadata": {
        "id": "LJYeSVAC4p8a"
      },
      "source": [
        "grocery_food_RDD = spark.read.json(\"/content/drive/MyDrive/Colab Notebooks/BigData/Project/Data/Grocery_and_Gourmet_Food.json.gz\")\n",
        "meta_data_RDD = spark.read.json(\"/content/drive/MyDrive/Colab Notebooks/BigData/Project/Data/meta_Grocery_and_Gourmet_Food.json.gz\")"
      ],
      "execution_count": null,
      "outputs": []
    },
    {
      "cell_type": "code",
      "metadata": {
        "id": "cwykxoUlBlhA",
        "colab": {
          "base_uri": "https://localhost:8080/"
        },
        "outputId": "a619a256-dd80-41fc-b529-2e16e3594e76"
      },
      "source": [
        "meta_data_RDD.show(5, False)"
      ],
      "execution_count": null,
      "outputs": [
        {
          "output_type": "stream",
          "text": [
            "+------------------------------------------------------------------------------------------------------------------------------------------------------------------------------------------------------------------------------------------------------------------------------------+------------------------------------------------------------------------+----------+--------------+---------------------------------------------------------------------------------------------------------------+------------------+---------------------------------------------------------------------------------------------------------------------------------------------------------------------------------------------------------------------------------------------------------------------------------------------------------------------------------------------------------------------+-------+-----------------------------+---+--------------------------------------------------------------------------------------------------------------------------------------------------+-----------+------+------------------------------------------------------------------------------------------------------------------------------------------------------------------------+------------+-----+-----+----------------------------------------------------------------+\n",
            "|also_buy                                                                                                                                                                                                                                                                            |also_view                                                               |asin      |brand         |category                                                                                                       |date              |description                                                                                                                                                                                                                                                                                                                                                          |details|feature                      |fit|image                                                                                                                                             |main_cat   |price |rank                                                                                                                                                                    |similar_item|tech1|tech2|title                                                           |\n",
            "+------------------------------------------------------------------------------------------------------------------------------------------------------------------------------------------------------------------------------------------------------------------------------------+------------------------------------------------------------------------+----------+--------------+---------------------------------------------------------------------------------------------------------------+------------------+---------------------------------------------------------------------------------------------------------------------------------------------------------------------------------------------------------------------------------------------------------------------------------------------------------------------------------------------------------------------+-------+-----------------------------+---+--------------------------------------------------------------------------------------------------------------------------------------------------+-----------+------+------------------------------------------------------------------------------------------------------------------------------------------------------------------------+------------+-----+-----+----------------------------------------------------------------+\n",
            "|[]                                                                                                                                                                                                                                                                                  |[B0000D9MYM, B0000D9MYL, B00ADHIGBA, B00H9OX598, B001LM42GY, B001LM5TDY]|0681727810|Ariola Imports|[Grocery & Gourmet Food, Dairy, Cheese & Eggs, Cheese, Gouda]                                                  |                  |[BEEMSTER GOUDA CHEESE AGED 18/24 MONTHS, Statements regarding dietary supplements have not been evaluated by the FDA and are not intended to diagnose, treat, cure, or prevent any disease or health condition.]                                                                                                                                                    |null   |[]                           |   |[]                                                                                                                                                |Grocery    |$41.91|165,181 in Grocery & Gourmet Food (                                                                                                                                     |            |     |     |Beemster Gouda - Aged 18/24 Months - App. 1.5 Lbs               |\n",
            "|[B01898YHXK, B01BCM6LAC, B00Q4OL47O, B00Q4OL5QE, 0804189986, B00Q4OL2F8, 1101902663, B019PDEUU8, B01AC97ONO, B01LZIS4VX, B019QN2DN8, B019PDYP7Q, 1101902639, B00Q4OL0S2, B019PHEIVA, B019QNGPSW, B0041RGD0E, 0998089508, 0988775115, B0006Z7NNG, B00MU73UKS, B01KIJ7JGA, B005F9W9JQ]|[]                                                                      |0853347867|              |[Grocery & Gourmet Food, Cooking & Baking, Sugar Substitutes, Xylitol]                                         |                  |[Shipped from UK, please allow 10 to 21 business days for arrival. ex lib pub by Applied Science Publishers ltd, Statements regarding dietary supplements have not been evaluated by the FDA and are not intended to diagnose, treat, cure, or prevent any disease or health condition.]                                                                             |null   |[]                           |   |[https://images-na.ssl-images-amazon.com/images/I/5135fT93xtL._SS40_.jpg, https://images-na.ssl-images-amazon.com/images/I/21IAIOeQruL._SS40_.jpg]|Grocery    |      |315,867 in Grocery & Gourmet Food (                                                                                                                                     |            |     |     |Trim Healthy Mama Xylitol                                       |\n",
            "|[]                                                                                                                                                                                                                                                                                  |[B07DXN65TF]                                                            |1888861118|Unik Occasions|[Grocery & Gourmet Food, Cooking & Baking, Frosting, Icing & Decorations, Cake & Cupcake Toppers, Cake Toppers]|September 21, 2010|[Jazz up your cakes with a sparkling monogram from our Sparkling collection! These single letter monograms are silver plated covered in crystal rhinestones and come in several sizes for your convenience. You can use these simple yet elegant monogram cake toppers to make a Sweet 16 even sweeter or use them for a wedding cake to make the cake more special.]|null   |[]                           |   |[]                                                                                                                                                |Amazon Home|$29.95|[\">#669,941 in Kitchen & Dining (See Top 100 in Kitchen & Dining)\",\">#9,899 in Kitchen & Dining > Bakeware > Decorating Tools > Cake & Cupcake Toppers > Cake Toppers\"] |            |     |     |Letter C - Swarovski Crystal Monogram Wedding Cake Topper Letter|\n",
            "|[]                                                                                                                                                                                                                                                                                  |[]                                                                      |1888861517|Other         |[Grocery & Gourmet Food, Cooking & Baking, Frosting, Icing & Decorations, Cake & Cupcake Toppers, Cake Toppers]|September 11, 2011|[Large Letter - Height 4.75\"]                                                                                                                                                                                                                                                                                                                                        |null   |[Large Letter - Height 4.75\"]|   |[]                                                                                                                                                |Amazon Home|$11.45|[\">#832,581 in Kitchen & Dining (See Top 100 in Kitchen & Dining)\",\">#12,883 in Kitchen & Dining > Bakeware > Decorating Tools > Cake & Cupcake Toppers > Cake Toppers\"]|            |     |     |Letter H - Swarovski Crystal Monogram Wedding Cake Topper Letter|\n",
            "|[]                                                                                                                                                                                                                                                                                  |[]                                                                      |1888861614|Unik Occasions|[Grocery & Gourmet Food, Cooking & Baking, Frosting, Icing & Decorations, Cake & Cupcake Toppers, Cake Toppers]|September 11, 2011|[4.75\"]                                                                                                                                                                                                                                                                                                                                                              |null   |[4.75\" height]               |   |[]                                                                                                                                                |Amazon Home|$15.00|[\">#590,999 in Kitchen & Dining (See Top 100 in Kitchen & Dining)\",\">#8,585 in Kitchen & Dining > Bakeware > Decorating Tools > Cake & Cupcake Toppers > Cake Toppers\"] |            |     |     |Letter S - Swarovski Crystal Monogram Wedding Cake Topper Letter|\n",
            "+------------------------------------------------------------------------------------------------------------------------------------------------------------------------------------------------------------------------------------------------------------------------------------+------------------------------------------------------------------------+----------+--------------+---------------------------------------------------------------------------------------------------------------+------------------+---------------------------------------------------------------------------------------------------------------------------------------------------------------------------------------------------------------------------------------------------------------------------------------------------------------------------------------------------------------------+-------+-----------------------------+---+--------------------------------------------------------------------------------------------------------------------------------------------------+-----------+------+------------------------------------------------------------------------------------------------------------------------------------------------------------------------+------------+-----+-----+----------------------------------------------------------------+\n",
            "only showing top 5 rows\n",
            "\n"
          ],
          "name": "stdout"
        }
      ]
    },
    {
      "cell_type": "markdown",
      "metadata": {
        "id": "yG173FxOk2uB"
      },
      "source": [
        "#Trader Joes"
      ]
    },
    {
      "cell_type": "code",
      "metadata": {
        "colab": {
          "base_uri": "https://localhost:8080/"
        },
        "id": "4XHAndtAgIyy",
        "outputId": "115050e4-5742-479c-ffcd-73216425e5a3"
      },
      "source": [
        "meta_data_RDD.groupby('main_cat').agg(count('main_cat')).sort(col('count(main_cat)').desc()).show( )"
      ],
      "execution_count": null,
      "outputs": [
        {
          "output_type": "stream",
          "text": [
            "+--------------------+---------------+\n",
            "|            main_cat|count(main_cat)|\n",
            "+--------------------+---------------+\n",
            "|             Grocery|         261845|\n",
            "|         Amazon Home|           8953|\n",
            "|Health & Personal...|           8543|\n",
            "|        Toys & Games|           1934|\n",
            "|          All Beauty|           1604|\n",
            "|                    |           1363|\n",
            "|Industrial & Scie...|            981|\n",
            "|     Office Products|            610|\n",
            "|   Sports & Outdoors|            396|\n",
            "|Cell Phones & Acc...|            167|\n",
            "|        Pet Supplies|            133|\n",
            "|Arts, Crafts & Se...|            132|\n",
            "|                Baby|             95|\n",
            "|<img src=\"https:/...|             87|\n",
            "|Tools & Home Impr...|             66|\n",
            "|           Computers|             39|\n",
            "|<img src=\"https:/...|             30|\n",
            "|     All Electronics|             20|\n",
            "|Home Audio & Theater|             15|\n",
            "|          Automotive|              7|\n",
            "+--------------------+---------------+\n",
            "only showing top 20 rows\n",
            "\n"
          ],
          "name": "stdout"
        }
      ]
    },
    {
      "cell_type": "code",
      "metadata": {
        "id": "QtCJ9lW0gcJj"
      },
      "source": [
        "meta_data_grocery = meta_data_RDD.filter(col('main_cat') == 'Grocery')"
      ],
      "execution_count": null,
      "outputs": []
    },
    {
      "cell_type": "code",
      "metadata": {
        "colab": {
          "base_uri": "https://localhost:8080/"
        },
        "id": "sQnZpGnugcLp",
        "outputId": "c1c01003-2259-4b18-ff24-1f0cccf55f93"
      },
      "source": [
        "meta_data_grocery.groupby('main_cat').agg(count('main_cat')).show()"
      ],
      "execution_count": null,
      "outputs": [
        {
          "output_type": "stream",
          "text": [
            "+--------+---------------+\n",
            "|main_cat|count(main_cat)|\n",
            "+--------+---------------+\n",
            "| Grocery|         261845|\n",
            "+--------+---------------+\n",
            "\n"
          ],
          "name": "stdout"
        }
      ]
    },
    {
      "cell_type": "code",
      "metadata": {
        "id": "uzAAD1u4gcOD"
      },
      "source": [
        "also_view_filtered = meta_data_RDD.select('also_view', 'asin', 'category', 'brand')\n",
        "e_filtered = also_view_filtered.select(also_view_filtered.asin, sf.explode(also_view_filtered.category), also_view_filtered.also_view, also_view_filtered.brand)"
      ],
      "execution_count": null,
      "outputs": []
    },
    {
      "cell_type": "code",
      "metadata": {
        "colab": {
          "base_uri": "https://localhost:8080/"
        },
        "id": "xv_W9KjUl4ws",
        "outputId": "4069ddca-e5dd-4ed5-da76-6ce73feb80cd"
      },
      "source": [
        "e_filtered.groupby('col').agg(count('col')).sort(col('count(col)').desc()).show(50)"
      ],
      "execution_count": null,
      "outputs": [
        {
          "output_type": "stream",
          "text": [
            "+--------------------+----------+\n",
            "|                 col|count(col)|\n",
            "+--------------------+----------+\n",
            "|Grocery & Gourmet...|    287051|\n",
            "|           Beverages|     61720|\n",
            "|    Cooking & Baking|     46134|\n",
            "| Coffee, Tea & Cocoa|     45179|\n",
            "|   Candy & Chocolate|     40668|\n",
            "|         Snack Foods|     32262|\n",
            "|                 Tea|     23507|\n",
            "|Herbs, Spices & S...|     19217|\n",
            "|              Coffee|     18658|\n",
            "|Bottled Beverages...|     15398|\n",
            "|Sauces, Gravies &...|     11014|\n",
            "|Frosting, Icing &...|     10751|\n",
            "|Canned, Jarred & ...|     10072|\n",
            "|Food & Beverage G...|      9661|\n",
            "|             Cookies|      8565|\n",
            "|Jelly Beans & Gum...|      8327|\n",
            "|Cake & Cupcake To...|      8324|\n",
            "|     Breakfast Foods|      7724|\n",
            "|        Tea Samplers|      7609|\n",
            "|Mixed Spices & Se...|      7601|\n",
            "|Candy & Chocolate...|      7515|\n",
            "|Hard Candy & Loll...|      6922|\n",
            "|Single Herbs & Sp...|      6884|\n",
            "|Single-Serve Caps...|      6745|\n",
            "|        Nuts & Seeds|      6564|\n",
            "|              Sauces|      6150|\n",
            "|Cooking Oils, Vin...|      5589|\n",
            "|       Ground Coffee|      5326|\n",
            "|             Cereals|      5075|\n",
            "|      Chips & Crisps|      4978|\n",
            "|Condiments & Sala...|      4873|\n",
            "|        Cake Toppers|      4831|\n",
            "|          Hard Candy|      4808|\n",
            "|             Produce|      4798|\n",
            "|Jams, Jellies & S...|      4785|\n",
            "|Soups, Stocks & B...|      4672|\n",
            "|              Herbal|      4637|\n",
            "|Dairy, Cheese & Eggs|      4633|\n",
            "|      Meat & Seafood|      4612|\n",
            "|Syrups, Sugars & ...|      4572|\n",
            "|        Baking Mixes|      4570|\n",
            "|Packaged Meals & ...|      4329|\n",
            "|              Juices|      4218|\n",
            "|         Gummy Candy|      4050|\n",
            "|     Breads & Bakery|      4044|\n",
            "|Roasted Coffee Beans|      3944|\n",
            "|                Oils|      3763|\n",
            "|            Crackers|      3762|\n",
            "|               Black|      3742|\n",
            "|Candy & Chocolate...|      3707|\n",
            "+--------------------+----------+\n",
            "only showing top 50 rows\n",
            "\n"
          ],
          "name": "stdout"
        }
      ]
    },
    {
      "cell_type": "code",
      "metadata": {
        "id": "A7EdTbAal4zj"
      },
      "source": [
        "e_filtered = e_filtered.withColumn('category', col('col'))"
      ],
      "execution_count": null,
      "outputs": []
    },
    {
      "cell_type": "code",
      "metadata": {
        "id": "oEg3tuf-l42B"
      },
      "source": [
        "e_filtered2 = e_filtered.select(e_filtered.asin, sf.explode(e_filtered.also_view), e_filtered.category, also_view_filtered.brand)"
      ],
      "execution_count": null,
      "outputs": []
    },
    {
      "cell_type": "code",
      "metadata": {
        "colab": {
          "base_uri": "https://localhost:8080/"
        },
        "id": "jLWOjPFOl44g",
        "outputId": "6914d998-1e21-4174-bb64-52f3a49a16c7"
      },
      "source": [
        "e_filtered2.count()"
      ],
      "execution_count": null,
      "outputs": [
        {
          "output_type": "execute_result",
          "data": {
            "text/plain": [
              "7451534"
            ]
          },
          "metadata": {
            "tags": []
          },
          "execution_count": 205
        }
      ]
    },
    {
      "cell_type": "code",
      "metadata": {
        "colab": {
          "base_uri": "https://localhost:8080/"
        },
        "id": "3fNbl044l47F",
        "outputId": "d05cf272-f59e-4272-fea5-12cf4f3f62ef"
      },
      "source": [
        "e_filtered2.head(5)\n"
      ],
      "execution_count": null,
      "outputs": [
        {
          "output_type": "execute_result",
          "data": {
            "text/plain": [
              "[Row(asin='0681727810', col='B0000D9MYM', category='Grocery & Gourmet Food', brand='Ariola Imports'),\n",
              " Row(asin='0681727810', col='B0000D9MYL', category='Grocery & Gourmet Food', brand='Ariola Imports'),\n",
              " Row(asin='0681727810', col='B00ADHIGBA', category='Grocery & Gourmet Food', brand='Ariola Imports'),\n",
              " Row(asin='0681727810', col='B00H9OX598', category='Grocery & Gourmet Food', brand='Ariola Imports'),\n",
              " Row(asin='0681727810', col='B001LM42GY', category='Grocery & Gourmet Food', brand='Ariola Imports')]"
            ]
          },
          "metadata": {
            "tags": []
          },
          "execution_count": 218
        }
      ]
    },
    {
      "cell_type": "code",
      "metadata": {
        "id": "icYpm4RYpj2h"
      },
      "source": [
        "to_graph = e_filtered2.filter(col('category') == 'Pickles')"
      ],
      "execution_count": null,
      "outputs": []
    },
    {
      "cell_type": "code",
      "metadata": {
        "colab": {
          "base_uri": "https://localhost:8080/"
        },
        "id": "i-V4tZmir7PT",
        "outputId": "4750a49b-b368-4271-a492-7c38c19dc70e"
      },
      "source": [
        "to_graph.show(20)"
      ],
      "execution_count": null,
      "outputs": [
        {
          "output_type": "stream",
          "text": [
            "+----------+----------+--------+-----------+\n",
            "|      asin|       col|category|      brand|\n",
            "+----------+----------+--------+-----------+\n",
            "|B0000D9MT1|B004NPLZMA| Pickles|Gundelsheim|\n",
            "|B0000D9MT1|B0039BSG9E| Pickles|Gundelsheim|\n",
            "|B0000D9MT1|B00DOOBDL4| Pickles|Gundelsheim|\n",
            "|B0000D9MT1|B0010B8CE4| Pickles|Gundelsheim|\n",
            "|B0000D9MT1|B000LRIKI6| Pickles|Gundelsheim|\n",
            "|B0000D9MT1|B012MMY2X4| Pickles|Gundelsheim|\n",
            "|B0000D9MT1|B004AHARXO| Pickles|Gundelsheim|\n",
            "|B0000D9MT1|B00DOOBDPK| Pickles|Gundelsheim|\n",
            "|B0000D9MT1|B0000D9MT2| Pickles|Gundelsheim|\n",
            "|B0000D9MT1|B006O06X1A| Pickles|Gundelsheim|\n",
            "|B0000D9MT1|B01KE585IO| Pickles|Gundelsheim|\n",
            "|B0000D9MT1|B00XLO8PSG| Pickles|Gundelsheim|\n",
            "|B0000D9MT1|B00O86Z3K4| Pickles|Gundelsheim|\n",
            "|B0000D9MT1|B00XLO8IQ0| Pickles|Gundelsheim|\n",
            "|B0000D9MT1|B0030D50ZE| Pickles|Gundelsheim|\n",
            "|B0000D9MT1|B074HT3WCR| Pickles|Gundelsheim|\n",
            "|B0000D9MT1|B008L0I3ZU| Pickles|Gundelsheim|\n",
            "|B0000D9MT1|B00EZEBZWY| Pickles|Gundelsheim|\n",
            "|B0000D9MT1|B00Q82DRX6| Pickles|Gundelsheim|\n",
            "|B0000D9MT1|B018H7KYH6| Pickles|Gundelsheim|\n",
            "+----------+----------+--------+-----------+\n",
            "only showing top 20 rows\n",
            "\n"
          ],
          "name": "stdout"
        }
      ]
    },
    {
      "cell_type": "code",
      "metadata": {
        "id": "PGVejlL9tXMD"
      },
      "source": [
        "last_cat = udf(lambda x: x[-1])"
      ],
      "execution_count": null,
      "outputs": []
    },
    {
      "cell_type": "code",
      "metadata": {
        "id": "cik0QnsgtXOQ"
      },
      "source": [
        "meta_data_RDD2 = meta_data_RDD.withColumn('category', last_cat('category'))"
      ],
      "execution_count": null,
      "outputs": []
    },
    {
      "cell_type": "code",
      "metadata": {
        "colab": {
          "base_uri": "https://localhost:8080/"
        },
        "id": "Qt1z6hvNtXQ0",
        "outputId": "e196526a-6912-40df-ee43-f14850e575b3"
      },
      "source": [
        "meta_data_RDD2.show(10)"
      ],
      "execution_count": null,
      "outputs": [
        {
          "output_type": "stream",
          "text": [
            "+--------------------+--------------------+----------+--------------+------------+------------------+--------------------+-------+--------------------+---+--------------------+-----------+------+--------------------+------------+-----+-----+--------------------+\n",
            "|            also_buy|           also_view|      asin|         brand|    category|              date|         description|details|             feature|fit|               image|   main_cat| price|                rank|similar_item|tech1|tech2|               title|\n",
            "+--------------------+--------------------+----------+--------------+------------+------------------+--------------------+-------+--------------------+---+--------------------+-----------+------+--------------------+------------+-----+-----+--------------------+\n",
            "|                  []|[B0000D9MYM, B000...|0681727810|Ariola Imports|       Gouda|                  |[BEEMSTER GOUDA C...|   null|                  []|   |                  []|    Grocery|$41.91|165,181 in Grocer...|            |     |     |Beemster Gouda - ...|\n",
            "|[B01898YHXK, B01B...|                  []|0853347867|              |     Xylitol|                  |[Shipped from UK,...|   null|                  []|   |[https://images-n...|    Grocery|      |315,867 in Grocer...|            |     |     |Trim Healthy Mama...|\n",
            "|                  []|        [B07DXN65TF]|1888861118|Unik Occasions|Cake Toppers|September 21, 2010|[Jazz up your cak...|   null|                  []|   |                  []|Amazon Home|$29.95|[\">#669,941 in Ki...|            |     |     |Letter C - Swarov...|\n",
            "|                  []|                  []|1888861517|         Other|Cake Toppers|September 11, 2011|[Large Letter - H...|   null|[Large Letter - H...|   |                  []|Amazon Home|$11.45|[\">#832,581 in Ki...|            |     |     |Letter H - Swarov...|\n",
            "|                  []|                  []|1888861614|Unik Occasions|Cake Toppers|September 11, 2011|             [4.75\"]|   null|      [4.75\" height]|   |                  []|Amazon Home|$15.00|[\">#590,999 in Ki...|            |     |     |Letter S - Swarov...|\n",
            "|                  []|                  []|1888861533|         Other|Cake Toppers|September 11, 2011|[Large Letter - H...|   null|[Large Letter - H...|   |                  []|Amazon Home|$10.99|[\">#1,071,856 in ...|            |     |     |Letter J - Swarov...|\n",
            "|                  []|                  []|1888861339|Unik Occasions|Cake Toppers| February 20, 2011|[Large Letter - H...|   null|[Large Letter - H...|   |                  []|Amazon Home|$12.91|[\">#971,345 in Ki...|            |     |     |1 X Fully Covered...|\n",
            "|                  []|                  []|1888861355|         Other|Cake Toppers| February 20, 2011|[Large Letter - H...|   null|[Large Letter - H...|   |                  []|Amazon Home|$12.99|[\">#1,013,939 in ...|            |     |     |Fully Covered in ...|\n",
            "|                  []|                  []|188886155X|         Other|Cake Toppers|September 11, 2011|[Large Letter - H...|   null|[Large Letter - H...|   |                  []|Amazon Home|$10.99|[\">#1,008,396 in ...|            |     |     |Letter L - Swarov...|\n",
            "|                  []|                  []|1888861207|         Other|Cake Toppers|September 22, 2010|[Large Letter 4.7...|   null|[Large Letter - H...|   |                  []|Amazon Home|$11.00|[\">#1,016,142 in ...|            |     |     |Fully Covered in ...|\n",
            "+--------------------+--------------------+----------+--------------+------------+------------------+--------------------+-------+--------------------+---+--------------------+-----------+------+--------------------+------------+-----+-----+--------------------+\n",
            "only showing top 10 rows\n",
            "\n"
          ],
          "name": "stdout"
        }
      ]
    },
    {
      "cell_type": "code",
      "metadata": {
        "id": "9tlAMuxSt9i2"
      },
      "source": [
        "meta_data_RDD_2 = meta_data_RDD2.filter(sf.size('also_view')>0)"
      ],
      "execution_count": null,
      "outputs": []
    },
    {
      "cell_type": "code",
      "metadata": {
        "colab": {
          "base_uri": "https://localhost:8080/"
        },
        "id": "w-2wUGxatXU5",
        "outputId": "72c33986-e7b2-4f9f-dbcf-5e876de4a984"
      },
      "source": [
        "meta_data_RDD_2.groupby(col('brand')).agg(count('brand')).sort(col('count(brand)').desc()).show()"
      ],
      "execution_count": null,
      "outputs": [
        {
          "output_type": "stream",
          "text": [
            "+--------------------+------------+\n",
            "|               brand|count(brand)|\n",
            "+--------------------+------------+\n",
            "|                    |        1552|\n",
            "|        Trader Joe's|         814|\n",
            "|             Unknown|         688|\n",
            "|           McCormick|         555|\n",
            "|           Starbucks|         480|\n",
            "|            Frontier|         474|\n",
            "|      Bob's Red Mill|         419|\n",
            "|              Nestle|         396|\n",
            "|         Jelly Belly|         390|\n",
            "|            igourmet|         376|\n",
            "|              Roland|         348|\n",
            "|                Goya|         342|\n",
            "|           HERSHEY'S|         328|\n",
            "|              Quaker|         313|\n",
            "|The Nutty Fruit H...|         306|\n",
            "|               Knorr|         304|\n",
            "|Black Tie Mercantile|         302|\n",
            "|             Cadbury|         300|\n",
            "|       Betty Crocker|         289|\n",
            "|              Lipton|         288|\n",
            "+--------------------+------------+\n",
            "only showing top 20 rows\n",
            "\n"
          ],
          "name": "stdout"
        }
      ]
    },
    {
      "cell_type": "code",
      "metadata": {
        "id": "ahXcRFowtXXj"
      },
      "source": [
        "also_buy_filtered = meta_data_grocery.select('also_buy', 'asin', 'brand')\n",
        "also_buy_filtered = also_buy_filtered.select(also_buy_filtered.asin, sf.explode(also_buy_filtered.also_buy), also_buy_filtered.brand)"
      ],
      "execution_count": null,
      "outputs": []
    },
    {
      "cell_type": "code",
      "metadata": {
        "id": "xRepboNNxDeC"
      },
      "source": [
        "also_buy_filtered = also_buy_filtered.filter(col('brand') == \"Trader Joe's\")"
      ],
      "execution_count": null,
      "outputs": []
    },
    {
      "cell_type": "code",
      "metadata": {
        "id": "j_X37q8Ix3AY"
      },
      "source": [
        "meta_data_RDD_join = meta_data_RDD.select('asin', 'brand')"
      ],
      "execution_count": null,
      "outputs": []
    },
    {
      "cell_type": "code",
      "metadata": {
        "id": "gchyRAtiyk3F"
      },
      "source": [
        "meta_data_RDD_join = meta_data_RDD_join.filter(col('brand') != '')"
      ],
      "execution_count": null,
      "outputs": []
    },
    {
      "cell_type": "code",
      "metadata": {
        "id": "ZWp-AY8g0GjF"
      },
      "source": [
        "meta_data_RDD_join = meta_data_RDD_join.withColumnRenamed('brand', 'dest_brand') \\\n",
        ".withColumnRenamed('asin', 'dest')"
      ],
      "execution_count": null,
      "outputs": []
    },
    {
      "cell_type": "code",
      "metadata": {
        "colab": {
          "base_uri": "https://localhost:8080/"
        },
        "id": "PCFqH6sQxc3_",
        "outputId": "763bab01-3de6-4da0-c8df-218c6f31b45d"
      },
      "source": [
        "also_buy_filtered = also_buy_filtered.withColumnRenamed('col', 'dest')\n",
        "also_buy_filtered.show()"
      ],
      "execution_count": null,
      "outputs": [
        {
          "output_type": "stream",
          "text": [
            "+----------+----------+------------+\n",
            "|      asin|      dest|       brand|\n",
            "+----------+----------+------------+\n",
            "|B002B0QZLU|B014IACWTE|Trader Joe's|\n",
            "|B002B0QZLU|B002EQTQZS|Trader Joe's|\n",
            "|B002B0QZLU|B0009K52HW|Trader Joe's|\n",
            "|B002B0QZLU|B00KS9HZE2|Trader Joe's|\n",
            "|B002B0QZLU|B00VS68A5W|Trader Joe's|\n",
            "|B002B0QZLU|B00KPWSUSW|Trader Joe's|\n",
            "|B002B0QZLU|B002ER9KEY|Trader Joe's|\n",
            "|B002B0QZLU|B013PUVRZ8|Trader Joe's|\n",
            "|B002B0QZLU|1580089755|Trader Joe's|\n",
            "|B002B0QZLU|B01EU9L5DC|Trader Joe's|\n",
            "|B002B0QZLU|B074FG7RJQ|Trader Joe's|\n",
            "|B002B0QZLU|B00K4VTV00|Trader Joe's|\n",
            "|B002B0QZLU|B00KPSPG0Q|Trader Joe's|\n",
            "|B003BQLKWW|B00ADFGJWU|Trader Joe's|\n",
            "|B003BQLKWW|B00QFUVPQC|Trader Joe's|\n",
            "|B003BQLKWW|B07JJP4WLR|Trader Joe's|\n",
            "|B003BQLKWW|B00GCG9K66|Trader Joe's|\n",
            "|B003BQLKWW|B0768JYK3G|Trader Joe's|\n",
            "|B003BQLKWW|B0070R045W|Trader Joe's|\n",
            "|B003BQLKWW|B00PRUHXMQ|Trader Joe's|\n",
            "+----------+----------+------------+\n",
            "only showing top 20 rows\n",
            "\n"
          ],
          "name": "stdout"
        }
      ]
    },
    {
      "cell_type": "code",
      "metadata": {
        "id": "VpgGd8cMxc7A"
      },
      "source": [
        "trader_joes = also_buy_filtered.join(meta_data_RDD_join, meta_data_RDD_join.dest == also_buy_filtered.dest).select(also_buy_filtered.asin, also_buy_filtered.dest, 'brand', 'dest_brand')"
      ],
      "execution_count": null,
      "outputs": []
    },
    {
      "cell_type": "code",
      "metadata": {
        "id": "eQY8--WS4vt6"
      },
      "source": [
        "trader_joes = trader_joes.withColumn('brand', when(trader_joes.brand == \"Trader Joe's\", \"Trader_Joes\").otherwise(trader_joes.brand))"
      ],
      "execution_count": null,
      "outputs": []
    },
    {
      "cell_type": "code",
      "metadata": {
        "colab": {
          "base_uri": "https://localhost:8080/"
        },
        "id": "v5pBdJtE6mPp",
        "outputId": "0e699403-18f8-4d9d-993e-2ce11847189d"
      },
      "source": [
        "trader_joes.head(5)"
      ],
      "execution_count": null,
      "outputs": [
        {
          "output_type": "execute_result",
          "data": {
            "text/plain": [
              "[Row(asin='B002B0QZLU', dest='B014IACWTE', brand='Trader Joes', dest_brand='Kikkoman'),\n",
              " Row(asin='B002B0QZLU', dest='B002EQTQZS', brand='Trader Joes', dest_brand='Unknown'),\n",
              " Row(asin='B002B0QZLU', dest='B0009K52HW', brand='Trader Joes', dest_brand='Unknown'),\n",
              " Row(asin='B002B0QZLU', dest='B00KS9HZE2', brand='Trader Joes', dest_brand='Wan Ja Shan'),\n",
              " Row(asin='B002B0QZLU', dest='B00VS68A5W', brand='Trader Joes', dest_brand=\"Trader Ming's\")]"
            ]
          },
          "metadata": {
            "tags": []
          },
          "execution_count": 399
        }
      ]
    },
    {
      "cell_type": "code",
      "metadata": {
        "id": "eQeuygY64wYA"
      },
      "source": [
        ""
      ],
      "execution_count": null,
      "outputs": []
    },
    {
      "cell_type": "code",
      "metadata": {
        "id": "RFUBPYsz1fZ6"
      },
      "source": [
        "trader_joes = trader_joes.filter(col('asin').isNotNull())\n",
        "trader_joes = trader_joes.filter(col('asin') != '')\n",
        "trader_joes = trader_joes.filter(col('dest_brand').isNotNull())\n",
        "trader_joes = trader_joes.filter(col('dest_brand') != '')\n",
        "trader_joes = trader_joes.filter(col('brand').isNotNull())\n",
        "trader_joes = trader_joes.filter(col('brand') != '')"
      ],
      "execution_count": null,
      "outputs": []
    },
    {
      "cell_type": "code",
      "metadata": {
        "id": "btYi7ykw4lmN"
      },
      "source": [
        "traders_2 = trader_joes.select('brand', 'dest_brand')"
      ],
      "execution_count": null,
      "outputs": []
    },
    {
      "cell_type": "code",
      "metadata": {
        "id": "P6vJTi2Ioq4t"
      },
      "source": [
        "edges = pd.DataFrame(traders_2.collect(), columns = ['brand', 'dest_brand'])"
      ],
      "execution_count": null,
      "outputs": []
    },
    {
      "cell_type": "code",
      "metadata": {
        "id": "qoQggEFOoq67"
      },
      "source": [
        "edges['strlist'] = edges['brand'].astype(str) + \" \" + edges['dest_brand'].astype(str)"
      ],
      "execution_count": null,
      "outputs": []
    },
    {
      "cell_type": "code",
      "metadata": {
        "id": "Yf1RKFIPoq9V"
      },
      "source": [
        "G = nx.parse_edgelist(edges['strlist'])"
      ],
      "execution_count": null,
      "outputs": []
    },
    {
      "cell_type": "code",
      "metadata": {
        "id": "ubDWKWPopikH"
      },
      "source": [
        "mapping = dict(zip(G, edges['dest_brand']))\n",
        "B = nx.relabel_nodes(G, mapping)"
      ],
      "execution_count": null,
      "outputs": []
    },
    {
      "cell_type": "code",
      "metadata": {
        "id": "QfMdJk56pimi"
      },
      "source": [
        "nx.write_gml(B,'trader_joes.gml')"
      ],
      "execution_count": null,
      "outputs": []
    },
    {
      "cell_type": "markdown",
      "metadata": {
        "id": "OGyl9hmxk9bl"
      },
      "source": [
        "#cheetos"
      ]
    },
    {
      "cell_type": "code",
      "metadata": {
        "id": "4na59Mr9lGPE"
      },
      "source": [
        "cheetos_RDD = meta_data_RDD.filter(meta_data_RDD['title'].rlike('Cheetos'))"
      ],
      "execution_count": null,
      "outputs": []
    },
    {
      "cell_type": "code",
      "metadata": {
        "colab": {
          "base_uri": "https://localhost:8080/"
        },
        "id": "TOIgCk5BuVXJ",
        "outputId": "69f0f53a-9834-492f-cf17-29f164a44290"
      },
      "source": [
        "cheetos_RDD.show(20)"
      ],
      "execution_count": null,
      "outputs": [
        {
          "output_type": "stream",
          "text": [
            "+--------------------+--------------------+----------+---------+--------------------+----+--------------------+--------------------+-------+---+--------------------+--------+------+--------------------+------------+-----+-----+--------------------+\n",
            "|            also_buy|           also_view|      asin|    brand|            category|date|         description|             details|feature|fit|               image|main_cat| price|                rank|similar_item|tech1|tech2|               title|\n",
            "+--------------------+--------------------+----------+---------+--------------------+----+--------------------+--------------------+-------+---+--------------------+--------+------+--------------------+------------+-----+-----+--------------------+\n",
            "|                  []|[B007USCGYS, B018...|B000PIQF8S| Cheezies|[Grocery & Gourme...|    |[The great taste ...|{null, null, null...|     []|   |[https://images-n...| Grocery|      |594,112 in Grocer...|            |     |     |4-bags of Cheezie...|\n",
            "|                  []|[B0723H1H5S, B018...|B000R7RIUG|  Cheetos|[Grocery & Gourme...|    |[Baked Cheetos Ch...|{null, null, null...|     []|   |                  []| Grocery|      |365,861 in Grocer...|            |     |     |Baked Cheetos Che...|\n",
            "|                  []|[B001KON47G, B072...|B000R7RJHI|  Cheetos|[Grocery & Gourme...|    |[Cheetos Cheese S...|{10 pounds, null,...|     []|   |                  []| Grocery|$55.93|324,113 in Grocer...|            |     |     |Cheetos Cheese Sn...|\n",
            "|[B000HIFA8W, B000...|[B0723H1H5S, B00R...|B000R7TE9Y|  Cheetos|[Grocery & Gourme...|    |[Cheetos Cheese S...|{2.08 ounces, nul...|     []|   |[https://images-n...| Grocery|$39.83|46,354 in Grocery...|            |     |     |Cheetos Crunchy C...|\n",
            "|                  []|                  []|B000R7TDV8|  Cheetos|[Grocery & Gourme...|    |[0 Grams trans fa...|{null, null, null...|     []|   |                  []| Grocery|      |                  []|            |     |     |Cheetos Cheese Sn...|\n",
            "|[B00FFJ3VIE, B001...|[B0015GRZZG, B00F...|B000UER87O|  Cheetos|[Grocery & Gourme...|    |[Cheetos Baked! C...|{null, 11.3 x 6.9...|     []|   |[https://images-n...| Grocery|      |                  []|            |     |     |Cheetos Oven Bake...|\n",
            "|                  []|                  []|B000VJTGLE|  Cheetos|[Grocery & Gourme...|    |[0 Grams trans fa...|{null, null, null...|     []|   |                  []| Grocery|      |                  []|            |     |     |Cheetos Cheese Sn...|\n",
            "|                  []|                  []|B000VJRJSG|  Cheetos|[Grocery & Gourme...|    |[Naturally baked....|{null, null, null...|     []|   |                  []| Grocery|      |                  []|            |     |     |Cheetos Cheese Sn...|\n",
            "|                  []|                  []|B000VJX2BO|  Cheetos|[Grocery & Gourme...|    |[Made with Real C...|{null, null, null...|     []|   |                  []| Grocery|      |                  []|            |     |     |Cheetos Cheese Sn...|\n",
            "|                  []|                  []|B000YPO6RO|Frito Lay|[Grocery & Gourme...|    |[Cheetos are a cr...|{null, null, null...|     []|   |                  []| Grocery|      |951,021 in Grocer...|            |     |     |Frito-Lay Cheetos...|\n",
            "|[B000UER87O, B001...|[B06X6HXHKB, B079...|B0015GTJCI|  Cheetos|[Grocery & Gourme...|    |[Simply put, SIMP...|{null, 13.8 x 8.2...|     []|   |[https://images-n...| Grocery|      |                  []|            |     |     |Simply Cheetos Pu...|\n",
            "|[B0015GMY98, B00K...|[B0723H1H5S, B001...|B0015GS0AU|  Cheetos|[Grocery & Gourme...|    |[We make the best...|{null, 17.8 x 11....|     []|   |[https://images-n...| Grocery|$12.15|                  []|            |     |     |Cheetos Crunchy C...|\n",
            "|[B00J0KU9FC, B00J...|[B0723H1H5S, B014...|B001IMXA6A|  Cheetos|[Grocery & Gourme...|    |[CHEETOS Crunchy ...|{null, null, null...|     []|   |[https://images-n...| Grocery| $0.01|206,116 in Grocer...|            |     |     |Cheetos Cheese Fl...|\n",
            "|[B008500JBW, B008...|[B0723H1H5S, B001...|B001KHHYH4|  Cheetos|[Grocery & Gourme...|    |[Frito Lay 50 cou...|{null, null, null...|     []|   |                  []| Grocery|$20.23|33,549 in Grocery...|            |     |     |Cheetos Crunchy -...|\n",
            "|[B01CWP5Y4W, B008...|[B01CWP5Y4W, B072...|B001KON47G|Frito Lay|[Grocery & Gourme...|    |[Cheetos snacks a...|{null, null, null...|     []|   |[https://images-n...| Grocery|$16.66|6,788 in Grocery ...|            |     |     |Cheetos Flamin' H...|\n",
            "|                  []|                  []|B00272DMAY|         |[Grocery & Gourme...|    |[Cheetos smartfoo...|{null, null, null...|     []|   |                  []| Grocery|      |566,162 in Grocer...|            |     |     |Cheetos Smartfood...|\n",
            "|                  []|[B00J0KP826, B01K...|B002W4FTE4|  Cheetos|[Grocery & Gourme...|    |                  []|{null, null, null...|     []|   |                  []| Grocery|      |1,332,613 in Groc...|            |     |     |100 Calorie Packs...|\n",
            "|                  []|[B06X6HXHKB, B072...|B002W4IZ4K|  Cheetos|[Grocery & Gourme...|    |[Natural Cheetos ...|{null, null, null...|     []|   |                  []| Grocery|$21.00|245,367 in Grocer...|            |     |     |Frito Lay Natural...|\n",
            "|                  []|[B001KON47G, B072...|B003FQ4G2Y|  Cheetos|[Grocery & Gourme...|    |[Cheetos brand Fl...|{2.08 ounces, nul...|     []|   |                  []| Grocery| $9.95|371,316 in Grocer...|            |     |     |Cheetos Flamin' H...|\n",
            "|        [B002W4IZ4K]|[B002W4IZ4K, B004...|B003Y551V6|Frito Lay|[Grocery & Gourme...|    |[Frito Lay, Cheet...|{null, null, null...|     []|   |                  []| Grocery|$20.99|460,123 in Grocer...|            |     |     |Frito Lay, Cheeto...|\n",
            "+--------------------+--------------------+----------+---------+--------------------+----+--------------------+--------------------+-------+---+--------------------+--------+------+--------------------+------------+-----+-----+--------------------+\n",
            "only showing top 20 rows\n",
            "\n"
          ],
          "name": "stdout"
        }
      ]
    },
    {
      "cell_type": "code",
      "metadata": {
        "id": "b9723NG1lGRc"
      },
      "source": [
        "#cheetos_exp = cheetos_RDD.select('also_buy', 'also_view', 'asin', 'category', 'brand', 'title')\n",
        "e_filtered = cheetos_RDD.select('asin', sf.explode('also_buy'), 'also_view', 'brand', 'category', 'description', 'details', 'title')"
      ],
      "execution_count": null,
      "outputs": []
    },
    {
      "cell_type": "code",
      "metadata": {
        "id": "_Wli01lrokWQ"
      },
      "source": [
        "e_filtered = e_filtered.withColumnRenamed('col','also_buy')"
      ],
      "execution_count": null,
      "outputs": []
    },
    {
      "cell_type": "code",
      "metadata": {
        "id": "heyAsWI-lGUU"
      },
      "source": [
        "e_filtered = e_filtered.select('asin', sf.explode('also_view'), 'also_buy', 'brand', 'category', 'description', 'details', 'title')"
      ],
      "execution_count": null,
      "outputs": []
    },
    {
      "cell_type": "code",
      "metadata": {
        "id": "O8QmLWjblGWo"
      },
      "source": [
        "e_filtered = e_filtered.withColumnRenamed('col', 'also_view')"
      ],
      "execution_count": null,
      "outputs": []
    },
    {
      "cell_type": "code",
      "metadata": {
        "id": "JB6gvOdClGZL"
      },
      "source": [
        "e_filtered = e_filtered.filter(e_filtered.also_buy == e_filtered.also_view)"
      ],
      "execution_count": null,
      "outputs": []
    },
    {
      "cell_type": "code",
      "metadata": {
        "colab": {
          "base_uri": "https://localhost:8080/"
        },
        "id": "f5L9IpuQlGby",
        "outputId": "fbfbdbd2-8303-498c-a82a-d19dd9821bcf"
      },
      "source": [
        "e_filtered.count()"
      ],
      "execution_count": null,
      "outputs": [
        {
          "output_type": "execute_result",
          "data": {
            "text/plain": [
              "168"
            ]
          },
          "metadata": {
            "tags": []
          },
          "execution_count": 139
        }
      ]
    },
    {
      "cell_type": "markdown",
      "metadata": {
        "id": "jl2WYU-ylGuT"
      },
      "source": [
        "# IDK"
      ]
    },
    {
      "cell_type": "code",
      "metadata": {
        "id": "qZr35vm4oq_0"
      },
      "source": [
        "nx.write_gml(G,'pickle.gml')"
      ],
      "execution_count": null,
      "outputs": []
    },
    {
      "cell_type": "code",
      "metadata": {
        "id": "-pRzs7dwg6DM"
      },
      "source": [
        "edges = pd.DataFrame(e_filtered.collect(), columns = ['asin', 'col', 'main_cat'])"
      ],
      "execution_count": null,
      "outputs": []
    },
    {
      "cell_type": "code",
      "metadata": {
        "id": "_uPl8z8Jg6Mv"
      },
      "source": [
        "edges['strlist'] = edges['col'].astype(str) + \" \" + edges['asin'].astype(str)"
      ],
      "execution_count": null,
      "outputs": []
    },
    {
      "cell_type": "code",
      "metadata": {
        "id": "7GGJqPuKg6Tt"
      },
      "source": [
        "G = nx.parse_edgelist(edges['strlist'])"
      ],
      "execution_count": null,
      "outputs": []
    },
    {
      "cell_type": "code",
      "metadata": {
        "id": "pRToAXv1g6WD"
      },
      "source": [
        "N, K = G.order(), G.size()\n",
        "avg_deg = float(K) / N\n",
        "print (\"Nodes: \", N)\n",
        "print (\"Edges: \", K)\n",
        "print (\"Average degree: \", avg_deg)"
      ],
      "execution_count": null,
      "outputs": []
    },
    {
      "cell_type": "code",
      "metadata": {
        "id": "fVy_3gNKg6Ye"
      },
      "source": [
        ""
      ],
      "execution_count": null,
      "outputs": []
    },
    {
      "cell_type": "markdown",
      "metadata": {
        "id": "5aVLDAuZCJuQ"
      },
      "source": [
        "# Graphs"
      ]
    },
    {
      "cell_type": "code",
      "metadata": {
        "id": "mG3Yev9pZFWR"
      },
      "source": [
        "#Plot Parameters\n",
        "options = {\n",
        "    \"font_size\": 36,\n",
        "    \"node_size\": 15,\n",
        "    \"node_color\": \"white\",\n",
        "    \"edgecolors\": \"black\",\n",
        "    \"linewidths\": 0.10,\n",
        "    \"width\": 0.5,\n",
        "}"
      ],
      "execution_count": null,
      "outputs": []
    },
    {
      "cell_type": "markdown",
      "metadata": {
        "id": "ninkvChjmhcI"
      },
      "source": [
        "# Filtered RDD\n",
        "\n",
        "generating edges on a filtered set of data with no also buys as that is what we use to generate they network.\n"
      ]
    },
    {
      "cell_type": "code",
      "metadata": {
        "id": "fRZK7yuRlikC"
      },
      "source": [
        "meta_data_RDD_Filtered = meta_data_RDD.filter(sf.size('also_view')>1)"
      ],
      "execution_count": null,
      "outputs": []
    },
    {
      "cell_type": "code",
      "metadata": {
        "id": "PgnU2NALmr-S"
      },
      "source": [
        "also_view_filtered = meta_data_RDD_Filtered.select('also_view', 'asin','main_cat')"
      ],
      "execution_count": null,
      "outputs": []
    },
    {
      "cell_type": "code",
      "metadata": {
        "id": "xgyPfwMDmsA7"
      },
      "source": [
        "e_filtered = also_view_filtered.select(also_view_filtered.asin, sf.explode(also_view_filtered.also_view), also_view_filtered.main_cat)"
      ],
      "execution_count": null,
      "outputs": []
    },
    {
      "cell_type": "code",
      "metadata": {
        "id": "idN5hAFImsDY"
      },
      "source": [
        "edges = pd.DataFrame(e_filtered.collect(), columns = ['asin', 'col', 'main_cat'])"
      ],
      "execution_count": null,
      "outputs": []
    },
    {
      "cell_type": "code",
      "metadata": {
        "id": "UX60oQX2msF8"
      },
      "source": [
        "edges['strlist'] = edges['col'].astype(str) + \" \" + edges['asin'].astype(str)"
      ],
      "execution_count": null,
      "outputs": []
    },
    {
      "cell_type": "code",
      "metadata": {
        "id": "yk74Lz2jmsIc"
      },
      "source": [
        "G = nx.parse_edgelist(edges['strlist'])"
      ],
      "execution_count": null,
      "outputs": []
    },
    {
      "cell_type": "code",
      "metadata": {
        "colab": {
          "base_uri": "https://localhost:8080/"
        },
        "id": "5ijxBv-Pm8wh",
        "outputId": "c2d94375-b551-4a7d-b646-b9b6e740643f"
      },
      "source": [
        "N, K = G.order(), G.size()\n",
        "avg_deg = float(K) / N\n",
        "print (\"Nodes: \", N)\n",
        "print (\"Edges: \", K)\n",
        "print (\"Average degree: \", avg_deg)"
      ],
      "execution_count": null,
      "outputs": [
        {
          "output_type": "stream",
          "text": [
            "Nodes:  352368\n",
            "Edges:  1732144\n",
            "Average degree:  4.915724469872406\n"
          ],
          "name": "stdout"
        }
      ]
    },
    {
      "cell_type": "code",
      "metadata": {
        "id": "kNLNT6omoV2R"
      },
      "source": [
        "largest_cc = nx.connected_components(G)"
      ],
      "execution_count": null,
      "outputs": []
    },
    {
      "cell_type": "code",
      "metadata": {
        "id": "au8jzKs8m8y_"
      },
      "source": [
        "[len(c) for c in sorted(nx.connected_components(G), key=len, reverse=True)]"
      ],
      "execution_count": null,
      "outputs": []
    },
    {
      "cell_type": "code",
      "metadata": {
        "id": "1K0omO9Im81P"
      },
      "source": [
        "Gcc = max(nx.connected_components(G), key=len)\n",
        "giantC = G.subgraph(Gcc)"
      ],
      "execution_count": null,
      "outputs": []
    },
    {
      "cell_type": "code",
      "metadata": {
        "id": "FleB-qiPyu4g"
      },
      "source": [
        "#A = nx.nx_agraph.to_agraph(giantC)"
      ],
      "execution_count": null,
      "outputs": []
    },
    {
      "cell_type": "code",
      "metadata": {
        "id": "-h5k4kTvy4l0"
      },
      "source": [
        "#nx.cytoscape_data(G)\n",
        "nx.write_gml(G,'g.gml')"
      ],
      "execution_count": null,
      "outputs": []
    },
    {
      "cell_type": "markdown",
      "metadata": {
        "id": "STjklRO5mo-l"
      },
      "source": [
        "# Complete Edge Network"
      ]
    },
    {
      "cell_type": "code",
      "metadata": {
        "id": "vF8LHzqUGBha"
      },
      "source": [
        "also_view = meta_data_RDD.select('also_buy', 'asin','main_cat')"
      ],
      "execution_count": null,
      "outputs": []
    },
    {
      "cell_type": "code",
      "metadata": {
        "id": "rg2WDuVjJEFV"
      },
      "source": [
        "e = also_view.select(also_view.asin,explode(also_view.also_buy), also_view.main_cat)"
      ],
      "execution_count": null,
      "outputs": []
    },
    {
      "cell_type": "code",
      "metadata": {
        "id": "n2IllHenHOCs"
      },
      "source": [
        "v = meta_data_RDD.select('asin', 'title','main_cat')"
      ],
      "execution_count": null,
      "outputs": []
    },
    {
      "cell_type": "code",
      "metadata": {
        "id": "A_jLEk8E5wmS"
      },
      "source": [
        "e2 = e.sample(False, 0.01).collect()"
      ],
      "execution_count": null,
      "outputs": []
    },
    {
      "cell_type": "code",
      "metadata": {
        "id": "dafLUt8VO7_O"
      },
      "source": [
        "edges = pd.DataFrame(e.collect(), columns = ['asin', 'col', 'main_cat'])"
      ],
      "execution_count": null,
      "outputs": []
    },
    {
      "cell_type": "code",
      "metadata": {
        "id": "V0NFU2PnPVl_"
      },
      "source": [
        "edges['strlist'] = edges['col'].astype(str) + \" \" + edges['asin'].astype(str)"
      ],
      "execution_count": null,
      "outputs": []
    },
    {
      "cell_type": "code",
      "metadata": {
        "id": "ypmapoo4OtKO"
      },
      "source": [
        "G = nx.parse_edgelist(edges['strlist'])"
      ],
      "execution_count": null,
      "outputs": []
    },
    {
      "cell_type": "code",
      "metadata": {
        "id": "PMcCagffOzbj"
      },
      "source": [
        "# nx.draw(G, **options)"
      ],
      "execution_count": null,
      "outputs": []
    },
    {
      "cell_type": "code",
      "metadata": {
        "colab": {
          "base_uri": "https://localhost:8080/"
        },
        "id": "aXCF-TchPEvh",
        "outputId": "4f0ecc3a-6a33-48e4-a227-7cbb882e161e"
      },
      "source": [
        "N, K = G.order(), G.size()\n",
        "avg_deg = float(K) / N\n",
        "print (\"Nodes: \", N)\n",
        "print (\"Edges: \", K)\n",
        "print (\"Average degree: \", avg_deg)"
      ],
      "execution_count": null,
      "outputs": [
        {
          "output_type": "stream",
          "text": [
            "Nodes:  325475\n",
            "Edges:  2459642\n",
            "Average degree:  7.557084261464015\n"
          ],
          "name": "stdout"
        }
      ]
    },
    {
      "cell_type": "code",
      "metadata": {
        "colab": {
          "base_uri": "https://localhost:8080/",
          "height": 501
        },
        "id": "tP9HQP4hRAQp",
        "outputId": "ca562043-368f-48b9-815a-190f748b76f5"
      },
      "source": [
        "degree_freq = nx.degree_histogram(G)\n",
        "\n",
        "degrees = range(len(degree_freq))\n",
        "\n",
        "plt.figure(figsize=(12, 8)) \n",
        "plt.loglog(degrees, degree_freq, ) \n",
        "y = np.log(data['o_value'], dtype='float64')\n",
        "x = np.log(data['time_diff_day'], dtype='float64')\n",
        "\n",
        "plt.xlabel('Degree')\n",
        "plt.ylabel('Frequency')\n",
        "#plt.xlim(0,100)\n",
        "\n",
        "plt.savefig('degree_dist.png')"
      ],
      "execution_count": null,
      "outputs": [
        {
          "output_type": "display_data",
          "data": {
            "image/png": "[encoded data removed]",
            "text/plain": [
              "<Figure size 864x576 with 1 Axes>"
            ]
          },
          "metadata": {
            "tags": [],
            "needs_background": "light"
          }
        }
      ]
    },
    {
      "cell_type": "code",
      "metadata": {
        "colab": {
          "base_uri": "https://localhost:8080/",
          "height": 1000
        },
        "id": "S5mz0F7Qe4bH",
        "outputId": "7b025f76-6f2a-4a11-a186-ee6736644e9d"
      },
      "source": [
        "plt.figure(figsize=(12, 8), dpi= 144) \n",
        "plt.gca()\n",
        "plt.plot(degrees,degree_freq, 'o', c='darkred', alpha=0.4, markeredgecolor='none')\n",
        "plt.yscale(\"log\")\n",
        "plt.xscale(\"log\")\n",
        "plt.xlabel('Degree', fontsize=20)\n",
        "plt.ylabel('Frequency', fontsize=20)\n",
        "plt.xticks(fontsize= 14)\n",
        "plt.yticks(fontsize= 14)\n",
        "plt.show()\n",
        "#plt.savefig('degree_dist.png')"
      ],
      "execution_count": null,
      "outputs": [
        {
          "output_type": "display_data",
          "data": {
            "image/png": "[encoded data removed]",
            "text/plain": [
              "<Figure size 1728x1152 with 1 Axes>"
            ]
          },
          "metadata": {
            "tags": [],
            "needs_background": "light"
          }
        }
      ]
    },
    {
      "cell_type": "code",
      "metadata": {
        "id": "QJ-FCdWavsy5"
      },
      "source": [
        "|mapping = dict(zip(G, edges['main_cat']))\n",
        "B = nx.relabel_nodes(G, mapping)"
      ],
      "execution_count": null,
      "outputs": []
    },
    {
      "cell_type": "code",
      "metadata": {
        "id": "Z8K_qh-K6h3u"
      },
      "source": [
        "nx.write_gml(B,'b.gml')"
      ],
      "execution_count": null,
      "outputs": []
    },
    {
      "cell_type": "code",
      "metadata": {
        "id": "amKlzRlRy3yT"
      },
      "source": [
        "v2 = pd.DataFrame(v.collect(), columns = ['asin', 'title','main_cat'])\n",
        "mapping = dict(zip(G, v2['title']))\n",
        "C = nx.relabel_nodes(G, mapping)"
      ],
      "execution_count": null,
      "outputs": []
    },
    {
      "cell_type": "code",
      "metadata": {
        "id": "UHEYL8Fb7cGL"
      },
      "source": [
        "nx.write_gml(C,'c.gml')"
      ],
      "execution_count": null,
      "outputs": []
    },
    {
      "cell_type": "code",
      "metadata": {
        "id": "-WhqNQPRxZsg"
      },
      "source": [
        "# B.number_of_nodes()"
      ],
      "execution_count": null,
      "outputs": []
    },
    {
      "cell_type": "code",
      "metadata": {
        "id": "utKAC9w2Wk8t"
      },
      "source": [
        "# from pyvis import network as net\n",
        "# from IPython.core.display import display, HTML\n",
        "# g4 = net.Network(height='400px', width='50%', notebook=True,heading='Zachary’s Karate Club graph')"
      ],
      "execution_count": null,
      "outputs": []
    },
    {
      "cell_type": "code",
      "metadata": {
        "id": "bCKcSNQL7p65"
      },
      "source": [
        "# g4.from_nx(G)\n",
        "\n",
        "# g4.show_buttons(filter_=['physics'])\n",
        "# g4.show('karate.html')\n",
        "# display(HTML('karate.html'))\n",
        "# g4.show('karate.html')"
      ],
      "execution_count": null,
      "outputs": []
    },
    {
      "cell_type": "markdown",
      "metadata": {
        "id": "I-jguGakT3HF"
      },
      "source": [
        "# EDA"
      ]
    },
    {
      "cell_type": "code",
      "metadata": {
        "colab": {
          "base_uri": "https://localhost:8080/"
        },
        "id": "GCjraThLT4cC",
        "outputId": "1b2ad0d0-5a89-41e9-f930-58787c9a75f1"
      },
      "source": [
        "grocery_food_RDD.printSchema()"
      ],
      "execution_count": null,
      "outputs": [
        {
          "output_type": "stream",
          "text": [
            "root\n",
            " |-- asin: string (nullable = true)\n",
            " |-- image: array (nullable = true)\n",
            " |    |-- element: string (containsNull = true)\n",
            " |-- overall: double (nullable = true)\n",
            " |-- reviewText: string (nullable = true)\n",
            " |-- reviewTime: string (nullable = true)\n",
            " |-- reviewerID: string (nullable = true)\n",
            " |-- reviewerName: string (nullable = true)\n",
            " |-- style: struct (nullable = true)\n",
            " |    |-- Color:: string (nullable = true)\n",
            " |    |-- Design:: string (nullable = true)\n",
            " |    |-- Display Height:: string (nullable = true)\n",
            " |    |-- Edition:: string (nullable = true)\n",
            " |    |-- Flavor Name:: string (nullable = true)\n",
            " |    |-- Flavor:: string (nullable = true)\n",
            " |    |-- Format:: string (nullable = true)\n",
            " |    |-- Item Display Weight:: string (nullable = true)\n",
            " |    |-- Item Package Quantity:: string (nullable = true)\n",
            " |    |-- Material Type:: string (nullable = true)\n",
            " |    |-- Material:: string (nullable = true)\n",
            " |    |-- Number of Items:: string (nullable = true)\n",
            " |    |-- Package Quantity:: string (nullable = true)\n",
            " |    |-- Package Type:: string (nullable = true)\n",
            " |    |-- Product Packaging:: string (nullable = true)\n",
            " |    |-- Scent Name:: string (nullable = true)\n",
            " |    |-- Size Name:: string (nullable = true)\n",
            " |    |-- Size:: string (nullable = true)\n",
            " |    |-- Style Name:: string (nullable = true)\n",
            " |    |-- Style:: string (nullable = true)\n",
            " |    |-- Team Name:: string (nullable = true)\n",
            " |    |-- Unit Count:: string (nullable = true)\n",
            " |-- summary: string (nullable = true)\n",
            " |-- unixReviewTime: long (nullable = true)\n",
            " |-- verified: boolean (nullable = true)\n",
            " |-- vote: string (nullable = true)\n",
            "\n"
          ],
          "name": "stdout"
        }
      ]
    },
    {
      "cell_type": "code",
      "metadata": {
        "colab": {
          "base_uri": "https://localhost:8080/"
        },
        "id": "AgTR2_KHfqpm",
        "outputId": "1f9ce682-1161-48df-e044-6d110392f8ce"
      },
      "source": [
        "meta_data_RDD.printSchema()"
      ],
      "execution_count": null,
      "outputs": [
        {
          "output_type": "stream",
          "text": [
            "root\n",
            " |-- also_buy: array (nullable = true)\n",
            " |    |-- element: string (containsNull = true)\n",
            " |-- also_view: array (nullable = true)\n",
            " |    |-- element: string (containsNull = true)\n",
            " |-- asin: string (nullable = true)\n",
            " |-- brand: string (nullable = true)\n",
            " |-- category: array (nullable = true)\n",
            " |    |-- element: string (containsNull = true)\n",
            " |-- date: string (nullable = true)\n",
            " |-- description: array (nullable = true)\n",
            " |    |-- element: string (containsNull = true)\n",
            " |-- details: struct (nullable = true)\n",
            " |    |-- \n",
            "    Item Weight: \n",
            "    : string (nullable = true)\n",
            " |    |-- \n",
            "    Product Dimensions: \n",
            "    : string (nullable = true)\n",
            " |    |--  Date first listed on Amazon:: string (nullable = true)\n",
            " |    |--  UNSPSC Code:: string (nullable = true)\n",
            " |    |-- ASIN:: string (nullable = true)\n",
            " |    |-- ASIN: : string (nullable = true)\n",
            " |    |-- Audio CD: string (nullable = true)\n",
            " |    |-- Batteries: string (nullable = true)\n",
            " |    |-- Discontinued by manufacturer:: string (nullable = true)\n",
            " |    |-- Domestic Shipping: : string (nullable = true)\n",
            " |    |-- International Shipping: : string (nullable = true)\n",
            " |    |-- Item model number:: string (nullable = true)\n",
            " |    |-- Label:: string (nullable = true)\n",
            " |    |-- Language:: string (nullable = true)\n",
            " |    |-- Number of Discs:: string (nullable = true)\n",
            " |    |-- Original Release Date:: string (nullable = true)\n",
            " |    |-- Shipping Advisory:: string (nullable = true)\n",
            " |    |-- Shipping Weight:: string (nullable = true)\n",
            " |    |-- Subtitles:: string (nullable = true)\n",
            " |    |-- UPC:: string (nullable = true)\n",
            " |-- feature: array (nullable = true)\n",
            " |    |-- element: string (containsNull = true)\n",
            " |-- fit: string (nullable = true)\n",
            " |-- image: array (nullable = true)\n",
            " |    |-- element: string (containsNull = true)\n",
            " |-- main_cat: string (nullable = true)\n",
            " |-- price: string (nullable = true)\n",
            " |-- rank: string (nullable = true)\n",
            " |-- similar_item: string (nullable = true)\n",
            " |-- tech1: string (nullable = true)\n",
            " |-- tech2: string (nullable = true)\n",
            " |-- title: string (nullable = true)\n",
            "\n"
          ],
          "name": "stdout"
        }
      ]
    },
    {
      "cell_type": "code",
      "metadata": {
        "colab": {
          "base_uri": "https://localhost:8080/"
        },
        "id": "Ep59c7wkk7ta",
        "outputId": "1a0e0089-4185-4784-9a01-2c95f81128aa"
      },
      "source": [
        "meta_data_RDD(20)"
      ],
      "execution_count": null,
      "outputs": [
        {
          "output_type": "execute_result",
          "data": {
            "text/plain": [
              "[Row(also_buy=[], also_view=['B0000D9MYM', 'B0000D9MYL', 'B00ADHIGBA', 'B00H9OX598', 'B001LM42GY', 'B001LM5TDY'], asin='0681727810', brand='Ariola Imports', category=['Grocery & Gourmet Food', 'Dairy, Cheese & Eggs', 'Cheese', 'Gouda'], date='', description=['BEEMSTER GOUDA CHEESE AGED 18/24 MONTHS', 'Statements regarding dietary supplements have not been evaluated by the FDA and are not intended to diagnose, treat, cure, or prevent any disease or health condition.'], details=None, feature=[], fit='', image=[], main_cat='Grocery', price='$41.91', rank='165,181 in Grocery & Gourmet Food (', similar_item='', tech1='', tech2='', title='Beemster Gouda - Aged 18/24 Months - App. 1.5 Lbs'),\n",
              " Row(also_buy=['B01898YHXK', 'B01BCM6LAC', 'B00Q4OL47O', 'B00Q4OL5QE', '0804189986', 'B00Q4OL2F8', '1101902663', 'B019PDEUU8', 'B01AC97ONO', 'B01LZIS4VX', 'B019QN2DN8', 'B019PDYP7Q', '1101902639', 'B00Q4OL0S2', 'B019PHEIVA', 'B019QNGPSW', 'B0041RGD0E', '0998089508', '0988775115', 'B0006Z7NNG', 'B00MU73UKS', 'B01KIJ7JGA', 'B005F9W9JQ'], also_view=[], asin='0853347867', brand='', category=['Grocery & Gourmet Food', 'Cooking & Baking', 'Sugar Substitutes', 'Xylitol'], date='', description=['Shipped from UK, please allow 10 to 21 business days for arrival. ex lib pub by Applied Science Publishers ltd', 'Statements regarding dietary supplements have not been evaluated by the FDA and are not intended to diagnose, treat, cure, or prevent any disease or health condition.'], details=None, feature=[], fit='', image=['https://images-na.ssl-images-amazon.com/images/I/5135fT93xtL._SS40_.jpg', 'https://images-na.ssl-images-amazon.com/images/I/21IAIOeQruL._SS40_.jpg'], main_cat='Grocery', price='', rank='315,867 in Grocery & Gourmet Food (', similar_item='', tech1='', tech2='', title='Trim Healthy Mama Xylitol'),\n",
              " Row(also_buy=[], also_view=['B07DXN65TF'], asin='1888861118', brand='Unik Occasions', category=['Grocery & Gourmet Food', 'Cooking & Baking', 'Frosting, Icing & Decorations', 'Cake & Cupcake Toppers', 'Cake Toppers'], date='September 21, 2010', description=['Jazz up your cakes with a sparkling monogram from our Sparkling collection! These single letter monograms are silver plated covered in crystal rhinestones and come in several sizes for your convenience. You can use these simple yet elegant monogram cake toppers to make a Sweet 16 even sweeter or use them for a wedding cake to make the cake more special.'], details=None, feature=[], fit='', image=[], main_cat='Amazon Home', price='$29.95', rank='[\">#669,941 in Kitchen & Dining (See Top 100 in Kitchen & Dining)\",\">#9,899 in Kitchen & Dining > Bakeware > Decorating Tools > Cake & Cupcake Toppers > Cake Toppers\"]', similar_item='', tech1='', tech2='', title='Letter C - Swarovski Crystal Monogram Wedding Cake Topper Letter'),\n",
              " Row(also_buy=[], also_view=[], asin='1888861517', brand='Other', category=['Grocery & Gourmet Food', 'Cooking & Baking', 'Frosting, Icing & Decorations', 'Cake & Cupcake Toppers', 'Cake Toppers'], date='September 11, 2011', description=['Large Letter - Height 4.75\"'], details=None, feature=['Large Letter - Height 4.75\"'], fit='', image=[], main_cat='Amazon Home', price='$11.45', rank='[\">#832,581 in Kitchen & Dining (See Top 100 in Kitchen & Dining)\",\">#12,883 in Kitchen & Dining > Bakeware > Decorating Tools > Cake & Cupcake Toppers > Cake Toppers\"]', similar_item='', tech1='', tech2='', title='Letter H - Swarovski Crystal Monogram Wedding Cake Topper Letter'),\n",
              " Row(also_buy=[], also_view=[], asin='1888861614', brand='Unik Occasions', category=['Grocery & Gourmet Food', 'Cooking & Baking', 'Frosting, Icing & Decorations', 'Cake & Cupcake Toppers', 'Cake Toppers'], date='September 11, 2011', description=['4.75\"'], details=None, feature=['4.75\" height'], fit='', image=[], main_cat='Amazon Home', price='$15.00', rank='[\">#590,999 in Kitchen & Dining (See Top 100 in Kitchen & Dining)\",\">#8,585 in Kitchen & Dining > Bakeware > Decorating Tools > Cake & Cupcake Toppers > Cake Toppers\"]', similar_item='', tech1='', tech2='', title='Letter S - Swarovski Crystal Monogram Wedding Cake Topper Letter'),\n",
              " Row(also_buy=[], also_view=[], asin='1888861533', brand='Other', category=['Grocery & Gourmet Food', 'Cooking & Baking', 'Frosting, Icing & Decorations', 'Cake & Cupcake Toppers', 'Cake Toppers'], date='September 11, 2011', description=['Large Letter - Height 4.75\"'], details=None, feature=['Large Letter - Height 4.75\"'], fit='', image=[], main_cat='Amazon Home', price='$10.99', rank='[\">#1,071,856 in Kitchen & Dining (See Top 100 in Kitchen & Dining)\",\">#17,515 in Kitchen & Dining > Bakeware > Decorating Tools > Cake & Cupcake Toppers > Cake Toppers\"]', similar_item='', tech1='', tech2='', title='Letter J - Swarovski Crystal Monogram Wedding Cake Topper Letter'),\n",
              " Row(also_buy=[], also_view=[], asin='1888861339', brand='Unik Occasions', category=['Grocery & Gourmet Food', 'Cooking & Baking', 'Frosting, Icing & Decorations', 'Cake & Cupcake Toppers', 'Cake Toppers'], date='February 20, 2011', description=['Large Letter - Height 4.75\"'], details=None, feature=['Large Letter - Height 4.75\"'], fit='', image=[], main_cat='Amazon Home', price='$12.91', rank='[\">#971,345 in Kitchen & Dining (See Top 100 in Kitchen & Dining)\",\">#15,652 in Kitchen & Dining > Bakeware > Decorating Tools > Cake & Cupcake Toppers > Cake Toppers\"]', similar_item='', tech1='', tech2='', title='1 X Fully Covered in Crystal Monogram Wedding Cake Topper Letter - Letter O'),\n",
              " Row(also_buy=[], also_view=[], asin='1888861355', brand='Other', category=['Grocery & Gourmet Food', 'Cooking & Baking', 'Frosting, Icing & Decorations', 'Cake & Cupcake Toppers', 'Cake Toppers'], date='February 20, 2011', description=['Large Letter - Height 4.75\"'], details=None, feature=['Large Letter - Height 4.75\"'], fit='', image=[], main_cat='Amazon Home', price='$12.99', rank='[\">#1,013,939 in Kitchen & Dining (See Top 100 in Kitchen & Dining)\",\">#16,433 in Kitchen & Dining > Bakeware > Decorating Tools > Cake & Cupcake Toppers > Cake Toppers\"]', similar_item='', tech1='', tech2='', title='Fully Covered in Crystal Monogram Wedding Cake Topper Letter - Letter R'),\n",
              " Row(also_buy=[], also_view=[], asin='188886155X', brand='Other', category=['Grocery & Gourmet Food', 'Cooking & Baking', 'Frosting, Icing & Decorations', 'Cake & Cupcake Toppers', 'Cake Toppers'], date='September 11, 2011', description=['Large Letter - Height 4.75\"'], details=None, feature=['Large Letter - Height 4.75\"'], fit='', image=[], main_cat='Amazon Home', price='$10.99', rank='[\">#1,008,396 in Kitchen & Dining (See Top 100 in Kitchen & Dining)\",\">#16,330 in Kitchen & Dining > Bakeware > Decorating Tools > Cake & Cupcake Toppers > Cake Toppers\"]', similar_item='', tech1='', tech2='', title='Letter L - Swarovski Crystal Monogram Wedding Cake Topper Letter'),\n",
              " Row(also_buy=[], also_view=[], asin='1888861207', brand='Other', category=['Grocery & Gourmet Food', 'Cooking & Baking', 'Frosting, Icing & Decorations', 'Cake & Cupcake Toppers', 'Cake Toppers'], date='September 22, 2010', description=['Large Letter 4.75\" Height'], details=None, feature=['Large Letter - Height 4.75\"'], fit='', image=[], main_cat='Amazon Home', price='$11.00', rank='[\">#1,016,142 in Kitchen & Dining (See Top 100 in Kitchen & Dining)\",\">#16,475 in Kitchen & Dining > Bakeware > Decorating Tools > Cake & Cupcake Toppers > Cake Toppers\"]', similar_item='', tech1='', tech2='', title='Fully Covered in Crystal Monogram Wedding Cake Topper Letter - Letter C'),\n",
              " Row(also_buy=['B00886E4K0', 'B00CREXSHY', 'B001QTRGAQ', 'B002EYZM4O', 'B000JSQK70', 'B00FMTETUQ', 'B001VIIXXQ', 'B002UP153Y', 'B07DZ4M75Z', 'B00N48M0OO', 'B000JSQDK4', 'B000JSQDGS', 'B00NMV6Y4A', 'B01HIKU16M', 'B002GWH78S', 'B002HQQZL8', 'B01KFFT910', 'B007ZI1SKG', '4639725183', 'B004XTDE1G', 'B01GFPS5XW', 'B004WB7G46', 'B000F4F94I', 'B000SARJF6', 'B003H7KV8Y', 'B0198R3EJY', 'B003XD73NS', 'B00FNND76S', 'B06XS3GLWH', 'B00136MKEO', 'B007ZI1UFY', 'B007A2QO3S', 'B00886GV06', 'B002HQEQQ4', 'B00KPT6JN8', 'B002Y1LCNM', 'B00PACC7B8', 'B003CIHTBU', 'B01LY2304D', 'B004TDRASO', 'B000EM6PC6', 'B0757QPXFR', 'B002L2MG5C', 'B000LRH6DQ', 'B000JSSNW0', 'B00JVAZ532', 'B01FV1XCIO', 'B010OP3Q92', 'B006E9QDXE', 'B004GCV9ZS', 'B000JSSNUC', 'B0011010XY', 'B00KKV77GE'], also_view=['B00CREXSHY', 'B001QTRGAQ', 'B000JSQK70', 'B002EYZM4O', 'B01282ULWY', 'B000JSQDGS', 'B00886E4K0', 'B002YJC990', 'B000JSQDK4', 'B001VIIXXQ', '4639725183', 'B007ZI1SKG', 'B002UP153Y', 'B007ZI1UFY', 'B00N48M0OO', 'B000EM6PC6', 'B000JSSNUC', 'B000HBIHLG', 'B00286KM8E', 'B000VDWJB4', 'B014GLC2LS', 'B00136MKEO', 'B006E9QDXE', 'B000MN630Q', 'B01HIKU16M', 'B01DTSTPDC', 'B004WB7G46', 'B01LOR5QV0', 'B01FV1XCIO', 'B00BOMGIBI', 'B003CJJLYW', 'B01LY2304D', 'B002GWH78S', 'B0748BNCCD', 'B000SATIFA', 'B01LOR5TYY', 'B000F4F94I', 'B00PACC7B8', 'B07FTWRGZ3', 'B00VFYPK82', 'B00C1ZQH86', 'B001QTN5ZG', 'B00YPICDXK', 'B00KPT6JN8', 'B004GCV9ZS', 'B0075NPAMS', 'B00FMGHMKI', 'B003H7KV8Y', 'B00G9NQXZS', 'B00XL1E6QO', 'B000NIHZMU', 'B003XD73NS', 'B008RYNJ9A'], asin='4639725043', brand='Lipton', category=['Grocery & Gourmet Food', 'Beverages', 'Coffee, Tea & Cocoa', 'Tea', 'Black'], date='', description=['Lipton Yellow Label Tea use only the finest tea leaves.  These leaves are specially cut to expose more of the juices, then they are curled into tiny beads to seal in more of the flavor.  Enjoy a hot cup of Lipton Yellow Label Tea today.', 'Tea', 'Statements regarding dietary supplements have not been evaluated by the FDA and are not intended to diagnose, treat, cure, or prevent any disease or health condition.'], details=None, feature=[], fit='', image=['https://images-na.ssl-images-amazon.com/images/I/31V3NfjNACL._SS40_.jpg', 'https://images-na.ssl-images-amazon.com/images/I/51TS-bmrg0L._SS40_.jpg', 'https://images-na.ssl-images-amazon.com/images/I/21kL85tr17L._SS40_.jpg'], main_cat='Grocery', price='$12.46', rank='30,937 in Grocery & Gourmet Food (', similar_item='', tech1='', tech2='', title='Lipton Yellow Label Tea (loose tea) - 450g'),\n",
              " Row(also_buy=['B000JSQDK4', 'B007ZI1SKG', '4639725043', 'B00KPFHOPO', 'B01LY2304D', 'B00GRS0CAM', 'B00RZ7EOC6', 'B007SH2C6S', 'B000MQ5YRQ', 'B00286KM8E', 'B0005XMOI8', 'B000GG5IYQ', 'B009UQXD90', 'B00BOMGIBI'], also_view=['B000JSQDK4', 'B007ZI1SKG', 'B00286KM8E', 'B01LY2304D', '4639725043', 'B00BOMGIBI', 'B00CISKNPO', 'B00U9W37QS', 'B003CJJLYW', 'B00KO3O1BC', 'B002YJC990', 'B003CJLNT8', 'B000MQ5YRQ', 'B007ZI1UFY', 'B003D4MYLS', 'B000MXVHCA', 'B00CREXSHY', 'B00YPICDXK', 'B00RZ7EOC6', 'B00UZNYKTE', 'B002EYZM4O', 'B00CREY86Y', 'B00KV586SC', 'B0005XMOI8', 'B001GM60LE', 'B0042IMPTU', 'B01IMWBCFY', 'B001XUFDJ4', 'B0160988SU', 'B0062JSYEW'], asin='4639725183', brand='Lipton', category=['Grocery & Gourmet Food', 'Beverages', 'Coffee, Tea & Cocoa', 'Tea', 'Black'], date='', description=['Lipton Yellow Label Teabags uses a new way to make tea. To lock in as much of the tea taste and aroma as possible, we developed an innovative new process. We press fresh, high quality tea leaves to release their natural essence and we have developed a new blend with this essence. Enjoy a cup of tea with perfect color and taste that reinvigorates you. Shipping weight 14.00 Keywords Search Terms black tea bags Lipton tea bags', 'Statements regarding dietary supplements have not been evaluated by the FDA and are not intended to diagnose, treat, cure, or prevent any disease or health condition.'], details=None, feature=[], fit='', image=['https://images-na.ssl-images-amazon.com/images/I/31TlgFpkgZL._SS40_.jpg'], main_cat='Grocery', price='$12.98', rank='15,487 in Grocery & Gourmet Food (', similar_item='', tech1='', tech2='', title='Lipton Yellow Label Finest Blend Tea Bags 100 tea bags Pack of 2 (2 x 7 ox / 2 x 200 g)'),\n",
              " Row(also_buy=[], also_view=['B007ZI1RQQ', 'B002K61TTS'], asin='4858582000', brand='Wagh Bakri', category=['Grocery & Gourmet Food', 'Beverages', 'Coffee, Tea & Cocoa', 'Tea', 'Tea Samplers'], date='', description=[\"Wagh Bakri Masala Chai 100's (Pack of 3)\", 'Statements regarding dietary supplements have not been evaluated by the FDA and are not intended to diagnose, treat, cure, or prevent any disease or health condition.'], details=None, feature=[], fit='', image=[], main_cat='Grocery', price='$25.93', rank='121,506 in Grocery & Gourmet Food (', similar_item='', tech1='', tech2='', title=\"Wagh Bakri Masala Chai 100's (Pack of 3)\"),\n",
              " Row(also_buy=['B002FBD900', 'B00015YTS8', 'B00B3ARYDC', 'B002DMUIE6', 'B000LRH6DQ', 'B002XH1BXI', 'B00AP81DLC', 'B007S0RXGE', 'B000JSQDGS', 'B003V6HSFA', 'B00THOXKCU', 'B008EMAF0G', 'B007FE326I', 'B00MYRUYAI', 'B0058KLA2Y', 'B008NXM4OQ', 'B003CIHTBU', 'B00HM4264K', 'B003IF923A', 'B002QHENRQ', 'B01DYCJB2I', 'B013WUNSIA', 'B003462XFW', 'B0057Y9J38', 'B00NETGPAI'], also_view=['B002FBD900', 'B00015YTS8', 'B01NBYPSQR', 'B019AKAD16', 'B00HAS1SVU', 'B07BYBPVRJ', 'B074T26Q4Z', 'B0791MYCJN', 'B0791MYMS1', 'B013SAWWNG', 'B00KPT2ZUE', 'B00HRXPONQ', 'B000VK3TNO', 'B00H7URACC', 'B00O32POXY', 'B07CYHG67V', 'B004XTDSJ4', 'B002GQ6OEM', 'B01F3T7K9Q', 'B06XP68NLH', 'B01HL3IHC6', 'B002JF62GU', 'B07GTCC5X2', 'B0777XZBMZ'], asin='5236363640', brand='Nutrela', category=['Grocery & Gourmet Food', 'Canned, Jarred & Packaged Foods', 'Packaged Meals & Side Dishes', 'Indian Dishes'], date='', description=['Dishes cooked with nutrela are very tasty and also have natural nutritive goodness.', 'Statements regarding dietary supplements have not been evaluated by the FDA and are not intended to diagnose, treat, cure, or prevent any disease or health condition.'], details=None, feature=[], fit='', image=[], main_cat='Grocery', price='$24.99', rank='195,125 in Grocery & Gourmet Food (', similar_item='', tech1='', tech2='', title='Nutrela High Protein Soya Chunks 200g (Pack of 6)'),\n",
              " Row(also_buy=[], also_view=['B00J8YSPTW', 'B0029EBU72', '496731841X', 'B004HM03MM', 'B002KNOZGU', 'B00ITJOZVY', 'B004UKFVRI', 'B0051V2I8K'], asin='541255556X', brand='Haldirams', category=['Grocery & Gourmet Food', 'Canned, Jarred & Packaged Foods', 'Packaged Meals & Side Dishes', 'Indian Dishes'], date='', description=['Haldiram&apos;s Bhelpuri - A Mild Spicy Blend of Crisp Noodles, Nuts, Puffed Rice, Dried Vegetables &amp; Dried Potato Chips with Dry Chutney Mix', 'Statements regarding dietary supplements have not been evaluated by the FDA and are not intended to diagnose, treat, cure, or prevent any disease or health condition.'], details=None, feature=[], fit='', image=['https://images-na.ssl-images-amazon.com/images/I/51lzGKNXh6L._SS40_.jpg', 'https://images-na.ssl-images-amazon.com/images/I/4155O2AIyZL._SS40_.jpg', 'https://images-na.ssl-images-amazon.com/images/I/51Bq4QcdApL._SS40_.jpg', 'https://images-na.ssl-images-amazon.com/images/I/511-bx1j8eL._SS40_.jpg', 'https://images-na.ssl-images-amazon.com/images/I/51BZAzhHm6L._SS40_.jpg'], main_cat='Grocery', price='$18.99', rank='72,407 in Grocery & Gourmet Food (', similar_item='', tech1='', tech2='', title=\"Haldiram's Bhelpuri - A Mild Spicy Blend of Crisp Noodles, Nuts, Puffed Rice, Dried Vegetables &amp; Dried Potato Chips with Dry Chutney Mix - 200g. (Pack of 3)\"),\n",
              " Row(also_buy=['B00F3XJX6G', 'B003CY45VG', 'B003CGJAIM', 'B00E1C3FJG', 'B01LW1EUQE', 'B00DY5WOFM', 'B00RTK4FQY', 'B00RSQWHI2', 'B01LW2SYDF', 'B00W1YWJBG', 'B01M6DS0QC', 'B00DY5HIXA', 'B00GEV5QNK', 'B00F25SFHS', 'B01MQ1HIZF', 'B01LWCSUXM', 'B00D09XFUA', 'B00QF6LX1I', 'B008FQ19J2', 'B00W1Z3BEE', 'B00U9VSBJ2', 'B008BBFHY4', 'B017R5L2SO', 'B01CEAB9VM', 'B0089QTJY0', 'B00W1ZAI2M', 'B017KPZ75A', 'B07HLPGM45', 'B01AU9X64C', 'B00QFKFL5S', 'B00DY5NOZQ', 'B01MXGQ2SD', 'B00E1AR210', 'B00F2DMLVQ', 'B003U1CVRQ', 'B01CFZQC0O', 'B01M4PD2U6', 'B06Y4VM31P', 'B01CRO7F6S', 'B00DY7TUBQ', 'B01ARULJ52', 'B01LXKZRDG', 'B00ZWA7LQ4', 'B017JTD8QW', 'B07CXFRRSN', 'B017JT83RG', 'B00QH9SG18', 'B01CFZQHUO', 'B01KHSLZV2', 'B01CFZR0W8', 'B01LVXI1GP', 'B01EVIGEEC'], also_view=['B003CGJAIM', 'B00F3XJX6G', 'B01LVXI1GP', 'B00E1C3FJG', 'B01LW1EUQE', 'B00DY5WOFM', 'B003CY45VG', 'B00W1YWJBG', 'B00RSQWHI2', 'B00GEV5QNK', 'B01LW2SYDF', 'B00RTK4FQY', 'B01MQ1HIZF', 'B00DY5HIXA', 'B01AU9X64C', 'B00W1Z3BEE', 'B00QBKLIUO', 'B00F25SFHS', 'B01M6DS0QC', 'B01LWCSUXM', 'B01MXGQ2SD', 'B00QFKFL5S', 'B00W1ZAI2M', 'B07HLPGM45', 'B01NA0FHFS', 'B01CEAB9VM', 'B017R5L2SO', 'B0089QTJY0', 'B005JES0OA', 'B00U9VSBJ2', 'B00BAZ6XLO', 'B06XTN34VQ', 'B07CF55GLC', 'B008FQ19J2', 'B008BBFHY4', 'B00D09XFUA', 'B006RNGWFG', 'B0756D1D39', 'B00QF6BJO4'], asin='5463213682', brand='Organo Gold', category=['Grocery & Gourmet Food', 'Beverages', 'Coffee, Tea & Cocoa', 'Coffee'], date='', description=['20 Sachets', 'Empty contents into cup\\nPour 8oz of water into cup\\nStir and serve', 'Statements regarding dietary supplements have not been evaluated by the FDA and are not intended to diagnose, treat, cure, or prevent any disease or health condition.'], details=None, feature=[], fit='', image=['https://images-na.ssl-images-amazon.com/images/I/314pt87yqeL._SS40_.jpg', 'https://images-na.ssl-images-amazon.com/images/I/31dcSCm3v7L._SS40_.jpg', 'https://images-na.ssl-images-amazon.com/images/I/51xBIpCI8aL._SS40_.jpg'], main_cat='Grocery', price='$29.90', rank='89,943 in Grocery & Gourmet Food (', similar_item='', tech1='', tech2='', title='Organo Gold Cafe Supreme 100% Certified Ganoderma Extract Sealed'),\n",
              " Row(also_buy=[], also_view=['B07BY73J3N'], asin='5478541265', brand='MDH', category=['Grocery & Gourmet Food', 'Canned, Jarred & Packaged Foods', 'Packaged Meals & Side Dishes', 'Indian Dishes'], date='', description=['Kashmiri Mirch is a special blend of medium hot quality Red Pepper that is used for Tandoori(clay oven) Preparations.', 'Statements regarding dietary supplements have not been evaluated by the FDA and are not intended to diagnose, treat, cure, or prevent any disease or health condition.'], details=None, feature=[], fit='', image=['https://images-na.ssl-images-amazon.com/images/I/51xh9JZom7L._SS40_.jpg', 'https://images-na.ssl-images-amazon.com/images/I/41ULhxhMvSL._SS40_.jpg'], main_cat='Grocery', price='', rank='329,103 in Grocery & Gourmet Food (', similar_item='', tech1='', tech2='', title='MDH Kashmiri Mirch 100g'),\n",
              " Row(also_buy=['B004IMJL1U'], also_view=[], asin='5643467860', brand='Goya', category=['Grocery & Gourmet Food', 'Canned, Jarred & Packaged Foods', 'Meat, Poultry & Seafood', 'Seafood', 'Tuna Fish'], date='', description=['Whether you prefer them stuffed, pitted, or sliced, Goya has the olive you&apos;re looking for.', 'Statements regarding dietary supplements have not been evaluated by the FDA and are not intended to diagnose, treat, cure, or prevent any disease or health condition.'], details=None, feature=[], fit='', image=[], main_cat='Grocery', price='', rank='626,163 in Grocery & Gourmet Food (', similar_item='', tech1='', tech2='', title='Goya Stuffed Olive with Minced Tuna 5.25 ounces (PACK OF 2)'),\n",
              " Row(also_buy=[], also_view=[], asin='6040343958', brand='Mars', category=['Grocery & Gourmet Food', 'Breads & Bakery', 'Cakes'], date='', description=[\"New birthday cake m&m's\", 'Statements regarding dietary supplements have not been evaluated by the FDA and are not intended to diagnose, treat, cure, or prevent any disease or health condition.'], details=None, feature=[], fit='', image=[], main_cat='Grocery', price='', rank='673,482 in Grocery & Gourmet Food (', similar_item='', tech1='', tech2='', title=\"Mars New Birthday Cake M&amp;M's 39.7G - American Candy M&amp;Ms\"),\n",
              " Row(also_buy=[], also_view=[], asin='6040763906', brand='Chill Factor', category=['Grocery & Gourmet Food', 'Frozen', 'Ice Cream & Novelties'], date='', description=['Make your very own ice cream treats at home in minutes - no mess, no fuss! Simply freeze the Ice Cream Maker, add your ingredients, give it a little shake then squeeze, squeeze, squeeze! The ice cream maker is transportable so you can enjoy your ice cream anywhere once made. You can also use the ice cream maker to produce yummy and healthy frozen yoghurt treats as well as refreshing sorbets! Chocolate Delight Colour Product Description Colour Name:Choc Delight With the amazing ChillFactor Ice Cream Maker you can make your very own ice cream treats at home in minutes - no mess, no fuss! Simply freeze the Ice Cream Maker, add your ingredients, give it a little shake then squeeze, squeeze, squeeze! In minutes you will enjoy a delicious, ice cream treat. Eat your ice cream with the fun spoon included. The ice cream maker is transportable so you can enjoy your ice cream anywhere once made.There are so many delicious flavours to create - use the recipe guide included for inspiration. You can also use the ice cream maker to produce yummy and healthy frozen yoghurt treats as well as refreshing sorbets! Available in two tantalising colours -Vanilla Pink and Choc Delight. Ingredients not included. Age 3+'], details=None, feature=[], fit='', image=['https://images-na.ssl-images-amazon.com/images/I/51CeHMa7yUL._SS40_.jpg'], main_cat='Health & Personal Care', price='', rank='1,636,575 in Health & Household (', similar_item='', tech1='', tech2='', title='Chill Factor Ice Cream Maker (Choc Delight)')]"
            ]
          },
          "metadata": {
            "tags": []
          },
          "execution_count": 187
        }
      ]
    },
    {
      "cell_type": "code",
      "metadata": {
        "colab": {
          "base_uri": "https://localhost:8080/"
        },
        "id": "38vct8kNT5kx",
        "outputId": "aa246db5-c191-4216-a365-297eb9e80f51"
      },
      "source": [
        "grocery_food_RDD.take(5)"
      ],
      "execution_count": null,
      "outputs": [
        {
          "output_type": "execute_result",
          "data": {
            "text/plain": [
              "[Row(asin='1888861614', image=None, overall=5.0, reviewText='Very pleased with my purchase. Looks exactly like the picture and will look great on my cake. It definitely will sparkle.', reviewTime='06 4, 2013', reviewerID='ALP49FBWT4I7V', reviewerName='Lori', style=None, summary='Love it', unixReviewTime=1370304000, verified=True, vote=None),\n",
              " Row(asin='1888861614', image=None, overall=4.0, reviewText='Very nicely crafted but too small. Am going to have to add some flowers or something to compensate for the size.', reviewTime='05 23, 2014', reviewerID='A1KPIZOCLB9FZ8', reviewerName='BK Shopper', style=None, summary='Nice but small', unixReviewTime=1400803200, verified=True, vote=None),\n",
              " Row(asin='1888861614', image=None, overall=4.0, reviewText=\"still very pretty and well made...i am super picky so don't listen to me...*whispers* but it does look like the number 5...\", reviewTime='05 9, 2014', reviewerID='A2W0FA06IYAYQE', reviewerName='daninethequeen', style=None, summary='the \"s\" looks like a 5, kina', unixReviewTime=1399593600, verified=True, vote=None),\n",
              " Row(asin='1888861614', image=None, overall=5.0, reviewText='I got this for our wedding cake, and it was everything even more on in person, I would recommend this to anyone.', reviewTime='04 20, 2014', reviewerID='A2PTZTCH2QUYBC', reviewerName='Tammara', style=None, summary='Would recommend this to a friend!', unixReviewTime=1397952000, verified=True, vote=None),\n",
              " Row(asin='1888861614', image=None, overall=4.0, reviewText=\"It was just what I want to put at the top of my wedding cake. I love it & it's true to the picture.\", reviewTime='04 16, 2014', reviewerID='A2VNHGJ59N4Z90', reviewerName='LaQuinta Alexander', style=None, summary='Topper', unixReviewTime=1397606400, verified=True, vote=None)]"
            ]
          },
          "metadata": {
            "tags": []
          },
          "execution_count": 9
        }
      ]
    },
    {
      "cell_type": "code",
      "metadata": {
        "id": "kwSvL4QrUEFU"
      },
      "source": [
        "predictions_RDD = spark.read.json(\"/content/drive/MyDrive/Colab Notebooks/BigData/Project/Data/pred_2.json\")\n",
        "#pred2_RDD = spark.read.json(\"/content/drive/MyDrive/Colab Notebooks/BigData/Project/Data/pred_3.json\")\n",
        "#predictions_RDD = spark.read.json(\"/content/drive/MyDrive/Colab Notebooks/BigData/Project/Data/Old_Data/old_data.json\")"
      ],
      "execution_count": null,
      "outputs": []
    },
    {
      "cell_type": "code",
      "metadata": {
        "colab": {
          "base_uri": "https://localhost:8080/"
        },
        "id": "fNNDXRjKU8V_",
        "outputId": "ee78ff81-236e-4e48-c756-b34117a13bff"
      },
      "source": [
        "predictions_RDD.show(5)"
      ],
      "execution_count": null,
      "outputs": [
        {
          "output_type": "stream",
          "text": [
            "+----------+--------------------+--------------------+-------+----------+--------------------+--------------------+--------------------+--------------------+--------------------+\n",
            "|      asin|            features|            filtered|overall|prediction|         probability|       rawPrediction|          reviewText|             summary|               words|\n",
            "+----------+--------------------+--------------------+-------+----------+--------------------+--------------------+--------------------+--------------------+--------------------+\n",
            "|5463213682|{[1, 6, 12, 15, 1...|[purchased, didn'...|    2.0|       5.0|{1, [3.0325342920...|{1, [-6.887490685...|When purchased I ...|           Too sweet|[when, purchased,...|\n",
            "|B00004W4VD|{[3, 4, 22, 29, 1...|[great, value., ,...|    5.0|       5.0|{1, [2.2242851393...|{1, [-6.886993186...|Great Value.  A v...|Great Value. A ve...|[great, value., ,...|\n",
            "|B00005344V|{[1, 5, 7, 12, 12...|[drink, day, supp...|    5.0|       5.0|{1, [1.9135166408...|{1, [-6.886982957...|I drink this ever...|        Works for me|[i, drink, this, ...|\n",
            "|B00005344V|{[241, 6263], 262...|[wonderful, stuff...|    5.0|       5.0|{1, [1.6560011005...|{1, [-6.886776080...|  Wonderful stuff!!!|          Five Stars|[wonderful, stuff...|\n",
            "|B00005BPQ9|{[0, 1, 2, 3, 4, ...|[im, party, plann...|    5.0|       5.0|{1, [2.5538285082...|{1, [-6.889522294...|Im a party planne...|Im a party planne...|[im, a, party, pl...|\n",
            "+----------+--------------------+--------------------+-------+----------+--------------------+--------------------+--------------------+--------------------+--------------------+\n",
            "only showing top 5 rows\n",
            "\n"
          ],
          "name": "stdout"
        }
      ]
    },
    {
      "cell_type": "code",
      "metadata": {
        "colab": {
          "base_uri": "https://localhost:8080/"
        },
        "id": "LZ1zrIYTVk7V",
        "outputId": "f73da7c5-c27c-428c-907f-30ca3e96d327"
      },
      "source": [
        "predictions_RDD.count()"
      ],
      "execution_count": null,
      "outputs": [
        {
          "output_type": "execute_result",
          "data": {
            "text/plain": [
              "15163"
            ]
          },
          "metadata": {
            "tags": []
          },
          "execution_count": 19
        }
      ]
    },
    {
      "cell_type": "code",
      "metadata": {
        "id": "DIqHAgITV49-"
      },
      "source": [
        "import sklearn.metrics\n",
        "import seaborn as sn\n",
        "from pyspark.sql import *\n",
        "from pyspark.sql.functions import *"
      ],
      "execution_count": null,
      "outputs": []
    },
    {
      "cell_type": "code",
      "metadata": {
        "id": "v-DSWTvQcQfQ"
      },
      "source": [
        "dataframe_new = pyspark.sql.DataFrame.sample(grocery_food_RDD, .01, seed=None)"
      ],
      "execution_count": null,
      "outputs": []
    },
    {
      "cell_type": "code",
      "metadata": {
        "id": "TC16I3xRcZ-D"
      },
      "source": [
        "dataframe_new = dataframe_new.toPandas()"
      ],
      "execution_count": null,
      "outputs": []
    },
    {
      "cell_type": "code",
      "metadata": {
        "id": "2Je7Pj3vddPH"
      },
      "source": [
        "plt.hist(dataframe_new['overall'])"
      ],
      "execution_count": null,
      "outputs": []
    },
    {
      "cell_type": "code",
      "metadata": {
        "colab": {
          "base_uri": "https://localhost:8080/"
        },
        "id": "AkFpbjkzdrbH",
        "outputId": "7c56d3fc-d4df-40f5-97ca-b590313451f8"
      },
      "source": [
        "grocery_food_RDD.groupBy(\"overall\").count().sort(desc(\"count\")).show()"
      ],
      "execution_count": null,
      "outputs": [
        {
          "output_type": "stream",
          "text": [
            "+-------+-------+\n",
            "|overall|  count|\n",
            "+-------+-------+\n",
            "|    5.0|3573998|\n",
            "|    4.0| 553201|\n",
            "|    1.0| 405330|\n",
            "|    3.0| 322134|\n",
            "|    2.0| 219497|\n",
            "+-------+-------+\n",
            "\n"
          ],
          "name": "stdout"
        }
      ]
    },
    {
      "cell_type": "code",
      "metadata": {
        "id": "Rq6Xc5a_mflj"
      },
      "source": [
        "temp = grocery_food_RDD.groupBy(\"overall\").count().sort(desc(\"count\"))"
      ],
      "execution_count": null,
      "outputs": []
    },
    {
      "cell_type": "code",
      "metadata": {
        "id": "mTXGeegsb37l"
      },
      "source": [
        "tmp = grocery_food_RDD.groupBy(\"overall\").count().filter(col('overall')==2).collect()[0][1]"
      ],
      "execution_count": null,
      "outputs": []
    },
    {
      "cell_type": "code",
      "metadata": {
        "colab": {
          "base_uri": "https://localhost:8080/"
        },
        "id": "QEB_9V14lEzW",
        "outputId": "81a70047-2273-4b97-bb8c-e6b2007b05d8"
      },
      "source": [
        "tmp"
      ],
      "execution_count": null,
      "outputs": [
        {
          "output_type": "execute_result",
          "data": {
            "text/plain": [
              "219497"
            ]
          },
          "metadata": {
            "tags": []
          },
          "execution_count": 73
        }
      ]
    },
    {
      "cell_type": "code",
      "metadata": {
        "colab": {
          "base_uri": "https://localhost:8080/"
        },
        "id": "13OlJ1KYjKQt",
        "outputId": "d7371a23-dc88-4195-ea9d-e29e35ddfc0a"
      },
      "source": [
        "temp.agg(sum('count')).show()"
      ],
      "execution_count": null,
      "outputs": [
        {
          "output_type": "stream",
          "text": [
            "+----------+\n",
            "|sum(count)|\n",
            "+----------+\n",
            "|     15163|\n",
            "+----------+\n",
            "\n"
          ],
          "name": "stdout"
        }
      ]
    },
    {
      "cell_type": "code",
      "metadata": {
        "colab": {
          "base_uri": "https://localhost:8080/"
        },
        "id": "m9qGp3EekIXg",
        "outputId": "14910874-dd06-4ef9-c1bd-c1e2693a5c49"
      },
      "source": [
        "temp.withColumn('ratio', 1/(col('count')/tmp)).show()"
      ],
      "execution_count": null,
      "outputs": [
        {
          "output_type": "stream",
          "text": [
            "+-------+-------+-------------------+\n",
            "|overall|  count|              ratio|\n",
            "+-------+-------+-------------------+\n",
            "|    5.0|3573998|0.06141497560994718|\n",
            "|    4.0| 553201|0.39677621696273147|\n",
            "|    1.0| 405330| 0.5415266572915896|\n",
            "|    3.0| 322134|  0.681384144486456|\n",
            "|    2.0| 219497|                1.0|\n",
            "+-------+-------+-------------------+\n",
            "\n"
          ],
          "name": "stdout"
        }
      ]
    },
    {
      "cell_type": "code",
      "metadata": {
        "id": "So5k6-siYQEh"
      },
      "source": [
        "predictions_pd = predictions_RDD.toPandas()"
      ],
      "execution_count": null,
      "outputs": []
    },
    {
      "cell_type": "code",
      "metadata": {
        "colab": {
          "base_uri": "https://localhost:8080/",
          "height": 337
        },
        "id": "ynb9C00_bfw2",
        "outputId": "a5b59a9e-3b6b-4c81-973b-c19fa315a18f"
      },
      "source": [
        "plt.hist(predictions_pd['overall'])"
      ],
      "execution_count": null,
      "outputs": [
        {
          "output_type": "execute_result",
          "data": {
            "text/plain": [
              "(array([ 1224.,     0.,   638.,     0.,     0.,   979.,     0.,  1644.,\n",
              "            0., 10678.]),\n",
              " array([1. , 1.4, 1.8, 2.2, 2.6, 3. , 3.4, 3.8, 4.2, 4.6, 5. ]),\n",
              " <a list of 10 Patch objects>)"
            ]
          },
          "metadata": {
            "tags": []
          },
          "execution_count": 23
        },
        {
          "output_type": "display_data",
          "data": {
            "image/png": "[encoded data removed]",
            "text/plain": [
              "<Figure size 432x288 with 1 Axes>"
            ]
          },
          "metadata": {
            "tags": [],
            "needs_background": "light"
          }
        }
      ]
    },
    {
      "cell_type": "code",
      "metadata": {
        "id": "nkFzSWyeX7iX"
      },
      "source": [
        "temp = predictions_pd.groupby('overall').count().asin.tolist()"
      ],
      "execution_count": null,
      "outputs": []
    },
    {
      "cell_type": "code",
      "metadata": {
        "colab": {
          "base_uri": "https://localhost:8080/"
        },
        "id": "5lE9SGrWZJ0i",
        "outputId": "ae3ff224-3a40-4db4-e548-a839f7a0e6c2"
      },
      "source": [
        "temp"
      ],
      "execution_count": null,
      "outputs": [
        {
          "output_type": "execute_result",
          "data": {
            "text/plain": [
              "[1224, 638, 979, 1644, 10678]"
            ]
          },
          "metadata": {
            "tags": []
          },
          "execution_count": 50
        }
      ]
    },
    {
      "cell_type": "code",
      "metadata": {
        "colab": {
          "base_uri": "https://localhost:8080/",
          "height": 619
        },
        "id": "sGH5E10DXzve",
        "outputId": "62bf791e-1f23-4c21-8a61-229bc1bef769"
      },
      "source": [
        "plt.figure(figsize=(12,10), dpi= 72)\n",
        "plt.bar(x = [1,2,3,4,5], height =temp, color = ['#db8d8a'])\n",
        "plt.xlabel('Score', fontsize=20)\n",
        "plt.ylabel('Count', fontsize=20)\n",
        "plt.xticks(fontsize= 14)\n",
        "plt.yticks(fontsize= 14)\n",
        "plt.ylim(0,15000)\n",
        "#plt.show()\n",
        "plt.savefig('unbalanced_input_bar.png')"
      ],
      "execution_count": null,
      "outputs": [
        {
          "output_type": "display_data",
          "data": {
            "image/png": "[encoded data removed]",
            "text/plain": [
              "<Figure size 864x720 with 1 Axes>"
            ]
          },
          "metadata": {
            "tags": [],
            "needs_background": "light"
          }
        }
      ]
    },
    {
      "cell_type": "code",
      "metadata": {
        "id": "y06_zKIZXzyV"
      },
      "source": [
        ""
      ],
      "execution_count": null,
      "outputs": []
    },
    {
      "cell_type": "code",
      "metadata": {
        "colab": {
          "base_uri": "https://localhost:8080/",
          "height": 619
        },
        "id": "mdj2hrUGbIV2",
        "outputId": "b6f1beca-6df1-4c67-9975-0b31c8b4ae43"
      },
      "source": [
        "\n",
        "plt.figure(figsize=(12,10), dpi= 72)\n",
        "plt.bar(x = [1,2,3,4,5], height =predictions_pd.groupby('prediction').count().asin.tolist(), color = ['#db8d8a'])\n",
        "plt.xlabel('Score', fontsize=20)\n",
        "plt.ylabel('Count', fontsize=20)\n",
        "plt.xticks(fontsize= 14)\n",
        "plt.yticks(fontsize= 14)\n",
        "plt.ylim(0,15000)\n",
        "#plt.show()\n",
        "plt.savefig('unbalanced_output_bar.png')"
      ],
      "execution_count": null,
      "outputs": [
        {
          "output_type": "display_data",
          "data": {
            "image/png": "[encoded data removed]",
            "text/plain": [
              "<Figure size 864x720 with 1 Axes>"
            ]
          },
          "metadata": {
            "tags": [],
            "needs_background": "light"
          }
        }
      ]
    },
    {
      "cell_type": "code",
      "metadata": {
        "id": "aXS4r9W7arG5"
      },
      "source": [
        "predictions2_pd = predictions2_RDD.toPandas()"
      ],
      "execution_count": null,
      "outputs": []
    },
    {
      "cell_type": "code",
      "metadata": {
        "colab": {
          "base_uri": "https://localhost:8080/",
          "height": 624
        },
        "id": "auXfQ2ogarKd",
        "outputId": "d5e1accd-ab98-46ee-f279-95c26a9d29f9"
      },
      "source": [
        "\n",
        "plt.figure(figsize=(12,10), dpi= 72)\n",
        "plt.bar(x = [1,2,3,4,5], height =predictions2_pd.groupby('overall').count().asin.tolist(), color = ['#db8d8a'])\n",
        "plt.xlabel('Score', fontsize=20)\n",
        "plt.ylabel('Count', fontsize=20)\n",
        "plt.xticks(fontsize= 14)\n",
        "plt.yticks(fontsize= 14)\n",
        "plt.ylim(0,900)\n",
        "#plt.show()\n",
        "plt.savefig('balanced_input_bar.png')"
      ],
      "execution_count": null,
      "outputs": [
        {
          "output_type": "display_data",
          "data": {
            "image/png": "[encoded data removed]",
            "text/plain": [
              "<Figure size 864x720 with 1 Axes>"
            ]
          },
          "metadata": {
            "tags": [],
            "needs_background": "light"
          }
        }
      ]
    },
    {
      "cell_type": "code",
      "metadata": {
        "colab": {
          "base_uri": "https://localhost:8080/",
          "height": 619
        },
        "id": "hczpUrz4a1o3",
        "outputId": "43a7057e-f49d-47a8-8ad7-3ad5c76b7080"
      },
      "source": [
        "plt.figure(figsize=(12,10), dpi= 72)\n",
        "plt.bar(x = [1,2,3,4,5], height =predictions2_pd.groupby('prediction').count().asin.tolist(), color = ['#db8d8a'])\n",
        "plt.xlabel('Score', fontsize=20)\n",
        "plt.ylabel('Count', fontsize=20)\n",
        "plt.xticks(fontsize= 14)\n",
        "plt.yticks(fontsize= 14)\n",
        "#plt.show()\n",
        "plt.savefig('balanced_output_bar.png')"
      ],
      "execution_count": null,
      "outputs": [
        {
          "output_type": "display_data",
          "data": {
            "image/png": "[encoded data removed]",
            "text/plain": [
              "<Figure size 864x720 with 1 Axes>"
            ]
          },
          "metadata": {
            "tags": [],
            "needs_background": "light"
          }
        }
      ]
    },
    {
      "cell_type": "code",
      "metadata": {
        "id": "GV1M0zTCa1rR"
      },
      "source": [
        ""
      ],
      "execution_count": null,
      "outputs": []
    },
    {
      "cell_type": "code",
      "metadata": {
        "colab": {
          "base_uri": "https://localhost:8080/",
          "height": 197
        },
        "id": "SnHcxwFZaw89",
        "outputId": "57e9957c-b843-4da2-95c0-788d6eed5f31"
      },
      "source": [
        "predictions_pd.head()"
      ],
      "execution_count": null,
      "outputs": [
        {
          "output_type": "execute_result",
          "data": {
            "text/html": [
              "<div>\n",
              "<style scoped>\n",
              "    .dataframe tbody tr th:only-of-type {\n",
              "        vertical-align: middle;\n",
              "    }\n",
              "\n",
              "    .dataframe tbody tr th {\n",
              "        vertical-align: top;\n",
              "    }\n",
              "\n",
              "    .dataframe thead th {\n",
              "        text-align: right;\n",
              "    }\n",
              "</style>\n",
              "<table border=\"1\" class=\"dataframe\">\n",
              "  <thead>\n",
              "    <tr style=\"text-align: right;\">\n",
              "      <th></th>\n",
              "      <th>asin</th>\n",
              "      <th>features</th>\n",
              "      <th>overall</th>\n",
              "      <th>prediction</th>\n",
              "      <th>probability</th>\n",
              "      <th>rawPrediction</th>\n",
              "      <th>reviewText</th>\n",
              "      <th>summary</th>\n",
              "      <th>words</th>\n",
              "    </tr>\n",
              "  </thead>\n",
              "  <tbody>\n",
              "    <tr>\n",
              "      <th>0</th>\n",
              "      <td>B00008CQRK</td>\n",
              "      <td>([0, 1, 3, 6, 15, 93, 94, 107, 366, 417, 801, ...</td>\n",
              "      <td>2.0</td>\n",
              "      <td>3.0</td>\n",
              "      <td>(1, [0.00012514772560998384, 0.145882119788658...</td>\n",
              "      <td>(1, [-6.126355345004447, 0.9347039864558284, 0...</td>\n",
              "      <td>liked the first blend I bought better it was a...</td>\n",
              "      <td>Not to my taste.</td>\n",
              "      <td>[liked, the, first, blend, i, bought, better, ...</td>\n",
              "    </tr>\n",
              "    <tr>\n",
              "      <th>1</th>\n",
              "      <td>B0000CFH7B</td>\n",
              "      <td>([19, 48, 106, 138, 216, 256], 262144, 0, [2.0...</td>\n",
              "      <td>3.0</td>\n",
              "      <td>1.0</td>\n",
              "      <td>(1, [0.00012820837195829163, 0.206816305558256...</td>\n",
              "      <td>(1, [-6.1259940012476335, 1.259935418012825, 1...</td>\n",
              "      <td>Didn't work as well as we thought</td>\n",
              "      <td>Three Stars</td>\n",
              "      <td>[didn't, work, as, well, as, we, thought]</td>\n",
              "    </tr>\n",
              "    <tr>\n",
              "      <th>2</th>\n",
              "      <td>B0000CFMU7</td>\n",
              "      <td>([0, 5, 8, 12, 17, 19, 20, 23, 28, 29, 42, 106...</td>\n",
              "      <td>5.0</td>\n",
              "      <td>4.0</td>\n",
              "      <td>(1, [0.00011737910789532294, 0.118147333602533...</td>\n",
              "      <td>(1, [-6.128398313336153, 0.7858804661643188, 0...</td>\n",
              "      <td>These works very well as getting the colors ex...</td>\n",
              "      <td>Love them!</td>\n",
              "      <td>[these, works, very, well, as, getting, the, c...</td>\n",
              "    </tr>\n",
              "    <tr>\n",
              "      <th>3</th>\n",
              "      <td>B0000CNU0C</td>\n",
              "      <td>([0, 1, 3, 4, 5, 6, 8, 9, 13, 16, 17, 18, 21, ...</td>\n",
              "      <td>3.0</td>\n",
              "      <td>4.0</td>\n",
              "      <td>(1, [4.982315927932252e-05, 0.0373791895663247...</td>\n",
              "      <td>(1, [-6.131997115049992, 0.4883923630809708, 1...</td>\n",
              "      <td>I actually do like the flavor of this, but it ...</td>\n",
              "      <td>Full of MSG</td>\n",
              "      <td>[i, actually, do, like, the, flavor, of, this,...</td>\n",
              "    </tr>\n",
              "    <tr>\n",
              "      <th>4</th>\n",
              "      <td>B0000CNU1S</td>\n",
              "      <td>([0, 1, 2, 3, 4, 5, 6, 7, 8, 9, 10, 11, 12, 13...</td>\n",
              "      <td>2.0</td>\n",
              "      <td>4.0</td>\n",
              "      <td>(1, [3.387596422174072e-05, 0.0125344059366113...</td>\n",
              "      <td>(1, [-6.174713342670979, -0.26118646847928706,...</td>\n",
              "      <td>NOT purchased on Amazon.\\nThis&amp;nbsp;&lt;a data-ho...</td>\n",
              "      <td>Chinese 5 spices NO, outstanding Licorice blen...</td>\n",
              "      <td>[not, purchased, on, amazon., this&amp;nbsp;&lt;a, da...</td>\n",
              "    </tr>\n",
              "  </tbody>\n",
              "</table>\n",
              "</div>"
            ],
            "text/plain": [
              "         asin  ...                                              words\n",
              "0  B00008CQRK  ...  [liked, the, first, blend, i, bought, better, ...\n",
              "1  B0000CFH7B  ...          [didn't, work, as, well, as, we, thought]\n",
              "2  B0000CFMU7  ...  [these, works, very, well, as, getting, the, c...\n",
              "3  B0000CNU0C  ...  [i, actually, do, like, the, flavor, of, this,...\n",
              "4  B0000CNU1S  ...  [not, purchased, on, amazon., this&nbsp;<a, da...\n",
              "\n",
              "[5 rows x 9 columns]"
            ]
          },
          "metadata": {
            "tags": []
          },
          "execution_count": 99
        }
      ]
    },
    {
      "cell_type": "code",
      "metadata": {
        "id": "qEFZizAaYKcY"
      },
      "source": [
        "confmat = sklearn.metrics.confusion_matrix(predictions2_pd['prediction'], predictions2_pd['overall'])"
      ],
      "execution_count": null,
      "outputs": []
    },
    {
      "cell_type": "code",
      "metadata": {
        "colab": {
          "base_uri": "https://localhost:8080/"
        },
        "id": "fpWOuQi3sSSN",
        "outputId": "92c218a0-ec59-4c97-a8da-c2198cde045d"
      },
      "source": [
        "confusion_matrix = pd.crosstab(predictions_pd['prediction'], predictions_pd['overall'], rownames=['prediction'], colnames=['overall'])\n",
        "print (confusion_matrix)"
      ],
      "execution_count": null,
      "outputs": [
        {
          "output_type": "stream",
          "text": [
            "overall     1.0  2.0  3.0   4.0    5.0\n",
            "prediction                            \n",
            "1.0         295   61   57    21     30\n",
            "2.0          27   20   15     6     11\n",
            "3.0          22   26   54    26     30\n",
            "4.0          24   32   62    84    105\n",
            "5.0         856  499  791  1507  10502\n"
          ],
          "name": "stdout"
        }
      ]
    },
    {
      "cell_type": "code",
      "metadata": {
        "colab": {
          "base_uri": "https://localhost:8080/",
          "height": 618
        },
        "id": "AYedraOUYHlj",
        "outputId": "e83a8928-ab47-475e-e7c2-2d5b68de9a63"
      },
      "source": [
        "\n",
        "plt.figure(figsize=(11.5,10), dpi= 72)\n",
        "df_cm = pd.DataFrame(confmat)\n",
        "sn.heatmap(df_cm, annot=True, annot_kws={\"size\": 18}, fmt = 'd') # font size\n",
        "plt.xlabel('Actual', fontsize=20)\n",
        "plt.ylabel('Prediction', fontsize=20)\n",
        "plt.xticks(fontsize= 12)\n",
        "plt.yticks(fontsize= 12)\n",
        "\n",
        "plt.savefig('confusion_matrix.png')"
      ],
      "execution_count": null,
      "outputs": [
        {
          "output_type": "display_data",
          "data": {
            "image/png": "[encoded data removed]",
            "text/plain": [
              "<Figure size 828x720 with 2 Axes>"
            ]
          },
          "metadata": {
            "tags": [],
            "needs_background": "light"
          }
        }
      ]
    },
    {
      "cell_type": "code",
      "metadata": {
        "colab": {
          "base_uri": "https://localhost:8080/"
        },
        "id": "pm2yaECBskWR",
        "outputId": "ef09d1ae-b25a-4849-89ef-94c15f8d150d"
      },
      "source": [
        "confusion_matrix[[2]].to_numpy().flatten().sum()"
      ],
      "execution_count": null,
      "outputs": [
        {
          "output_type": "execute_result",
          "data": {
            "text/plain": [
              "687"
            ]
          },
          "metadata": {
            "tags": []
          },
          "execution_count": 103
        }
      ]
    },
    {
      "cell_type": "code",
      "metadata": {
        "colab": {
          "base_uri": "https://localhost:8080/",
          "height": 227
        },
        "id": "UakZ0IDXukUa",
        "outputId": "e8898026-2acb-49df-cc44-d0932445aa5c"
      },
      "source": [
        "confusion_matrix[[3]][:]"
      ],
      "execution_count": null,
      "outputs": [
        {
          "output_type": "execute_result",
          "data": {
            "text/html": [
              "<div>\n",
              "<style scoped>\n",
              "    .dataframe tbody tr th:only-of-type {\n",
              "        vertical-align: middle;\n",
              "    }\n",
              "\n",
              "    .dataframe tbody tr th {\n",
              "        vertical-align: top;\n",
              "    }\n",
              "\n",
              "    .dataframe thead th {\n",
              "        text-align: right;\n",
              "    }\n",
              "</style>\n",
              "<table border=\"1\" class=\"dataframe\">\n",
              "  <thead>\n",
              "    <tr style=\"text-align: right;\">\n",
              "      <th>overall</th>\n",
              "      <th>3.0</th>\n",
              "    </tr>\n",
              "    <tr>\n",
              "      <th>prediction</th>\n",
              "      <th></th>\n",
              "    </tr>\n",
              "  </thead>\n",
              "  <tbody>\n",
              "    <tr>\n",
              "      <th>1.0</th>\n",
              "      <td>57</td>\n",
              "    </tr>\n",
              "    <tr>\n",
              "      <th>2.0</th>\n",
              "      <td>131</td>\n",
              "    </tr>\n",
              "    <tr>\n",
              "      <th>3.0</th>\n",
              "      <td>201</td>\n",
              "    </tr>\n",
              "    <tr>\n",
              "      <th>4.0</th>\n",
              "      <td>172</td>\n",
              "    </tr>\n",
              "    <tr>\n",
              "      <th>5.0</th>\n",
              "      <td>75</td>\n",
              "    </tr>\n",
              "  </tbody>\n",
              "</table>\n",
              "</div>"
            ],
            "text/plain": [
              "overall     3.0\n",
              "prediction     \n",
              "1.0          57\n",
              "2.0         131\n",
              "3.0         201\n",
              "4.0         172\n",
              "5.0          75"
            ]
          },
          "metadata": {
            "tags": []
          },
          "execution_count": 104
        }
      ]
    },
    {
      "cell_type": "code",
      "metadata": {
        "colab": {
          "base_uri": "https://localhost:8080/",
          "height": 264
        },
        "id": "WxaVHwyirM2z",
        "outputId": "6b00b2ce-6064-4a8c-a2bb-e035df14cf62"
      },
      "source": [
        "plt.bar(x = confusion_matrix.index.to_list(), height = confusion_matrix[[1]].to_numpy().flatten()/confusion_matrix[[1]].to_numpy().flatten().sum())\n",
        "plt.show()"
      ],
      "execution_count": null,
      "outputs": [
        {
          "output_type": "display_data",
          "data": {
            "image/png": "[encoded data removed]",
            "text/plain": [
              "<Figure size 432x288 with 1 Axes>"
            ]
          },
          "metadata": {
            "tags": [],
            "needs_background": "light"
          }
        }
      ]
    },
    {
      "cell_type": "code",
      "metadata": {
        "id": "rolaIlYZaBmd",
        "colab": {
          "base_uri": "https://localhost:8080/",
          "height": 264
        },
        "outputId": "2a505552-efc0-44f5-a168-cba22fe4473b"
      },
      "source": [
        "plt.bar(x = confusion_matrix.index.to_list(), height = confusion_matrix[[1]].to_numpy().flatten()/confusion_matrix[[1]].to_numpy().flatten().sum())\n",
        "plt.show()"
      ],
      "execution_count": null,
      "outputs": [
        {
          "output_type": "display_data",
          "data": {
            "image/png": "[encoded data removed]",
            "text/plain": [
              "<Figure size 432x288 with 1 Axes>"
            ]
          },
          "metadata": {
            "tags": [],
            "needs_background": "light"
          }
        }
      ]
    },
    {
      "cell_type": "code",
      "metadata": {
        "colab": {
          "base_uri": "https://localhost:8080/",
          "height": 264
        },
        "id": "rsTAqlg-wQOI",
        "outputId": "d1c67941-40cd-4fdf-ae16-a2a8dc60a7b8"
      },
      "source": [
        "plt.bar(x = confusion_matrix.index.to_list(), height = confusion_matrix[[2]].to_numpy().flatten()/confusion_matrix[[2]].to_numpy().flatten().sum())\n",
        "plt.show()"
      ],
      "execution_count": null,
      "outputs": [
        {
          "output_type": "display_data",
          "data": {
            "image/png": "[encoded data removed]",
            "text/plain": [
              "<Figure size 432x288 with 1 Axes>"
            ]
          },
          "metadata": {
            "tags": [],
            "needs_background": "light"
          }
        }
      ]
    },
    {
      "cell_type": "code",
      "metadata": {
        "colab": {
          "base_uri": "https://localhost:8080/",
          "height": 264
        },
        "id": "mu5BOwj6wQQ2",
        "outputId": "26d0e928-f9d7-4a35-f99d-3f4d85946ba8"
      },
      "source": [
        "plt.bar(x = confusion_matrix.index.to_list(), height = confusion_matrix[[3]].to_numpy().flatten()/confusion_matrix[[3]].to_numpy().flatten().sum())\n",
        "plt.show()"
      ],
      "execution_count": null,
      "outputs": [
        {
          "output_type": "display_data",
          "data": {
            "image/png": "[encoded data removed]",
            "text/plain": [
              "<Figure size 432x288 with 1 Axes>"
            ]
          },
          "metadata": {
            "tags": [],
            "needs_background": "light"
          }
        }
      ]
    },
    {
      "cell_type": "code",
      "metadata": {
        "colab": {
          "base_uri": "https://localhost:8080/",
          "height": 267
        },
        "id": "k61i9kiwwQTd",
        "outputId": "044ff024-9d95-4b66-f2ee-61d9a868d7a0"
      },
      "source": [
        "plt.bar(x = confusion_matrix.index.to_list(), height = confusion_matrix[[4]].to_numpy().flatten()/confusion_matrix[[4]].to_numpy().flatten().sum())\n",
        "plt.show()"
      ],
      "execution_count": null,
      "outputs": [
        {
          "output_type": "display_data",
          "data": {
            "image/png": "[encoded data removed]",
            "text/plain": [
              "<Figure size 432x288 with 1 Axes>"
            ]
          },
          "metadata": {
            "tags": [],
            "needs_background": "light"
          }
        }
      ]
    },
    {
      "cell_type": "code",
      "metadata": {
        "colab": {
          "base_uri": "https://localhost:8080/",
          "height": 264
        },
        "id": "zsq48MFQwQVn",
        "outputId": "082cea1b-85ab-4783-ecaa-4bcace5e61ce"
      },
      "source": [
        "plt.bar(x = confusion_matrix.index.to_list(), height = confusion_matrix[[5]].to_numpy().flatten()/confusion_matrix[[5]].to_numpy().flatten().sum())\n",
        "plt.show()"
      ],
      "execution_count": null,
      "outputs": [
        {
          "output_type": "display_data",
          "data": {
            "image/png": "[encoded data removed]",
            "text/plain": [
              "<Figure size 432x288 with 1 Axes>"
            ]
          },
          "metadata": {
            "tags": [],
            "needs_background": "light"
          }
        }
      ]
    },
    {
      "cell_type": "code",
      "metadata": {
        "id": "DdwbDoRqwQX9"
      },
      "source": [
        ""
      ],
      "execution_count": null,
      "outputs": []
    },
    {
      "cell_type": "code",
      "metadata": {
        "colab": {
          "base_uri": "https://localhost:8080/"
        },
        "id": "fpbGFbf8rXZS",
        "outputId": "6c757f3e-2c23-489b-91fd-dd8c8d77b903"
      },
      "source": [
        "confmat"
      ],
      "execution_count": null,
      "outputs": [
        {
          "output_type": "execute_result",
          "data": {
            "text/plain": [
              "array([[290, 169,  57,  38,  19],\n",
              "       [147, 162, 131,  61,  27],\n",
              "       [ 84, 173, 201, 114,  37],\n",
              "       [ 61, 115, 172, 252, 163],\n",
              "       [ 65,  68,  75, 193, 399]])"
            ]
          },
          "metadata": {
            "tags": []
          },
          "execution_count": 22
        }
      ]
    },
    {
      "cell_type": "code",
      "metadata": {
        "id": "cWUeW4xKpSD2"
      },
      "source": [
        "ge = predictions_pd['words'].values.tolist()"
      ],
      "execution_count": null,
      "outputs": []
    },
    {
      "cell_type": "code",
      "metadata": {
        "id": "5arviFDMrVgt"
      },
      "source": [
        ""
      ],
      "execution_count": null,
      "outputs": []
    },
    {
      "cell_type": "code",
      "metadata": {
        "id": "gakfsOgsahBc"
      },
      "source": [
        "y = [len(x) for x in predictions_pd['words'].values.tolist()]"
      ],
      "execution_count": null,
      "outputs": []
    },
    {
      "cell_type": "code",
      "metadata": {
        "id": "DK2k1X8lol7Y"
      },
      "source": [
        "predictions_pd['length'] = y"
      ],
      "execution_count": null,
      "outputs": []
    },
    {
      "cell_type": "code",
      "metadata": {
        "colab": {
          "base_uri": "https://localhost:8080/",
          "height": 264
        },
        "id": "aMGETarspx_l",
        "outputId": "20ea5893-9334-4c94-a1a4-f0a5907a9165"
      },
      "source": [
        "plt.hist(predictions_pd[(predictions_pd['overall'] == 1) & (predictions_pd['length'] <200)]['length'], bins = 20)\n",
        "plt.show()"
      ],
      "execution_count": null,
      "outputs": [
        {
          "output_type": "display_data",
          "data": {
            "image/png": "[encoded data removed]",
            "text/plain": [
              "<Figure size 432x288 with 1 Axes>"
            ]
          },
          "metadata": {
            "tags": [],
            "needs_background": "light"
          }
        }
      ]
    },
    {
      "cell_type": "code",
      "metadata": {
        "id": "s-ge6i2UyS4O"
      },
      "source": [
        "predictions_pd[predictions_pd[predictions_pd['length'] ==200] and predictions_pd[predictions_pd['overall'] == 1]]"
      ],
      "execution_count": null,
      "outputs": []
    },
    {
      "cell_type": "code",
      "metadata": {
        "colab": {
          "base_uri": "https://localhost:8080/"
        },
        "id": "HmaPtc8VxXwf",
        "outputId": "a838e9f8-5412-4110-982e-376ebe215ea8"
      },
      "source": [
        "predictions_pd[(predictions_pd['overall'] == 5)]['length']"
      ],
      "execution_count": null,
      "outputs": [
        {
          "output_type": "execute_result",
          "data": {
            "text/plain": [
              "2        29\n",
              "5       212\n",
              "13        5\n",
              "14        1\n",
              "32       96\n",
              "       ... \n",
              "3247     34\n",
              "3257      6\n",
              "3259    151\n",
              "3260     25\n",
              "3267     75\n",
              "Name: length, Length: 645, dtype: int64"
            ]
          },
          "metadata": {
            "tags": []
          },
          "execution_count": 116
        }
      ]
    },
    {
      "cell_type": "code",
      "metadata": {
        "colab": {
          "base_uri": "https://localhost:8080/"
        },
        "id": "MaDJ2BMQzmoY",
        "outputId": "ffe2adbe-a420-424e-eba9-a96b39522c69"
      },
      "source": [
        "predictions_pd[(predictions_pd['overall'] == 4)]['length'].describe()['mean']"
      ],
      "execution_count": null,
      "outputs": [
        {
          "output_type": "execute_result",
          "data": {
            "text/plain": [
              "38.96960486322188"
            ]
          },
          "metadata": {
            "tags": []
          },
          "execution_count": 117
        }
      ]
    },
    {
      "cell_type": "code",
      "metadata": {
        "colab": {
          "base_uri": "https://localhost:8080/",
          "height": 618
        },
        "id": "ucRoYc-d0cY4",
        "outputId": "838636fe-b814-4c58-d963-007808b3793d"
      },
      "source": [
        "plt.figure(figsize=(12,10), dpi= 72)\n",
        "plt.bar(x = confusion_matrix.index.to_list(), height = predictions_pd.groupby('overall').agg('mean')['length'], color = ['#db8d8a'])\n",
        "plt.xlabel('Score', fontsize=20)\n",
        "plt.ylabel('Mean Review Length', fontsize=20)\n",
        "plt.xticks(fontsize= 14)\n",
        "plt.yticks(fontsize= 14)\n",
        "\n",
        "plt.show()\n",
        "#plt.savefig('length_barplot.png')"
      ],
      "execution_count": null,
      "outputs": [
        {
          "output_type": "display_data",
          "data": {
            "image/png": "[encoded data removed]",
            "text/plain": [
              "<Figure size 864x720 with 1 Axes>"
            ]
          },
          "metadata": {
            "tags": [],
            "needs_background": "light"
          }
        }
      ]
    },
    {
      "cell_type": "code",
      "metadata": {
        "id": "oF29E9-pQVNh"
      },
      "source": [
        "pred_piv = predictions_pd.pivot(columns= 'overall',  values= 'length')"
      ],
      "execution_count": null,
      "outputs": []
    },
    {
      "cell_type": "code",
      "metadata": {
        "id": "X-KwtsH7VNCI"
      },
      "source": [
        "import numpy as np"
      ],
      "execution_count": null,
      "outputs": []
    },
    {
      "cell_type": "code",
      "metadata": {
        "id": "JsvwzXLTUPrq"
      },
      "source": [
        "x = np.array(pred_piv[1.0])\n",
        "x = x[~np.isnan(x)]"
      ],
      "execution_count": null,
      "outputs": []
    },
    {
      "cell_type": "code",
      "metadata": {
        "id": "GoLpgBZ3Va8v"
      },
      "source": [
        "scores = [1.0,2.0,3.0,4.0,5.0]\n",
        "out = []\n",
        "for i in scores:\n",
        "  x = np.array(pred_piv[i])\n",
        "  x = x[~np.isnan(x)]\n",
        "  out.append(x)\n",
        "\n"
      ],
      "execution_count": null,
      "outputs": []
    },
    {
      "cell_type": "code",
      "metadata": {
        "id": "UTumeY4A1JaC",
        "colab": {
          "base_uri": "https://localhost:8080/",
          "height": 631
        },
        "outputId": "12108d1a-7ef9-4a4d-d0c2-4260567347c2"
      },
      "source": [
        "\n",
        "plt.figure(figsize=(12,10), dpi= 72)\n",
        "plt.violinplot(out,showextrema=False)\n",
        "plt.ylim(0,200)\n",
        "\n",
        "plt.show()"
      ],
      "execution_count": null,
      "outputs": [
        {
          "output_type": "stream",
          "text": [
            "/usr/local/lib/python3.7/dist-packages/numpy/core/_asarray.py:83: VisibleDeprecationWarning: Creating an ndarray from ragged nested sequences (which is a list-or-tuple of lists-or-tuples-or ndarrays with different lengths or shapes) is deprecated. If you meant to do this, you must specify 'dtype=object' when creating the ndarray\n",
            "  return array(a, dtype, copy=False, order=order)\n"
          ],
          "name": "stderr"
        },
        {
          "output_type": "display_data",
          "data": {
            "image/png": "[encoded data removed]",
            "text/plain": [
              "<Figure size 864x720 with 1 Axes>"
            ]
          },
          "metadata": {
            "tags": [],
            "needs_background": "light"
          }
        }
      ]
    },
    {
      "cell_type": "code",
      "metadata": {
        "id": "jQvNgbihgczp"
      },
      "source": [
        "from pyspark.sql.functions import udf\n",
        "\n",
        "len_udf = udf(lambda x: len(x))"
      ],
      "execution_count": null,
      "outputs": []
    },
    {
      "cell_type": "code",
      "metadata": {
        "id": "oQl2xG9cPtnd"
      },
      "source": [
        "metameta = meta_data_RDD.withColumn('num_view', len_udf('also_view'))\\\n",
        ".withColumn('num_buy', len_udf('also_buy'))\\\n",
        ".select('asin','also_buy', 'also_view','brand','num_view', 'num_buy')"
      ],
      "execution_count": null,
      "outputs": []
    },
    {
      "cell_type": "code",
      "metadata": {
        "colab": {
          "base_uri": "https://localhost:8080/"
        },
        "id": "5UH9PjHCiSas",
        "outputId": "e3c49981-61ad-41a7-f25a-3558586bbe2f"
      },
      "source": [
        "metameta.sort(metameta.num_buy.desc()).head(10)"
      ],
      "execution_count": null,
      "outputs": [
        {
          "output_type": "execute_result",
          "data": {
            "text/plain": [
              "[Row(asin='B0001EJ4CU', also_buy=['B00BUIKGU0', 'B01M3VWKHU', 'B006QYNLKU', 'B01ASW26TM', 'B07BBT37K9', 'B06XX51N55', 'B006R1UE52', 'B071CX48ZS', 'B00NW5OH40', 'B001FB6BA6', 'B004H4P5UU', 'B00786YL72', 'B00886AVOI', 'B01JI0XM70', 'B002HMN6SC', 'B004I5IC5I', 'B07DLFQQ79', 'B007B1V5ZK', 'B0001DMTJG', 'B005WXMPMQ', 'B01NASAQ63', 'B079WK6T2Y', 'B01LXBGEU6', 'B002ER9KEY', 'B0792L442G', 'B07F7MXPWD', 'B013HB0CC4', 'B003K3KOM8', 'B01BPPRRGS', 'B016EDAK0Q', 'B005J8DT0Q', 'B00A9OF6NS', 'B008K0Y3FK', 'B0001DMTM8', 'B0000CNU1B', 'B01LXQF0T1', 'B07BKXTMSM', 'B01BUL3W5M', 'B0002YB210', 'B000F08KCU', 'B01MF9B0OV', 'B071WX354Y', 'B01M6A03MU', 'B00TGDO9AE', 'B0009OA17Y', 'B0005XNHMK', 'B071WQTK9J', 'B01E5NIEKA', 'B00I9P242U', 'B0001DMTQO', 'B01LYMD0NW', 'B00EMM6XLW', 'B000A0ZEBA', 'B000EWMI5O', 'B000JMAVXA', 'B07B3KNBS1', 'B004NRLAVY', 'B0046H020G', 'B000RYPP5E', 'B00BVUBKJ8', 'B01MRTI49U', 'B00THPD0UG', 'B0035AL85I', 'B072P2G5PP', 'B00HEB9VV2', 'B00VFDK47K', 'B003Q3GGGU', 'B00E0MVI7I', 'B00AJRKPE0', 'B00016UX1E', 'B00KD6MKMC', 'B00AB2FKQQ', 'B01MSFYPYQ', 'B00016UX2S', 'B0001DMTPU', 'B0001DMTNM', 'B01BPPVNBI', 'B00VCCPAEQ', 'B072LW3V61', 'B071FXR8YV', 'B01N19E6GF', 'B071S8ZDG2', 'B079NVR4JZ', 'B0767NZSBY', 'B0001M10VA', 'B01M6A075K', 'B00L63VQBM', 'B01MSZCY4U', 'B0769Y8CMH', 'B007F42R4Q', 'B002TRBNOO', 'B000EWMJ8U', 'B01N7T7M4X', 'B0001EJ4C0', 'B0086XT6Z8', 'B00348JCL8', 'B00B617XK2', 'B0016L34GO', 'B003X43F1Q'], also_view=['B01LYMD0NW', 'B0001EJ4C0', 'B001FB6BA6', 'B000NYFBCA', 'B006QYNLKU', 'B07B1LMVFM', 'B002HMN6SC', 'B00E0MVI7I', 'B000VM47ZG', 'B01N19E6GF', 'B0051D84GI', 'B01M3VWKHU', 'B0000D198T', 'B071S8ZDG2', 'B0001M10VA', 'B00016UX1E', 'B00BUIKGU0', 'B00BRQ0YC0', 'B0001DMTPU', 'B001FB6B0G', 'B005WG1UII', 'B00NW5OH40', 'B00L373KBK', 'B01ASW26TM', 'B07B3KNBS1', 'B003U2AAQY', 'B001FB6B9C', 'B01I4CVE8C', 'B07BBT37K9', 'B01M6A03MU', 'B003X402U8', 'B00THPD0UG', 'B006R1UE52', 'B00786YL72', 'B002ER9KEY', 'B0086XT6Z8', 'B07F7MXPWD', 'B00886AVOI', 'B005J8DT0Q', 'B01LXBGEU6', 'B01M6A075K', 'B00L63VQBM', 'B0001WOSQY', 'B000EWMI5O', 'B0035AL85I', 'B07DLFQQ79', 'B06XX51N55', 'B07B1C8QGZ', 'B00A9OF6NS', 'B0767NZSBY', 'B00K047FVI', 'B003XDIU30', 'B079NVR4JZ', 'B007YY6O2I', 'B00XGVZH4Y', 'B008530FCM', 'B00XWTSE3Q', 'B00060OHZS'], brand='Lee Kum Kee', num_view='58', num_buy='99'),\n",
              " Row(asin='B0000VMA1G', also_buy=['B0000VM9X0', 'B004FIRMHC', 'B003M00HUI', 'B07D6F62PJ', 'B0767P49Q6', 'B007SQ2WKK', 'B007KBBDLC', 'B005GQYK5O', 'B0000CFN7Q', 'B0161E6JRG', 'B076JCRF89', 'B00CHQIAV6', 'B07GBZL8F6', 'B000MSZT6U', 'B0000VMA2A', 'B00IE72KRW', 'B07DLHSVQ3', 'B0042QKZNK', 'B00KCUMM3Q', 'B0000VMA2K', 'B0000VMA20', 'B004BPPT2E', 'B06XHJ325B', 'B00IE6Y6J8', 'B0017JVH5A', 'B07786KLW1', 'B0000VM9ZI', 'B0000VMA02', 'B007SQ37UO', 'B078NLNRXY', 'B078GW3DQ1', 'B00UQR0TAI', 'B0000CFMTM', 'B0000CFN7X', 'B00MHSRUPQ', 'B001CG9YDA', 'B003YJ14OU', 'B004V01TS2', 'B0000CFN0Y', 'B0000CFMTW', 'B0000CFN7L', 'B07FQ2JBNX', 'B000MSZTQA', 'B0000CFN7O', 'B0000CFMT7', 'B000MSZVZO', 'B00IE72JT6', 'B00IE727OI', 'B00F6ARC1E', 'B002N7ST6U', 'B01AMDP59K', 'B01N2H7T60', 'B000MTA0U4', 'B000MT226O', 'B01LWY5BGZ', 'B07B3XPQMP', 'B01N76DREB', 'B005KTVGRW', 'B000VTBFKE', 'B0050B1IOQ', 'B00176IOD6', 'B00KBCLXHQ', 'B017IYTBL4', 'B07584N36Q', 'B01EOK9OHG', 'B01HDP9QKE', 'B00DSPAW3Y', 'B014AF5PL4', 'B00DSP7SNG', 'B0000CFMU7', 'B00175TFJ4', 'B01DF13M14', 'B001UO0FHS', 'B0018AI49A', 'B002BUNR7A', 'B000VTH36O', 'B000ZEIR6U', 'B0000CFN59', 'B00TM6W3X0', 'B0000VLH8S', 'B00IE6Y3SC', 'B077YZ5PC9', 'B000UOCSJW', 'B0000CFN7V', 'B00EK2AN06', 'B001I40YGC', 'B07C5RRH7X', 'B01DYT1JKI', 'B00YWL02TC', 'B001WT22AE', 'B000VTH3BE', 'B00FGVD8YI', 'B07FN8181H', 'B00FB9R91I', 'B000FJPKWO', 'B000VJJRZ4', 'B073PRJJFN', 'B001VEI0AQ', 'B0056HJ0MG'], also_view=[], brand='Wilton', num_view='0', num_buy='99'),\n",
              " Row(asin='B0001M10SS', also_buy=['B005WDVUIG', 'B0035JGRJQ', 'B0001M10TM', 'B0001M10YW', 'B005WDVR0W', 'B00DBETL5M', 'B0001M10R4', 'B0001M10ZG', 'B00BIPTLU6', 'B0001M1114', 'B000WR4SJ0', 'B005WDVQHG', 'B00269PMMY', 'B079VQZ8CT', 'B06ZZRDG49', 'B0001M10ME', 'B00I2J5NC6', 'B00W4QQQXS', 'B008XPPRCA', 'B001KWF2O6', 'B004LVYOYM', 'B0001M1128', 'B00838IOUY', 'B00DIXDF8K', 'B00D62GCS8', 'B00BEQP1TY', 'B071QX3JWJ', 'B0006121JG', 'B07BQL157B', 'B0001M116Y', 'B0001M11TG', 'B00AJRKRJS', 'B00016XLHM', 'B0078OD9FO', 'B001KWGXTO', 'B00BEQQ0DA', 'B00W4QQQ60', 'B000WR4LLU', 'B00016XLBS', 'B00FOLL6IK', 'B00016XLHC', 'B000WR4SGI', 'B004LVVL3Y', 'B00BQPADVO', 'B00C8EUYK2', 'B004GAVOW8', 'B006307L3U', 'B0110R4ZLG', 'B008XZJV0O', 'B000UYC3TM', 'B00ELNP7B4', 'B01FAOX2GO', 'B01DH795LM', 'B001VNO1NM', 'B000WS1DT2', 'B000WS1KI6', 'B005WDVZWC', 'B01MRGVIXS', 'B00B4IG3GM', 'B00W4QQQGK', 'B073HD1K7F', 'B0764L4Z56', 'B01IFO9L20', 'B00AJRKPE0', 'B00AJRKHZC', 'B000WR4SB8', 'B004LVTPLO', 'B0001M113C', 'B00IV6QB3K', 'B0012BS9F4', 'B004T36IFK', 'B005WDVS1K', 'B00C8EUYH0', 'B00W4QQQ9M', 'B000WS1KH2', 'B00AJRKMNE', 'B00E5VS6X8', 'B0001M10W4', 'B000VDRWES', 'B00HAS1SVU', 'B07BFJRWWY', 'B075LZKMMR', 'B00B4IF2HI', 'B000WS1KEU', 'B0001M119G', 'B01N7QIGWJ', 'B00MIJXNAK', 'B072F45SY8', 'B01N40LCUZ', 'B0001VUTZY', 'B005P0TJ4I', 'B005WDVV4Y', 'B006307KDQ', 'B006307HT8', 'B006GCMI5Q', 'B008XZIF06', 'B006BTSDXU', 'B0001M10VA', 'B004LW0KC6'], also_view=[], brand='Frontier', num_view='0', num_buy='99'),\n",
              " Row(asin='B0000CNU15', also_buy=['B00BF028XQ', 'B003IPZK90', 'B00BUIKGU0', 'B071CX48ZS', 'B06XX51N55', 'B01MSFYPYQ', 'B01JI0XM70', 'B004VEA96G', 'B0015GOI56', 'B00AB2FKQQ', 'B001NI726S', 'B01MRTI49U', 'B06XYTSGDP', 'B07B8W13HZ', 'B072K13QM5', 'B01KYQX8CQ', 'B00A9OF6NS', 'B01MTDID8X', 'B074PDN5GR', 'B0001EJ4CU', 'B00MLO0VYS', 'B078J4ZV71', 'B002ER9KEY', 'B000VLYUBI', 'B01M3VWKHU', 'B01M31VHNZ', 'B0000CNU1B', 'B07HGH1LSB', 'B00TGDO9AE', 'B004E55SDG', 'B00HEB9VV2', 'B07BBT37K9', 'B0001DMTNM', 'B01ASW26TM', 'B07F7MXPWD', 'B005WXMPMQ', 'B00VZ29T7C', 'B01MU55QLK', 'B01M0CKNF5', 'B00886AVOI', 'B003K3KOM8', 'B01MF9B0OV', 'B006R1UE52', 'B013HB0CC4', 'B008K0Y3FK', 'B01N4B9BO8', 'B0000CNU5B', 'B000F04SRQ', 'B003WCA1HK', 'B003XDIU30', 'B005J8DT0Q', 'B06XP34KJV', 'B004H4P5UU', 'B000F4K3X0', 'B01756BJGA', 'B07H15LNS3', 'B01NASAQ63', 'B00GXAL1CM', 'B00778B90S', 'B0019O3C7E', 'B00EZX6X04', 'B01LXQF0T1', 'B07DLFQQ79', 'B0002YB210', 'B002Z3F0IW', 'B01KJ61ZXK', 'B0001DMTM8', 'B000F08KCU', 'B074PXK75Y', 'B0051D84GI', 'B01NAPZ891', 'B002PH1UIC', 'B00N0XP8EM', 'B00ADHM9WW', 'B079C5V5VX', 'B015UNREOG', 'B00NW5OH40', 'B077X7F46B', 'B004XCKM54', 'B001FB6B1A', 'B01LYMD0NW', 'B06XKHQH9V', 'B013H9TX58', 'B071ZNPW1J', 'B07BKX5W37', 'B0124HZQWS', 'B00ZYERLEA', 'B007MJETJ0', 'B0002YGSBO', 'B071S8ZDG2', 'B01N7T7M4X', 'B01N19E6GF', 'B0086XRIRQ', 'B0767NZSBY', 'B01MSZCY4U', 'B0001EJ4C0', 'B0086XT6Z8', 'B079NVR4JZ', 'B01AYGLP4E'], also_view=['B00BF028XQ', 'B01MSFYPYQ', 'B0124HZQWS', 'B003IPZK90', 'B004VEA96G', 'B01MTDID8X', 'B0002YGSBO', 'B00VZ29T7C', 'B00ZYERLEA', 'B000VLYUBI', 'B000F04SRQ', 'B001FB6B1A', 'B077X7F46B', 'B07566P3RN', 'B078J4ZV71', 'B07B8W13HZ', 'B006GW0YKM', 'B079WDF78D', 'B01N4B9BO8', 'B07HGH1LSB', 'B001NI726S', 'B06XYTSGDP', 'B00G8WQQZ2', 'B071CX48ZS', 'B00BUIKGU0', 'B06XX51N55', 'B074PXK75Y', 'B007B4NY74', 'B01JI0XM70', 'B0792L442G', 'B06WGQYMM6', 'B071ZNPW1J', 'B01C9B6G6Y', 'B07C7B1T4H', 'B0051D84JU', 'B07L436FDZ', 'B01M31VHNZ', 'B0001DMTM8', 'B00MLO0VYS', 'B074PDN5GR', 'B0002YGS96', 'B06XKHQH9V', 'B006R1UE52', 'B07KJN3SNP', 'B07B1LMVFM', 'B007MJETJ0', 'B00TGDO9AE', 'B00A9OF6NS', 'B01AYGLP4E', 'B0001EJ4CU', 'B00KQPPUFO', 'B01N19E6GF', 'B01KYQX8CQ', 'B07BBT37K9', 'B00ZKGSKRO', 'B01LYMD0NW', 'B00PZNWKJG', 'B000F08KCU', 'B07FXPJFJC'], brand='Lee Kum Kee', num_view='59', num_buy='99'),\n",
              " Row(asin='B0001M11DC', also_buy=['B00416T7E4', 'B00416T8Q6', 'B00269VK20', 'B001VNGPGI', 'B0078U3HXC', 'B001VNGLJE', 'B001VNO1NM', 'B001VNEHXG', 'B0061FXCEY', 'B019G9P3OI', 'B01CRXAYH6', 'B000UYC2XY', 'B00ZSPN2A2', 'B00PXRX5TI', 'B00W4AY9BA', 'B01FAOX65G', 'B003AYEHOI', 'B0759SQTRZ', 'B0001M11EQ', 'B00CQ7JBPU', 'B001VNGL4E', 'B006K0C1RE', 'B003AYEHQ6', 'B00016XLI6', 'B00016XLMC', 'B00016XJM4', 'B001VNO1BY', 'B003AYEHO8', 'B003AYEHT8', 'B0012BSDNW', 'B00FOLL6IK', 'B001VNEBZA', 'B0010BZZ08', 'B00ZQ619XU', 'B00RH6KETM', 'B001VNGOAA', 'B003AYEHQG', 'B003AYEHNE', 'B001VNGMGG', 'B001VNP7L2', 'B000UVUHXY', 'B01AGMMLU8', 'B008JDWNBO', 'B000UYFKZQ', 'B001VNGMW0', 'B0718YQL9Z', 'B003AYEHSY', 'B074WLN3WN', 'B006T0OIOO', 'B0016AZH4M', 'B071W7B3R8', 'B003AYEHUC', 'B001VNGN0Q', 'B078NGWYW8', 'B001VNKZCS', 'B06XH5FKST', 'B003UKESNW', 'B001A1TVYO', 'B018OT5XNM', 'B001NHEBA4', 'B000UVZQ5I', 'B005GTW4OA', 'B000SATIFA', 'B001VNGO7S', 'B071HSW2MY', 'B00ZGCCTDI', 'B003AYEHL6', 'B07BRCSD57', 'B001RXXWCW', 'B00CQ7K11S', 'B079VQZ8CT', 'B000WS1GNK', 'B014VD8VF2', 'B0049J2N9E', 'B003AYEHIO', 'B001VNEDDA', 'B013EBREBE', 'B003POTKZE', 'B0002JG1GG', 'B000UYA15A', 'B00H4H0JXA', 'B001VNGK6I', 'B003AYEHSE', 'B001VNGKTA', 'B001F7E95O', 'B000GAT6NG', 'B001VNGO9G', 'B000LL0RFQ', 'B07BRT243V', 'B000UYFKP6', 'B00HYJR9YK', 'B0001M0YWQ', 'B001VNGN4C', 'B001VNGJX2', 'B003OKZS50', 'B00113ZZ5U', 'B001KWAZBG', 'B001VNDAAC', 'B001VNGMPM'], also_view=['B0718YQL9Z', 'B019ZW9XBA', 'B00416T8Q6', 'B01HV2A680', 'B001VNGMPM', 'B00416T7E4', 'B00H3QUO64', 'B01GDDT91I', 'B00269VK20', 'B072HFRSNL', 'B0016AXCAS', 'B06XHVJ65Q', 'B00OWK86KA', 'B01HV1MERC', 'B0197BPPIE', 'B07JD5W76J', 'B000WS3AMU', 'B001VNGLJE', 'B005WDVZWC', 'B0115U2EWA', 'B06XJ783NW', 'B001A1RRZY', 'B001VNO1NM', 'B001VNEHXG', 'B001VNGMGG', 'B00W4AY9BA', 'B012HCKHQK', 'B0001M116Y', 'B0078U3HXC', 'B01CRXAYKS', 'B019G9P3OI', 'B071HSW2MY', 'B001VNGPGI', 'B00ZSPN2A2', 'B003AYEHOI', 'B00PXRX5TI', 'B00016XLMC', 'B0010BZZ08', 'B00ZGCCTDI', 'B0001M11EQ', 'B071911K6W', 'B00416R39A', 'B00RH6KETM', 'B075YS1SWB', 'B07BRPCK3P', 'B017KYGUTI', 'B006K0C1RE', 'B00CQ7JBPU', 'B001VNGK6I', 'B01FAOX65G', 'B0797MLXZV', 'B075LXXCVC', 'B00IVC4XHA', 'B00JKMTGBS', 'B079ZQ17KP', 'B001VNP7L2', 'B001VNGOAA'], brand='Frontier', num_view='57', num_buy='99'),\n",
              " Row(asin='B0001218SA', also_buy=['B000BGZNXW', 'B003948C04', 'B000TMMWDC', 'B0000DC32X', 'B004LK4FB0', 'B000BH3K8G', 'B004LK7IWS', 'B000T6AHW6', 'B000OP3HBA', 'B000TMKDMO', 'B000CHKHHM', 'B07814NG4D', 'B000TMKST2', 'B004LCBR1Y', 'B004LGR5H0', 'B004LKAO2E', 'B000H85GNQ', 'B0000DC324', 'B00KHVNQI0', 'B000BH5Q0G', 'B000TMI90C', 'B01JD19TLC', 'B000BH3K6I', 'B000GZAWUC', 'B004LV4GBS', 'B01LYXB7CQ', 'B000XVHMY8', 'B000121A7O', 'B004L6DI9O', 'B000FVKBH6', 'B00430IPH8', 'B075SFLV3P', 'B0000DC32S', 'B008B5XSZU', 'B004LYIFL2', 'B000BH1NT4', 'B075SFRXCZ', 'B06XCQTJFP', 'B00KHVA80E', 'B075CD29X2', 'B000AXU99E', 'B001JK8P5M', 'B000YT9LYI', 'B005X9SS2A', 'B00195R55S', 'B007UMLL90', 'B0001218T4', 'B009Z3VRJ6', 'B001OYXMY2', 'B000CHMK18', 'B000BGZNWS', 'B00H2C3DE4', 'B0742KPKZD', 'B000L9DFN4', 'B007N2OSF6', 'B01J97J9FG', 'B00L3Z5218', 'B0002V1BU0', 'B072PTTK49', 'B01FV5KX6O', 'B00AW0EC3O', 'B000BH1NSK', 'B001D67E5Y', 'B00112JDHM', 'B000PBXKI8', 'B004L6FQJE', 'B000BH3K68', 'B00JVKKUHI', 'B000YT7N8O', 'B001G47IZE', 'B005EJLGLE', 'B0027ACP7W', 'B005FG5OPK', 'B001D6CIVE', 'B009POKC5U', 'B00BLNMRJW', 'B000YT9GG6', 'B019ED225O', 'B000X2DN54', 'B000DZAXCW', 'B004L6FQLC', 'B000YT9K58', 'B000YT9EY0', 'B071ZRDYJD', 'B000HKMO0M', 'B000BH1NQW', 'B004LKEU2O', 'B000KO9T8K', 'B0039718PM', 'B004L6DIA8', 'B000CHMJWI', 'B000T8VYQC', 'B004LGUA4U', 'B00122CM10', 'B071JD5G66', 'B00KH9V3B4', 'B000BH1NR6', 'B00BLNZV68', 'B000BGZNW8'], also_view=['B000GZAWUC', 'B008QYVZBK', 'B003948C04', 'B000BGZNXW', 'B000T6AHW6', 'B0147N45ME', 'B005X9SS2A', 'B001D6GLCG', 'B004LK2SW8', 'B000CHKHHM', 'B000TMKST2', 'B004LK4FB0', 'B00122CM10', 'B00YVZIJJY', 'B000CHMJWI', 'B0000DC324', 'B001JK8P5M', 'B00B5YFTYC', 'B00805S860', 'B00KHVNQI0', 'B0083PR7GE', 'B01D9MBW3E', 'B01JD19TLC', 'B000BH3K8G', 'B000BH1NQW', 'B004LK7IWS', 'B000TMI90C', 'B000XVHMY8', 'B000TMKDMO', 'B00A66Q1WO', 'B000AXW9ZQ', 'B001G47IZE', 'B071ZRDYJD', 'B000AXQI1M', 'B004LCBR1Y', 'B0000DC32H', 'B01FV5KX6O', 'B00YVYMO1O', 'B004LGR5H0', 'B000BH3K6I', 'B000AXU99E', 'B00J5LWVJS', 'B00A4EB2IQ', 'B00KROYN1Q', 'B000KO9T8K', 'B000YT9K58', 'B0000DC32X', 'B01LXO84BI', 'B01LYXB7CQ', 'B00470L1L6', 'B077XPSS5J', 'B07GH3J4T5', 'B008B5XSZU', 'B004LKAO2E', 'B000YTAVBA', 'B004LKEU2O', 'B01M311CXS', 'B07DP5941K', 'B00CWTZ8UY', 'B00N1EQI5I'], brand='Monin', num_view='60', num_buy='99'),\n",
              " Row(asin='B0001M11EQ', also_buy=['B00ZAVETNS', 'B0001ZZGG2', 'B0016AZH4M', 'B01N7Z4FE8', 'B001VNGH4I', 'B0001M11GO', 'B001VNO0YM', 'B01FAOX65G', 'B001VNECT0', 'B001VNGO7S', 'B006T0OIOO', 'B003AYEHQ6', 'B000UVUHR0', 'B003AYEHPW', 'B001VNGMMK', 'B001VNO1NM', 'B003AYEHSO', 'B0771V4KJS', 'B001VNP7L2', 'B003AYEHSY', 'B07BSRZPCR', 'B00016XLMC', 'B0771S7DJ9', 'B003AYEHO8', 'B001VNGMGG', 'B0771TT7G7', 'B008JDWNBO', 'B0049J2N9E', 'B001A1TVYO', 'B001VNGLEY', 'B076377FGV', 'B0771S8RHQ', 'B001VNKW76', 'B00ZDO459K', 'B0001M11DC', 'B00QWROIYY', 'B000UVZQ12', 'B01FL15MMI', 'B079MFPCD5', 'B0126T69J8', 'B003AYEHOI', 'B079ZT1N8Q', 'B001VNGPB8', 'B014ED2T7A', 'B00C1EV4N0', 'B00KIT2AWO', 'B001VNGMW0', 'B001VNKZCS', 'B00C1F3HYS', 'B00J5SCO48', 'B00U9WRVMY', 'B00416T8Q6', 'B000Q48DSG', 'B0067LEJNU', 'B01GG652MC', 'B00UPMJDWY', 'B00J5SDREY', 'B003UYEHS4', 'B008CF3C3W', 'B001A1RSCG', 'B003AYEHQG', 'B00416T7E4', 'B003AYEHNE', 'B075Z7YQXR', 'B003AYEHU2', 'B00269VK20', 'B001P4WG7K', 'B001VNEHXG', 'B000SATIFA', 'B00V2GE74G', 'B0001M0Z7A', 'B019ET28WA', 'B001VNGO9G', 'B00016XJVK', 'B003AYEHPM', 'B00W4AY9BA', 'B0085E6HIC', 'B0078U3HXC', 'B000UYC2XY', 'B00E0WB292', 'B00416MT4Y', 'B001VNL00O', 'B001VNGN0Q', 'B01BLV4SHC', 'B00AFBZZLS', 'B008NXIYJU', 'B00HDLZ072', 'B001VNGKTA', 'B008NXHOYG', 'B00PKRAEIQ', 'B00J5PY2UU', 'B07231W7V4', 'B001VNGN4C', 'B001VNEC68', 'B001KWAZBG', 'B001VNDAAC', 'B01BKTABL2', 'B00HUJUK6S', 'B001P9D0I4'], also_view=['B0771TT7G7', 'B075Z7YQXR', 'B003AYEHQ6', 'B003AYEHPW', 'B01N7Z4FE8', 'B000JMBECW', 'B0001ZZGG2', 'B073V7W2VD', 'B00J5PST9U', 'B001VNO1NM', 'B0016AZH4M', 'B000UYC3TM', 'B00ZAVETNS', 'B00E22RXMA', 'B0771V4KJS', 'B008JDWNBO', 'B078RP2RRC', 'B072F4RL5T', 'B001VNGN4C', 'B001VNECT0', 'B001VNP2HG', 'B001VNGH4I', 'B001VNGMGG', 'B0001M11DC', 'B00L2FLETS', 'B006T0OIOO', 'B001VNP7L2', 'B0029JU8SE', 'B00416T8Q6', 'B001VNGMMK', 'B001VNGMW0', 'B074N319BK', 'B079MFPCD5', 'B004H6TYYQ', 'B00QWRBVV2', 'B00J5PY2UU', 'B076377FGV', 'B0049J2N9E', 'B001VNEC68', 'B0126T69J8', 'B075DF5ZS9', 'B00J5SDREY', 'B079ZT1N8Q', 'B0001M11GO', 'B00DP8QEDG', 'B00269VK20', 'B013EBQFIW', 'B00REOXAC0', 'B001VNEHXG', 'B0001M0Z20', 'B000UVUHR0', 'B00EAYOBOS', 'B07HKM4QNG', 'B06XBPG62G', '1101904313', 'B00AJRKHZC', 'B001VNECGI', 'B01FAOX65G', 'B07CWFVDVP'], brand='Frontier', num_view='59', num_buy='99'),\n",
              " Row(asin='B0002CPC22', also_buy=['B00064KKSW', 'B001FB6B0G', 'B00BUIKGU0', 'B006QYNLKU', 'B0001EJ4CU', 'B007WQCENQ', 'B004H4P5UU', 'B01GP2JA20', 'B01M3VWKHU', 'B0002YB210', 'B01M6A03MU', 'B002HMN6SC', 'B00A9OF6NS', 'B01JKEV9ME', 'B00886AVOI', 'B00AB2FKQQ', 'B07DLFQQ79', 'B07BBT37K9', 'B003K3KOM8', 'B01MRTI49U', 'B0001DMTPU', 'B00THPD0UG', 'B071CX48ZS', 'B000BLMR4A', 'B01JI0XM70', 'B01LXQF0T1', 'B01NASAQ63', 'B01M31VHNZ', 'B000A0ZEBA', 'B004E55SDG', 'B01LYMD0NW', 'B01BPPVNBI', 'B077P31RZC', 'B01MF9B0OV', 'B06XX51N55', 'B003AHA7EE', 'B00ZB13JHO', 'B008K0Y3FK', 'B072K13QM5', 'B000QSTJTE', 'B01FL78IB4', 'B013HB0CC4', 'B0000CNU1B', 'B00QGWLZ3C', 'B074XF9ZKK', 'B00786YL72', 'B005G8IDTQ', 'B00KD6MKMC', 'B005J8DT0Q', 'B0009OA17Y', 'B000XAI5JK', 'B00FMOZOMI', 'B0046D10BU', 'B002ER9KEY', 'B0002YB40O', 'B001FB69SK', 'B0001DMTJG', 'B006R1UE52', 'B0758VGKDF', 'B0051D84GI', 'B06XKHQH9V', 'B072LW3V61', 'B008YJ2322', 'B00UR6HALY', 'B07BFRH4X1', '0393089045', 'B007B1V5ZK', 'B013H9TX58', 'B000FJN9O0', 'B015UNREOG', 'B005MH0P5Q', 'B00NSEHPLW', 'B01I24MMUG', 'B01LWN1YJ9', 'B005OTWT3I', 'B00VFDK47K', 'B007W0D0HQ', 'B00886HO02', 'B01E5NIEKA', 'B0001EJ4C0', 'B01I4CVE8C', 'B071S8ZDG2', 'B01N19E6GF', 'B079NVR4JZ', 'B01M6A075K', 'B0086XT6Z8', 'B01MSZCY4U', 'B00B617XK2', 'B074QRDZ8L', 'B00012OI1O', 'B00L63VQBM', 'B007F42R4Q', 'B0791V48MP', 'B0767NZSBY', 'B0016L34GO', 'B003X402U8', 'B002TRBNOO', 'B0769Y8CMH', 'B0001M10VA'], also_view=['B01M3VWKHU', 'B01M6A075K', 'B0001EJ4C0', 'B01I4CVE8C', 'B001FB6B0G', 'B000BLMR4A', 'B0002YB3XC', 'B001FB6BA6', 'B071S8ZDG2', 'B00BUIKGU0', 'B0001EJ4CU', 'B0046D10BU', 'B003XDIU30', 'B01M6A03MU', 'B0046IIXTW', 'B0006806H8', 'B000VHGEPW', 'B002PANI1G', 'B01N19E6GF', 'B0046GHL4C', 'B005GQYXTC', 'B06XP1L8D7', 'B006R1UE52', 'B002TRBNOO', 'B003AHA7EE', 'B00A9OF6NS', 'B0001DMTPU', 'B003K3KOM8', 'B00886AVOI', 'B000VDT2RI', 'B0000CNU1B', 'B00060OHZS', 'B074Q15KPF', 'B0086XQ4XK', 'B07BBT37K9', 'B00012OI0K', 'B07B1LMVFM', 'B00064KKSW', 'B004E55SDG', 'B0002YB210', 'B00L63VQBM', 'B002HMN6SC', 'B071CX48ZS', 'B0776V1LKN', 'B00G8WQQZ2', 'B006QYNLKU', 'B0019LA77K', 'B008530FCM', 'B000VM47ZG', 'B0769Y8CMH', 'B01LXBGEU6', 'B01GP2JA20', 'B00B617XK2', 'B0019LFC2K', 'B0051D84GI', '1416580573', 'B0000D17NM', 'B00F03F4LW'], brand='Unknown', num_view='58', num_buy='99'),\n",
              " Row(asin='B0002PHDYO', also_buy=['B0002PHDAS', 'B0002PHEDO', 'B004QXIW0M', 'B003L23XMG', 'B004QXMJ06', 'B00H7GWTYU', 'B00BNOQQEG', 'B004QXMJ3I', 'B00F6MPQBU', 'B00PAQ81JG', 'B00VYWGR4G', 'B002X4DI0U', 'B004QXF0GQ', 'B00C9IL53C', 'B00U5FN2X2', 'B00KGGG08Y', 'B002X48WHY', 'B003L2411I', 'B00U5FN2T6', 'B00RHSWXV2', 'B00CLVXXOQ', 'B005MIWPGC', 'B004HFLW3I', 'B016SIPJ76', 'B004QXHB1S', 'B00RHSXDL6', 'B003RM9SA6', 'B004QXIXJM', 'B003L27BUQ', 'B00LAIPL6E', 'B004QXIWFW', 'B005D8TXXY', 'B00GUOP9VA', 'B00DUF3Y5U', 'B00CLVYDMW', 'B00KGGF8DM', 'B000VK2T0I', 'B000B6FLOI', 'B00654BM5C', 'B000WO434S', 'B003L2B8TQ', 'B00028QD1K', 'B00E3PV3AY', 'B000MS69XC', 'B004QXMO7O', 'B0000VM8R2', 'B004E7A33E', 'B00JRDFN0S', 'B000NX103U', 'B00BV1GUBA', 'B001HTI88E', 'B01KN2ETW4', 'B0002QEL98', 'B00F9WW4NA', 'B00KGH04Y4', 'B004QXH906', 'B01B02F2I6', 'B000H4CJZI', 'B005T46XA8', 'B079X4G97G', 'B00FOLNQRY', 'B0039KMKQ0', 'B000H106YM', 'B000GAWH4G', 'B00RHSX2U8', 'B004QXKNTU', 'B00EL0PMSA', 'B01ARKFXVS', 'B004166T04', 'B017X1VZK2', 'B00C1VK632', 'B000VDVU2I', 'B000E303L4', 'B003M5X5FM', 'B079RMGDSQ', 'B002HQIF5W', 'B00BSZBEAG', 'B00PKMPXX2', 'B00B4IF2HI', 'B00DYVP39K', 'B0000VLU0I', 'B0041RGD0E', 'B002PFS2W6', 'B00SRMA4U4', 'B00244NELW', 'B0012DFMZ2', 'B003L240ZA', 'B00AYQB9DC', 'B0073I282U', 'B004QXH9YC', 'B009NYPHTS', 'B0046H309G', 'B00IZLOI7M', 'B00MHSRNNK', 'B00C6QTT94', 'B004QXMM6W', 'B00EOGVJMY', 'B005ME1PHQ', 'B00V8TRZG4'], also_view=['B00F6MPQBU', 'B00AYQB9DC', 'B0012BVU9G', 'B00DUF3Y5U', 'B000VK2T0I', 'B005T46XA8', 'B0000DI085', 'B004HFLW3I', 'B002HQG9W8', 'B0164JN0JS', 'B00FOLNQRY', 'B003L2D6R8', 'B00D6Q1NQK', 'B0049ZADKE', 'B07DKFW2HM', 'B0046EJ570', 'B0002PHEDO', 'B017WWMZBK', 'B06XFTV814', 'B0078U48GW', 'B0163UZF7I', 'B00C9IL53C', 'B00CLVYDMW', 'B00KGGHE2U', 'B005D8TXXY', 'B0002PHD30', 'B004QXHB1S', 'B07FNYW6F4', 'B003L279XU', 'B0092VRIFS', 'B004QXIW0M', 'B0073I282U', 'B01HJHX9ZO', 'B01B7110C2', 'B002X48WHY', 'B004QXMJ3I', 'B00RI5M0NA', 'B001HTI88E', 'B000K8RPAK', 'B00K5EFZQA', 'B004QXIXJM', 'B077FHQWWS', 'B00JRDFN0S', 'B00U5FN2X2', 'B005BSYRPK', 'B00IZLOI7M', 'B000WO434S', 'B00RHSWXV2', 'B005MIWPGC', 'B003L27BUQ', 'B004QXIWFW', 'B004QXMJ06', 'B001IZIBTS', 'B003L2411I', 'B01NBSPFWS'], brand='Olivenation', num_view='55', num_buy='99'),\n",
              " Row(asin='B0000CNU1B', also_buy=['B071CX48ZS', 'B07426V2SP', 'B06XX51N55', 'B01M3VWKHU', 'B07DLFQQ79', 'B00TGDO9AE', 'B00KHKBD68', 'B072K13QM5', 'B0009OA17Y', 'B01NASAQ63', 'B07FXPJFJC', 'B00AB2FKQQ', 'B00BUIKGU0', 'B01MSFYPYQ', 'B01LYMD0NW', 'B00016UX2S', 'B000F08KCU', 'B0000CNU15', 'B0001EJ4CU', 'B01JI0XM70', 'B004RZ0U36', 'B071WX354Y', 'B01MF9B0OV', 'B015UNREOG', 'B00886AVOI', 'B013HB0CC4', 'B0002YB210', 'B005J8DT0Q', 'B003K3KOM8', 'B079FDTZBP', 'B079FJ4H7M', 'B000XAI5JK', 'B0000CNU1A', 'B01M31VHNZ', 'B00EMM6XLW', 'B074XF9ZKK', 'B000JMAVXA', 'B005WXMPMQ', 'B06XKHQH9V', 'B01AYDQARY', 'B01M6A03MU', 'B07BBT37K9', 'B01MRTI49U', 'B00I9P242U', 'B004BMWWZE', 'B004E55SDG', 'B0002NVL8K', 'B079FFQVBF', 'B006QYNLKU', 'B015QEWY0S', 'B001NI726S', 'B01DUP5CB8', 'B07BY3X9FV', 'B007RAMAYU', 'B0000CNU5Q', 'B01LXQF0T1', 'B00WW3A70Q', 'B01MU55QLK', 'B004JPW9TC', 'B003XDIU30', 'B00A9OF6NS', 'B004XCKM54', 'B005OTWT3I', 'B000VLYUBI', 'B071KH1X16', 'B00IBNZAEE', 'B0002NVL8A', 'B07FPPQBFY', 'B00E5VSCQO', 'B000JL4L7S', 'B005G8IDTQ', 'B071FXR8YV', 'B004NXR92C', 'B004XTDNRQ', 'B000JSQKL6', 'B002HMN6SC', 'B004I5IC5I', 'B01CZ6VBNG', 'B006R1UE52', 'B071S8ZDG2', 'B01N19E6GF', 'B0001EJ4C0', 'B0767NZSBY', 'B01I4CVE8C', 'B079NVR4JZ', 'B074QRDZ8L', 'B003X402U8', 'B0086XT6Z8', 'B078DDTSP8', 'B0124HZQWS', 'B01N7T7M4X', 'B007T4LMSY', 'B01AYGLP4E', 'B00JH638SO', 'B0001M10VA', 'B01H2CEUCW', 'B079FGVB2M', 'B01M6A075K', 'B00348JCL8'], also_view=['B00BUIKGU0', 'B00016UX2S', 'B071S8ZDG2', 'B07F7MXPWD', 'B00VPL24NE', 'B071CX48ZS', 'B000FQNWBS', 'B00L63VQBM', 'B0767NZSBY', 'B006QYNLKU', 'B00BNRPICY', 'B000V2FB3S', 'B01MSFYPYQ', 'B001FB6B0G', 'B07426V2SP', 'B0001EJ4C0', 'B01N19E6GF', 'B00TGDO9AE', 'B0000D198T', 'B006QYN7Y0', 'B06XX51N55', 'B079ZP8X2R', 'B0001WOSQY', 'B0086XT6Z8', 'B07DLFQQ79', 'B07FXPJFJC', 'B01M3VWKHU', 'B000BLMR4A', 'B0758VGKDF', 'B006W1NPC6', 'B00G8WQQZ2', 'B0001EJ4CU', 'B00UR6HALY', 'B07B1LMVFM', 'B01NASAQ63', 'B000XAI5JK', 'B0792L442G', 'B003XDIU30', 'B0001DMTPU', 'B01I4CVE8C', 'B0000CNU15', 'B00KHKBD68', 'B079NVR4JZ', 'B01AYGLP4E', 'B07BBT37K9', 'B000JMAVXA', 'B015UNREOG', 'B007RAMAYU', 'B00886AVOI', 'B01LYMD0NW', 'B00VPKG134', 'B071WX354Y', 'B0000D198Q', 'B00A9OF6NS', 'B00012OI0U', 'B07JVMPKF4'], brand='Koon Chun', num_view='56', num_buy='99')]"
            ]
          },
          "metadata": {
            "tags": []
          },
          "execution_count": 164
        }
      ]
    },
    {
      "cell_type": "code",
      "metadata": {
        "id": "m2ECctlBjWx5"
      },
      "source": [
        ""
      ],
      "execution_count": null,
      "outputs": []
    },
    {
      "cell_type": "markdown",
      "metadata": {
        "id": "pRHqyIxpakOf"
      },
      "source": [
        "# Only Wrong Answers"
      ]
    },
    {
      "cell_type": "code",
      "metadata": {
        "id": "REWRAX37alyU"
      },
      "source": [
        "predictions_RDD = predictions_RDD.withColumn('correct', \\\n",
        "                                             when(predictions_RDD.prediction == predictions_RDD.overall, lit(1))\\\n",
        "                                             .otherwise(lit(0)))"
      ],
      "execution_count": null,
      "outputs": []
    },
    {
      "cell_type": "code",
      "metadata": {
        "colab": {
          "base_uri": "https://localhost:8080/"
        },
        "id": "lHUfBHuLbQvf",
        "outputId": "ac5ceab7-17c0-4864-9ab6-e2e895a604f1"
      },
      "source": [
        "predictions_RDD.filter('correct = 0').show()"
      ],
      "execution_count": null,
      "outputs": [
        {
          "output_type": "stream",
          "text": [
            "+----------+--------------------+-------+----------+--------------------+--------------------+--------------------+--------------------+--------------------+-------+\n",
            "|      asin|            features|overall|prediction|         probability|       rawPrediction|          reviewText|             summary|               words|correct|\n",
            "+----------+--------------------+-------+----------+--------------------+--------------------+--------------------+--------------------+--------------------+-------+\n",
            "|B00008CQRK|{[0, 1, 3, 6, 15,...|    2.0|       3.0|{1, [1.2514772560...|{1, [-6.126355345...|liked the first b...|    Not to my taste.|[liked, the, firs...|      0|\n",
            "|B0000CFH7B|{[19, 48, 106, 13...|    3.0|       1.0|{1, [1.2820837195...|{1, [-6.125994001...|Didn't work as we...|         Three Stars|[didn't, work, as...|      0|\n",
            "|B0000CFMU7|{[0, 5, 8, 12, 17...|    5.0|       4.0|{1, [1.1737910789...|{1, [-6.128398313...|These works very ...|          Love them!|[these, works, ve...|      0|\n",
            "|B0000CNU0C|{[0, 1, 3, 4, 5, ...|    3.0|       4.0|{1, [4.9823159279...|{1, [-6.131997115...|I actually do lik...|         Full of MSG|[i, actually, do,...|      0|\n",
            "|B0000CNU1S|{[0, 1, 2, 3, 4, ...|    2.0|       4.0|{1, [3.3875964221...|{1, [-6.174713342...|NOT purchased on ...|Chinese 5 spices ...|[not, purchased, ...|      0|\n",
            "|B0000D16IO|{[0, 1, 2, 3, 4, ...|    5.0|       2.0|{1, [3.4203361730...|{1, [-6.144740071...|I use this produc...|Wanted to share a...|[i, use, this, pr...|      0|\n",
            "|B0000D17YU|{[4, 14, 16, 17, ...|    4.0|       5.0|{1, [1.0989713273...|{1, [-6.128169392...|Nice preserves, g...|Good quality from...|[nice, preserves,...|      0|\n",
            "|B0000D9MQV|{[35909], 262144,...|    1.0|       5.0|{1, [1.2673297136...|{1, [-6.125057503...|        Horrible!!!!|            One Star|      [horrible!!!!]|      0|\n",
            "|B0000DC2U7|{[0, 2, 3, 6, 9, ...|    3.0|       4.0|{1, [1.1956950250...|{1, [-6.126677060...|It is tasty and a...|                Good|[it, is, tasty, a...|      0|\n",
            "|B0000DG8AR|{[0, 1, 2, 4, 5, ...|    1.0|       2.0|{1, [1.0895952886...|{1, [-6.131463741...|I was very disapp...|Azaela Plant drie...|[i, was, very, di...|      0|\n",
            "|B0000E2T68|{[0, 1, 2, 8, 9, ...|    2.0|       4.0|{1, [1.0241952922...|{1, [-6.129912344...|These gumballs sh...|         Sour Cherry|[these, gumballs,...|      0|\n",
            "|B0000E5JRZ|{[0, 1, 2, 10, 11...|    1.0|       3.0|{1, [1.1275181823...|{1, [-6.129249579...|Ridiculously pric...| Ridiculously priced|[ridiculously, pr...|      0|\n",
            "|B0000GJ7C6|{[0, 13, 14, 20, ...|    2.0|       1.0|{1, [1.0613137079...|{1, [-6.126900624...|Tasty but check t...| High Sodium Content|[tasty, but, chec...|      0|\n",
            "|B0000TU77M|{[0, 1, 3, 6, 10,...|    4.0|       3.0|{1, [1.2687105963...|{1, [-6.130677831...|I didn't get that...|          Great Cake|[i, didn't, get, ...|      0|\n",
            "|B0000VMAGQ|{[0, 1, 2, 3, 5, ...|    2.0|       1.0|{1, [1.1120580475...|{1, [-6.129771584...|Wilton fondant is...|     Horrible Taste!|[wilton, fondant,...|      0|\n",
            "|B00013VHFS|{[0, 1, 2, 3, 4, ...|    3.0|       2.0|{1, [1.0683179161...|{1, [-6.132013158...|I got this as pre...|They need to incl...|[i, got, this, as...|      0|\n",
            "|B000168O2Y|{[0, 1, 7, 8, 30,...|    1.0|       4.0|{1, [1.2627076624...|{1, [-6.126420086...|I LOVE the tea......|What's with the b...|[i, love, the, te...|      0|\n",
            "|B0001BGTSA|{[0, 1, 2, 3, 6, ...|    4.0|       3.0|{1, [1.1809463798...|{1, [-6.130177411...|Purchased for a f...|Good quality product|[purchased, for, ...|      0|\n",
            "|B0001CXRKM|{[2, 4, 5, 14, 15...|    2.0|       4.0|{1, [1.2021250991...|{1, [-6.127144099...|Just didn't taste...|Expected Better F...|[just, didn't, ta...|      0|\n",
            "|B0001CXUN6|{[0, 1, 2, 3, 4, ...|    2.0|       3.0|{1, [9.9658042099...|{1, [-6.136590110...|I have used this ...|inconsistent amou...|[i, have, used, t...|      0|\n",
            "+----------+--------------------+-------+----------+--------------------+--------------------+--------------------+--------------------+--------------------+-------+\n",
            "only showing top 20 rows\n",
            "\n"
          ],
          "name": "stdout"
        }
      ]
    },
    {
      "cell_type": "code",
      "metadata": {
        "id": "pxOJ2XP5cHxx"
      },
      "source": [
        "predictions_pd = predictions_RDD.toPandas()"
      ],
      "execution_count": null,
      "outputs": []
    },
    {
      "cell_type": "code",
      "metadata": {
        "id": "_U9B9848cH9R"
      },
      "source": [
        "ge = predictions_pd['words'].values.tolist()\n",
        "y = [len(x) for x in predictions_pd['words'].values.tolist()]\n",
        "predictions_pd['length'] = y"
      ],
      "execution_count": null,
      "outputs": []
    },
    {
      "cell_type": "code",
      "metadata": {
        "id": "lt8Y5dWHcH_5"
      },
      "source": [
        "wrong_answers = predictions_pd[predictions_pd.correct == 0]\n",
        "right_answers = predictions_pd[predictions_pd.correct == 1]"
      ],
      "execution_count": null,
      "outputs": []
    },
    {
      "cell_type": "code",
      "metadata": {
        "colab": {
          "base_uri": "https://localhost:8080/",
          "height": 619
        },
        "id": "uGolW-bzxhlT",
        "outputId": "d5767fc9-4d6f-4697-ef6e-df1e251eb394"
      },
      "source": [
        "plt.figure(figsize=(12,10), dpi= 72)\n",
        "plt.bar(x = confusion_matrix.index.to_list(), height = wrong_answers.groupby('overall').agg('mean')['length']/predictions_pd.groupby('overall').agg('mean')['length'], color = ['#db8d8a'])\n",
        "plt.xlabel('Score', fontsize=20)\n",
        "plt.ylabel('Relative Incorrect Review Length', fontsize=20)\n",
        "plt.xticks(fontsize= 14)\n",
        "plt.yticks(fontsize= 14)\n",
        "plt.show()\n",
        "#plt.savefig('relative_length_incorrect.png')"
      ],
      "execution_count": null,
      "outputs": [
        {
          "output_type": "display_data",
          "data": {
            "image/png": "[encoded data removed]",
            "text/plain": [
              "<Figure size 864x720 with 1 Axes>"
            ]
          },
          "metadata": {
            "tags": [],
            "needs_background": "light"
          }
        }
      ]
    },
    {
      "cell_type": "code",
      "metadata": {
        "colab": {
          "base_uri": "https://localhost:8080/",
          "height": 619
        },
        "id": "3YCYFQ7xbrXZ",
        "outputId": "973fa401-84b0-4c1c-eda6-129ad8cd25df"
      },
      "source": [
        "plt.figure(figsize=(12,10), dpi= 72)\n",
        "plt.bar(x = confusion_matrix.index.to_list(), height = wrong_answers.groupby('prediction').agg('mean')['length']/predictions_pd.groupby('prediction').agg('mean')['length'], color = ['#db8d8a'])\n",
        "plt.xlabel('Score', fontsize=20)\n",
        "plt.ylabel('Relative Incorrect Review Length', fontsize=20)\n",
        "plt.xticks(fontsize= 14)\n",
        "plt.yticks(fontsize= 14)\n",
        "\n",
        "plt.savefig('relative_length_incorrect.png')"
      ],
      "execution_count": null,
      "outputs": [
        {
          "output_type": "display_data",
          "data": {
            "image/png": "[encoded data removed]",
            "text/plain": [
              "<Figure size 864x720 with 1 Axes>"
            ]
          },
          "metadata": {
            "tags": [],
            "needs_background": "light"
          }
        }
      ]
    },
    {
      "cell_type": "code",
      "metadata": {
        "id": "CA9aM6Y_ceId"
      },
      "source": [
        "\n"
      ],
      "execution_count": null,
      "outputs": []
    },
    {
      "cell_type": "code",
      "metadata": {
        "id": "H_w2dEIfE00C"
      },
      "source": [
        "pred_piv = predictions_pd.pivot(columns= 'overall',  values= 'length')\n",
        "scores = [1.0,2.0,3.0,4.0,5.0]\n",
        "out = []\n",
        "for i in scores:\n",
        "  x = np.array(pred_piv[i])\n",
        "  x = x[~np.isnan(x)]\n",
        "  out.append(x)\n",
        "\n"
      ],
      "execution_count": null,
      "outputs": []
    },
    {
      "cell_type": "code",
      "metadata": {
        "colab": {
          "base_uri": "https://localhost:8080/",
          "height": 631
        },
        "id": "Ok4ivbPFE7KM",
        "outputId": "b942d2dc-5f1d-495f-8698-137724f92313"
      },
      "source": [
        "\n",
        "plt.figure(figsize=(12,10), dpi= 72)\n",
        "plt.violinplot(out,showextrema=False)\n",
        "plt.ylim(0,200)\n",
        "\n",
        "plt.show()"
      ],
      "execution_count": null,
      "outputs": [
        {
          "output_type": "stream",
          "text": [
            "/usr/local/lib/python3.7/dist-packages/numpy/core/_asarray.py:83: VisibleDeprecationWarning: Creating an ndarray from ragged nested sequences (which is a list-or-tuple of lists-or-tuples-or ndarrays with different lengths or shapes) is deprecated. If you meant to do this, you must specify 'dtype=object' when creating the ndarray\n",
            "  return array(a, dtype, copy=False, order=order)\n"
          ],
          "name": "stderr"
        },
        {
          "output_type": "display_data",
          "data": {
            "image/png": "[encoded data removed]",
            "text/plain": [
              "<Figure size 864x720 with 1 Axes>"
            ]
          },
          "metadata": {
            "tags": [],
            "needs_background": "light"
          }
        }
      ]
    },
    {
      "cell_type": "code",
      "metadata": {
        "id": "QMATJaeYFJ-0"
      },
      "source": [
        ""
      ],
      "execution_count": null,
      "outputs": []
    }
  ]
}