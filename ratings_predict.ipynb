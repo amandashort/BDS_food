{
  "nbformat": 4,
  "nbformat_minor": 0,
  "metadata": {
    "colab": {
      "name": "ratings_predict.ipynb",
      "provenance": [],
      "collapsed_sections": []
    },
    "kernelspec": {
      "display_name": "Python 3",
      "language": "python",
      "name": "python3"
    }
  },
  "cells": [
    {
      "cell_type": "code",
      "metadata": {
        "colab": {
          "base_uri": "https://localhost:8080/",
          "height": 17
        },
        "id": "45AqmQDUzHZb",
        "outputId": "931b9f76-995c-4ee8-82e5-d9d02b659305"
      },
      "source": [
        "%%javascript\n",
        "function ClickConnect(){\n",
        "console.log(\"Working\");\n",
        "document.querySelector(\"colab-toolbar-button#connect\").click()\n",
        "}setInterval(ClickConnect,60000)"
      ],
      "execution_count": 3,
      "outputs": [
        {
          "output_type": "display_data",
          "data": {
            "application/javascript": [
              "function ClickConnect(){\n",
              "console.log(\"Working\");\n",
              "document.querySelector(\"colab-toolbar-button#connect\").click()\n",
              "}setInterval(ClickConnect,60000)"
            ],
            "text/plain": [
              "<IPython.core.display.Javascript object>"
            ]
          },
          "metadata": {
            "tags": []
          }
        }
      ]
    },
    {
      "cell_type": "code",
      "metadata": {
        "colab": {
          "base_uri": "https://localhost:8080/"
        },
        "id": "RLOlCr6hZJYz",
        "outputId": "399da14e-e86c-43e7-cb4c-a09eab3214bb"
      },
      "source": [
        "!pip install pyspark\n",
        "!pip install -U -q PyDrive\n",
        "!apt install openjdk-8-jdk-headless -qq\n",
        "import os\n",
        "os.environ[\"JAVA_HOME\"] = \"/usr/lib/jvm/java-8-openjdk-amd64\""
      ],
      "execution_count": 4,
      "outputs": [
        {
          "output_type": "stream",
          "text": [
            "Collecting pyspark\n",
            "\u001b[?25l  Downloading https://files.pythonhosted.org/packages/45/b0/9d6860891ab14a39d4bddf80ba26ce51c2f9dc4805e5c6978ac0472c120a/pyspark-3.1.1.tar.gz (212.3MB)\n",
            "\u001b[K     |████████████████████████████████| 212.3MB 64kB/s \n",
            "\u001b[?25hCollecting py4j==0.10.9\n",
            "\u001b[?25l  Downloading https://files.pythonhosted.org/packages/9e/b6/6a4fb90cd235dc8e265a6a2067f2a2c99f0d91787f06aca4bcf7c23f3f80/py4j-0.10.9-py2.py3-none-any.whl (198kB)\n",
            "\u001b[K     |████████████████████████████████| 204kB 43.6MB/s \n",
            "\u001b[?25hBuilding wheels for collected packages: pyspark\n",
            "  Building wheel for pyspark (setup.py) ... \u001b[?25l\u001b[?25hdone\n",
            "  Created wheel for pyspark: filename=pyspark-3.1.1-py2.py3-none-any.whl size=212767604 sha256=e9c2441c6b16664be4f90f02d889cda1e1299a2fabc00cf49ae5c7a3686867f0\n",
            "  Stored in directory: /root/.cache/pip/wheels/0b/90/c0/01de724414ef122bd05f056541fb6a0ecf47c7ca655f8b3c0f\n",
            "Successfully built pyspark\n",
            "Installing collected packages: py4j, pyspark\n",
            "Successfully installed py4j-0.10.9 pyspark-3.1.1\n",
            "The following additional packages will be installed:\n",
            "  openjdk-8-jre-headless\n",
            "Suggested packages:\n",
            "  openjdk-8-demo openjdk-8-source libnss-mdns fonts-dejavu-extra\n",
            "  fonts-ipafont-gothic fonts-ipafont-mincho fonts-wqy-microhei\n",
            "  fonts-wqy-zenhei fonts-indic\n",
            "The following NEW packages will be installed:\n",
            "  openjdk-8-jdk-headless openjdk-8-jre-headless\n",
            "0 upgraded, 2 newly installed, 0 to remove and 31 not upgraded.\n",
            "Need to get 36.5 MB of archives.\n",
            "After this operation, 143 MB of additional disk space will be used.\n",
            "Selecting previously unselected package openjdk-8-jre-headless:amd64.\n",
            "(Reading database ... 160983 files and directories currently installed.)\n",
            "Preparing to unpack .../openjdk-8-jre-headless_8u282-b08-0ubuntu1~18.04_amd64.deb ...\n",
            "Unpacking openjdk-8-jre-headless:amd64 (8u282-b08-0ubuntu1~18.04) ...\n",
            "Selecting previously unselected package openjdk-8-jdk-headless:amd64.\n",
            "Preparing to unpack .../openjdk-8-jdk-headless_8u282-b08-0ubuntu1~18.04_amd64.deb ...\n",
            "Unpacking openjdk-8-jdk-headless:amd64 (8u282-b08-0ubuntu1~18.04) ...\n",
            "Setting up openjdk-8-jre-headless:amd64 (8u282-b08-0ubuntu1~18.04) ...\n",
            "update-alternatives: using /usr/lib/jvm/java-8-openjdk-amd64/jre/bin/orbd to provide /usr/bin/orbd (orbd) in auto mode\n",
            "update-alternatives: using /usr/lib/jvm/java-8-openjdk-amd64/jre/bin/servertool to provide /usr/bin/servertool (servertool) in auto mode\n",
            "update-alternatives: using /usr/lib/jvm/java-8-openjdk-amd64/jre/bin/tnameserv to provide /usr/bin/tnameserv (tnameserv) in auto mode\n",
            "Setting up openjdk-8-jdk-headless:amd64 (8u282-b08-0ubuntu1~18.04) ...\n",
            "update-alternatives: using /usr/lib/jvm/java-8-openjdk-amd64/bin/idlj to provide /usr/bin/idlj (idlj) in auto mode\n",
            "update-alternatives: using /usr/lib/jvm/java-8-openjdk-amd64/bin/wsimport to provide /usr/bin/wsimport (wsimport) in auto mode\n",
            "update-alternatives: using /usr/lib/jvm/java-8-openjdk-amd64/bin/jsadebugd to provide /usr/bin/jsadebugd (jsadebugd) in auto mode\n",
            "update-alternatives: using /usr/lib/jvm/java-8-openjdk-amd64/bin/native2ascii to provide /usr/bin/native2ascii (native2ascii) in auto mode\n",
            "update-alternatives: using /usr/lib/jvm/java-8-openjdk-amd64/bin/javah to provide /usr/bin/javah (javah) in auto mode\n",
            "update-alternatives: using /usr/lib/jvm/java-8-openjdk-amd64/bin/hsdb to provide /usr/bin/hsdb (hsdb) in auto mode\n",
            "update-alternatives: using /usr/lib/jvm/java-8-openjdk-amd64/bin/clhsdb to provide /usr/bin/clhsdb (clhsdb) in auto mode\n",
            "update-alternatives: using /usr/lib/jvm/java-8-openjdk-amd64/bin/xjc to provide /usr/bin/xjc (xjc) in auto mode\n",
            "update-alternatives: using /usr/lib/jvm/java-8-openjdk-amd64/bin/schemagen to provide /usr/bin/schemagen (schemagen) in auto mode\n",
            "update-alternatives: using /usr/lib/jvm/java-8-openjdk-amd64/bin/extcheck to provide /usr/bin/extcheck (extcheck) in auto mode\n",
            "update-alternatives: using /usr/lib/jvm/java-8-openjdk-amd64/bin/jhat to provide /usr/bin/jhat (jhat) in auto mode\n",
            "update-alternatives: using /usr/lib/jvm/java-8-openjdk-amd64/bin/wsgen to provide /usr/bin/wsgen (wsgen) in auto mode\n"
          ],
          "name": "stdout"
        }
      ]
    },
    {
      "cell_type": "code",
      "metadata": {
        "colab": {
          "base_uri": "https://localhost:8080/"
        },
        "id": "nBnBfksZZMy1",
        "outputId": "aab67aeb-7188-4bb6-e4a6-afa53b1ebbf2"
      },
      "source": [
        "from google.colab import drive\n",
        "drive.mount('/content/drive')"
      ],
      "execution_count": 5,
      "outputs": [
        {
          "output_type": "stream",
          "text": [
            "Mounted at /content/drive\n"
          ],
          "name": "stdout"
        }
      ]
    },
    {
      "cell_type": "code",
      "metadata": {
        "id": "PBmPihgyZQ-q"
      },
      "source": [
        "from pydrive.auth import GoogleAuth\n",
        "from pydrive.drive import GoogleDrive\n",
        "from google.colab import auth\n",
        "from oauth2client.client import GoogleCredentials\n",
        "\n",
        "# Authenticate and create the PyDrive client\n",
        "auth.authenticate_user()\n",
        "gauth = GoogleAuth()\n",
        "gauth.credentials = GoogleCredentials.get_application_default()\n",
        "drive = GoogleDrive(gauth)"
      ],
      "execution_count": 6,
      "outputs": []
    },
    {
      "cell_type": "code",
      "metadata": {
        "id": "tA1Ckzx-ZGnn"
      },
      "source": [
        "import pandas as pd\n",
        "import numpy as np\n",
        "import matplotlib.pyplot as plt\n",
        "%matplotlib inline\n",
        "\n",
        "import pyspark\n",
        "from pyspark.sql import *\n",
        "from pyspark.sql.functions import *\n",
        "from pyspark import SparkContext, SparkConf\n",
        "import python_utils\n",
        "\n"
      ],
      "execution_count": 7,
      "outputs": []
    },
    {
      "cell_type": "code",
      "metadata": {
        "id": "XJ9TC2TIZGnx"
      },
      "source": [
        "# create the session\n",
        "conf = SparkConf().set(\"spark.ui.port\", \"4050\")\n",
        "\n",
        "# create the context\n",
        "sc = pyspark.SparkContext(conf=conf)\n",
        "spark = SparkSession.builder.getOrCreate()"
      ],
      "execution_count": 8,
      "outputs": []
    },
    {
      "cell_type": "code",
      "metadata": {
        "id": "-D_VV2HFZGny"
      },
      "source": [
        "grocery_food = spark.read.json(\"/content/drive/MyDrive/big_dta/project/Grocery_and_Gourmet_Food.json.gz\")\n",
        "meta_data = spark.read.json(\"/content/drive/MyDrive/big_dta/project/meta_Grocery_and_Gourmet_Food.json.gz\")"
      ],
      "execution_count": 9,
      "outputs": []
    },
    {
      "cell_type": "code",
      "metadata": {
        "colab": {
          "base_uri": "https://localhost:8080/"
        },
        "id": "X5WKGEBTzEn1",
        "outputId": "df7449fb-1096-43da-8184-03b00da57492"
      },
      "source": [
        "all_data = grocery_food.join(meta_data, ['asin'])\n",
        "all_data.show()"
      ],
      "execution_count": 10,
      "outputs": [
        {
          "output_type": "stream",
          "text": [
            "+----------+-----+-------+--------------------+-----------+--------------+---------------+-----+--------------------+--------------+--------+----+--------------------+--------------------+--------------------+--------------------+----+--------------------+--------------------+-------+---+--------------------+--------+------+--------------------+------------+-----+-----+--------------------+\n",
            "|      asin|image|overall|          reviewText| reviewTime|    reviewerID|   reviewerName|style|             summary|unixReviewTime|verified|vote|            also_buy|           also_view|               brand|            category|date|         description|             details|feature|fit|               image|main_cat| price|                rank|similar_item|tech1|tech2|               title|\n",
            "+----------+-----+-------+--------------------+-----------+--------------+---------------+-----+--------------------+--------------+--------+----+--------------------+--------------------+--------------------+--------------------+----+--------------------+--------------------+-------+---+--------------------+--------+------+--------------------+------------+-----+-----+--------------------+\n",
            "|B0000D1699| null|    2.0|I don't like the ...|09 25, 2012|A20U1WREF776C9|             VS| null|           puerh tea|    1348531200|    true|null|                  []|                  []|             Ten Ren|[Grocery & Gourme...|    |[Specialty tea or...|{1.76 ounces, nul...|     []|   |                  []| Grocery|      |1,005,257 in Groc...|            |     |     |          Pu-Erh Tea|\n",
            "|B0000D1699| null|    2.0|I don't like the ...|09 25, 2012|A20U1WREF776C9|             VS| null|           puerh tea|    1348531200|    true|null|                  []|                  []|             Ten Ren|[Grocery & Gourme...|    |[Specialty tea or...|{1.76 ounces, nul...|     []|   |                  []| Grocery|      |1,005,257 in Groc...|            |     |     |          Pu-Erh Tea|\n",
            "|B0000D1699| null|    4.0|taste was very go...| 07 6, 2012|A1FSL1RKHDL2Q0|         KarenD| null|          Pu erh tea|    1341532800|    true|null|                  []|                  []|             Ten Ren|[Grocery & Gourme...|    |[Specialty tea or...|{1.76 ounces, nul...|     []|   |                  []| Grocery|      |1,005,257 in Groc...|            |     |     |          Pu-Erh Tea|\n",
            "|B0000D1699| null|    4.0|taste was very go...| 07 6, 2012|A1FSL1RKHDL2Q0|         KarenD| null|          Pu erh tea|    1341532800|    true|null|                  []|                  []|             Ten Ren|[Grocery & Gourme...|    |[Specialty tea or...|{1.76 ounces, nul...|     []|   |                  []| Grocery|      |1,005,257 in Groc...|            |     |     |          Pu-Erh Tea|\n",
            "|B0000D17HO| null|    5.0|     love this pasta| 01 7, 2016|A1FRMN3DMVPNBX|            cor| null|          Five Stars|    1452124800|    true|null|                  []|                  []|Rustichella d'Abr...|[Grocery & Gourme...|    |[Trenne, Statemen...|{null, null, null...|     []|   |                  []| Grocery|      |555,750 in Grocer...|            |     |     |              Trenne|\n",
            "|B0000D17HO| null|    5.0|     love this pasta| 01 7, 2016|A1FRMN3DMVPNBX|            cor| null|          Five Stars|    1452124800|    true|null|                  []|                  []|Rustichella d'Abr...|[Grocery & Gourme...|    |[Trenne, Statemen...|{null, null, null...|     []|   |                  []| Grocery|      |555,750 in Grocer...|            |     |     |              Trenne|\n",
            "|B0000D17HO| null|    5.0|Yay! Toblerone sh...|03 27, 2015|A3LN3EVAUMQU4F|Patricia Krause| null|          Five Stars|    1427414400|    true|null|                  []|                  []|Rustichella d'Abr...|[Grocery & Gourme...|    |[Trenne, Statemen...|{null, null, null...|     []|   |                  []| Grocery|      |555,750 in Grocer...|            |     |     |              Trenne|\n",
            "|B0000D17HO| null|    5.0|Yay! Toblerone sh...|03 27, 2015|A3LN3EVAUMQU4F|Patricia Krause| null|          Five Stars|    1427414400|    true|null|                  []|                  []|Rustichella d'Abr...|[Grocery & Gourme...|    |[Trenne, Statemen...|{null, null, null...|     []|   |                  []| Grocery|      |555,750 in Grocer...|            |     |     |              Trenne|\n",
            "|B0000D17HO| null|    5.0|the very best  in...|07 11, 2014|A2IQXH58DLE67M|Kindle Customer| null|          Five Stars|    1405036800|   false|null|                  []|                  []|Rustichella d'Abr...|[Grocery & Gourme...|    |[Trenne, Statemen...|{null, null, null...|     []|   |                  []| Grocery|      |555,750 in Grocer...|            |     |     |              Trenne|\n",
            "|B0000D17HO| null|    5.0|the very best  in...|07 11, 2014|A2IQXH58DLE67M|Kindle Customer| null|          Five Stars|    1405036800|   false|null|                  []|                  []|Rustichella d'Abr...|[Grocery & Gourme...|    |[Trenne, Statemen...|{null, null, null...|     []|   |                  []| Grocery|      |555,750 in Grocer...|            |     |     |              Trenne|\n",
            "|B0000D94PL| null|    2.0|I do not like swe...| 01 9, 2017|A3L58XYDMFICMJ|         SheShe| null|           Two Stars|    1483920000|    true|null|[B0000D94PG, B000...|[B004AXZFR6, B000...|        Sweet 'N Low|[Grocery & Gourme...|    |[Delicious cake m...|{null, null, null...|     []|   |[https://images-n...| Grocery| $3.59|104,075 in Grocer...|            |     |     |Sweet 'N Low Whit...|\n",
            "|B0000D94PL| null|    2.0|I do not like swe...| 01 9, 2017|A3L58XYDMFICMJ|         SheShe| null|           Two Stars|    1483920000|    true|null|[B0000D94PG, B000...|[B004AXZFR6, B000...|        Sweet 'N Low|[Grocery & Gourme...|    |[Delicious cake m...|{null, null, null...|     []|   |[https://images-n...| Grocery| $3.59|104,075 in Grocer...|            |     |     |Sweet 'N Low Whit...|\n",
            "|B0000D94PL| null|    2.0|Didn't like the t...|04 16, 2016|A1D418NCL8K6T6|Amazon Customer| null|Sweet and Low whi...|    1460764800|    true|null|[B0000D94PG, B000...|[B004AXZFR6, B000...|        Sweet 'N Low|[Grocery & Gourme...|    |[Delicious cake m...|{null, null, null...|     []|   |[https://images-n...| Grocery| $3.59|104,075 in Grocer...|            |     |     |Sweet 'N Low Whit...|\n",
            "|B0000D94PL| null|    2.0|Didn't like the t...|04 16, 2016|A1D418NCL8K6T6|Amazon Customer| null|Sweet and Low whi...|    1460764800|    true|null|[B0000D94PG, B000...|[B004AXZFR6, B000...|        Sweet 'N Low|[Grocery & Gourme...|    |[Delicious cake m...|{null, null, null...|     []|   |[https://images-n...| Grocery| $3.59|104,075 in Grocer...|            |     |     |Sweet 'N Low Whit...|\n",
            "|B0000D94PL| null|    5.0|        as described|03 11, 2015|A34W59OUBOU4K4|        c3sport| null|          Five Stars|    1426032000|    true|null|[B0000D94PG, B000...|[B004AXZFR6, B000...|        Sweet 'N Low|[Grocery & Gourme...|    |[Delicious cake m...|{null, null, null...|     []|   |[https://images-n...| Grocery| $3.59|104,075 in Grocer...|            |     |     |Sweet 'N Low Whit...|\n",
            "|B0000D94PL| null|    5.0|        as described|03 11, 2015|A34W59OUBOU4K4|        c3sport| null|          Five Stars|    1426032000|    true|null|[B0000D94PG, B000...|[B004AXZFR6, B000...|        Sweet 'N Low|[Grocery & Gourme...|    |[Delicious cake m...|{null, null, null...|     []|   |[https://images-n...| Grocery| $3.59|104,075 in Grocer...|            |     |     |Sweet 'N Low Whit...|\n",
            "|B0000D94PL| null|    5.0|I LIKE THIS PRODU...|04 28, 2013| AZ9F02WPX1NRC|     looneylady| null| SUGAR FREE CAKE MIX|    1367107200|    true|null|[B0000D94PG, B000...|[B004AXZFR6, B000...|        Sweet 'N Low|[Grocery & Gourme...|    |[Delicious cake m...|{null, null, null...|     []|   |[https://images-n...| Grocery| $3.59|104,075 in Grocer...|            |     |     |Sweet 'N Low Whit...|\n",
            "|B0000D94PL| null|    5.0|I LIKE THIS PRODU...|04 28, 2013| AZ9F02WPX1NRC|     looneylady| null| SUGAR FREE CAKE MIX|    1367107200|    true|null|[B0000D94PG, B000...|[B004AXZFR6, B000...|        Sweet 'N Low|[Grocery & Gourme...|    |[Delicious cake m...|{null, null, null...|     []|   |[https://images-n...| Grocery| $3.59|104,075 in Grocer...|            |     |     |Sweet 'N Low Whit...|\n",
            "|B0000DJ6NI| null|    5.0|Love having a lar...|11 25, 2014|A3HWSOEZNAVTQ4|Kindle Customer| null|        tootsie pops|    1416873600|    true|null|                  []|                  []|        Tootsie Roll|[Grocery & Gourme...|    |[In 1931, the fam...|{5 pounds, null, ...|     []|   |                  []| Grocery|$23.20|602,885 in Grocer...|            |     |     |Tootsie Pops-Asso...|\n",
            "|B0000DJ6NI| null|    5.0|Love having a lar...|11 25, 2014|A3HWSOEZNAVTQ4|Kindle Customer| null|        tootsie pops|    1416873600|    true|null|                  []|                  []|        Tootsie Roll|[Grocery & Gourme...|    |[In 1931, the fam...|{5 pounds, null, ...|     []|   |                  []| Grocery|$23.20|602,885 in Grocer...|            |     |     |Tootsie Pops-Asso...|\n",
            "+----------+-----+-------+--------------------+-----------+--------------+---------------+-----+--------------------+--------------+--------+----+--------------------+--------------------+--------------------+--------------------+----+--------------------+--------------------+-------+---+--------------------+--------+------+--------------------+------------+-----+-----+--------------------+\n",
            "only showing top 20 rows\n",
            "\n"
          ],
          "name": "stdout"
        }
      ]
    },
    {
      "cell_type": "code",
      "metadata": {
        "colab": {
          "base_uri": "https://localhost:8080/"
        },
        "id": "vcyHJoxOZGnz",
        "outputId": "9385ee60-797f-4cd5-e964-4af21ffc9ad7"
      },
      "source": [
        "grocery_food.printSchema()"
      ],
      "execution_count": 11,
      "outputs": [
        {
          "output_type": "stream",
          "text": [
            "root\n",
            " |-- asin: string (nullable = true)\n",
            " |-- image: array (nullable = true)\n",
            " |    |-- element: string (containsNull = true)\n",
            " |-- overall: double (nullable = true)\n",
            " |-- reviewText: string (nullable = true)\n",
            " |-- reviewTime: string (nullable = true)\n",
            " |-- reviewerID: string (nullable = true)\n",
            " |-- reviewerName: string (nullable = true)\n",
            " |-- style: struct (nullable = true)\n",
            " |    |-- Color:: string (nullable = true)\n",
            " |    |-- Design:: string (nullable = true)\n",
            " |    |-- Display Height:: string (nullable = true)\n",
            " |    |-- Edition:: string (nullable = true)\n",
            " |    |-- Flavor Name:: string (nullable = true)\n",
            " |    |-- Flavor:: string (nullable = true)\n",
            " |    |-- Format:: string (nullable = true)\n",
            " |    |-- Item Display Weight:: string (nullable = true)\n",
            " |    |-- Item Package Quantity:: string (nullable = true)\n",
            " |    |-- Material Type:: string (nullable = true)\n",
            " |    |-- Material:: string (nullable = true)\n",
            " |    |-- Number of Items:: string (nullable = true)\n",
            " |    |-- Package Quantity:: string (nullable = true)\n",
            " |    |-- Package Type:: string (nullable = true)\n",
            " |    |-- Product Packaging:: string (nullable = true)\n",
            " |    |-- Scent Name:: string (nullable = true)\n",
            " |    |-- Size Name:: string (nullable = true)\n",
            " |    |-- Size:: string (nullable = true)\n",
            " |    |-- Style Name:: string (nullable = true)\n",
            " |    |-- Style:: string (nullable = true)\n",
            " |    |-- Team Name:: string (nullable = true)\n",
            " |    |-- Unit Count:: string (nullable = true)\n",
            " |-- summary: string (nullable = true)\n",
            " |-- unixReviewTime: long (nullable = true)\n",
            " |-- verified: boolean (nullable = true)\n",
            " |-- vote: string (nullable = true)\n",
            "\n"
          ],
          "name": "stdout"
        }
      ]
    },
    {
      "cell_type": "code",
      "metadata": {
        "colab": {
          "base_uri": "https://localhost:8080/"
        },
        "id": "gI8aE-_NZGn0",
        "outputId": "d18514c3-2970-4811-eae8-25f1c314b590"
      },
      "source": [
        "meta_data.printSchema()"
      ],
      "execution_count": 12,
      "outputs": [
        {
          "output_type": "stream",
          "text": [
            "root\n",
            " |-- also_buy: array (nullable = true)\n",
            " |    |-- element: string (containsNull = true)\n",
            " |-- also_view: array (nullable = true)\n",
            " |    |-- element: string (containsNull = true)\n",
            " |-- asin: string (nullable = true)\n",
            " |-- brand: string (nullable = true)\n",
            " |-- category: array (nullable = true)\n",
            " |    |-- element: string (containsNull = true)\n",
            " |-- date: string (nullable = true)\n",
            " |-- description: array (nullable = true)\n",
            " |    |-- element: string (containsNull = true)\n",
            " |-- details: struct (nullable = true)\n",
            " |    |-- \n",
            "    Item Weight: \n",
            "    : string (nullable = true)\n",
            " |    |-- \n",
            "    Product Dimensions: \n",
            "    : string (nullable = true)\n",
            " |    |--  Date first listed on Amazon:: string (nullable = true)\n",
            " |    |--  UNSPSC Code:: string (nullable = true)\n",
            " |    |-- ASIN:: string (nullable = true)\n",
            " |    |-- ASIN: : string (nullable = true)\n",
            " |    |-- Audio CD: string (nullable = true)\n",
            " |    |-- Batteries: string (nullable = true)\n",
            " |    |-- Discontinued by manufacturer:: string (nullable = true)\n",
            " |    |-- Domestic Shipping: : string (nullable = true)\n",
            " |    |-- International Shipping: : string (nullable = true)\n",
            " |    |-- Item model number:: string (nullable = true)\n",
            " |    |-- Label:: string (nullable = true)\n",
            " |    |-- Language:: string (nullable = true)\n",
            " |    |-- Number of Discs:: string (nullable = true)\n",
            " |    |-- Original Release Date:: string (nullable = true)\n",
            " |    |-- Shipping Advisory:: string (nullable = true)\n",
            " |    |-- Shipping Weight:: string (nullable = true)\n",
            " |    |-- Subtitles:: string (nullable = true)\n",
            " |    |-- UPC:: string (nullable = true)\n",
            " |-- feature: array (nullable = true)\n",
            " |    |-- element: string (containsNull = true)\n",
            " |-- fit: string (nullable = true)\n",
            " |-- image: array (nullable = true)\n",
            " |    |-- element: string (containsNull = true)\n",
            " |-- main_cat: string (nullable = true)\n",
            " |-- price: string (nullable = true)\n",
            " |-- rank: string (nullable = true)\n",
            " |-- similar_item: string (nullable = true)\n",
            " |-- tech1: string (nullable = true)\n",
            " |-- tech2: string (nullable = true)\n",
            " |-- title: string (nullable = true)\n",
            "\n"
          ],
          "name": "stdout"
        }
      ]
    },
    {
      "cell_type": "code",
      "metadata": {
        "colab": {
          "base_uri": "https://localhost:8080/"
        },
        "id": "jljdpCHAZGn1",
        "outputId": "dff5a23b-ea99-40c3-93ad-f280e1a34bd6"
      },
      "source": [
        "grocery_food.take(1)"
      ],
      "execution_count": 13,
      "outputs": [
        {
          "output_type": "execute_result",
          "data": {
            "text/plain": [
              "[Row(asin='1888861614', image=None, overall=5.0, reviewText='Very pleased with my purchase. Looks exactly like the picture and will look great on my cake. It definitely will sparkle.', reviewTime='06 4, 2013', reviewerID='ALP49FBWT4I7V', reviewerName='Lori', style=None, summary='Love it', unixReviewTime=1370304000, verified=True, vote=None)]"
            ]
          },
          "metadata": {
            "tags": []
          },
          "execution_count": 13
        }
      ]
    },
    {
      "cell_type": "code",
      "metadata": {
        "colab": {
          "base_uri": "https://localhost:8080/"
        },
        "id": "aaVdGHyqZGn2",
        "outputId": "aac44859-b84d-46ff-f257-e32f59234592"
      },
      "source": [
        "grocery_food.show()"
      ],
      "execution_count": 14,
      "outputs": [
        {
          "output_type": "stream",
          "text": [
            "+----------+-----+-------+--------------------+-----------+--------------+-------------------+-----+--------------------+--------------+--------+----+\n",
            "|      asin|image|overall|          reviewText| reviewTime|    reviewerID|       reviewerName|style|             summary|unixReviewTime|verified|vote|\n",
            "+----------+-----+-------+--------------------+-----------+--------------+-------------------+-----+--------------------+--------------+--------+----+\n",
            "|1888861614| null|    5.0|Very pleased with...| 06 4, 2013| ALP49FBWT4I7V|               Lori| null|             Love it|    1370304000|    true|null|\n",
            "|1888861614| null|    4.0|Very nicely craft...|05 23, 2014|A1KPIZOCLB9FZ8|         BK Shopper| null|      Nice but small|    1400803200|    true|null|\n",
            "|1888861614| null|    4.0|still very pretty...| 05 9, 2014|A2W0FA06IYAYQE|     daninethequeen| null|the \"s\" looks lik...|    1399593600|    true|null|\n",
            "|1888861614| null|    5.0|I got this for ou...|04 20, 2014|A2PTZTCH2QUYBC|            Tammara| null|Would recommend t...|    1397952000|    true|null|\n",
            "|1888861614| null|    4.0|It was just what ...|04 16, 2014|A2VNHGJ59N4Z90| LaQuinta Alexander| null|              Topper|    1397606400|    true|null|\n",
            "|1888861614| null|    1.0|The S is beautifu...|02 21, 2014| ATQL0XOLZNHZ4|      Brianna Small| null|   shipping disaster|    1392940800|    true|null|\n",
            "|1888861614| null|    5.0|Omg.. The S was i...| 12 1, 2013| A94ZG5CWN70E7|    trinette claude| null|Great quality for...|    1385856000|    true|null|\n",
            "|1888861614| null|    3.0|It was a nice siz...| 11 6, 2013|A3QBT8YC3CZ7C9|           Rela1982| null|          Great Buy.|    1383696000|    true|null|\n",
            "|1888861614| null|    5.0|Perfect!!! Can no...| 10 2, 2013| AGKW3A1RB1YGO| Marilyn Hatboro,Pa| null|       Very Pretty!!|    1380672000|    true|null|\n",
            "|1888861614| null|    5.0|This was exactly ...| 09 6, 2013|A1B65IWLUVOUQB|            KASmith| null|            Perfect!|    1378425600|    true|null|\n",
            "|1888861614| null|    5.0|This arrived in t...|08 22, 2013|A34SURE2O1LJ4C|               Lara| null|           So pretty|    1377129600|    true|null|\n",
            "|4639725183| null|    5.0| No adverse comment.|11 19, 2014|A1QVBUH9E1V6I8|     Jamshed Mathur| null|          Five Stars|    1416355200|    true|null|\n",
            "|4639725183| null|    5.0|These are hard to...|11 10, 2014|A3F886P3E8L99T|Bosshaug in Arizona| null|Wonderful tea and...|    1415577600|    true|null|\n",
            "|4639725183| null|    5.0|Best black tea in...| 11 3, 2014|A2CHH5U12THP2D|     The Purple Bee| null|Best black tea in US|    1414972800|    true|   2|\n",
            "|4639725183| null|    5.0|if you like stron...| 09 6, 2014|A29A6N9S9GDG6L|      Lake Cherokee| null|          Five Stars|    1409961600|    true|null|\n",
            "|4639725183| null|    5.0|I first tasted th...|05 21, 2014|A378HXZATS9HKM|          old patty| null|    Great Tea flavor|    1400630400|    true|   2|\n",
            "|4639725183| null|    5.0|Truly the finest ...|03 23, 2014|A2ZSQ8Y53ZNQK1|Charles L. Mitsakos| null|                 A+!|    1395532800|    true|   5|\n",
            "|4639725183| null|    4.0|Tried this while ...| 02 8, 2014|A21ZU2TINEQE0H|                Ken| null|Yellow Label Lipt...|    1391817600|   false|   2|\n",
            "|4639725183| null|    5.0|We first came acr...| 01 7, 2014| AFSBZNN8WDE8E|             tw7424| null|         A great tea|    1389052800|    true|null|\n",
            "|4639725183| null|    5.0|I first tasted it...|12 29, 2013|A1XWZJZLZTMCWK|             Tom S.| null|      Best Black Tea|    1388275200|    true|  11|\n",
            "+----------+-----+-------+--------------------+-----------+--------------+-------------------+-----+--------------------+--------------+--------+----+\n",
            "only showing top 20 rows\n",
            "\n"
          ],
          "name": "stdout"
        }
      ]
    },
    {
      "cell_type": "code",
      "metadata": {
        "colab": {
          "base_uri": "https://localhost:8080/"
        },
        "id": "180NLl4VZGn2",
        "outputId": "c2b2c190-0eff-440e-88dd-616d2fbdcb3b"
      },
      "source": [
        "print(\"In total there are {0} reviews\".format(grocery_food.count()))"
      ],
      "execution_count": 15,
      "outputs": [
        {
          "output_type": "stream",
          "text": [
            "In total there are 5074160 reviews\n"
          ],
          "name": "stdout"
        }
      ]
    },
    {
      "cell_type": "code",
      "metadata": {
        "id": "nDr51uevZGn3"
      },
      "source": [
        "grocery_food = grocery_food.filter(grocery_food.reviewText != '')"
      ],
      "execution_count": 16,
      "outputs": []
    },
    {
      "cell_type": "code",
      "metadata": {
        "colab": {
          "base_uri": "https://localhost:8080/"
        },
        "id": "pONDRx0GZGn3",
        "outputId": "c5b43e0c-b2fc-478a-aa0f-1cc321b766e5"
      },
      "source": [
        "drop_list = ['image', 'verified', 'vote', 'reviewTime', 'reviewerID', 'reviewerName', 'style', 'unixReviewTime']\n",
        "grocery_food = grocery_food.select([column for column in grocery_food.columns if column not in drop_list])\n",
        "grocery_food.show(5)"
      ],
      "execution_count": 17,
      "outputs": [
        {
          "output_type": "stream",
          "text": [
            "+----------+-------+--------------------+--------------------+\n",
            "|      asin|overall|          reviewText|             summary|\n",
            "+----------+-------+--------------------+--------------------+\n",
            "|1888861614|    5.0|Very pleased with...|             Love it|\n",
            "|1888861614|    4.0|Very nicely craft...|      Nice but small|\n",
            "|1888861614|    4.0|still very pretty...|the \"s\" looks lik...|\n",
            "|1888861614|    5.0|I got this for ou...|Would recommend t...|\n",
            "|1888861614|    4.0|It was just what ...|              Topper|\n",
            "+----------+-------+--------------------+--------------------+\n",
            "only showing top 5 rows\n",
            "\n"
          ],
          "name": "stdout"
        }
      ]
    },
    {
      "cell_type": "markdown",
      "metadata": {
        "id": "VX1xtaqAZGn4"
      },
      "source": [
        "### Group by stars and view"
      ]
    },
    {
      "cell_type": "code",
      "metadata": {
        "colab": {
          "base_uri": "https://localhost:8080/"
        },
        "id": "xNYrakfjZGn4",
        "scrolled": true,
        "outputId": "ee826c37-5adc-4204-aa9b-a07eae9d10e2"
      },
      "source": [
        "grocery_food.groupBy(\"overall\").count().sort(desc(\"count\")).show()"
      ],
      "execution_count": 16,
      "outputs": [
        {
          "output_type": "stream",
          "text": [
            "+-------+-------+\n",
            "|overall|  count|\n",
            "+-------+-------+\n",
            "|    5.0|3571654|\n",
            "|    4.0| 552993|\n",
            "|    1.0| 405085|\n",
            "|    3.0| 322083|\n",
            "|    2.0| 219462|\n",
            "+-------+-------+\n",
            "\n"
          ],
          "name": "stdout"
        }
      ]
    },
    {
      "cell_type": "code",
      "metadata": {
        "colab": {
          "base_uri": "https://localhost:8080/"
        },
        "id": "3GCgLJx6ZGn5",
        "outputId": "d5cf8afd-e181-4b02-9634-390c00aaaf9d"
      },
      "source": [
        "grocery_food.registerTempTable(\"grocery_food\")\n",
        "\n",
        "query = \"\"\"\n",
        "SELECT overall, count(*) as star_count\n",
        "FROM grocery_food\n",
        "GROUP BY overall\n",
        "ORDER BY star_count DESC\n",
        "\"\"\"\n",
        "\n",
        "star_counts = spark.sql(query)\n",
        "star_counts.show()"
      ],
      "execution_count": 17,
      "outputs": [
        {
          "output_type": "stream",
          "text": [
            "+-------+----------+\n",
            "|overall|star_count|\n",
            "+-------+----------+\n",
            "|    5.0|   3571654|\n",
            "|    4.0|    552993|\n",
            "|    1.0|    405085|\n",
            "|    3.0|    322083|\n",
            "|    2.0|    219462|\n",
            "+-------+----------+\n",
            "\n"
          ],
          "name": "stdout"
        }
      ]
    },
    {
      "cell_type": "code",
      "metadata": {
        "id": "n4MTLd4bZGn5"
      },
      "source": [
        "star_count_pd = star_counts.toPandas()\n",
        "star_count_pd.head()\n",
        "star_count_pd = star_count_pd.sort_values('overall')"
      ],
      "execution_count": 18,
      "outputs": []
    },
    {
      "cell_type": "code",
      "metadata": {
        "colab": {
          "base_uri": "https://localhost:8080/",
          "height": 481
        },
        "id": "Uj-PF6vAZGn6",
        "outputId": "9fcca7c0-30d2-4ba1-d790-9e3382600de2"
      },
      "source": [
        "pl = star_count_pd.plot(kind=\"bar\", \n",
        "                            x=\"overall\", y=\"star_count\", \n",
        "                            figsize=(10, 7), log=True, alpha=0.5, color=\"darkblue\")\n",
        "pl.set_xlabel(\"Review\")\n",
        "pl.set_ylabel(\"Count by Review\")\n",
        "pl.set_title(\"Number of reviews by star rating\")"
      ],
      "execution_count": 19,
      "outputs": [
        {
          "output_type": "execute_result",
          "data": {
            "text/plain": [
              "Text(0.5, 1.0, 'Number of reviews by star rating')"
            ]
          },
          "metadata": {
            "tags": []
          },
          "execution_count": 19
        },
        {
          "output_type": "display_data",
          "data": {
            "image/png": "[encoded data removed]",
            "text/plain": [
              "<Figure size 720x504 with 1 Axes>"
            ]
          },
          "metadata": {
            "tags": [],
            "needs_background": "light"
          }
        }
      ]
    },
    {
      "cell_type": "code",
      "metadata": {
        "colab": {
          "base_uri": "https://localhost:8080/"
        },
        "id": "3pNnpAOIZGn6",
        "outputId": "485bcc8a-d6a1-4779-9b08-9e06149a4953"
      },
      "source": [
        "#total number of foods that were reviewed in the dataset\n",
        "grocery_food.groupBy(\"asin\").count().sort(desc(\"count\")).count()"
      ],
      "execution_count": 20,
      "outputs": [
        {
          "output_type": "execute_result",
          "data": {
            "text/plain": [
              "283483"
            ]
          },
          "metadata": {
            "tags": []
          },
          "execution_count": 20
        }
      ]
    },
    {
      "cell_type": "markdown",
      "metadata": {
        "id": "93sLQXzqZGn7"
      },
      "source": [
        "### Text Analysis"
      ]
    },
    {
      "cell_type": "code",
      "metadata": {
        "id": "7rig6k81ZGn7"
      },
      "source": [
        "from pyspark.ml.feature import Tokenizer"
      ],
      "execution_count": 18,
      "outputs": []
    },
    {
      "cell_type": "code",
      "metadata": {
        "id": "H-LSiQQnZGn7"
      },
      "source": [
        "tokenizer = Tokenizer().setInputCol('reviewText').setOutputCol('words')"
      ],
      "execution_count": 19,
      "outputs": []
    },
    {
      "cell_type": "code",
      "metadata": {
        "colab": {
          "base_uri": "https://localhost:8080/"
        },
        "id": "RDH9qlf4ZGn8",
        "outputId": "a1b524ed-f4f7-43ee-fca9-03c0bafff9fa"
      },
      "source": [
        "tokenizer.transform(grocery_food).show()"
      ],
      "execution_count": 20,
      "outputs": [
        {
          "output_type": "stream",
          "text": [
            "+----------+-------+--------------------+--------------------+--------------------+\n",
            "|      asin|overall|          reviewText|             summary|               words|\n",
            "+----------+-------+--------------------+--------------------+--------------------+\n",
            "|1888861614|    5.0|Very pleased with...|             Love it|[very, pleased, w...|\n",
            "|1888861614|    4.0|Very nicely craft...|      Nice but small|[very, nicely, cr...|\n",
            "|1888861614|    4.0|still very pretty...|the \"s\" looks lik...|[still, very, pre...|\n",
            "|1888861614|    5.0|I got this for ou...|Would recommend t...|[i, got, this, fo...|\n",
            "|1888861614|    4.0|It was just what ...|              Topper|[it, was, just, w...|\n",
            "|1888861614|    1.0|The S is beautifu...|   shipping disaster|[the, s, is, beau...|\n",
            "|1888861614|    5.0|Omg.. The S was i...|Great quality for...|[omg.., the, s, w...|\n",
            "|1888861614|    3.0|It was a nice siz...|          Great Buy.|[it, was, a, nice...|\n",
            "|1888861614|    5.0|Perfect!!! Can no...|       Very Pretty!!|[perfect!!!, can,...|\n",
            "|1888861614|    5.0|This was exactly ...|            Perfect!|[this, was, exact...|\n",
            "|1888861614|    5.0|This arrived in t...|           So pretty|[this, arrived, i...|\n",
            "|4639725183|    5.0| No adverse comment.|          Five Stars|[no, adverse, com...|\n",
            "|4639725183|    5.0|These are hard to...|Wonderful tea and...|[these, are, hard...|\n",
            "|4639725183|    5.0|Best black tea in...|Best black tea in US|[best, black, tea...|\n",
            "|4639725183|    5.0|if you like stron...|          Five Stars|[if, you, like, s...|\n",
            "|4639725183|    5.0|I first tasted th...|    Great Tea flavor|[i, first, tasted...|\n",
            "|4639725183|    5.0|Truly the finest ...|                 A+!|[truly, the, fine...|\n",
            "|4639725183|    4.0|Tried this while ...|Yellow Label Lipt...|[tried, this, whi...|\n",
            "|4639725183|    5.0|We first came acr...|         A great tea|[we, first, came,...|\n",
            "|4639725183|    5.0|I first tasted it...|      Best Black Tea|[i, first, tasted...|\n",
            "+----------+-------+--------------------+--------------------+--------------------+\n",
            "only showing top 20 rows\n",
            "\n"
          ],
          "name": "stdout"
        }
      ]
    },
    {
      "cell_type": "code",
      "metadata": {
        "id": "p4J_hZyBZGn8"
      },
      "source": [
        "from pyspark.ml.feature import CountVectorizer"
      ],
      "execution_count": 21,
      "outputs": []
    },
    {
      "cell_type": "code",
      "metadata": {
        "id": "tIsaCslzZGn8"
      },
      "source": [
        "count_vectorizer_estimator = CountVectorizer().setInputCol('words').setOutputCol('features')"
      ],
      "execution_count": 22,
      "outputs": []
    },
    {
      "cell_type": "code",
      "metadata": {
        "id": "QTHwHc6IZGn9"
      },
      "source": [
        "count_vectorizer_transformer = count_vectorizer_estimator.fit(tokenizer.transform(grocery_food))"
      ],
      "execution_count": 23,
      "outputs": []
    },
    {
      "cell_type": "code",
      "metadata": {
        "colab": {
          "base_uri": "https://localhost:8080/"
        },
        "id": "h6nt4crmZGn9",
        "outputId": "bf69722d-3c92-4739-bb83-dd7b2da4cc3c"
      },
      "source": [
        "count_vectorizer_transformer.transform(tokenizer.transform(grocery_food)).show(truncate=True)"
      ],
      "execution_count": 24,
      "outputs": [
        {
          "output_type": "stream",
          "text": [
            "+----------+-------+--------------------+--------------------+--------------------+--------------------+\n",
            "|      asin|overall|          reviewText|             summary|               words|            features|\n",
            "+----------+-------+--------------------+--------------------+--------------------+--------------------+\n",
            "|1888861614|    5.0|Very pleased with...|             Love it|[very, pleased, w...|(262144,[0,2,6,12...|\n",
            "|1888861614|    4.0|Very nicely craft...|      Nice but small|[very, nicely, cr...|(262144,[0,5,10,1...|\n",
            "|1888861614|    4.0|still very pretty...|the \"s\" looks lik...|[still, very, pre...|(262144,[0,2,5,6,...|\n",
            "|1888861614|    5.0|I got this for ou...|Would recommend t...|[i, got, this, fo...|(262144,[1,2,5,6,...|\n",
            "|1888861614|    4.0|It was just what ...|              Topper|[it, was, just, w...|(262144,[0,1,5,6,...|\n",
            "|1888861614|    1.0|The S is beautifu...|   shipping disaster|[the, s, is, beau...|(262144,[0,6,9,11...|\n",
            "|1888861614|    5.0|Omg.. The S was i...|Great quality for...|[omg.., the, s, w...|(262144,[0,1,2,7,...|\n",
            "|1888861614|    3.0|It was a nice siz...|          Great Buy.|[it, was, a, nice...|(262144,[0,1,2,3,...|\n",
            "|1888861614|    5.0|Perfect!!! Can no...|       Very Pretty!!|[perfect!!!, can,...|(262144,[0,5,8,11...|\n",
            "|1888861614|    5.0|This was exactly ...|            Perfect!|[this, was, exact...|(262144,[0,5,7,8,...|\n",
            "|1888861614|    5.0|This arrived in t...|           So pretty|[this, arrived, i...|(262144,[0,2,5,6,...|\n",
            "|4639725183|    5.0| No adverse comment.|          Five Stars|[no, adverse, com...|(262144,[59,9293,...|\n",
            "|4639725183|    5.0|These are hard to...|Wonderful tea and...|[these, are, hard...|(262144,[1,2,3,4,...|\n",
            "|4639725183|    5.0|Best black tea in...|Best black tea in US|[best, black, tea...|(262144,[1,3,4,6,...|\n",
            "|4639725183|    5.0|if you like stron...|          Five Stars|[if, you, like, s...|(262144,[7,21,24,...|\n",
            "|4639725183|    5.0|I first tasted th...|    Great Tea flavor|[i, first, tasted...|(262144,[0,1,2,3,...|\n",
            "|4639725183|    5.0|Truly the finest ...|                 A+!|[truly, the, fine...|(262144,[0,2,3,4,...|\n",
            "|4639725183|    4.0|Tried this while ...|Yellow Label Lipt...|[tried, this, whi...|(262144,[0,1,3,4,...|\n",
            "|4639725183|    5.0|We first came acr...|         A great tea|[we, first, came,...|(262144,[0,2,3,4,...|\n",
            "|4639725183|    5.0|I first tasted it...|      Best Black Tea|[i, first, tasted...|(262144,[0,1,2,3,...|\n",
            "+----------+-------+--------------------+--------------------+--------------------+--------------------+\n",
            "only showing top 20 rows\n",
            "\n"
          ],
          "name": "stdout"
        }
      ]
    },
    {
      "cell_type": "code",
      "metadata": {
        "id": "7bT3kulBZGn9"
      },
      "source": [
        "#count_vectorizer_transformer.vocabulary"
      ],
      "execution_count": 28,
      "outputs": []
    },
    {
      "cell_type": "markdown",
      "metadata": {
        "id": "JrkVbVjxZGn-"
      },
      "source": [
        "### Put into Pipeline"
      ]
    },
    {
      "cell_type": "code",
      "metadata": {
        "id": "7YtZEBZcZGn-"
      },
      "source": [
        "from pyspark.ml import Pipeline"
      ],
      "execution_count": 25,
      "outputs": []
    },
    {
      "cell_type": "code",
      "metadata": {
        "colab": {
          "base_uri": "https://localhost:8080/"
        },
        "id": "2MKaxOXgZGn-",
        "outputId": "76c15a24-1491-426a-903e-c39d62543448"
      },
      "source": [
        "import requests\n",
        "stop_words = requests.get('http://ir.dcs.gla.ac.uk/resources/linguistic_utils/stop_words').text.split()\n",
        "from pyspark.ml.feature import StopWordsRemover\n",
        "sw_filter = StopWordsRemover()\\\n",
        "  .setStopWords(stop_words)\\\n",
        "  .setCaseSensitive(False)\\\n",
        "  .setInputCol(\"words\")\\\n",
        "  .setOutputCol(\"filtered\")\n",
        "\n",
        "stop_words[0:10]"
      ],
      "execution_count": 26,
      "outputs": [
        {
          "output_type": "execute_result",
          "data": {
            "text/plain": [
              "['a',\n",
              " 'about',\n",
              " 'above',\n",
              " 'across',\n",
              " 'after',\n",
              " 'afterwards',\n",
              " 'again',\n",
              " 'against',\n",
              " 'all',\n",
              " 'almost']"
            ]
          },
          "metadata": {
            "tags": []
          },
          "execution_count": 26
        }
      ]
    },
    {
      "cell_type": "code",
      "metadata": {
        "id": "s6m9blzJZGn_"
      },
      "source": [
        "pipeline_cv_estimator = Pipeline(stages=[tokenizer, sw_filter, count_vectorizer_estimator])"
      ],
      "execution_count": 27,
      "outputs": []
    },
    {
      "cell_type": "code",
      "metadata": {
        "id": "7l7nO_oHZGn_"
      },
      "source": [
        "pipeline_cv_transformer = pipeline_cv_estimator.fit(grocery_food)"
      ],
      "execution_count": 28,
      "outputs": []
    },
    {
      "cell_type": "code",
      "metadata": {
        "id": "u_3Z1utaZGn_"
      },
      "source": [
        "dataset = pipeline_cv_transformer.transform(grocery_food)"
      ],
      "execution_count": 29,
      "outputs": []
    },
    {
      "cell_type": "code",
      "metadata": {
        "id": "EAkBlILZZGn_"
      },
      "source": [
        ""
      ],
      "execution_count": 33,
      "outputs": []
    },
    {
      "cell_type": "markdown",
      "metadata": {
        "id": "WYrrYA2yZGoA"
      },
      "source": [
        "### Predict Rating"
      ]
    },
    {
      "cell_type": "code",
      "metadata": {
        "id": "8rAL58yqimiZ"
      },
      "source": [
        "dataframe_new = pyspark.sql.DataFrame.sample(dataset, .01, seed=None)"
      ],
      "execution_count": 30,
      "outputs": []
    },
    {
      "cell_type": "code",
      "metadata": {
        "colab": {
          "base_uri": "https://localhost:8080/"
        },
        "id": "sFnq4HUJZGoA",
        "outputId": "06249b46-619b-4ad3-d634-374b84cddcea"
      },
      "source": [
        "(trainingData, testData) = dataframe_new.randomSplit([0.7, 0.3], seed = 100)\n",
        "print(\"Training Dataset Count: \" + str(trainingData.count()))\n",
        "print(\"Test Dataset Count: \" + str(testData.count()))"
      ],
      "execution_count": 31,
      "outputs": [
        {
          "output_type": "stream",
          "text": [
            "Training Dataset Count: 35358\n",
            "Test Dataset Count: 15161\n"
          ],
          "name": "stdout"
        }
      ]
    },
    {
      "cell_type": "code",
      "metadata": {
        "colab": {
          "base_uri": "https://localhost:8080/"
        },
        "id": "8K0fQzJXZGoA",
        "outputId": "86f3f042-0a7e-4b52-be82-8036222a07e9"
      },
      "source": [
        "from pyspark.ml.classification import LogisticRegression\n",
        "lr = LogisticRegression(labelCol='overall',featuresCol='features', maxIter=20, regParam=0.3, elasticNetParam=0)\n",
        "lrModel = lr.fit(trainingData)\n",
        "predictions = lrModel.transform(testData)\n",
        "predictions.filter(predictions['prediction'] == 1.0) \\\n",
        "    .select(\"reviewText\",\"overall\",\"probability\",\"prediction\") \\\n",
        "    .orderBy(\"probability\", ascending=False) \\\n",
        "    .show(n = 10, truncate = 30)"
      ],
      "execution_count": 32,
      "outputs": [
        {
          "output_type": "stream",
          "text": [
            "+------------------------------+-------+------------------------------+----------+\n",
            "|                    reviewText|overall|                   probability|prediction|\n",
            "+------------------------------+-------+------------------------------+----------+\n",
            "|Most of the candies explode...|    1.0|[4.974632712319836E-5,0.242...|       1.0|\n",
            "|Did not like the product ov...|    2.0|[4.958191484278297E-5,0.256...|       1.0|\n",
            "|I had a lot of hard, burnt ...|    2.0|[4.921113730042096E-5,0.277...|       1.0|\n",
            "|I don't know if I got an ol...|    2.0|[4.9119477588068636E-5,0.23...|       1.0|\n",
            "|I bought this flavor becaus...|    3.0|[4.868604342071291E-5,0.236...|       1.0|\n",
            "|I am not sure if I just got...|    5.0|[4.847781940297389E-5,0.310...|       1.0|\n",
            "|I realllllly realllly tried...|    1.0|[4.829369154448379E-5,0.271...|       1.0|\n",
            "|Bought the pack of 4. Manag...|    2.0|[4.770776629591686E-5,0.284...|       1.0|\n",
            "|I did not like this at all,...|    1.0|[4.758157214306874E-5,0.316...|       1.0|\n",
            "|Voss sparkling water is gre...|    5.0|[4.757813564594642E-5,0.322...|       1.0|\n",
            "+------------------------------+-------+------------------------------+----------+\n",
            "only showing top 10 rows\n",
            "\n"
          ],
          "name": "stdout"
        }
      ]
    },
    {
      "cell_type": "code",
      "metadata": {
        "colab": {
          "base_uri": "https://localhost:8080/"
        },
        "id": "SVkyArYKZGoB",
        "outputId": "8cc2cd0f-e50a-4147-c508-f97689574144"
      },
      "source": [
        "from pyspark.ml.evaluation import MulticlassClassificationEvaluator\n",
        "evaluator = MulticlassClassificationEvaluator(labelCol='overall', predictionCol=\"prediction\")\n",
        "evaluator.evaluate(predictions)"
      ],
      "execution_count": 33,
      "outputs": [
        {
          "output_type": "execute_result",
          "data": {
            "text/plain": [
              "0.6312249772342636"
            ]
          },
          "metadata": {
            "tags": []
          },
          "execution_count": 33
        }
      ]
    },
    {
      "cell_type": "code",
      "metadata": {
        "id": "l7iBvMNcTGiZ"
      },
      "source": [
        "import pyspark.sql.functions as F\n",
        "pred_grouped = predictions.withColumn('flag', F.when(((F.col(\"prediction\") <= F.lit(3)) & (F.col(\"overall\") <= F.lit(3))) | ((F.col(\"prediction\") > F.lit(3)) & (F.col(\"overall\") > F.lit(3))), 1).otherwise(0))\n"
      ],
      "execution_count": 34,
      "outputs": []
    },
    {
      "cell_type": "code",
      "metadata": {
        "colab": {
          "base_uri": "https://localhost:8080/"
        },
        "id": "7NbNlX1mIstW",
        "outputId": "0e042740-696f-4e0c-88dd-f6458ef83fd1"
      },
      "source": [
        "pred_grouped.take(1)"
      ],
      "execution_count": 35,
      "outputs": [
        {
          "output_type": "execute_result",
          "data": {
            "text/plain": [
              "[Row(asin='9552900026', overall=5.0, reviewText=\"It's magic how well this stuff works. And the shipping was incredible fast. Both thumbs up!\", summary='Five Stars', words=[\"it's\", 'magic', 'how', 'well', 'this', 'stuff', 'works.', 'and', 'the', 'shipping', 'was', 'incredible', 'fast.', 'both', 'thumbs', 'up!'], filtered=[\"it's\", 'magic', 'stuff', 'works.', 'shipping', 'incredible', 'fast.', 'thumbs', 'up!'], features=SparseVector(262144, {0: 1.0, 2: 1.0, 7: 1.0, 15: 1.0, 39: 1.0, 106: 1.0, 145: 1.0, 186: 1.0, 300: 1.0, 336: 1.0, 1360: 1.0, 2327: 1.0, 2482: 1.0, 2832: 1.0, 2947: 1.0, 3156: 1.0}), rawPrediction=DenseVector([-6.9048, 0.4795, 0.1422, 0.4329, 1.9544, 3.8957]), probability=DenseVector([0.0, 0.0267, 0.019, 0.0255, 0.1166, 0.8122]), prediction=5.0, flag=1)]"
            ]
          },
          "metadata": {
            "tags": []
          },
          "execution_count": 35
        }
      ]
    },
    {
      "cell_type": "code",
      "metadata": {
        "colab": {
          "base_uri": "https://localhost:8080/"
        },
        "id": "WsR2Evt_G6cD",
        "outputId": "530408d0-a35b-41d0-df2d-00a3a463b168"
      },
      "source": [
        "pred_grouped.select(F.sum('flag')/count('flag')).collect()[0][0]\n",
        "#make 3 negative or ignore 3"
      ],
      "execution_count": 36,
      "outputs": [
        {
          "output_type": "execute_result",
          "data": {
            "text/plain": [
              "0.8389288305520745"
            ]
          },
          "metadata": {
            "tags": []
          },
          "execution_count": 36
        }
      ]
    },
    {
      "cell_type": "code",
      "metadata": {
        "colab": {
          "base_uri": "https://localhost:8080/"
        },
        "id": "w-Ck0uk5J4di",
        "outputId": "651957db-6af7-4b00-a6ac-3b3d72feaad6"
      },
      "source": [
        "trainingSummary = lrModel.summary\n",
        "\n",
        "accuracy = trainingSummary.accuracy\n",
        "falsePositiveRate = trainingSummary.weightedFalsePositiveRate\n",
        "truePositiveRate = trainingSummary.weightedTruePositiveRate\n",
        "print(accuracy, falsePositiveRate, truePositiveRate)"
      ],
      "execution_count": 41,
      "outputs": [
        {
          "output_type": "stream",
          "text": [
            "0.8651278887143818 0.31781323565066094 0.8651278887143818\n"
          ],
          "name": "stdout"
        }
      ]
    },
    {
      "cell_type": "code",
      "metadata": {
        "colab": {
          "base_uri": "https://localhost:8080/"
        },
        "id": "ISHfNN-lNdov",
        "outputId": "e51bf1a4-9218-4f38-b26d-ce77ad628ddf"
      },
      "source": [
        "dataframe_new.show()"
      ],
      "execution_count": 42,
      "outputs": [
        {
          "output_type": "stream",
          "text": [
            "+----------+-------+--------------------+--------------------+--------------------+--------------------+--------------------+\n",
            "|      asin|overall|          reviewText|             summary|               words|            filtered|            features|\n",
            "+----------+-------+--------------------+--------------------+--------------------+--------------------+--------------------+\n",
            "|B00005344V|    5.0|This stuff cleare...|I now only have t...|[this, stuff, cle...|[stuff, cleared, ...|(262144,[0,1,2,3,...|\n",
            "|B00005344V|    5.0|I have mild, alle...|    Breathe Easy Tea|[i, have, mild,, ...|[mild,, allergy-i...|(262144,[0,1,2,3,...|\n",
            "|B000053408|    5.0|   Just as described|                Fast|[just, as, descri...|   [just, described]|(262144,[19,31,11...|\n",
            "|B00005IX97|    5.0|Now I'm ordering ...|Perfect No Mess Pods|[now, i'm, orderi...|[i'm, ordering, b...|(262144,[0,1,2,4,...|\n",
            "|B00006429V|    5.0|This piece was so...|Absolutely gorgeo...|[this, piece, was...|[piece, beautiful...|(262144,[2,3,4,5,...|\n",
            "|B00006BN4U|    5.0|  Good job.  Thanks!|          Five Stars|[good, job., , th...|[good, job., , th...|(262144,[4,27,162...|\n",
            "|B00006BN4U|    2.0|I looked for thes...|These aren't how ...|[i, looked, for, ...|[looked, favorite...|(262144,[0,1,2,4,...|\n",
            "|B00006FMLY|    5.0|               great|          Five Stars|             [great]|             [great]| (262144,[22],[1.0])|\n",
            "|B00006FMLY|    5.0|These are great. ...|          Five Stars|[these, are, grea...|[great., cute, ch...|(262144,[2,20,28,...|\n",
            "|B00006FWVX|    1.0|made my icing tas...|            One Star|[made, my, icing,...|[icing, taste, li...|(262144,[12,24,32...|\n",
            "|B00006G930|    5.0|My mom used this ...|I think taste is ...|[my, mom, used, t...|[mom, used, frost...|(262144,[0,1,2,3,...|\n",
            "|B00006IDK9|    5.0|                  :)|          Five Stars|                [:)]|                [:)]|(262144,[458],[1.0])|\n",
            "|B00006IDK9|    5.0|I can't stop eati...|delicious wafer s...|[i, can't, stop, ...|[can't, stop, eat...|(262144,[1,5,39,7...|\n",
            "|B000089D9T|    5.0|These individual ...|Perfect for the o...|[these, individua...|[individual, cups...|(262144,[0,2,4,5,...|\n",
            "|B00008RCN8|    5.0|I am well satisfi...|I am well satisfi...|[i, am, well, sat...|[satisfied, gum.,...|(262144,[0,1,2,4,...|\n",
            "|B00008RCN8|    5.0|Great price and g...|          Five Stars|[great, price, an...|[great, price, gr...|(262144,[2,22,32,...|\n",
            "|B00008RCN8|    5.0|My favorite flavo...|My favorite flavo...|[my, favorite, fl...|[favorite, flavor...|(262144,[4,6,12,3...|\n",
            "|B00008RCN8|    5.0|Economic way to e...|            Good Buy|[economic, way, t...|[economic, way, e...|(262144,[5,122,23...|\n",
            "|B00008RCN8|    5.0|         Nice flavor|          Five Stars|      [nice, flavor]|      [nice, flavor]|(262144,[46,102],...|\n",
            "|B00008RCN8|    5.0|If you like minty...|Promotes Fresh Br...|[if, you, like, m...|[like, minty, gum...|(262144,[0,4,7,9,...|\n",
            "+----------+-------+--------------------+--------------------+--------------------+--------------------+--------------------+\n",
            "only showing top 20 rows\n",
            "\n"
          ],
          "name": "stdout"
        }
      ]
    },
    {
      "cell_type": "code",
      "metadata": {
        "id": "58nhRXBLMIhA"
      },
      "source": [
        "#use tf-idf\n",
        "from pyspark.ml.feature import HashingTF, IDF\n",
        "hashingTF = HashingTF(inputCol=\"filtered\", outputCol=\"rawFeatures\", numFeatures=10000)\n",
        "idf = IDF(inputCol=\"rawFeatures\", outputCol=\"features_new\", minDocFreq=5) #minDocFreq: remove sparse terms\n",
        "pipeline = Pipeline(stages=[tokenizer, sw_filter, hashingTF, idf])\n",
        "pipelineFit = pipeline.fit(grocery_food)\n",
        "dataset = pipelineFit.transform(grocery_food)\n",
        "(trainingData, testData) = dataset.randomSplit([0.7, 0.3], seed = 100)\n",
        "lr = LogisticRegression(labelCol='overall',featuresCol='features_new',maxIter=20, regParam=0.3, elasticNetParam=0)\n",
        "lrModel = lr.fit(trainingData)\n",
        "predictions = lrModel.transform(testData)\n"
      ],
      "execution_count": 43,
      "outputs": []
    },
    {
      "cell_type": "code",
      "metadata": {
        "colab": {
          "base_uri": "https://localhost:8080/"
        },
        "id": "OpwcLSRaV-lT",
        "outputId": "ea895bc8-14c5-406b-e269-ae8b00eb21e3"
      },
      "source": [
        "predictions.filter(predictions['prediction'] == 1.0) \\\n",
        "    .select(\"overall\",\"reviewText\",\"probability\",\"prediction\") \\\n",
        "    .orderBy(\"probability\", ascending=False) \\\n",
        "    .show(n = 10, truncate = 30)"
      ],
      "execution_count": 44,
      "outputs": [
        {
          "output_type": "stream",
          "text": [
            "+-------+------------------------------+------------------------------+----------+\n",
            "|overall|                    reviewText|                   probability|prediction|\n",
            "+-------+------------------------------+------------------------------+----------+\n",
            "|    1.0|It was ordered as an add on...|[5.070561816939754E-7,0.211...|       1.0|\n",
            "|    1.0|It was highly recommended t...|[5.070229971549751E-7,0.209...|       1.0|\n",
            "|    2.0|All the ingredients looked ...|[5.064961642936127E-7,0.219...|       1.0|\n",
            "|    3.0|I wanted to like this healt...|[5.063017905944089E-7,0.224...|       1.0|\n",
            "|    1.0|The tea is fragrant but lac...|[5.061964635132904E-7,0.217...|       1.0|\n",
            "|    1.0|While the writeup here does...|[5.060956934631534E-7,0.217...|       1.0|\n",
            "|    3.0|I've tried a couple of flav...|[5.058414129838791E-7,0.216...|       1.0|\n",
            "|    4.0|I love these rice noodles! ...|[5.05839839118438E-7,0.2150...|       1.0|\n",
            "|    2.0|I have been eating Smucker'...|[5.05666613781337E-7,0.2265...|       1.0|\n",
            "|    3.0|These do not taste like sri...|[5.055359588024197E-7,0.218...|       1.0|\n",
            "+-------+------------------------------+------------------------------+----------+\n",
            "only showing top 10 rows\n",
            "\n"
          ],
          "name": "stdout"
        }
      ]
    },
    {
      "cell_type": "code",
      "metadata": {
        "id": "WyRKSIYRYQJ7"
      },
      "source": [
        "pred_grouped = predictions.withColumn('flag', F.when(((F.col(\"prediction\") <= F.lit(3)) & (F.col(\"overall\") <= F.lit(3))) | ((F.col(\"prediction\") > F.lit(3)) & (F.col(\"overall\") > F.lit(3))), 1).otherwise(0))"
      ],
      "execution_count": 45,
      "outputs": []
    },
    {
      "cell_type": "code",
      "metadata": {
        "colab": {
          "base_uri": "https://localhost:8080/"
        },
        "id": "9hRSckHMYUvw",
        "outputId": "39ee5c95-4e65-4eed-d52c-3dd7addefaf8"
      },
      "source": [
        "pred_grouped.select(F.sum('flag')/count('flag')).collect()[0][0]"
      ],
      "execution_count": 46,
      "outputs": [
        {
          "output_type": "execute_result",
          "data": {
            "text/plain": [
              "0.8383046196707926"
            ]
          },
          "metadata": {
            "tags": []
          },
          "execution_count": 46
        }
      ]
    },
    {
      "cell_type": "markdown",
      "metadata": {
        "id": "R3HVswjDKss-"
      },
      "source": [
        "### Random Forest"
      ]
    },
    {
      "cell_type": "code",
      "metadata": {
        "id": "ycxJd0blZGoB"
      },
      "source": [
        "dataframe_new = pyspark.sql.DataFrame.sample(dataset, .01, seed=None)"
      ],
      "execution_count": 47,
      "outputs": []
    },
    {
      "cell_type": "code",
      "metadata": {
        "colab": {
          "base_uri": "https://localhost:8080/"
        },
        "id": "58KftRIxHrTa",
        "outputId": "926eb85a-110e-4462-e7cc-0322f693cbfd"
      },
      "source": [
        "dataframe_new.show()"
      ],
      "execution_count": 48,
      "outputs": [
        {
          "output_type": "stream",
          "text": [
            "+----------+-------+--------------------+--------------------+--------------------+--------------------+--------------------+--------------------+\n",
            "|      asin|overall|          reviewText|             summary|               words|            filtered|         rawFeatures|        features_new|\n",
            "+----------+-------+--------------------+--------------------+--------------------+--------------------+--------------------+--------------------+\n",
            "|4639725183|    4.0|Tea made with Lip...|          Four Stars|[tea, made, with,...|[tea, lipton, yel...|(10000,[2366,2543...|(10000,[2366,2543...|\n",
            "|4639725043|    5.0|We discovered 'Ye...|   Fresh, strong tea|[we, discovered, ...|[discovered, 'yel...|(10000,[576,693,1...|(10000,[576,693,1...|\n",
            "|5463213682|    5.0|        Great Coffee|          Five Stars|     [great, coffee]|     [great, coffee]|(10000,[750,2700]...|(10000,[750,2700]...|\n",
            "|5463213682|    1.0|Don't buy this pr...| Astroturfed reviews|[don't, buy, this...|[don't, buy, prod...|(10000,[80,2685,2...|(10000,[80,2685,2...|\n",
            "|9742356831|    5.0|Great flavor.  Ta...|     Yummy and spicy|[great, flavor., ...|[great, flavor., ...|(10000,[129,750,1...|(10000,[129,750,1...|\n",
            "|9742356831|    5.0|This green curry ...|homemade - restau...|[this, green, cur...|[green, curry, pa...|(10000,[513,551,7...|(10000,[513,551,7...|\n",
            "|B00004W4VD|    5.0|I had no idea tha...|          Hamburger?|[i, had, no, idea...|[idea, lean, hamb...|(10000,[44,973,11...|(10000,[44,973,11...|\n",
            "|B00005344V|    5.0|I had TB when I l...|Can't live withou...|[i, had, tb, when...|[tb, lived, mexic...|(10000,[691,1814,...|(10000,[691,1814,...|\n",
            "|B00005AS53|    5.0|This container re...|Really Keeps Bean...|[this, container,...|[container, reall...|(10000,[234,307,6...|(10000,[234,307,6...|\n",
            "|B00005AS53|    3.0|This has a 0.75 L...|Buy Vacuum Food S...|[this, has, a, 0....|[0.75, liter, (va...|(10000,[80,133,23...|(10000,[80,133,23...|\n",
            "|B00005OTYO|    3.0|      It's rock salt|         Three Stars|  [it's, rock, salt]|  [it's, rock, salt]|(10000,[574,3703,...|(10000,[574,3703,...|\n",
            "|B00006B5UX|    5.0|I want to order t...|            question|[i, want, to, ord...|[want, order, the...|(10000,[717,1226,...|(10000,[717,1226,...|\n",
            "|B00006BN4U|    5.0|I wish more place...|                love|[i, wish, more, p...|[wish, places, ca...|(10000,[495,2811,...|(10000,[495,2811,...|\n",
            "|B00006BN4U|    5.0|<div id=\"video-bl...|         Love these!|[<div, id=\"video-...|[<div, id=\"video-...|(10000,[165,447,4...|(10000,[165,447,4...|\n",
            "|B00006BN4U|    4.0|I've always had a...|Looks Terrible, T...|[i've, always, ha...|[i've, bit, issue...|(10000,[1,165,197...|(10000,[1,165,197...|\n",
            "|B00006IDK9|    5.0|These wafers are ...|          Delicious!|[these, wafers, a...|[wafers, incredib...|(10000,[552,697,7...|(10000,[552,697,7...|\n",
            "|B00006IDK9|    5.0|    Delicious treat.|          Five Stars| [delicious, treat.]| [delicious, treat.]|(10000,[6726,9066...|(10000,[6726,9066...|\n",
            "|B00006IDK9|    1.0|All my cookies we...|            One Star|[all, my, cookies...|[cookies, broken,...|(10000,[1910,2328...|(10000,[1910,2328...|\n",
            "|B00008CQRK|    5.0|My favorite coffe...|         Best coffee|[my, favorite, co...|[favorite, coffee...|(10000,[177,552,7...|(10000,[177,552,7...|\n",
            "|B00008CQRK|    4.0|Very good coffee ...|          Four Stars|[very, good, coff...|[good, coffee, -,...|(10000,[288,1152,...|(10000,[288,1152,...|\n",
            "+----------+-------+--------------------+--------------------+--------------------+--------------------+--------------------+--------------------+\n",
            "only showing top 20 rows\n",
            "\n"
          ],
          "name": "stdout"
        }
      ]
    },
    {
      "cell_type": "code",
      "metadata": {
        "colab": {
          "base_uri": "https://localhost:8080/"
        },
        "id": "0ThhxnoIm1Tm",
        "outputId": "b88f9ea3-030c-4714-bc85-364f24b29bf7"
      },
      "source": [
        "(trainingData, testData) = dataframe_new.randomSplit([0.7, 0.3], seed = 100)\n",
        "print(\"Training Dataset Count: \" + str(trainingData.count()))\n",
        "print(\"Test Dataset Count: \" + str(testData.count()))"
      ],
      "execution_count": 49,
      "outputs": [
        {
          "output_type": "stream",
          "text": [
            "Training Dataset Count: 35456\n",
            "Test Dataset Count: 15197\n"
          ],
          "name": "stdout"
        }
      ]
    },
    {
      "cell_type": "code",
      "metadata": {
        "colab": {
          "base_uri": "https://localhost:8080/"
        },
        "id": "hEPAjhGYZGoB",
        "outputId": "f752a8c6-30b4-4f08-f0d8-974501744a33"
      },
      "source": [
        "from pyspark.ml.classification import RandomForestClassifier\n",
        "rf = RandomForestClassifier(labelCol=\"overall\", \\\n",
        "                            featuresCol=\"features_new\")\n",
        "# Train model with Training Data\n",
        "rfModel = rf.fit(trainingData)\n",
        "predictions = rfModel.transform(testData)\n",
        "predictions.filter(predictions['prediction'] == 5.0) \\\n",
        "    .select(\"reviewText\",\"overall\",\"probability\",\"prediction\") \\\n",
        "    .orderBy(\"probability\", ascending=False) \\\n",
        "    .show(n = 10, truncate = 30)"
      ],
      "execution_count": 50,
      "outputs": [
        {
          "output_type": "stream",
          "text": [
            "+------------------------------+-------+------------------------------+----------+\n",
            "|                    reviewText|overall|                   probability|prediction|\n",
            "+------------------------------+-------+------------------------------+----------+\n",
            "|I was excited to be able to...|    1.0|[0.0,0.20688356323070303,0....|       5.0|\n",
            "|These things are vile.  I w...|    1.0|[0.0,0.20583111874409177,0....|       5.0|\n",
            "|Bars were hard, broken and ...|    1.0|[0.0,0.17900660520744327,0....|       5.0|\n",
            "|I had been anxiously awaiti...|    3.0|[0.0,0.17690486109043618,0....|       5.0|\n",
            "|The lemon bars didn't come ...|    1.0|[0.0,0.17473131366057953,0....|       5.0|\n",
            "|I bought these for my son w...|    1.0|[0.0,0.16898480426018592,0....|       5.0|\n",
            "|The worst hot cocoa I have ...|    1.0|[0.0,0.16617529068535614,0....|       5.0|\n",
            "|I ordered these after heari...|    1.0|[0.0,0.16535975535628242,0....|       5.0|\n",
            "|This is one of my preferred...|    5.0|[0.0,0.16457014899885897,0....|       5.0|\n",
            "|I ordered like 2 packages o...|    1.0|[0.0,0.16297822382147728,0....|       5.0|\n",
            "+------------------------------+-------+------------------------------+----------+\n",
            "only showing top 10 rows\n",
            "\n"
          ],
          "name": "stdout"
        }
      ]
    },
    {
      "cell_type": "code",
      "metadata": {
        "id": "LaOW6bFEZGoC",
        "colab": {
          "base_uri": "https://localhost:8080/"
        },
        "outputId": "fc903beb-4bd6-428e-f5ed-ffb16138d4b9"
      },
      "source": [
        "from pyspark.ml.evaluation import MulticlassClassificationEvaluator\n",
        "evaluator = MulticlassClassificationEvaluator(labelCol='overall', predictionCol=\"prediction\")\n",
        "evaluator.evaluate(predictions)"
      ],
      "execution_count": 51,
      "outputs": [
        {
          "output_type": "execute_result",
          "data": {
            "text/plain": [
              "0.5807869549805034"
            ]
          },
          "metadata": {
            "tags": []
          },
          "execution_count": 51
        }
      ]
    },
    {
      "cell_type": "code",
      "metadata": {
        "id": "h6SB6Eqmpljd"
      },
      "source": [
        "pred_grouped = predictions.withColumn('flag', F.when(((F.col(\"prediction\") <= F.lit(3)) & (F.col(\"overall\") <= F.lit(3))) | ((F.col(\"prediction\") > F.lit(3)) & (F.col(\"overall\") > F.lit(3))), 1).otherwise(0))"
      ],
      "execution_count": 52,
      "outputs": []
    },
    {
      "cell_type": "code",
      "metadata": {
        "colab": {
          "base_uri": "https://localhost:8080/"
        },
        "id": "bkpSfuxDps4C",
        "outputId": "27d0d25a-0705-4eb8-dd3c-ab31ea075d92"
      },
      "source": [
        "pred_grouped.select(F.sum('flag')/count('flag')).collect()[0][0]"
      ],
      "execution_count": 53,
      "outputs": [
        {
          "output_type": "execute_result",
          "data": {
            "text/plain": [
              "0.8114101467394881"
            ]
          },
          "metadata": {
            "tags": []
          },
          "execution_count": 53
        }
      ]
    },
    {
      "cell_type": "code",
      "metadata": {
        "id": "PLjowKquICBq",
        "colab": {
          "base_uri": "https://localhost:8080/"
        },
        "outputId": "10f1a2a1-5e2b-4352-e95e-8c8863711d8e"
      },
      "source": [
        "pred_grouped.show()"
      ],
      "execution_count": 42,
      "outputs": [
        {
          "output_type": "stream",
          "text": [
            "+----------+-------+--------------------+--------------------+--------------------+--------------------+--------------------+--------------------+--------------------+----------+----+\n",
            "|      asin|overall|          reviewText|             summary|               words|            filtered|            features|       rawPrediction|         probability|prediction|flag|\n",
            "+----------+-------+--------------------+--------------------+--------------------+--------------------+--------------------+--------------------+--------------------+----------+----+\n",
            "|9552900026|    5.0|It's magic how we...|          Five Stars|[it's, magic, how...|[it's, magic, stu...|(262144,[0,2,7,15...|[-6.9047523989905...|[1.65621389700216...|       5.0|   1|\n",
            "|B00004S1C5|    1.0|         Not organic|This shows up on ...|      [not, organic]|           [organic]|(262144,[14,227],...|[-6.9041610564757...|[2.74996486037243...|       5.0|   0|\n",
            "|B00004S1C5|    5.0|Colors without ad...|        Does the job|[colors, without,...|[colors, adding, ...|(262144,[0,2,4,10...|[-6.9049409757012...|[2.23864575949814...|       5.0|   1|\n",
            "|B00005AS53|    5.0|The Vacu Vin coff...|Keeping my coffee...|[the, vacu, vin, ...|[vacu, vin, coffe...|(262144,[0,2,3,4,...|[-6.9074225466370...|[5.40083540399227...|       5.0|   1|\n",
            "|B00006429V|    5.0|This beautiful Le...|Absolutely elegan...|[this, beautiful,...|[beautiful, lenox...|(262144,[1,2,3,4,...|[-6.9051778998236...|[7.44099009182670...|       5.0|   1|\n",
            "|B00006FWVX|    5.0|I use these to co...|         Works great|[i, use, these, t...|[use, color, cand...|(262144,[0,1,2,5,...|[-6.9046562163358...|[3.03825367946953...|       5.0|   1|\n",
            "|B00006IDJU|    4.0|More flavorful th...|          Four Stars|[more, flavorful,...|[flavorful, , \"su...|(262144,[4,51,52,...|[-6.9043714818274...|[1.99665676780787...|       5.0|   1|\n",
            "|B00008RCN8|    3.0|Remix to what?  S...|Hot and Fresh out...|[remix, to, what?...|[remix, what?, , ...|(262144,[0,1,3,4,...|[-6.9085127271847...|[3.23239737678715...|       5.0|   0|\n",
            "|B00008RCN8|    5.0|I sent these to o...|     Favorite flavor|[i, sent, these, ...|[sent, troops, af...|(262144,[0,1,2,5,...|[-6.9049068140056...|[1.50044585560930...|       5.0|   1|\n",
            "|B0000A0BS3|    5.0|This coffee is so...|    Delicious Decaf!|[this, coffee, is...|[coffee, sooooooo...|(262144,[0,1,2,3,...|[-6.9103234795819...|[1.46227712028599...|       5.0|   1|\n",
            "|B0000A0BS3|    5.0|          good price|          Five Stars|       [good, price]|       [good, price]|(262144,[27,87],[...|[-6.9042185541640...|[2.50208162552010...|       5.0|   1|\n",
            "|B0000A0BS5|    5.0|Exactly what we w...|          Five Stars|[exactly, what, w...|   [exactly, wanted]|(262144,[48,69,32...|[-6.9042945731912...|[2.47850088495748...|       5.0|   1|\n",
            "|B0000A1OEF|    5.0|I received this p...|              Happy!|[i, received, thi...|[received, produc...|(262144,[0,1,3,7,...|[-6.9049662349889...|[2.56257780493628...|       5.0|   1|\n",
            "|B0000CDBPT|    5.0|I buy these spice...|          Five Stars|[i, buy, these, s...|[buy, spices, ama...|(262144,[1,28,41,...|[-6.9046762926216...|[1.51191448961769...|       5.0|   1|\n",
            "|B0000CEO8F|    5.0|My daughter's fav...|               Great|[my, daughter's, ...|[daughter's, favo...|(262144,[12,1807,...|[-6.9042199383141...|[1.80974943336216...|       5.0|   1|\n",
            "|B0000CFH7B|    5.0|So shiney and chr...|          Five Stars|[so, shiney, and,...|   [shiney, chrome.]|(262144,[2,26,503...|[-6.9041561062660...|[2.41749042984046...|       5.0|   1|\n",
            "|B0000CFPI2|    3.0|TL:DR First off, ...|Less than $7 for ...|[tl:dr, first, of...|[tl:dr, off,, 3, ...|(262144,[0,1,2,3,...|[-6.9127306794098...|[2.68409651423520...|       4.0|   0|\n",
            "|B0000CFPI2|    5.0|I love making dee...|Best jerky seasoning|[i, love, making,...|[love, making, de...|(262144,[1,2,3,5,...|[-6.9062310394980...|[2.06034481215357...|       5.0|   1|\n",
            "|B0000CFPI2|    5.0|Its the only seas...|Its the only seas...|[its, the, only, ...|[seasoning, mix, ...|(262144,[0,1,2,3,...|[-6.9048740368076...|[1.65584156770775...|       5.0|   1|\n",
            "|B0000CFPI2|    5.0|This product was ...|Easy way to good ...|[this, product, w...|[product, purchas...|(262144,[0,1,3,6,...|[-6.9053054604338...|[2.50626603593595...|       5.0|   1|\n",
            "+----------+-------+--------------------+--------------------+--------------------+--------------------+--------------------+--------------------+--------------------+----------+----+\n",
            "only showing top 20 rows\n",
            "\n"
          ],
          "name": "stdout"
        }
      ]
    },
    {
      "cell_type": "markdown",
      "metadata": {
        "id": "lxvPtLTU9JGD"
      },
      "source": [
        "### Sentiment Analysis"
      ]
    },
    {
      "cell_type": "code",
      "metadata": {
        "id": "MHlXdh1mj4Ut"
      },
      "source": [
        "from pyspark.sql.functions import udf\n",
        "from pyspark.sql.types import StringType\n"
      ],
      "execution_count": 43,
      "outputs": []
    },
    {
      "cell_type": "code",
      "metadata": {
        "id": "0TNBISGD2Mjq"
      },
      "source": [
        "from pyspark.sql.types import FloatType\n",
        "\n",
        "from textblob import TextBlob\n",
        "\n",
        "def sentiment_analysis(text):\n",
        "    return TextBlob(text).sentiment.polarity\n",
        "\n",
        "sentiment_analysis_udf = udf(sentiment_analysis , FloatType())"
      ],
      "execution_count": 44,
      "outputs": []
    },
    {
      "cell_type": "code",
      "metadata": {
        "id": "ZTM0t57h-biD"
      },
      "source": [
        "pred_grouped = pred_grouped.withColumn(\"sentiment_score\", sentiment_analysis_udf(pred_grouped['reviewText'] ))"
      ],
      "execution_count": 45,
      "outputs": []
    },
    {
      "cell_type": "code",
      "metadata": {
        "id": "t6BQsKPO-jUf"
      },
      "source": [
        "def condition(r):\n",
        "    if (r >0):\n",
        "        label = \"positive\"\n",
        "    elif(r <= 0):\n",
        "        label = \"negative\"\n",
        "    return label\n",
        "\n",
        "sentiment_udf = udf(lambda x: condition(x), StringType())"
      ],
      "execution_count": 48,
      "outputs": []
    },
    {
      "cell_type": "code",
      "metadata": {
        "colab": {
          "base_uri": "https://localhost:8080/"
        },
        "id": "WLm01njf_LDg",
        "outputId": "f5c75aa8-345d-4b76-d582-6551863c488c"
      },
      "source": [
        "pred_grouped.withColumn(\"sentiment\", sentiment_udf(pred_grouped['sentiment_score'] )).show()"
      ],
      "execution_count": 49,
      "outputs": [
        {
          "output_type": "stream",
          "text": [
            "+----------+-------+--------------------+--------------------+--------------------+--------------------+--------------------+--------------------+--------------------+----------+----+---------------+---------+\n",
            "|      asin|overall|          reviewText|             summary|               words|            filtered|            features|       rawPrediction|         probability|prediction|flag|sentiment_score|sentiment|\n",
            "+----------+-------+--------------------+--------------------+--------------------+--------------------+--------------------+--------------------+--------------------+----------+----+---------------+---------+\n",
            "|9552900026|    5.0|It's magic how we...|          Five Stars|[it's, magic, how...|[it's, magic, stu...|(262144,[0,2,7,15...|[-6.9047523989905...|[1.65621389700216...|       5.0|   1|           0.55| positive|\n",
            "|B00004S1C5|    1.0|         Not organic|This shows up on ...|      [not, organic]|           [organic]|(262144,[14,227],...|[-6.9041610564757...|[2.74996486037243...|       5.0|   0|            0.0| negative|\n",
            "|B00004S1C5|    5.0|Colors without ad...|        Does the job|[colors, without,...|[colors, adding, ...|(262144,[0,2,4,10...|[-6.9049409757012...|[2.23864575949814...|       5.0|   1|          0.175| positive|\n",
            "|B00005AS53|    5.0|The Vacu Vin coff...|Keeping my coffee...|[the, vacu, vin, ...|[vacu, vin, coffe...|(262144,[0,2,3,4,...|[-6.9074225466370...|[5.40083540399227...|       5.0|   1|     0.16145833| positive|\n",
            "|B00006429V|    5.0|This beautiful Le...|Absolutely elegan...|[this, beautiful,...|[beautiful, lenox...|(262144,[1,2,3,4,...|[-6.9051778998236...|[7.44099009182670...|       5.0|   1|      0.6791667| positive|\n",
            "|B00006FWVX|    5.0|I use these to co...|         Works great|[i, use, these, t...|[use, color, cand...|(262144,[0,1,2,5,...|[-6.9046562163358...|[3.03825367946953...|       5.0|   1|     0.16666667| positive|\n",
            "|B00006IDJU|    4.0|More flavorful th...|          Four Stars|[more, flavorful,...|[flavorful, , \"su...|(262144,[4,51,52,...|[-6.9043714818274...|[1.99665676780787...|       5.0|   1|           0.45| positive|\n",
            "|B00008RCN8|    3.0|Remix to what?  S...|Hot and Fresh out...|[remix, to, what?...|[remix, what?, , ...|(262144,[0,1,3,4,...|[-6.9085127271847...|[3.23239737678715...|       5.0|   0|     0.25483194| positive|\n",
            "|B00008RCN8|    5.0|I sent these to o...|     Favorite flavor|[i, sent, these, ...|[sent, troops, af...|(262144,[0,1,2,5,...|[-6.9049068140056...|[1.50044585560930...|       5.0|   1|           0.65| positive|\n",
            "|B0000A0BS3|    5.0|This coffee is so...|    Delicious Decaf!|[this, coffee, is...|[coffee, sooooooo...|(262144,[0,1,2,3,...|[-6.9103234795819...|[1.46227712028599...|       5.0|   1|     0.31176472| positive|\n",
            "|B0000A0BS3|    5.0|          good price|          Five Stars|       [good, price]|       [good, price]|(262144,[27,87],[...|[-6.9042185541640...|[2.50208162552010...|       5.0|   1|            0.7| positive|\n",
            "|B0000A0BS5|    5.0|Exactly what we w...|          Five Stars|[exactly, what, w...|   [exactly, wanted]|(262144,[48,69,32...|[-6.9042945731912...|[2.47850088495748...|       5.0|   1|           0.25| positive|\n",
            "|B0000A1OEF|    5.0|I received this p...|              Happy!|[i, received, thi...|[received, produc...|(262144,[0,1,3,7,...|[-6.9049662349889...|[2.56257780493628...|       5.0|   1|            1.0| positive|\n",
            "|B0000CDBPT|    5.0|I buy these spice...|          Five Stars|[i, buy, these, s...|[buy, spices, ama...|(262144,[1,28,41,...|[-6.9046762926216...|[1.51191448961769...|       5.0|   1|            1.0| positive|\n",
            "|B0000CEO8F|    5.0|My daughter's fav...|               Great|[my, daughter's, ...|[daughter's, favo...|(262144,[12,1807,...|[-6.9042199383141...|[1.80974943336216...|       5.0|   1|          0.625| positive|\n",
            "|B0000CFH7B|    5.0|So shiney and chr...|          Five Stars|[so, shiney, and,...|   [shiney, chrome.]|(262144,[2,26,503...|[-6.9041561062660...|[2.41749042984046...|       5.0|   1|            0.0| negative|\n",
            "|B0000CFPI2|    3.0|TL:DR First off, ...|Less than $7 for ...|[tl:dr, first, of...|[tl:dr, off,, 3, ...|(262144,[0,1,2,3,...|[-6.9127306794098...|[2.68409651423520...|       4.0|   0|    0.040130157| positive|\n",
            "|B0000CFPI2|    5.0|I love making dee...|Best jerky seasoning|[i, love, making,...|[love, making, de...|(262144,[1,2,3,5,...|[-6.9062310394980...|[2.06034481215357...|       5.0|   1|     0.32041666| positive|\n",
            "|B0000CFPI2|    5.0|Its the only seas...|Its the only seas...|[its, the, only, ...|[seasoning, mix, ...|(262144,[0,1,2,3,...|[-6.9048740368076...|[1.65584156770775...|       5.0|   1|       -0.09375| negative|\n",
            "|B0000CFPI2|    5.0|This product was ...|Easy way to good ...|[this, product, w...|[product, purchas...|(262144,[0,1,3,6,...|[-6.9053054604338...|[2.50626603593595...|       5.0|   1|         -0.115| negative|\n",
            "+----------+-------+--------------------+--------------------+--------------------+--------------------+--------------------+--------------------+--------------------+----------+----+---------------+---------+\n",
            "only showing top 20 rows\n",
            "\n"
          ],
          "name": "stdout"
        }
      ]
    },
    {
      "cell_type": "code",
      "metadata": {
        "id": "xOeYBhJlMHNz"
      },
      "source": [
        "def condition(r):\n",
        "    if (r >0.3):\n",
        "        label = \"positive\"\n",
        "    elif(r <= 0):\n",
        "        label = \"negative\"\n",
        "    else:\n",
        "        label = \"neutral\"\n",
        "    return label\n",
        "\n",
        "sentiment_udf = udf(lambda x: condition(x), StringType())"
      ],
      "execution_count": 68,
      "outputs": []
    },
    {
      "cell_type": "code",
      "metadata": {
        "id": "yP1qJCyE_VCj"
      },
      "source": [
        "pred_grouped = pred_grouped.withColumn(\"sentiment\", sentiment_udf(pred_grouped['sentiment_score'] ))"
      ],
      "execution_count": 69,
      "outputs": []
    },
    {
      "cell_type": "code",
      "metadata": {
        "colab": {
          "base_uri": "https://localhost:8080/"
        },
        "id": "mhXbst_YMO6g",
        "outputId": "edc32103-ac71-472c-fe2d-cecad1d29061"
      },
      "source": [
        "pred_grouped.groupBy(\"sentiment\").count().sort(desc(\"count\")).show()"
      ],
      "execution_count": 70,
      "outputs": [
        {
          "output_type": "stream",
          "text": [
            "+---------+-----+\n",
            "|sentiment|count|\n",
            "+---------+-----+\n",
            "| positive| 8166|\n",
            "|  neutral| 4395|\n",
            "| negative| 2600|\n",
            "+---------+-----+\n",
            "\n"
          ],
          "name": "stdout"
        }
      ]
    },
    {
      "cell_type": "code",
      "metadata": {
        "colab": {
          "base_uri": "https://localhost:8080/"
        },
        "id": "56fSN2DqNMVq",
        "outputId": "134c38e7-8705-4080-cbab-a248d4ebfa9e"
      },
      "source": [
        "pred_grouped.registerTempTable(\"pred_grouped\")\n",
        "\n",
        "query = \"\"\"\n",
        "SELECT sentiment, count(*) as sent_count\n",
        "FROM pred_grouped\n",
        "GROUP BY sentiment\n",
        "ORDER BY sent_count DESC\n",
        "\"\"\"\n",
        "\n",
        "sent_count = spark.sql(query)\n",
        "sent_count.show()"
      ],
      "execution_count": 71,
      "outputs": [
        {
          "output_type": "stream",
          "text": [
            "+---------+----------+\n",
            "|sentiment|sent_count|\n",
            "+---------+----------+\n",
            "| positive|      8166|\n",
            "|  neutral|      4395|\n",
            "| negative|      2600|\n",
            "+---------+----------+\n",
            "\n"
          ],
          "name": "stdout"
        }
      ]
    },
    {
      "cell_type": "code",
      "metadata": {
        "colab": {
          "base_uri": "https://localhost:8080/",
          "height": 142
        },
        "id": "oRxFuALcN1xC",
        "outputId": "2315cf80-5269-48a8-cc1a-217217cd6067"
      },
      "source": [
        "sent_count_pd = sent_count.toPandas()\n",
        "sent_count_pd.head()\n"
      ],
      "execution_count": 72,
      "outputs": [
        {
          "output_type": "execute_result",
          "data": {
            "text/html": [
              "<div>\n",
              "<style scoped>\n",
              "    .dataframe tbody tr th:only-of-type {\n",
              "        vertical-align: middle;\n",
              "    }\n",
              "\n",
              "    .dataframe tbody tr th {\n",
              "        vertical-align: top;\n",
              "    }\n",
              "\n",
              "    .dataframe thead th {\n",
              "        text-align: right;\n",
              "    }\n",
              "</style>\n",
              "<table border=\"1\" class=\"dataframe\">\n",
              "  <thead>\n",
              "    <tr style=\"text-align: right;\">\n",
              "      <th></th>\n",
              "      <th>sentiment</th>\n",
              "      <th>sent_count</th>\n",
              "    </tr>\n",
              "  </thead>\n",
              "  <tbody>\n",
              "    <tr>\n",
              "      <th>0</th>\n",
              "      <td>positive</td>\n",
              "      <td>8166</td>\n",
              "    </tr>\n",
              "    <tr>\n",
              "      <th>1</th>\n",
              "      <td>neutral</td>\n",
              "      <td>4395</td>\n",
              "    </tr>\n",
              "    <tr>\n",
              "      <th>2</th>\n",
              "      <td>negative</td>\n",
              "      <td>2600</td>\n",
              "    </tr>\n",
              "  </tbody>\n",
              "</table>\n",
              "</div>"
            ],
            "text/plain": [
              "  sentiment  sent_count\n",
              "0  positive        8166\n",
              "1   neutral        4395\n",
              "2  negative        2600"
            ]
          },
          "metadata": {
            "tags": []
          },
          "execution_count": 72
        }
      ]
    },
    {
      "cell_type": "code",
      "metadata": {
        "colab": {
          "base_uri": "https://localhost:8080/",
          "height": 509
        },
        "id": "ArdYZH2oMrim",
        "outputId": "b193f521-a75c-47b7-debc-243eb7b92b88"
      },
      "source": [
        "pl = sent_count_pd.plot(kind=\"bar\", \n",
        "                            x=\"sentiment\", y=\"sent_count\", \n",
        "                            figsize=(10, 7), log=True, alpha=0.5, color=\"darkblue\")\n",
        "pl.set_xlabel(\"Sentiment\")\n",
        "pl.set_ylabel(\"Count by Sentiment\")\n",
        "pl.set_title(\"Number of reviews by sentiment\")"
      ],
      "execution_count": 74,
      "outputs": [
        {
          "output_type": "execute_result",
          "data": {
            "text/plain": [
              "Text(0.5, 1.0, 'Number of reviews by sentiment')"
            ]
          },
          "metadata": {
            "tags": []
          },
          "execution_count": 74
        },
        {
          "output_type": "display_data",
          "data": {
            "image/png": "[encoded data removed]",
            "text/plain": [
              "<Figure size 720x504 with 1 Axes>"
            ]
          },
          "metadata": {
            "tags": [],
            "needs_background": "light"
          }
        }
      ]
    },
    {
      "cell_type": "code",
      "metadata": {
        "id": "z6Znbkx6WiIM"
      },
      "source": [
        ""
      ],
      "execution_count": null,
      "outputs": []
    }
  ]
}