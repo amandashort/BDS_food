{
  "nbformat": 4,
  "nbformat_minor": 0,
  "metadata": {
    "colab": {
      "name": "ratings_predict.ipynb",
      "provenance": [],
      "collapsed_sections": []
    },
    "kernelspec": {
      "display_name": "Python 3",
      "language": "python",
      "name": "python3"
    }
  },
  "cells": [
    {
      "cell_type": "code",
      "metadata": {
        "colab": {
          "base_uri": "https://localhost:8080/",
          "height": 17
        },
        "id": "45AqmQDUzHZb",
        "outputId": "eb970f7b-541b-46c0-89a4-d9fb02cd7523"
      },
      "source": [
        "%%javascript\n",
        "function ClickConnect(){\n",
        "console.log(\"Working\");\n",
        "document.querySelector(\"colab-toolbar-button#connect\").click()\n",
        "}setInterval(ClickConnect,60000)"
      ],
      "execution_count": 1,
      "outputs": [
        {
          "output_type": "display_data",
          "data": {
            "application/javascript": [
              "function ClickConnect(){\n",
              "console.log(\"Working\");\n",
              "document.querySelector(\"colab-toolbar-button#connect\").click()\n",
              "}setInterval(ClickConnect,60000)"
            ],
            "text/plain": [
              "<IPython.core.display.Javascript object>"
            ]
          },
          "metadata": {
            "tags": []
          }
        }
      ]
    },
    {
      "cell_type": "code",
      "metadata": {
        "colab": {
          "base_uri": "https://localhost:8080/"
        },
        "id": "RLOlCr6hZJYz",
        "outputId": "0c2040ea-22b1-4e49-c305-385b36a48571"
      },
      "source": [
        "!pip install pyspark\n",
        "!pip install -U -q PyDrive\n",
        "!apt install openjdk-8-jdk-headless -qq\n",
        "import os\n",
        "os.environ[\"JAVA_HOME\"] = \"/usr/lib/jvm/java-8-openjdk-amd64\""
      ],
      "execution_count": 2,
      "outputs": [
        {
          "output_type": "stream",
          "text": [
            "Collecting pyspark\n",
            "\u001b[?25l  Downloading https://files.pythonhosted.org/packages/45/b0/9d6860891ab14a39d4bddf80ba26ce51c2f9dc4805e5c6978ac0472c120a/pyspark-3.1.1.tar.gz (212.3MB)\n",
            "\u001b[K     |████████████████████████████████| 212.3MB 68kB/s \n",
            "\u001b[?25hCollecting py4j==0.10.9\n",
            "\u001b[?25l  Downloading https://files.pythonhosted.org/packages/9e/b6/6a4fb90cd235dc8e265a6a2067f2a2c99f0d91787f06aca4bcf7c23f3f80/py4j-0.10.9-py2.py3-none-any.whl (198kB)\n",
            "\u001b[K     |████████████████████████████████| 204kB 37.1MB/s \n",
            "\u001b[?25hBuilding wheels for collected packages: pyspark\n",
            "  Building wheel for pyspark (setup.py) ... \u001b[?25l\u001b[?25hdone\n",
            "  Created wheel for pyspark: filename=pyspark-3.1.1-py2.py3-none-any.whl size=212767604 sha256=8f783b2f5b088b6a7f0c87ea184f6fb940b59d2cbcd056469ed6790c80de5685\n",
            "  Stored in directory: /root/.cache/pip/wheels/0b/90/c0/01de724414ef122bd05f056541fb6a0ecf47c7ca655f8b3c0f\n",
            "Successfully built pyspark\n",
            "Installing collected packages: py4j, pyspark\n",
            "Successfully installed py4j-0.10.9 pyspark-3.1.1\n",
            "The following package was automatically installed and is no longer required:\n",
            "  libnvidia-common-460\n",
            "Use 'apt autoremove' to remove it.\n",
            "The following additional packages will be installed:\n",
            "  openjdk-8-jre-headless\n",
            "Suggested packages:\n",
            "  openjdk-8-demo openjdk-8-source libnss-mdns fonts-dejavu-extra\n",
            "  fonts-ipafont-gothic fonts-ipafont-mincho fonts-wqy-microhei\n",
            "  fonts-wqy-zenhei fonts-indic\n",
            "The following NEW packages will be installed:\n",
            "  openjdk-8-jdk-headless openjdk-8-jre-headless\n",
            "0 upgraded, 2 newly installed, 0 to remove and 34 not upgraded.\n",
            "Need to get 36.5 MB of archives.\n",
            "After this operation, 143 MB of additional disk space will be used.\n",
            "Selecting previously unselected package openjdk-8-jre-headless:amd64.\n",
            "(Reading database ... 160690 files and directories currently installed.)\n",
            "Preparing to unpack .../openjdk-8-jre-headless_8u282-b08-0ubuntu1~18.04_amd64.deb ...\n",
            "Unpacking openjdk-8-jre-headless:amd64 (8u282-b08-0ubuntu1~18.04) ...\n",
            "Selecting previously unselected package openjdk-8-jdk-headless:amd64.\n",
            "Preparing to unpack .../openjdk-8-jdk-headless_8u282-b08-0ubuntu1~18.04_amd64.deb ...\n",
            "Unpacking openjdk-8-jdk-headless:amd64 (8u282-b08-0ubuntu1~18.04) ...\n",
            "Setting up openjdk-8-jre-headless:amd64 (8u282-b08-0ubuntu1~18.04) ...\n",
            "update-alternatives: using /usr/lib/jvm/java-8-openjdk-amd64/jre/bin/orbd to provide /usr/bin/orbd (orbd) in auto mode\n",
            "update-alternatives: using /usr/lib/jvm/java-8-openjdk-amd64/jre/bin/servertool to provide /usr/bin/servertool (servertool) in auto mode\n",
            "update-alternatives: using /usr/lib/jvm/java-8-openjdk-amd64/jre/bin/tnameserv to provide /usr/bin/tnameserv (tnameserv) in auto mode\n",
            "Setting up openjdk-8-jdk-headless:amd64 (8u282-b08-0ubuntu1~18.04) ...\n",
            "update-alternatives: using /usr/lib/jvm/java-8-openjdk-amd64/bin/idlj to provide /usr/bin/idlj (idlj) in auto mode\n",
            "update-alternatives: using /usr/lib/jvm/java-8-openjdk-amd64/bin/wsimport to provide /usr/bin/wsimport (wsimport) in auto mode\n",
            "update-alternatives: using /usr/lib/jvm/java-8-openjdk-amd64/bin/jsadebugd to provide /usr/bin/jsadebugd (jsadebugd) in auto mode\n",
            "update-alternatives: using /usr/lib/jvm/java-8-openjdk-amd64/bin/native2ascii to provide /usr/bin/native2ascii (native2ascii) in auto mode\n",
            "update-alternatives: using /usr/lib/jvm/java-8-openjdk-amd64/bin/javah to provide /usr/bin/javah (javah) in auto mode\n",
            "update-alternatives: using /usr/lib/jvm/java-8-openjdk-amd64/bin/hsdb to provide /usr/bin/hsdb (hsdb) in auto mode\n",
            "update-alternatives: using /usr/lib/jvm/java-8-openjdk-amd64/bin/clhsdb to provide /usr/bin/clhsdb (clhsdb) in auto mode\n",
            "update-alternatives: using /usr/lib/jvm/java-8-openjdk-amd64/bin/xjc to provide /usr/bin/xjc (xjc) in auto mode\n",
            "update-alternatives: using /usr/lib/jvm/java-8-openjdk-amd64/bin/schemagen to provide /usr/bin/schemagen (schemagen) in auto mode\n",
            "update-alternatives: using /usr/lib/jvm/java-8-openjdk-amd64/bin/extcheck to provide /usr/bin/extcheck (extcheck) in auto mode\n",
            "update-alternatives: using /usr/lib/jvm/java-8-openjdk-amd64/bin/jhat to provide /usr/bin/jhat (jhat) in auto mode\n",
            "update-alternatives: using /usr/lib/jvm/java-8-openjdk-amd64/bin/wsgen to provide /usr/bin/wsgen (wsgen) in auto mode\n"
          ],
          "name": "stdout"
        }
      ]
    },
    {
      "cell_type": "code",
      "metadata": {
        "colab": {
          "base_uri": "https://localhost:8080/"
        },
        "id": "nBnBfksZZMy1",
        "outputId": "e576b324-e8ff-4ad4-8e4f-fb7cce4e1229"
      },
      "source": [
        "from google.colab import drive\n",
        "drive.mount('/content/drive')"
      ],
      "execution_count": 3,
      "outputs": [
        {
          "output_type": "stream",
          "text": [
            "Mounted at /content/drive\n"
          ],
          "name": "stdout"
        }
      ]
    },
    {
      "cell_type": "code",
      "metadata": {
        "id": "PBmPihgyZQ-q"
      },
      "source": [
        "from pydrive.auth import GoogleAuth\n",
        "from pydrive.drive import GoogleDrive\n",
        "from google.colab import auth\n",
        "from oauth2client.client import GoogleCredentials\n",
        "\n",
        "# Authenticate and create the PyDrive client\n",
        "auth.authenticate_user()\n",
        "gauth = GoogleAuth()\n",
        "gauth.credentials = GoogleCredentials.get_application_default()\n",
        "drive = GoogleDrive(gauth)"
      ],
      "execution_count": 4,
      "outputs": []
    },
    {
      "cell_type": "code",
      "metadata": {
        "id": "tA1Ckzx-ZGnn"
      },
      "source": [
        "import pandas as pd\n",
        "import numpy as np\n",
        "import matplotlib.pyplot as plt\n",
        "%matplotlib inline\n",
        "\n",
        "import pyspark\n",
        "from pyspark.sql import *\n",
        "from pyspark.sql.functions import *\n",
        "from pyspark import SparkContext, SparkConf\n",
        "import python_utils\n",
        "\n"
      ],
      "execution_count": 5,
      "outputs": []
    },
    {
      "cell_type": "code",
      "metadata": {
        "id": "XJ9TC2TIZGnx"
      },
      "source": [
        "# create the session\n",
        "conf = SparkConf().set(\"spark.ui.port\", \"4050\")\n",
        "\n",
        "# create the context\n",
        "sc = pyspark.SparkContext(conf=conf)\n",
        "spark = SparkSession.builder.getOrCreate()"
      ],
      "execution_count": 6,
      "outputs": []
    },
    {
      "cell_type": "code",
      "metadata": {
        "id": "-D_VV2HFZGny"
      },
      "source": [
        "grocery_food = spark.read.json(\"/content/drive/MyDrive/big_dta/project/Grocery_and_Gourmet_Food.json.gz\")\n",
        "meta_data = spark.read.json(\"/content/drive/MyDrive/big_dta/project/meta_Grocery_and_Gourmet_Food.json.gz\")"
      ],
      "execution_count": 7,
      "outputs": []
    },
    {
      "cell_type": "code",
      "metadata": {
        "colab": {
          "base_uri": "https://localhost:8080/"
        },
        "id": "X5WKGEBTzEn1",
        "outputId": "5de8b9c6-a39d-4241-a7e3-0dbb00c5a1a7"
      },
      "source": [
        "all_data = grocery_food.join(meta_data, ['asin'])\n",
        "all_data.show()"
      ],
      "execution_count": 8,
      "outputs": [
        {
          "output_type": "stream",
          "text": [
            "+----------+-----+-------+--------------------+-----------+--------------+---------------+-----+--------------------+--------------+--------+----+--------------------+--------------------+--------------------+--------------------+----+--------------------+--------------------+-------+---+--------------------+--------+------+--------------------+------------+-----+-----+--------------------+\n",
            "|      asin|image|overall|          reviewText| reviewTime|    reviewerID|   reviewerName|style|             summary|unixReviewTime|verified|vote|            also_buy|           also_view|               brand|            category|date|         description|             details|feature|fit|               image|main_cat| price|                rank|similar_item|tech1|tech2|               title|\n",
            "+----------+-----+-------+--------------------+-----------+--------------+---------------+-----+--------------------+--------------+--------+----+--------------------+--------------------+--------------------+--------------------+----+--------------------+--------------------+-------+---+--------------------+--------+------+--------------------+------------+-----+-----+--------------------+\n",
            "|B0000D1699| null|    2.0|I don't like the ...|09 25, 2012|A20U1WREF776C9|             VS| null|           puerh tea|    1348531200|    true|null|                  []|                  []|             Ten Ren|[Grocery & Gourme...|    |[Specialty tea or...|{1.76 ounces, nul...|     []|   |                  []| Grocery|      |1,005,257 in Groc...|            |     |     |          Pu-Erh Tea|\n",
            "|B0000D1699| null|    2.0|I don't like the ...|09 25, 2012|A20U1WREF776C9|             VS| null|           puerh tea|    1348531200|    true|null|                  []|                  []|             Ten Ren|[Grocery & Gourme...|    |[Specialty tea or...|{1.76 ounces, nul...|     []|   |                  []| Grocery|      |1,005,257 in Groc...|            |     |     |          Pu-Erh Tea|\n",
            "|B0000D1699| null|    4.0|taste was very go...| 07 6, 2012|A1FSL1RKHDL2Q0|         KarenD| null|          Pu erh tea|    1341532800|    true|null|                  []|                  []|             Ten Ren|[Grocery & Gourme...|    |[Specialty tea or...|{1.76 ounces, nul...|     []|   |                  []| Grocery|      |1,005,257 in Groc...|            |     |     |          Pu-Erh Tea|\n",
            "|B0000D1699| null|    4.0|taste was very go...| 07 6, 2012|A1FSL1RKHDL2Q0|         KarenD| null|          Pu erh tea|    1341532800|    true|null|                  []|                  []|             Ten Ren|[Grocery & Gourme...|    |[Specialty tea or...|{1.76 ounces, nul...|     []|   |                  []| Grocery|      |1,005,257 in Groc...|            |     |     |          Pu-Erh Tea|\n",
            "|B0000D17HO| null|    5.0|     love this pasta| 01 7, 2016|A1FRMN3DMVPNBX|            cor| null|          Five Stars|    1452124800|    true|null|                  []|                  []|Rustichella d'Abr...|[Grocery & Gourme...|    |[Trenne, Statemen...|{null, null, null...|     []|   |                  []| Grocery|      |555,750 in Grocer...|            |     |     |              Trenne|\n",
            "|B0000D17HO| null|    5.0|     love this pasta| 01 7, 2016|A1FRMN3DMVPNBX|            cor| null|          Five Stars|    1452124800|    true|null|                  []|                  []|Rustichella d'Abr...|[Grocery & Gourme...|    |[Trenne, Statemen...|{null, null, null...|     []|   |                  []| Grocery|      |555,750 in Grocer...|            |     |     |              Trenne|\n",
            "|B0000D17HO| null|    5.0|Yay! Toblerone sh...|03 27, 2015|A3LN3EVAUMQU4F|Patricia Krause| null|          Five Stars|    1427414400|    true|null|                  []|                  []|Rustichella d'Abr...|[Grocery & Gourme...|    |[Trenne, Statemen...|{null, null, null...|     []|   |                  []| Grocery|      |555,750 in Grocer...|            |     |     |              Trenne|\n",
            "|B0000D17HO| null|    5.0|Yay! Toblerone sh...|03 27, 2015|A3LN3EVAUMQU4F|Patricia Krause| null|          Five Stars|    1427414400|    true|null|                  []|                  []|Rustichella d'Abr...|[Grocery & Gourme...|    |[Trenne, Statemen...|{null, null, null...|     []|   |                  []| Grocery|      |555,750 in Grocer...|            |     |     |              Trenne|\n",
            "|B0000D17HO| null|    5.0|the very best  in...|07 11, 2014|A2IQXH58DLE67M|Kindle Customer| null|          Five Stars|    1405036800|   false|null|                  []|                  []|Rustichella d'Abr...|[Grocery & Gourme...|    |[Trenne, Statemen...|{null, null, null...|     []|   |                  []| Grocery|      |555,750 in Grocer...|            |     |     |              Trenne|\n",
            "|B0000D17HO| null|    5.0|the very best  in...|07 11, 2014|A2IQXH58DLE67M|Kindle Customer| null|          Five Stars|    1405036800|   false|null|                  []|                  []|Rustichella d'Abr...|[Grocery & Gourme...|    |[Trenne, Statemen...|{null, null, null...|     []|   |                  []| Grocery|      |555,750 in Grocer...|            |     |     |              Trenne|\n",
            "|B0000D94PL| null|    2.0|I do not like swe...| 01 9, 2017|A3L58XYDMFICMJ|         SheShe| null|           Two Stars|    1483920000|    true|null|[B0000D94PG, B000...|[B004AXZFR6, B000...|        Sweet 'N Low|[Grocery & Gourme...|    |[Delicious cake m...|{null, null, null...|     []|   |[https://images-n...| Grocery| $3.59|104,075 in Grocer...|            |     |     |Sweet 'N Low Whit...|\n",
            "|B0000D94PL| null|    2.0|I do not like swe...| 01 9, 2017|A3L58XYDMFICMJ|         SheShe| null|           Two Stars|    1483920000|    true|null|[B0000D94PG, B000...|[B004AXZFR6, B000...|        Sweet 'N Low|[Grocery & Gourme...|    |[Delicious cake m...|{null, null, null...|     []|   |[https://images-n...| Grocery| $3.59|104,075 in Grocer...|            |     |     |Sweet 'N Low Whit...|\n",
            "|B0000D94PL| null|    2.0|Didn't like the t...|04 16, 2016|A1D418NCL8K6T6|Amazon Customer| null|Sweet and Low whi...|    1460764800|    true|null|[B0000D94PG, B000...|[B004AXZFR6, B000...|        Sweet 'N Low|[Grocery & Gourme...|    |[Delicious cake m...|{null, null, null...|     []|   |[https://images-n...| Grocery| $3.59|104,075 in Grocer...|            |     |     |Sweet 'N Low Whit...|\n",
            "|B0000D94PL| null|    2.0|Didn't like the t...|04 16, 2016|A1D418NCL8K6T6|Amazon Customer| null|Sweet and Low whi...|    1460764800|    true|null|[B0000D94PG, B000...|[B004AXZFR6, B000...|        Sweet 'N Low|[Grocery & Gourme...|    |[Delicious cake m...|{null, null, null...|     []|   |[https://images-n...| Grocery| $3.59|104,075 in Grocer...|            |     |     |Sweet 'N Low Whit...|\n",
            "|B0000D94PL| null|    5.0|        as described|03 11, 2015|A34W59OUBOU4K4|        c3sport| null|          Five Stars|    1426032000|    true|null|[B0000D94PG, B000...|[B004AXZFR6, B000...|        Sweet 'N Low|[Grocery & Gourme...|    |[Delicious cake m...|{null, null, null...|     []|   |[https://images-n...| Grocery| $3.59|104,075 in Grocer...|            |     |     |Sweet 'N Low Whit...|\n",
            "|B0000D94PL| null|    5.0|        as described|03 11, 2015|A34W59OUBOU4K4|        c3sport| null|          Five Stars|    1426032000|    true|null|[B0000D94PG, B000...|[B004AXZFR6, B000...|        Sweet 'N Low|[Grocery & Gourme...|    |[Delicious cake m...|{null, null, null...|     []|   |[https://images-n...| Grocery| $3.59|104,075 in Grocer...|            |     |     |Sweet 'N Low Whit...|\n",
            "|B0000D94PL| null|    5.0|I LIKE THIS PRODU...|04 28, 2013| AZ9F02WPX1NRC|     looneylady| null| SUGAR FREE CAKE MIX|    1367107200|    true|null|[B0000D94PG, B000...|[B004AXZFR6, B000...|        Sweet 'N Low|[Grocery & Gourme...|    |[Delicious cake m...|{null, null, null...|     []|   |[https://images-n...| Grocery| $3.59|104,075 in Grocer...|            |     |     |Sweet 'N Low Whit...|\n",
            "|B0000D94PL| null|    5.0|I LIKE THIS PRODU...|04 28, 2013| AZ9F02WPX1NRC|     looneylady| null| SUGAR FREE CAKE MIX|    1367107200|    true|null|[B0000D94PG, B000...|[B004AXZFR6, B000...|        Sweet 'N Low|[Grocery & Gourme...|    |[Delicious cake m...|{null, null, null...|     []|   |[https://images-n...| Grocery| $3.59|104,075 in Grocer...|            |     |     |Sweet 'N Low Whit...|\n",
            "|B0000DJ6NI| null|    5.0|Love having a lar...|11 25, 2014|A3HWSOEZNAVTQ4|Kindle Customer| null|        tootsie pops|    1416873600|    true|null|                  []|                  []|        Tootsie Roll|[Grocery & Gourme...|    |[In 1931, the fam...|{5 pounds, null, ...|     []|   |                  []| Grocery|$23.20|602,885 in Grocer...|            |     |     |Tootsie Pops-Asso...|\n",
            "|B0000DJ6NI| null|    5.0|Love having a lar...|11 25, 2014|A3HWSOEZNAVTQ4|Kindle Customer| null|        tootsie pops|    1416873600|    true|null|                  []|                  []|        Tootsie Roll|[Grocery & Gourme...|    |[In 1931, the fam...|{5 pounds, null, ...|     []|   |                  []| Grocery|$23.20|602,885 in Grocer...|            |     |     |Tootsie Pops-Asso...|\n",
            "+----------+-----+-------+--------------------+-----------+--------------+---------------+-----+--------------------+--------------+--------+----+--------------------+--------------------+--------------------+--------------------+----+--------------------+--------------------+-------+---+--------------------+--------+------+--------------------+------------+-----+-----+--------------------+\n",
            "only showing top 20 rows\n",
            "\n"
          ],
          "name": "stdout"
        }
      ]
    },
    {
      "cell_type": "code",
      "metadata": {
        "colab": {
          "base_uri": "https://localhost:8080/"
        },
        "id": "vcyHJoxOZGnz",
        "outputId": "5be63465-61a7-4b95-9f84-062080d273cb"
      },
      "source": [
        "grocery_food.printSchema()"
      ],
      "execution_count": 9,
      "outputs": [
        {
          "output_type": "stream",
          "text": [
            "root\n",
            " |-- asin: string (nullable = true)\n",
            " |-- image: array (nullable = true)\n",
            " |    |-- element: string (containsNull = true)\n",
            " |-- overall: double (nullable = true)\n",
            " |-- reviewText: string (nullable = true)\n",
            " |-- reviewTime: string (nullable = true)\n",
            " |-- reviewerID: string (nullable = true)\n",
            " |-- reviewerName: string (nullable = true)\n",
            " |-- style: struct (nullable = true)\n",
            " |    |-- Color:: string (nullable = true)\n",
            " |    |-- Design:: string (nullable = true)\n",
            " |    |-- Display Height:: string (nullable = true)\n",
            " |    |-- Edition:: string (nullable = true)\n",
            " |    |-- Flavor Name:: string (nullable = true)\n",
            " |    |-- Flavor:: string (nullable = true)\n",
            " |    |-- Format:: string (nullable = true)\n",
            " |    |-- Item Display Weight:: string (nullable = true)\n",
            " |    |-- Item Package Quantity:: string (nullable = true)\n",
            " |    |-- Material Type:: string (nullable = true)\n",
            " |    |-- Material:: string (nullable = true)\n",
            " |    |-- Number of Items:: string (nullable = true)\n",
            " |    |-- Package Quantity:: string (nullable = true)\n",
            " |    |-- Package Type:: string (nullable = true)\n",
            " |    |-- Product Packaging:: string (nullable = true)\n",
            " |    |-- Scent Name:: string (nullable = true)\n",
            " |    |-- Size Name:: string (nullable = true)\n",
            " |    |-- Size:: string (nullable = true)\n",
            " |    |-- Style Name:: string (nullable = true)\n",
            " |    |-- Style:: string (nullable = true)\n",
            " |    |-- Team Name:: string (nullable = true)\n",
            " |    |-- Unit Count:: string (nullable = true)\n",
            " |-- summary: string (nullable = true)\n",
            " |-- unixReviewTime: long (nullable = true)\n",
            " |-- verified: boolean (nullable = true)\n",
            " |-- vote: string (nullable = true)\n",
            "\n"
          ],
          "name": "stdout"
        }
      ]
    },
    {
      "cell_type": "code",
      "metadata": {
        "colab": {
          "base_uri": "https://localhost:8080/"
        },
        "id": "gI8aE-_NZGn0",
        "outputId": "ea0d85d2-7bda-4a1a-9166-eafde4a95dc7"
      },
      "source": [
        "meta_data.printSchema()"
      ],
      "execution_count": 10,
      "outputs": [
        {
          "output_type": "stream",
          "text": [
            "root\n",
            " |-- also_buy: array (nullable = true)\n",
            " |    |-- element: string (containsNull = true)\n",
            " |-- also_view: array (nullable = true)\n",
            " |    |-- element: string (containsNull = true)\n",
            " |-- asin: string (nullable = true)\n",
            " |-- brand: string (nullable = true)\n",
            " |-- category: array (nullable = true)\n",
            " |    |-- element: string (containsNull = true)\n",
            " |-- date: string (nullable = true)\n",
            " |-- description: array (nullable = true)\n",
            " |    |-- element: string (containsNull = true)\n",
            " |-- details: struct (nullable = true)\n",
            " |    |-- \n",
            "    Item Weight: \n",
            "    : string (nullable = true)\n",
            " |    |-- \n",
            "    Product Dimensions: \n",
            "    : string (nullable = true)\n",
            " |    |--  Date first listed on Amazon:: string (nullable = true)\n",
            " |    |--  UNSPSC Code:: string (nullable = true)\n",
            " |    |-- ASIN:: string (nullable = true)\n",
            " |    |-- ASIN: : string (nullable = true)\n",
            " |    |-- Audio CD: string (nullable = true)\n",
            " |    |-- Batteries: string (nullable = true)\n",
            " |    |-- Discontinued by manufacturer:: string (nullable = true)\n",
            " |    |-- Domestic Shipping: : string (nullable = true)\n",
            " |    |-- International Shipping: : string (nullable = true)\n",
            " |    |-- Item model number:: string (nullable = true)\n",
            " |    |-- Label:: string (nullable = true)\n",
            " |    |-- Language:: string (nullable = true)\n",
            " |    |-- Number of Discs:: string (nullable = true)\n",
            " |    |-- Original Release Date:: string (nullable = true)\n",
            " |    |-- Shipping Advisory:: string (nullable = true)\n",
            " |    |-- Shipping Weight:: string (nullable = true)\n",
            " |    |-- Subtitles:: string (nullable = true)\n",
            " |    |-- UPC:: string (nullable = true)\n",
            " |-- feature: array (nullable = true)\n",
            " |    |-- element: string (containsNull = true)\n",
            " |-- fit: string (nullable = true)\n",
            " |-- image: array (nullable = true)\n",
            " |    |-- element: string (containsNull = true)\n",
            " |-- main_cat: string (nullable = true)\n",
            " |-- price: string (nullable = true)\n",
            " |-- rank: string (nullable = true)\n",
            " |-- similar_item: string (nullable = true)\n",
            " |-- tech1: string (nullable = true)\n",
            " |-- tech2: string (nullable = true)\n",
            " |-- title: string (nullable = true)\n",
            "\n"
          ],
          "name": "stdout"
        }
      ]
    },
    {
      "cell_type": "code",
      "metadata": {
        "colab": {
          "base_uri": "https://localhost:8080/"
        },
        "id": "jljdpCHAZGn1",
        "outputId": "c1c47323-0597-4d6c-c871-608b2f3792b2"
      },
      "source": [
        "grocery_food.take(1)"
      ],
      "execution_count": 11,
      "outputs": [
        {
          "output_type": "execute_result",
          "data": {
            "text/plain": [
              "[Row(asin='1888861614', image=None, overall=5.0, reviewText='Very pleased with my purchase. Looks exactly like the picture and will look great on my cake. It definitely will sparkle.', reviewTime='06 4, 2013', reviewerID='ALP49FBWT4I7V', reviewerName='Lori', style=None, summary='Love it', unixReviewTime=1370304000, verified=True, vote=None)]"
            ]
          },
          "metadata": {
            "tags": []
          },
          "execution_count": 11
        }
      ]
    },
    {
      "cell_type": "code",
      "metadata": {
        "colab": {
          "base_uri": "https://localhost:8080/"
        },
        "id": "aaVdGHyqZGn2",
        "outputId": "0ef40caf-3938-40f3-dfdc-73fdd4bef8bd"
      },
      "source": [
        "grocery_food.show()"
      ],
      "execution_count": 12,
      "outputs": [
        {
          "output_type": "stream",
          "text": [
            "+----------+-----+-------+--------------------+-----------+--------------+-------------------+-----+--------------------+--------------+--------+----+\n",
            "|      asin|image|overall|          reviewText| reviewTime|    reviewerID|       reviewerName|style|             summary|unixReviewTime|verified|vote|\n",
            "+----------+-----+-------+--------------------+-----------+--------------+-------------------+-----+--------------------+--------------+--------+----+\n",
            "|1888861614| null|    5.0|Very pleased with...| 06 4, 2013| ALP49FBWT4I7V|               Lori| null|             Love it|    1370304000|    true|null|\n",
            "|1888861614| null|    4.0|Very nicely craft...|05 23, 2014|A1KPIZOCLB9FZ8|         BK Shopper| null|      Nice but small|    1400803200|    true|null|\n",
            "|1888861614| null|    4.0|still very pretty...| 05 9, 2014|A2W0FA06IYAYQE|     daninethequeen| null|the \"s\" looks lik...|    1399593600|    true|null|\n",
            "|1888861614| null|    5.0|I got this for ou...|04 20, 2014|A2PTZTCH2QUYBC|            Tammara| null|Would recommend t...|    1397952000|    true|null|\n",
            "|1888861614| null|    4.0|It was just what ...|04 16, 2014|A2VNHGJ59N4Z90| LaQuinta Alexander| null|              Topper|    1397606400|    true|null|\n",
            "|1888861614| null|    1.0|The S is beautifu...|02 21, 2014| ATQL0XOLZNHZ4|      Brianna Small| null|   shipping disaster|    1392940800|    true|null|\n",
            "|1888861614| null|    5.0|Omg.. The S was i...| 12 1, 2013| A94ZG5CWN70E7|    trinette claude| null|Great quality for...|    1385856000|    true|null|\n",
            "|1888861614| null|    3.0|It was a nice siz...| 11 6, 2013|A3QBT8YC3CZ7C9|           Rela1982| null|          Great Buy.|    1383696000|    true|null|\n",
            "|1888861614| null|    5.0|Perfect!!! Can no...| 10 2, 2013| AGKW3A1RB1YGO| Marilyn Hatboro,Pa| null|       Very Pretty!!|    1380672000|    true|null|\n",
            "|1888861614| null|    5.0|This was exactly ...| 09 6, 2013|A1B65IWLUVOUQB|            KASmith| null|            Perfect!|    1378425600|    true|null|\n",
            "|1888861614| null|    5.0|This arrived in t...|08 22, 2013|A34SURE2O1LJ4C|               Lara| null|           So pretty|    1377129600|    true|null|\n",
            "|4639725183| null|    5.0| No adverse comment.|11 19, 2014|A1QVBUH9E1V6I8|     Jamshed Mathur| null|          Five Stars|    1416355200|    true|null|\n",
            "|4639725183| null|    5.0|These are hard to...|11 10, 2014|A3F886P3E8L99T|Bosshaug in Arizona| null|Wonderful tea and...|    1415577600|    true|null|\n",
            "|4639725183| null|    5.0|Best black tea in...| 11 3, 2014|A2CHH5U12THP2D|     The Purple Bee| null|Best black tea in US|    1414972800|    true|   2|\n",
            "|4639725183| null|    5.0|if you like stron...| 09 6, 2014|A29A6N9S9GDG6L|      Lake Cherokee| null|          Five Stars|    1409961600|    true|null|\n",
            "|4639725183| null|    5.0|I first tasted th...|05 21, 2014|A378HXZATS9HKM|          old patty| null|    Great Tea flavor|    1400630400|    true|   2|\n",
            "|4639725183| null|    5.0|Truly the finest ...|03 23, 2014|A2ZSQ8Y53ZNQK1|Charles L. Mitsakos| null|                 A+!|    1395532800|    true|   5|\n",
            "|4639725183| null|    4.0|Tried this while ...| 02 8, 2014|A21ZU2TINEQE0H|                Ken| null|Yellow Label Lipt...|    1391817600|   false|   2|\n",
            "|4639725183| null|    5.0|We first came acr...| 01 7, 2014| AFSBZNN8WDE8E|             tw7424| null|         A great tea|    1389052800|    true|null|\n",
            "|4639725183| null|    5.0|I first tasted it...|12 29, 2013|A1XWZJZLZTMCWK|             Tom S.| null|      Best Black Tea|    1388275200|    true|  11|\n",
            "+----------+-----+-------+--------------------+-----------+--------------+-------------------+-----+--------------------+--------------+--------+----+\n",
            "only showing top 20 rows\n",
            "\n"
          ],
          "name": "stdout"
        }
      ]
    },
    {
      "cell_type": "code",
      "metadata": {
        "colab": {
          "base_uri": "https://localhost:8080/"
        },
        "id": "180NLl4VZGn2",
        "outputId": "6d32385f-8860-447c-8387-48663dd5bae3"
      },
      "source": [
        "print(\"In total there are {0} reviews\".format(grocery_food.count()))"
      ],
      "execution_count": 13,
      "outputs": [
        {
          "output_type": "stream",
          "text": [
            "In total there are 5074160 reviews\n"
          ],
          "name": "stdout"
        }
      ]
    },
    {
      "cell_type": "code",
      "metadata": {
        "id": "nDr51uevZGn3",
        "colab": {
          "base_uri": "https://localhost:8080/",
          "height": 300
        },
        "outputId": "482659f0-315a-4c53-908d-49eee8c6b44a"
      },
      "source": [
        "grocery_food = grocery_food.filter(grocery_food.reviewText != '')\n",
        "#grocery_food = grocery_food.filter(grocery_food.summary != '')"
      ],
      "execution_count": 17,
      "outputs": [
        {
          "output_type": "error",
          "ename": "TypeError",
          "evalue": "ignored",
          "traceback": [
            "\u001b[0;31m---------------------------------------------------------------------------\u001b[0m",
            "\u001b[0;31mTypeError\u001b[0m                                 Traceback (most recent call last)",
            "\u001b[0;32m<ipython-input-17-cfddda207b30>\u001b[0m in \u001b[0;36m<module>\u001b[0;34m()\u001b[0m\n\u001b[1;32m      1\u001b[0m \u001b[0mgrocery_food\u001b[0m \u001b[0;34m=\u001b[0m \u001b[0mgrocery_food\u001b[0m\u001b[0;34m.\u001b[0m\u001b[0mfilter\u001b[0m\u001b[0;34m(\u001b[0m\u001b[0mgrocery_food\u001b[0m\u001b[0;34m.\u001b[0m\u001b[0mreviewText\u001b[0m \u001b[0;34m!=\u001b[0m \u001b[0;34m''\u001b[0m\u001b[0;34m)\u001b[0m\u001b[0;34m\u001b[0m\u001b[0;34m\u001b[0m\u001b[0m\n\u001b[0;32m----> 2\u001b[0;31m \u001b[0mgrocery_food\u001b[0m \u001b[0;34m=\u001b[0m \u001b[0mgrocery_food\u001b[0m\u001b[0;34m.\u001b[0m\u001b[0mfilter\u001b[0m\u001b[0;34m(\u001b[0m\u001b[0mgrocery_food\u001b[0m\u001b[0;34m.\u001b[0m\u001b[0msummary\u001b[0m \u001b[0;34m!=\u001b[0m \u001b[0;34m''\u001b[0m\u001b[0;34m)\u001b[0m\u001b[0;34m\u001b[0m\u001b[0;34m\u001b[0m\u001b[0m\n\u001b[0m",
            "\u001b[0;32m/usr/local/lib/python3.7/dist-packages/pyspark/sql/dataframe.py\u001b[0m in \u001b[0;36mfilter\u001b[0;34m(self, condition)\u001b[0m\n\u001b[1;32m   1717\u001b[0m             \u001b[0mjdf\u001b[0m \u001b[0;34m=\u001b[0m \u001b[0mself\u001b[0m\u001b[0;34m.\u001b[0m\u001b[0m_jdf\u001b[0m\u001b[0;34m.\u001b[0m\u001b[0mfilter\u001b[0m\u001b[0;34m(\u001b[0m\u001b[0mcondition\u001b[0m\u001b[0;34m.\u001b[0m\u001b[0m_jc\u001b[0m\u001b[0;34m)\u001b[0m\u001b[0;34m\u001b[0m\u001b[0;34m\u001b[0m\u001b[0m\n\u001b[1;32m   1718\u001b[0m         \u001b[0;32melse\u001b[0m\u001b[0;34m:\u001b[0m\u001b[0;34m\u001b[0m\u001b[0;34m\u001b[0m\u001b[0m\n\u001b[0;32m-> 1719\u001b[0;31m             \u001b[0;32mraise\u001b[0m \u001b[0mTypeError\u001b[0m\u001b[0;34m(\u001b[0m\u001b[0;34m\"condition should be string or Column\"\u001b[0m\u001b[0;34m)\u001b[0m\u001b[0;34m\u001b[0m\u001b[0;34m\u001b[0m\u001b[0m\n\u001b[0m\u001b[1;32m   1720\u001b[0m         \u001b[0;32mreturn\u001b[0m \u001b[0mDataFrame\u001b[0m\u001b[0;34m(\u001b[0m\u001b[0mjdf\u001b[0m\u001b[0;34m,\u001b[0m \u001b[0mself\u001b[0m\u001b[0;34m.\u001b[0m\u001b[0msql_ctx\u001b[0m\u001b[0;34m)\u001b[0m\u001b[0;34m\u001b[0m\u001b[0;34m\u001b[0m\u001b[0m\n\u001b[1;32m   1721\u001b[0m \u001b[0;34m\u001b[0m\u001b[0m\n",
            "\u001b[0;31mTypeError\u001b[0m: condition should be string or Column"
          ]
        }
      ]
    },
    {
      "cell_type": "code",
      "metadata": {
        "id": "pONDRx0GZGn3"
      },
      "source": [
        "drop_list = ['image', 'verified', 'vote', 'reviewTime', 'reviewerID', 'reviewerName', 'style', 'unixReviewTime']\n",
        "grocery_food = grocery_food.select([column for column in grocery_food.columns if column not in drop_list])\n",
        "grocery_food.show(5)"
      ],
      "execution_count": null,
      "outputs": []
    },
    {
      "cell_type": "markdown",
      "metadata": {
        "id": "VX1xtaqAZGn4"
      },
      "source": [
        "### Group by stars and view"
      ]
    },
    {
      "cell_type": "code",
      "metadata": {
        "id": "xNYrakfjZGn4",
        "scrolled": true
      },
      "source": [
        "grocery_food.groupBy(\"overall\").count().sort(desc(\"count\")).show()"
      ],
      "execution_count": null,
      "outputs": []
    },
    {
      "cell_type": "code",
      "metadata": {
        "id": "3GCgLJx6ZGn5"
      },
      "source": [
        "grocery_food.registerTempTable(\"grocery_food\")\n",
        "\n",
        "query = \"\"\"\n",
        "SELECT overall, count(*) as star_count\n",
        "FROM grocery_food\n",
        "GROUP BY overall\n",
        "ORDER BY star_count DESC\n",
        "\"\"\"\n",
        "\n",
        "star_counts = spark.sql(query)\n",
        "star_counts.show()"
      ],
      "execution_count": null,
      "outputs": []
    },
    {
      "cell_type": "code",
      "metadata": {
        "id": "n4MTLd4bZGn5"
      },
      "source": [
        "star_count_pd = star_counts.toPandas()\n",
        "star_count_pd.head()\n",
        "star_count_pd = star_count_pd.sort_values('overall')"
      ],
      "execution_count": null,
      "outputs": []
    },
    {
      "cell_type": "code",
      "metadata": {
        "id": "Uj-PF6vAZGn6"
      },
      "source": [
        "pl = star_count_pd.plot(kind=\"bar\", \n",
        "                            x=\"overall\", y=\"star_count\", \n",
        "                            figsize=(10, 7), log=False, alpha=0.5, color=\"darkred\")\n",
        "pl.set_xlabel(\"Review\")\n",
        "pl.set_ylabel(\"Count by Review\")\n",
        "pl.set_title(\"Number of reviews by star rating\")"
      ],
      "execution_count": null,
      "outputs": []
    },
    {
      "cell_type": "code",
      "metadata": {
        "id": "3pNnpAOIZGn6"
      },
      "source": [
        "#total number of foods that were reviewed in the dataset\n",
        "grocery_food.groupBy(\"asin\").count().sort(desc(\"count\")).count()"
      ],
      "execution_count": null,
      "outputs": []
    },
    {
      "cell_type": "markdown",
      "metadata": {
        "id": "93sLQXzqZGn7"
      },
      "source": [
        "### Text Analysis"
      ]
    },
    {
      "cell_type": "code",
      "metadata": {
        "id": "7rig6k81ZGn7"
      },
      "source": [
        "from pyspark.ml.feature import Tokenizer"
      ],
      "execution_count": null,
      "outputs": []
    },
    {
      "cell_type": "code",
      "metadata": {
        "id": "H-LSiQQnZGn7"
      },
      "source": [
        "tokenizer = Tokenizer().setInputCol('reviewText').setOutputCol('words')"
      ],
      "execution_count": null,
      "outputs": []
    },
    {
      "cell_type": "code",
      "metadata": {
        "id": "RDH9qlf4ZGn8"
      },
      "source": [
        "tokenizer.transform(grocery_food).show()"
      ],
      "execution_count": null,
      "outputs": []
    },
    {
      "cell_type": "code",
      "metadata": {
        "id": "2MKaxOXgZGn-"
      },
      "source": [
        "# import requests\n",
        "# stop_words = requests.get('http://ir.dcs.gla.ac.uk/resources/linguistic_utils/stop_words').text.split()\n",
        "# from pyspark.ml.feature import StopWordsRemover\n",
        "# sw_filter = StopWordsRemover()\\\n",
        "#   .setStopWords(stop_words)\\\n",
        "#   .setCaseSensitive(False)\\\n",
        "#   .setInputCol(\"words\")\\\n",
        "#   .setOutputCol(\"filtered\")\n",
        "\n",
        "# stop_words[0:10]\n"
      ],
      "execution_count": null,
      "outputs": []
    },
    {
      "cell_type": "code",
      "metadata": {
        "id": "aRmERvp_ykBP"
      },
      "source": [
        "from pyspark.ml.feature import NGram\n",
        "#ngram = NGram(n=2, inputCol=\"words\", outputCol=\"ngrams\")"
      ],
      "execution_count": null,
      "outputs": []
    },
    {
      "cell_type": "code",
      "metadata": {
        "id": "p4J_hZyBZGn8"
      },
      "source": [
        "from pyspark.ml.feature import CountVectorizer"
      ],
      "execution_count": null,
      "outputs": []
    },
    {
      "cell_type": "code",
      "metadata": {
        "id": "tIsaCslzZGn8"
      },
      "source": [
        "count_vectorizer_estimator = CountVectorizer().setInputCol('words').setOutputCol('features')"
      ],
      "execution_count": null,
      "outputs": []
    },
    {
      "cell_type": "code",
      "metadata": {
        "id": "QTHwHc6IZGn9"
      },
      "source": [
        "#count_vectorizer_transformer = count_vectorizer_estimator.fit(tokenizer.transform(grocery_food))"
      ],
      "execution_count": null,
      "outputs": []
    },
    {
      "cell_type": "code",
      "metadata": {
        "id": "h6nt4crmZGn9"
      },
      "source": [
        "#count_vectorizer_transformer.transform(tokenizer.transform(grocery_food)).show(truncate=True)"
      ],
      "execution_count": null,
      "outputs": []
    },
    {
      "cell_type": "code",
      "metadata": {
        "id": "7bT3kulBZGn9"
      },
      "source": [
        "#count_vectorizer_transformer.vocabulary"
      ],
      "execution_count": null,
      "outputs": []
    },
    {
      "cell_type": "markdown",
      "metadata": {
        "id": "JrkVbVjxZGn-"
      },
      "source": [
        "### Put into Pipeline"
      ]
    },
    {
      "cell_type": "code",
      "metadata": {
        "id": "7YtZEBZcZGn-"
      },
      "source": [
        "from pyspark.ml import Pipeline"
      ],
      "execution_count": 102,
      "outputs": []
    },
    {
      "cell_type": "code",
      "metadata": {
        "id": "s6m9blzJZGn_"
      },
      "source": [
        "pipeline_cv_estimator = Pipeline(stages=[tokenizer, count_vectorizer_estimator])"
      ],
      "execution_count": 103,
      "outputs": []
    },
    {
      "cell_type": "code",
      "metadata": {
        "id": "7l7nO_oHZGn_",
        "colab": {
          "base_uri": "https://localhost:8080/",
          "height": 307
        },
        "outputId": "9c8cd0ee-392b-4d35-ddda-f3cc74ac34d0"
      },
      "source": [
        "pipeline_cv_transformer = pipeline_cv_estimator.fit(grocery_food)"
      ],
      "execution_count": 104,
      "outputs": [
        {
          "output_type": "error",
          "ename": "KeyboardInterrupt",
          "evalue": "ignored",
          "traceback": [
            "\u001b[0;31m---------------------------------------------------------------------------\u001b[0m",
            "\u001b[0;31mKeyboardInterrupt\u001b[0m                         Traceback (most recent call last)",
            "\u001b[0;32m<ipython-input-104-0976af4eb21f>\u001b[0m in \u001b[0;36m<module>\u001b[0;34m()\u001b[0m\n\u001b[0;32m----> 1\u001b[0;31m \u001b[0mpipeline_cv_transformer\u001b[0m \u001b[0;34m=\u001b[0m \u001b[0mpipeline_cv_estimator\u001b[0m\u001b[0;34m.\u001b[0m\u001b[0mfit\u001b[0m\u001b[0;34m(\u001b[0m\u001b[0mgrocery_food\u001b[0m\u001b[0;34m)\u001b[0m\u001b[0;34m\u001b[0m\u001b[0;34m\u001b[0m\u001b[0m\n\u001b[0m",
            "\u001b[0;32m/usr/local/lib/python3.7/dist-packages/pyspark/ml/base.py\u001b[0m in \u001b[0;36mfit\u001b[0;34m(self, dataset, params)\u001b[0m\n\u001b[1;32m    159\u001b[0m                 \u001b[0;32mreturn\u001b[0m \u001b[0mself\u001b[0m\u001b[0;34m.\u001b[0m\u001b[0mcopy\u001b[0m\u001b[0;34m(\u001b[0m\u001b[0mparams\u001b[0m\u001b[0;34m)\u001b[0m\u001b[0;34m.\u001b[0m\u001b[0m_fit\u001b[0m\u001b[0;34m(\u001b[0m\u001b[0mdataset\u001b[0m\u001b[0;34m)\u001b[0m\u001b[0;34m\u001b[0m\u001b[0;34m\u001b[0m\u001b[0m\n\u001b[1;32m    160\u001b[0m             \u001b[0;32melse\u001b[0m\u001b[0;34m:\u001b[0m\u001b[0;34m\u001b[0m\u001b[0;34m\u001b[0m\u001b[0m\n\u001b[0;32m--> 161\u001b[0;31m                 \u001b[0;32mreturn\u001b[0m \u001b[0mself\u001b[0m\u001b[0;34m.\u001b[0m\u001b[0m_fit\u001b[0m\u001b[0;34m(\u001b[0m\u001b[0mdataset\u001b[0m\u001b[0;34m)\u001b[0m\u001b[0;34m\u001b[0m\u001b[0;34m\u001b[0m\u001b[0m\n\u001b[0m\u001b[1;32m    162\u001b[0m         \u001b[0;32melse\u001b[0m\u001b[0;34m:\u001b[0m\u001b[0;34m\u001b[0m\u001b[0;34m\u001b[0m\u001b[0m\n\u001b[1;32m    163\u001b[0m             raise ValueError(\"Params must be either a param map or a list/tuple of param maps, \"\n",
            "\u001b[0;32m/usr/local/lib/python3.7/dist-packages/pyspark/ml/pipeline.py\u001b[0m in \u001b[0;36m_fit\u001b[0;34m(self, dataset)\u001b[0m\n\u001b[1;32m    112\u001b[0m                     \u001b[0mdataset\u001b[0m \u001b[0;34m=\u001b[0m \u001b[0mstage\u001b[0m\u001b[0;34m.\u001b[0m\u001b[0mtransform\u001b[0m\u001b[0;34m(\u001b[0m\u001b[0mdataset\u001b[0m\u001b[0;34m)\u001b[0m\u001b[0;34m\u001b[0m\u001b[0;34m\u001b[0m\u001b[0m\n\u001b[1;32m    113\u001b[0m                 \u001b[0;32melse\u001b[0m\u001b[0;34m:\u001b[0m  \u001b[0;31m# must be an Estimator\u001b[0m\u001b[0;34m\u001b[0m\u001b[0;34m\u001b[0m\u001b[0m\n\u001b[0;32m--> 114\u001b[0;31m                     \u001b[0mmodel\u001b[0m \u001b[0;34m=\u001b[0m \u001b[0mstage\u001b[0m\u001b[0;34m.\u001b[0m\u001b[0mfit\u001b[0m\u001b[0;34m(\u001b[0m\u001b[0mdataset\u001b[0m\u001b[0;34m)\u001b[0m\u001b[0;34m\u001b[0m\u001b[0;34m\u001b[0m\u001b[0m\n\u001b[0m\u001b[1;32m    115\u001b[0m                     \u001b[0mtransformers\u001b[0m\u001b[0;34m.\u001b[0m\u001b[0mappend\u001b[0m\u001b[0;34m(\u001b[0m\u001b[0mmodel\u001b[0m\u001b[0;34m)\u001b[0m\u001b[0;34m\u001b[0m\u001b[0;34m\u001b[0m\u001b[0m\n\u001b[1;32m    116\u001b[0m                     \u001b[0;32mif\u001b[0m \u001b[0mi\u001b[0m \u001b[0;34m<\u001b[0m \u001b[0mindexOfLastEstimator\u001b[0m\u001b[0;34m:\u001b[0m\u001b[0;34m\u001b[0m\u001b[0;34m\u001b[0m\u001b[0m\n",
            "\u001b[0;32m/usr/local/lib/python3.7/dist-packages/pyspark/ml/base.py\u001b[0m in \u001b[0;36mfit\u001b[0;34m(self, dataset, params)\u001b[0m\n\u001b[1;32m    159\u001b[0m                 \u001b[0;32mreturn\u001b[0m \u001b[0mself\u001b[0m\u001b[0;34m.\u001b[0m\u001b[0mcopy\u001b[0m\u001b[0;34m(\u001b[0m\u001b[0mparams\u001b[0m\u001b[0;34m)\u001b[0m\u001b[0;34m.\u001b[0m\u001b[0m_fit\u001b[0m\u001b[0;34m(\u001b[0m\u001b[0mdataset\u001b[0m\u001b[0;34m)\u001b[0m\u001b[0;34m\u001b[0m\u001b[0;34m\u001b[0m\u001b[0m\n\u001b[1;32m    160\u001b[0m             \u001b[0;32melse\u001b[0m\u001b[0;34m:\u001b[0m\u001b[0;34m\u001b[0m\u001b[0;34m\u001b[0m\u001b[0m\n\u001b[0;32m--> 161\u001b[0;31m                 \u001b[0;32mreturn\u001b[0m \u001b[0mself\u001b[0m\u001b[0;34m.\u001b[0m\u001b[0m_fit\u001b[0m\u001b[0;34m(\u001b[0m\u001b[0mdataset\u001b[0m\u001b[0;34m)\u001b[0m\u001b[0;34m\u001b[0m\u001b[0;34m\u001b[0m\u001b[0m\n\u001b[0m\u001b[1;32m    162\u001b[0m         \u001b[0;32melse\u001b[0m\u001b[0;34m:\u001b[0m\u001b[0;34m\u001b[0m\u001b[0;34m\u001b[0m\u001b[0m\n\u001b[1;32m    163\u001b[0m             raise ValueError(\"Params must be either a param map or a list/tuple of param maps, \"\n",
            "\u001b[0;32m/usr/local/lib/python3.7/dist-packages/pyspark/ml/wrapper.py\u001b[0m in \u001b[0;36m_fit\u001b[0;34m(self, dataset)\u001b[0m\n\u001b[1;32m    333\u001b[0m \u001b[0;34m\u001b[0m\u001b[0m\n\u001b[1;32m    334\u001b[0m     \u001b[0;32mdef\u001b[0m \u001b[0m_fit\u001b[0m\u001b[0;34m(\u001b[0m\u001b[0mself\u001b[0m\u001b[0;34m,\u001b[0m \u001b[0mdataset\u001b[0m\u001b[0;34m)\u001b[0m\u001b[0;34m:\u001b[0m\u001b[0;34m\u001b[0m\u001b[0;34m\u001b[0m\u001b[0m\n\u001b[0;32m--> 335\u001b[0;31m         \u001b[0mjava_model\u001b[0m \u001b[0;34m=\u001b[0m \u001b[0mself\u001b[0m\u001b[0;34m.\u001b[0m\u001b[0m_fit_java\u001b[0m\u001b[0;34m(\u001b[0m\u001b[0mdataset\u001b[0m\u001b[0;34m)\u001b[0m\u001b[0;34m\u001b[0m\u001b[0;34m\u001b[0m\u001b[0m\n\u001b[0m\u001b[1;32m    336\u001b[0m         \u001b[0mmodel\u001b[0m \u001b[0;34m=\u001b[0m \u001b[0mself\u001b[0m\u001b[0;34m.\u001b[0m\u001b[0m_create_model\u001b[0m\u001b[0;34m(\u001b[0m\u001b[0mjava_model\u001b[0m\u001b[0;34m)\u001b[0m\u001b[0;34m\u001b[0m\u001b[0;34m\u001b[0m\u001b[0m\n\u001b[1;32m    337\u001b[0m         \u001b[0;32mreturn\u001b[0m \u001b[0mself\u001b[0m\u001b[0;34m.\u001b[0m\u001b[0m_copyValues\u001b[0m\u001b[0;34m(\u001b[0m\u001b[0mmodel\u001b[0m\u001b[0;34m)\u001b[0m\u001b[0;34m\u001b[0m\u001b[0;34m\u001b[0m\u001b[0m\n",
            "\u001b[0;32m/usr/local/lib/python3.7/dist-packages/pyspark/ml/wrapper.py\u001b[0m in \u001b[0;36m_fit_java\u001b[0;34m(self, dataset)\u001b[0m\n\u001b[1;32m    330\u001b[0m         \"\"\"\n\u001b[1;32m    331\u001b[0m         \u001b[0mself\u001b[0m\u001b[0;34m.\u001b[0m\u001b[0m_transfer_params_to_java\u001b[0m\u001b[0;34m(\u001b[0m\u001b[0;34m)\u001b[0m\u001b[0;34m\u001b[0m\u001b[0;34m\u001b[0m\u001b[0m\n\u001b[0;32m--> 332\u001b[0;31m         \u001b[0;32mreturn\u001b[0m \u001b[0mself\u001b[0m\u001b[0;34m.\u001b[0m\u001b[0m_java_obj\u001b[0m\u001b[0;34m.\u001b[0m\u001b[0mfit\u001b[0m\u001b[0;34m(\u001b[0m\u001b[0mdataset\u001b[0m\u001b[0;34m.\u001b[0m\u001b[0m_jdf\u001b[0m\u001b[0;34m)\u001b[0m\u001b[0;34m\u001b[0m\u001b[0;34m\u001b[0m\u001b[0m\n\u001b[0m\u001b[1;32m    333\u001b[0m \u001b[0;34m\u001b[0m\u001b[0m\n\u001b[1;32m    334\u001b[0m     \u001b[0;32mdef\u001b[0m \u001b[0m_fit\u001b[0m\u001b[0;34m(\u001b[0m\u001b[0mself\u001b[0m\u001b[0;34m,\u001b[0m \u001b[0mdataset\u001b[0m\u001b[0;34m)\u001b[0m\u001b[0;34m:\u001b[0m\u001b[0;34m\u001b[0m\u001b[0;34m\u001b[0m\u001b[0m\n",
            "\u001b[0;32m/usr/local/lib/python3.7/dist-packages/py4j/java_gateway.py\u001b[0m in \u001b[0;36m__call__\u001b[0;34m(self, *args)\u001b[0m\n\u001b[1;32m   1301\u001b[0m             \u001b[0mproto\u001b[0m\u001b[0;34m.\u001b[0m\u001b[0mEND_COMMAND_PART\u001b[0m\u001b[0;34m\u001b[0m\u001b[0;34m\u001b[0m\u001b[0m\n\u001b[1;32m   1302\u001b[0m \u001b[0;34m\u001b[0m\u001b[0m\n\u001b[0;32m-> 1303\u001b[0;31m         \u001b[0manswer\u001b[0m \u001b[0;34m=\u001b[0m \u001b[0mself\u001b[0m\u001b[0;34m.\u001b[0m\u001b[0mgateway_client\u001b[0m\u001b[0;34m.\u001b[0m\u001b[0msend_command\u001b[0m\u001b[0;34m(\u001b[0m\u001b[0mcommand\u001b[0m\u001b[0;34m)\u001b[0m\u001b[0;34m\u001b[0m\u001b[0;34m\u001b[0m\u001b[0m\n\u001b[0m\u001b[1;32m   1304\u001b[0m         return_value = get_return_value(\n\u001b[1;32m   1305\u001b[0m             answer, self.gateway_client, self.target_id, self.name)\n",
            "\u001b[0;32m/usr/local/lib/python3.7/dist-packages/py4j/java_gateway.py\u001b[0m in \u001b[0;36msend_command\u001b[0;34m(self, command, retry, binary)\u001b[0m\n\u001b[1;32m   1031\u001b[0m         \u001b[0mconnection\u001b[0m \u001b[0;34m=\u001b[0m \u001b[0mself\u001b[0m\u001b[0;34m.\u001b[0m\u001b[0m_get_connection\u001b[0m\u001b[0;34m(\u001b[0m\u001b[0;34m)\u001b[0m\u001b[0;34m\u001b[0m\u001b[0;34m\u001b[0m\u001b[0m\n\u001b[1;32m   1032\u001b[0m         \u001b[0;32mtry\u001b[0m\u001b[0;34m:\u001b[0m\u001b[0;34m\u001b[0m\u001b[0;34m\u001b[0m\u001b[0m\n\u001b[0;32m-> 1033\u001b[0;31m             \u001b[0mresponse\u001b[0m \u001b[0;34m=\u001b[0m \u001b[0mconnection\u001b[0m\u001b[0;34m.\u001b[0m\u001b[0msend_command\u001b[0m\u001b[0;34m(\u001b[0m\u001b[0mcommand\u001b[0m\u001b[0;34m)\u001b[0m\u001b[0;34m\u001b[0m\u001b[0;34m\u001b[0m\u001b[0m\n\u001b[0m\u001b[1;32m   1034\u001b[0m             \u001b[0;32mif\u001b[0m \u001b[0mbinary\u001b[0m\u001b[0;34m:\u001b[0m\u001b[0;34m\u001b[0m\u001b[0;34m\u001b[0m\u001b[0m\n\u001b[1;32m   1035\u001b[0m                 \u001b[0;32mreturn\u001b[0m \u001b[0mresponse\u001b[0m\u001b[0;34m,\u001b[0m \u001b[0mself\u001b[0m\u001b[0;34m.\u001b[0m\u001b[0m_create_connection_guard\u001b[0m\u001b[0;34m(\u001b[0m\u001b[0mconnection\u001b[0m\u001b[0;34m)\u001b[0m\u001b[0;34m\u001b[0m\u001b[0;34m\u001b[0m\u001b[0m\n",
            "\u001b[0;32m/usr/local/lib/python3.7/dist-packages/py4j/java_gateway.py\u001b[0m in \u001b[0;36msend_command\u001b[0;34m(self, command)\u001b[0m\n\u001b[1;32m   1198\u001b[0m \u001b[0;34m\u001b[0m\u001b[0m\n\u001b[1;32m   1199\u001b[0m         \u001b[0;32mtry\u001b[0m\u001b[0;34m:\u001b[0m\u001b[0;34m\u001b[0m\u001b[0;34m\u001b[0m\u001b[0m\n\u001b[0;32m-> 1200\u001b[0;31m             \u001b[0manswer\u001b[0m \u001b[0;34m=\u001b[0m \u001b[0msmart_decode\u001b[0m\u001b[0;34m(\u001b[0m\u001b[0mself\u001b[0m\u001b[0;34m.\u001b[0m\u001b[0mstream\u001b[0m\u001b[0;34m.\u001b[0m\u001b[0mreadline\u001b[0m\u001b[0;34m(\u001b[0m\u001b[0;34m)\u001b[0m\u001b[0;34m[\u001b[0m\u001b[0;34m:\u001b[0m\u001b[0;34m-\u001b[0m\u001b[0;36m1\u001b[0m\u001b[0;34m]\u001b[0m\u001b[0;34m)\u001b[0m\u001b[0;34m\u001b[0m\u001b[0;34m\u001b[0m\u001b[0m\n\u001b[0m\u001b[1;32m   1201\u001b[0m             \u001b[0mlogger\u001b[0m\u001b[0;34m.\u001b[0m\u001b[0mdebug\u001b[0m\u001b[0;34m(\u001b[0m\u001b[0;34m\"Answer received: {0}\"\u001b[0m\u001b[0;34m.\u001b[0m\u001b[0mformat\u001b[0m\u001b[0;34m(\u001b[0m\u001b[0manswer\u001b[0m\u001b[0;34m)\u001b[0m\u001b[0;34m)\u001b[0m\u001b[0;34m\u001b[0m\u001b[0;34m\u001b[0m\u001b[0m\n\u001b[1;32m   1202\u001b[0m             \u001b[0;32mif\u001b[0m \u001b[0manswer\u001b[0m\u001b[0;34m.\u001b[0m\u001b[0mstartswith\u001b[0m\u001b[0;34m(\u001b[0m\u001b[0mproto\u001b[0m\u001b[0;34m.\u001b[0m\u001b[0mRETURN_MESSAGE\u001b[0m\u001b[0;34m)\u001b[0m\u001b[0;34m:\u001b[0m\u001b[0;34m\u001b[0m\u001b[0;34m\u001b[0m\u001b[0m\n",
            "\u001b[0;32m/usr/lib/python3.7/socket.py\u001b[0m in \u001b[0;36mreadinto\u001b[0;34m(self, b)\u001b[0m\n\u001b[1;32m    587\u001b[0m         \u001b[0;32mwhile\u001b[0m \u001b[0;32mTrue\u001b[0m\u001b[0;34m:\u001b[0m\u001b[0;34m\u001b[0m\u001b[0;34m\u001b[0m\u001b[0m\n\u001b[1;32m    588\u001b[0m             \u001b[0;32mtry\u001b[0m\u001b[0;34m:\u001b[0m\u001b[0;34m\u001b[0m\u001b[0;34m\u001b[0m\u001b[0m\n\u001b[0;32m--> 589\u001b[0;31m                 \u001b[0;32mreturn\u001b[0m \u001b[0mself\u001b[0m\u001b[0;34m.\u001b[0m\u001b[0m_sock\u001b[0m\u001b[0;34m.\u001b[0m\u001b[0mrecv_into\u001b[0m\u001b[0;34m(\u001b[0m\u001b[0mb\u001b[0m\u001b[0;34m)\u001b[0m\u001b[0;34m\u001b[0m\u001b[0;34m\u001b[0m\u001b[0m\n\u001b[0m\u001b[1;32m    590\u001b[0m             \u001b[0;32mexcept\u001b[0m \u001b[0mtimeout\u001b[0m\u001b[0;34m:\u001b[0m\u001b[0;34m\u001b[0m\u001b[0;34m\u001b[0m\u001b[0m\n\u001b[1;32m    591\u001b[0m                 \u001b[0mself\u001b[0m\u001b[0;34m.\u001b[0m\u001b[0m_timeout_occurred\u001b[0m \u001b[0;34m=\u001b[0m \u001b[0;32mTrue\u001b[0m\u001b[0;34m\u001b[0m\u001b[0;34m\u001b[0m\u001b[0m\n",
            "\u001b[0;31mKeyboardInterrupt\u001b[0m: "
          ]
        }
      ]
    },
    {
      "cell_type": "code",
      "metadata": {
        "id": "u_3Z1utaZGn_"
      },
      "source": [
        "dataset = pipeline_cv_transformer.transform(grocery_food)"
      ],
      "execution_count": 92,
      "outputs": []
    },
    {
      "cell_type": "markdown",
      "metadata": {
        "id": "WYrrYA2yZGoA"
      },
      "source": [
        "### Predict Rating"
      ]
    },
    {
      "cell_type": "code",
      "metadata": {
        "id": "LEzytk8dhkH1"
      },
      "source": [
        "dataset = dataset.sampleBy(\"overall\", fractions={1: 0.542, 2: 1, 3: 0.681, 4: 0.397, 5: 0.0614}, seed=10)"
      ],
      "execution_count": 35,
      "outputs": []
    },
    {
      "cell_type": "code",
      "metadata": {
        "id": "8rAL58yqimiZ"
      },
      "source": [
        "dataframe_new = pyspark.sql.DataFrame.sample(dataset, .01, seed=None)"
      ],
      "execution_count": 36,
      "outputs": []
    },
    {
      "cell_type": "code",
      "metadata": {
        "colab": {
          "base_uri": "https://localhost:8080/"
        },
        "id": "WnxkEogenMvv",
        "outputId": "3207dc4a-eab8-442b-c9ac-031002991ab8"
      },
      "source": [
        "dataframe_new.groupBy(\"overall\").count().sort(desc(\"count\")).show()"
      ],
      "execution_count": 37,
      "outputs": [
        {
          "output_type": "stream",
          "text": [
            "+-------+-----+\n",
            "|overall|count|\n",
            "+-------+-----+\n",
            "|    5.0| 2187|\n",
            "|    1.0| 2183|\n",
            "|    4.0| 2180|\n",
            "|    2.0| 2156|\n",
            "|    3.0| 2148|\n",
            "+-------+-----+\n",
            "\n"
          ],
          "name": "stdout"
        }
      ]
    },
    {
      "cell_type": "code",
      "metadata": {
        "colab": {
          "base_uri": "https://localhost:8080/"
        },
        "id": "sFnq4HUJZGoA",
        "outputId": "74cea5f8-faa6-406a-dbf9-18b150e5a3f4"
      },
      "source": [
        "(trainingData, testData) = dataframe_new.randomSplit([0.7, 0.3], seed = 100)\n",
        "print(\"Training Dataset Count: \" + str(trainingData.count()))\n",
        "print(\"Test Dataset Count: \" + str(testData.count()))"
      ],
      "execution_count": 38,
      "outputs": [
        {
          "output_type": "stream",
          "text": [
            "Training Dataset Count: 7634\n",
            "Test Dataset Count: 3220\n"
          ],
          "name": "stdout"
        }
      ]
    },
    {
      "cell_type": "code",
      "metadata": {
        "colab": {
          "base_uri": "https://localhost:8080/"
        },
        "id": "8K0fQzJXZGoA",
        "outputId": "08546118-ab46-40f6-ceb8-9d3c921f793f"
      },
      "source": [
        "from pyspark.ml.classification import LogisticRegression\n",
        "lr = LogisticRegression(labelCol='overall',featuresCol='features', maxIter=20, regParam=0.3, elasticNetParam=0)\n",
        "lrModel = lr.fit(trainingData)\n",
        "predictions = lrModel.transform(testData)\n",
        "predictions.filter(predictions['prediction'] == 1.0) \\\n",
        "    .select(\"reviewText\",\"overall\",\"probability\",\"prediction\") \\\n",
        "    .orderBy(\"probability\", ascending=False) \\\n",
        "    .show(n = 10, truncate = 30)"
      ],
      "execution_count": 39,
      "outputs": [
        {
          "output_type": "stream",
          "text": [
            "+------------------------------+-------+------------------------------+----------+\n",
            "|                    reviewText|overall|                   probability|prediction|\n",
            "+------------------------------+-------+------------------------------+----------+\n",
            "|Every single one is broken....|    1.0|[1.3013950076452212E-4,0.21...|       1.0|\n",
            "|The peanut bar is too hard ...|    1.0|[1.299864524279638E-4,0.215...|       1.0|\n",
            "|I should have looked at the...|    2.0|[1.2997823983227114E-4,0.22...|       1.0|\n",
            "|                  Too small :(|    3.0|[1.2994937496152377E-4,0.23...|       1.0|\n",
            "|I like to mix it with my pr...|    4.0|[1.298925856782409E-4,0.212...|       1.0|\n",
            "|                         Stale|    1.0|[1.29888338242474E-4,0.2209...|       1.0|\n",
            "|These seeds had poor germin...|    2.0|[1.298481689903996E-4,0.218...|       1.0|\n",
            "|              Coffee was stale|    2.0|[1.297697653164048E-4,0.224...|       1.0|\n",
            "|My Keurig machine rejected ...|    1.0|[1.2973400298082026E-4,0.22...|       1.0|\n",
            "|My favorite tea but the wei...|    3.0|[1.2972561087869886E-4,0.22...|       1.0|\n",
            "+------------------------------+-------+------------------------------+----------+\n",
            "only showing top 10 rows\n",
            "\n"
          ],
          "name": "stdout"
        }
      ]
    },
    {
      "cell_type": "code",
      "metadata": {
        "colab": {
          "base_uri": "https://localhost:8080/",
          "height": 307
        },
        "id": "xug7oHW2P3R0",
        "outputId": "b836bd3e-ff06-4989-b39f-fc679d3225d5"
      },
      "source": [
        "predictions.write.json(\"/content/drive/MyDrive/big_dta/project/predictions_lr1\")"
      ],
      "execution_count": 40,
      "outputs": [
        {
          "output_type": "error",
          "ename": "AnalysisException",
          "evalue": "ignored",
          "traceback": [
            "\u001b[0;31m---------------------------------------------------------------------------\u001b[0m",
            "\u001b[0;31mAnalysisException\u001b[0m                         Traceback (most recent call last)",
            "\u001b[0;32m<ipython-input-40-46987c774283>\u001b[0m in \u001b[0;36m<module>\u001b[0;34m()\u001b[0m\n\u001b[0;32m----> 1\u001b[0;31m \u001b[0mpredictions\u001b[0m\u001b[0;34m.\u001b[0m\u001b[0mwrite\u001b[0m\u001b[0;34m.\u001b[0m\u001b[0mjson\u001b[0m\u001b[0;34m(\u001b[0m\u001b[0;34m\"/content/drive/MyDrive/big_dta/project/predictions_lr1\"\u001b[0m\u001b[0;34m)\u001b[0m\u001b[0;34m\u001b[0m\u001b[0;34m\u001b[0m\u001b[0m\n\u001b[0m",
            "\u001b[0;32m/usr/local/lib/python3.7/dist-packages/pyspark/sql/readwriter.py\u001b[0m in \u001b[0;36mjson\u001b[0;34m(self, path, mode, compression, dateFormat, timestampFormat, lineSep, encoding, ignoreNullFields)\u001b[0m\n\u001b[1;32m   1211\u001b[0m             \u001b[0mcompression\u001b[0m\u001b[0;34m=\u001b[0m\u001b[0mcompression\u001b[0m\u001b[0;34m,\u001b[0m \u001b[0mdateFormat\u001b[0m\u001b[0;34m=\u001b[0m\u001b[0mdateFormat\u001b[0m\u001b[0;34m,\u001b[0m \u001b[0mtimestampFormat\u001b[0m\u001b[0;34m=\u001b[0m\u001b[0mtimestampFormat\u001b[0m\u001b[0;34m,\u001b[0m\u001b[0;34m\u001b[0m\u001b[0;34m\u001b[0m\u001b[0m\n\u001b[1;32m   1212\u001b[0m             lineSep=lineSep, encoding=encoding, ignoreNullFields=ignoreNullFields)\n\u001b[0;32m-> 1213\u001b[0;31m         \u001b[0mself\u001b[0m\u001b[0;34m.\u001b[0m\u001b[0m_jwrite\u001b[0m\u001b[0;34m.\u001b[0m\u001b[0mjson\u001b[0m\u001b[0;34m(\u001b[0m\u001b[0mpath\u001b[0m\u001b[0;34m)\u001b[0m\u001b[0;34m\u001b[0m\u001b[0;34m\u001b[0m\u001b[0m\n\u001b[0m\u001b[1;32m   1214\u001b[0m \u001b[0;34m\u001b[0m\u001b[0m\n\u001b[1;32m   1215\u001b[0m     \u001b[0;32mdef\u001b[0m \u001b[0mparquet\u001b[0m\u001b[0;34m(\u001b[0m\u001b[0mself\u001b[0m\u001b[0;34m,\u001b[0m \u001b[0mpath\u001b[0m\u001b[0;34m,\u001b[0m \u001b[0mmode\u001b[0m\u001b[0;34m=\u001b[0m\u001b[0;32mNone\u001b[0m\u001b[0;34m,\u001b[0m \u001b[0mpartitionBy\u001b[0m\u001b[0;34m=\u001b[0m\u001b[0;32mNone\u001b[0m\u001b[0;34m,\u001b[0m \u001b[0mcompression\u001b[0m\u001b[0;34m=\u001b[0m\u001b[0;32mNone\u001b[0m\u001b[0;34m)\u001b[0m\u001b[0;34m:\u001b[0m\u001b[0;34m\u001b[0m\u001b[0;34m\u001b[0m\u001b[0m\n",
            "\u001b[0;32m/usr/local/lib/python3.7/dist-packages/py4j/java_gateway.py\u001b[0m in \u001b[0;36m__call__\u001b[0;34m(self, *args)\u001b[0m\n\u001b[1;32m   1303\u001b[0m         \u001b[0manswer\u001b[0m \u001b[0;34m=\u001b[0m \u001b[0mself\u001b[0m\u001b[0;34m.\u001b[0m\u001b[0mgateway_client\u001b[0m\u001b[0;34m.\u001b[0m\u001b[0msend_command\u001b[0m\u001b[0;34m(\u001b[0m\u001b[0mcommand\u001b[0m\u001b[0;34m)\u001b[0m\u001b[0;34m\u001b[0m\u001b[0;34m\u001b[0m\u001b[0m\n\u001b[1;32m   1304\u001b[0m         return_value = get_return_value(\n\u001b[0;32m-> 1305\u001b[0;31m             answer, self.gateway_client, self.target_id, self.name)\n\u001b[0m\u001b[1;32m   1306\u001b[0m \u001b[0;34m\u001b[0m\u001b[0m\n\u001b[1;32m   1307\u001b[0m         \u001b[0;32mfor\u001b[0m \u001b[0mtemp_arg\u001b[0m \u001b[0;32min\u001b[0m \u001b[0mtemp_args\u001b[0m\u001b[0;34m:\u001b[0m\u001b[0;34m\u001b[0m\u001b[0;34m\u001b[0m\u001b[0m\n",
            "\u001b[0;32m/usr/local/lib/python3.7/dist-packages/pyspark/sql/utils.py\u001b[0m in \u001b[0;36mdeco\u001b[0;34m(*a, **kw)\u001b[0m\n\u001b[1;32m    115\u001b[0m                 \u001b[0;31m# Hide where the exception came from that shows a non-Pythonic\u001b[0m\u001b[0;34m\u001b[0m\u001b[0;34m\u001b[0m\u001b[0;34m\u001b[0m\u001b[0m\n\u001b[1;32m    116\u001b[0m                 \u001b[0;31m# JVM exception message.\u001b[0m\u001b[0;34m\u001b[0m\u001b[0;34m\u001b[0m\u001b[0;34m\u001b[0m\u001b[0m\n\u001b[0;32m--> 117\u001b[0;31m                 \u001b[0;32mraise\u001b[0m \u001b[0mconverted\u001b[0m \u001b[0;32mfrom\u001b[0m \u001b[0;32mNone\u001b[0m\u001b[0;34m\u001b[0m\u001b[0;34m\u001b[0m\u001b[0m\n\u001b[0m\u001b[1;32m    118\u001b[0m             \u001b[0;32melse\u001b[0m\u001b[0;34m:\u001b[0m\u001b[0;34m\u001b[0m\u001b[0;34m\u001b[0m\u001b[0m\n\u001b[1;32m    119\u001b[0m                 \u001b[0;32mraise\u001b[0m\u001b[0;34m\u001b[0m\u001b[0;34m\u001b[0m\u001b[0m\n",
            "\u001b[0;31mAnalysisException\u001b[0m: path file:/content/drive/MyDrive/big_dta/project/predictions_lr1 already exists."
          ]
        }
      ]
    },
    {
      "cell_type": "code",
      "metadata": {
        "colab": {
          "base_uri": "https://localhost:8080/"
        },
        "id": "SVkyArYKZGoB",
        "outputId": "13ec5d6d-732c-49aa-b117-9fb7e170fca9"
      },
      "source": [
        "from pyspark.ml.evaluation import MulticlassClassificationEvaluator\n",
        "evaluator = MulticlassClassificationEvaluator(labelCol='overall', predictionCol=\"prediction\")\n",
        "evaluator.evaluate(predictions)"
      ],
      "execution_count": 41,
      "outputs": [
        {
          "output_type": "execute_result",
          "data": {
            "text/plain": [
              "0.3952925329142201"
            ]
          },
          "metadata": {
            "tags": []
          },
          "execution_count": 41
        }
      ]
    },
    {
      "cell_type": "code",
      "metadata": {
        "id": "l7iBvMNcTGiZ"
      },
      "source": [
        "import pyspark.sql.functions as F\n",
        "pred_grouped = predictions.withColumn('flag', F.when(((F.col(\"prediction\") <= F.lit(3)) & (F.col(\"overall\") <= F.lit(3))) | ((F.col(\"prediction\") > F.lit(3)) & (F.col(\"overall\") > F.lit(3))), 1).otherwise(0))\n"
      ],
      "execution_count": 42,
      "outputs": []
    },
    {
      "cell_type": "code",
      "metadata": {
        "colab": {
          "base_uri": "https://localhost:8080/"
        },
        "id": "7NbNlX1mIstW",
        "outputId": "b89cd1bf-0482-41a3-afbe-3fc50bfd4fec"
      },
      "source": [
        "pred_grouped.take(1)"
      ],
      "execution_count": 43,
      "outputs": [
        {
          "output_type": "execute_result",
          "data": {
            "text/plain": [
              "[Row(asin='B00005IX97', overall=2.0, reviewText=\"Hard to find I.S.E. pods for our older machine. Everything now days is geared toward K cups, etc. Bought this due to some of reviews, but needless to say everyone's tastes is different. We wanted true espresso flavor like from Italian Roast. This tastes like coffee with a little choco taste, not strong or any bite at all. For the price if you just want better than regular brew it is ok.\", summary='Not Espresso taste', words=['hard', 'to', 'find', 'i.s.e.', 'pods', 'for', 'our', 'older', 'machine.', 'everything', 'now', 'days', 'is', 'geared', 'toward', 'k', 'cups,', 'etc.', 'bought', 'this', 'due', 'to', 'some', 'of', 'reviews,', 'but', 'needless', 'to', 'say', \"everyone's\", 'tastes', 'is', 'different.', 'we', 'wanted', 'true', 'espresso', 'flavor', 'like', 'from', 'italian', 'roast.', 'this', 'tastes', 'like', 'coffee', 'with', 'a', 'little', 'choco', 'taste,', 'not', 'strong', 'or', 'any', 'bite', 'at', 'all.', 'for', 'the', 'price', 'if', 'you', 'just', 'want', 'better', 'than', 'regular', 'brew', 'it', 'is', 'ok.'], features=SparseVector(262144, {0: 1.0, 3: 1.0, 5: 3.0, 6: 1.0, 7: 2.0, 8: 1.0, 9: 3.0, 10: 2.0, 13: 1.0, 14: 1.0, 17: 1.0, 21: 1.0, 24: 2.0, 31: 1.0, 34: 1.0, 35: 1.0, 38: 1.0, 41: 1.0, 43: 1.0, 46: 1.0, 48: 1.0, 51: 1.0, 60: 1.0, 71: 1.0, 81: 1.0, 85: 2.0, 87: 1.0, 93: 1.0, 94: 1.0, 97: 1.0, 114: 1.0, 115: 1.0, 171: 1.0, 175: 1.0, 219: 1.0, 222: 1.0, 234: 1.0, 353: 1.0, 360: 1.0, 393: 1.0, 402: 1.0, 467: 1.0, 616: 1.0, 640: 1.0, 730: 1.0, 736: 1.0, 790: 1.0, 802: 1.0, 930: 1.0, 954: 1.0, 1025: 1.0, 1087: 1.0, 1364: 1.0, 1557: 1.0, 1634: 1.0, 1765: 1.0, 2708: 1.0, 3083: 1.0, 3580: 1.0, 5378: 1.0, 5799: 1.0, 9941: 1.0, 20160: 1.0}), rawPrediction=DenseVector([-6.1204, 0.7913, 1.6393, 2.3929, 0.8419, 0.455]), probability=DenseVector([0.0001, 0.0994, 0.232, 0.493, 0.1045, 0.071]), prediction=3.0, flag=1)]"
            ]
          },
          "metadata": {
            "tags": []
          },
          "execution_count": 43
        }
      ]
    },
    {
      "cell_type": "code",
      "metadata": {
        "colab": {
          "base_uri": "https://localhost:8080/"
        },
        "id": "WsR2Evt_G6cD",
        "outputId": "d34b987b-35d5-49b6-df72-7ddf6f79f4d0"
      },
      "source": [
        "pred_grouped.select(F.sum('flag')/count('flag')).collect()[0][0]\n",
        "#make 3 negative or ignore 3"
      ],
      "execution_count": 44,
      "outputs": [
        {
          "output_type": "execute_result",
          "data": {
            "text/plain": [
              "0.7506211180124224"
            ]
          },
          "metadata": {
            "tags": []
          },
          "execution_count": 44
        }
      ]
    },
    {
      "cell_type": "code",
      "metadata": {
        "colab": {
          "base_uri": "https://localhost:8080/"
        },
        "id": "w-Ck0uk5J4di",
        "outputId": "0998e67e-2b65-4616-cd47-9aa6a1af58bd"
      },
      "source": [
        "trainingSummary = lrModel.summary\n",
        "\n",
        "accuracy = trainingSummary.accuracy\n",
        "falsePositiveRate = trainingSummary.weightedFalsePositiveRate\n",
        "truePositiveRate = trainingSummary.weightedTruePositiveRate\n",
        "print(accuracy, falsePositiveRate, truePositiveRate)"
      ],
      "execution_count": 45,
      "outputs": [
        {
          "output_type": "stream",
          "text": [
            "0.9197013361278491 0.020245032510402564 0.9197013361278491\n"
          ],
          "name": "stdout"
        }
      ]
    },
    {
      "cell_type": "code",
      "metadata": {
        "colab": {
          "base_uri": "https://localhost:8080/"
        },
        "id": "ISHfNN-lNdov",
        "outputId": "2f405bd2-bb58-4620-e02d-ff006688025d"
      },
      "source": [
        "dataframe_new.show()"
      ],
      "execution_count": 46,
      "outputs": [
        {
          "output_type": "stream",
          "text": [
            "+----------+-------+--------------------+--------------------+--------------------+--------------------+\n",
            "|      asin|overall|          reviewText|             summary|               words|            features|\n",
            "+----------+-------+--------------------+--------------------+--------------------+--------------------+\n",
            "|4639725183|    5.0|Love the tea. The...|           Great tea|[love, the, tea.,...|(262144,[0,9,30,4...|\n",
            "|5463213682|    4.0|  Excelente  product|          Four Stars|[excelente, , pro...|(262144,[4,45,966...|\n",
            "|9742356831|    5.0|This green curry ...|This green curry ...|[this, green, cur...|(262144,[0,1,2,3,...|\n",
            "|B00005IX97|    2.0|Hard to find I.S....|  Not Espresso taste|[hard, to, find, ...|(262144,[0,3,5,6,...|\n",
            "|B00006BN4U|    5.0|Great product Lov...|       Great product|[great, product, ...|(262144,[0,1,2,3,...|\n",
            "|B00006FMLY|    2.0|This is what it s...|Buy somewhere els...|[this, is, what, ...|(262144,[0,1,2,3,...|\n",
            "|B00006IDK9|    2.0|Tasted great but ...|           Two Stars|[tasted, great, b...|(262144,[13,15,22...|\n",
            "|B00008RCN8|    2.0|Great tasting gum...|Great flavor of g...|[great, tasting, ...|(262144,[0,1,3,6,...|\n",
            "|B0000A1OEF|    1.0|Not a true white....|            One Star|[not, a, true, wh...|(262144,[3,14,406...|\n",
            "|B0000CFH7B|    3.0|it wasn't as meta...|         Three Stars|[it, wasn't, as, ...|(262144,[1,6,19,3...|\n",
            "|B0000CFH7B|    1.0|Very thing mist i...|            One Star|[very, thing, mis...|(262144,[9,29,305...|\n",
            "|B0000CFH7B|    5.0|IT BURNS OH IT BU...|    SHINY AND CHROME|[it, burns, oh, i...|(262144,[0,3,5,6,...|\n",
            "|B0000CFH7B|    1.0|not really silver...|not really silver...|[not, really, sil...|(262144,[0,5,8,11...|\n",
            "|B0000CFPI2|    3.0|I prefer the Nesc...|Decent flavor, co...|[i, prefer, the, ...|(262144,[0,1,2,3,...|\n",
            "|B0000CH4G9|    4.0|I have tried many...|Finally found the...|[i, have, tried, ...|(262144,[1,2,5,9,...|\n",
            "|B0000D916Y|    5.0|Excellent, fresh ...|          Great gift|[excellent,, fres...|(262144,[2,16,17,...|\n",
            "|B0000D9N4P|    5.0|I placed an order...|Excellent Extra V...|[i, placed, an, o...|(262144,[0,1,2,3,...|\n",
            "|B0000D9169|    2.0|The cookies I lik...|The cookies I lik...|[the, cookies, i,...|(262144,[0,1,2,4,...|\n",
            "|B0000DA0XJ|    1.0|I was not happy w...|        Tasted stale|[i, was, not, hap...|(262144,[1,2,7,8,...|\n",
            "|B0000DA0XJ|    5.0|           VERY GOOD|          Five Stars|        [very, good]|(262144,[27,29],[...|\n",
            "+----------+-------+--------------------+--------------------+--------------------+--------------------+\n",
            "only showing top 20 rows\n",
            "\n"
          ],
          "name": "stdout"
        }
      ]
    },
    {
      "cell_type": "code",
      "metadata": {
        "id": "58nhRXBLMIhA"
      },
      "source": [
        "# #use tf-idf\n",
        "# from pyspark.ml.feature import HashingTF, IDF\n",
        "# hashingTF = HashingTF(inputCol=\"filtered\", outputCol=\"rawFeatures\", numFeatures=10000)\n",
        "# idf = IDF(inputCol=\"rawFeatures\", outputCol=\"features_new\", minDocFreq=5) #minDocFreq: remove sparse terms\n",
        "# pipeline = Pipeline(stages=[tokenizer, hashingTF, idf])\n",
        "# pipelineFit = pipeline.fit(grocery_food)\n",
        "# dataset = pipelineFit.transform(grocery_food)\n",
        "# (trainingData, testData) = dataset.randomSplit([0.7, 0.3], seed = 100)\n",
        "# lr = LogisticRegression(labelCol='overall',featuresCol='features_new',maxIter=20, regParam=0.3, elasticNetParam=0)\n",
        "# lrModel = lr.fit(trainingData)\n",
        "# predictions = lrModel.transform(testData)\n"
      ],
      "execution_count": 47,
      "outputs": []
    },
    {
      "cell_type": "code",
      "metadata": {
        "id": "OpwcLSRaV-lT"
      },
      "source": [
        "# predictions.filter(predictions['prediction'] == 1.0) \\\n",
        "#     .select(\"overall\",\"reviewText\",\"probability\",\"prediction\") \\\n",
        "#     .orderBy(\"probability\", ascending=False) \\\n",
        "#     .show(n = 10, truncate = 30)"
      ],
      "execution_count": 48,
      "outputs": []
    },
    {
      "cell_type": "code",
      "metadata": {
        "id": "WyRKSIYRYQJ7"
      },
      "source": [
        "# pred_grouped = predictions.withColumn('flag', F.when(((F.col(\"prediction\") <= F.lit(3)) & (F.col(\"overall\") <= F.lit(3))) | ((F.col(\"prediction\") > F.lit(3)) & (F.col(\"overall\") > F.lit(3))), 1).otherwise(0))"
      ],
      "execution_count": 49,
      "outputs": []
    },
    {
      "cell_type": "code",
      "metadata": {
        "id": "9hRSckHMYUvw"
      },
      "source": [
        "# pred_grouped.select(F.sum('flag')/count('flag')).collect()[0][0]"
      ],
      "execution_count": 50,
      "outputs": []
    },
    {
      "cell_type": "code",
      "metadata": {
        "colab": {
          "base_uri": "https://localhost:8080/",
          "height": 1000
        },
        "id": "tV0fvYmsUC8Z",
        "outputId": "060d4296-d82e-4ed0-a05b-25efac868a0b"
      },
      "source": [
        "tokenizer = Tokenizer().setInputCol('summary').setOutputCol('words')\n",
        "count_vectorizer_estimator = CountVectorizer().setInputCol('words').setOutputCol('features')\n",
        "pipeline_cv_estimator = Pipeline(stages=[tokenizer, count_vectorizer_estimator])\n",
        "pipeline_cv_transformer = pipeline_cv_estimator.fit(grocery_food)\n",
        "dataset = pipeline_cv_transformer.transform(grocery_food)\n",
        "dataset = dataset.sampleBy(\"overall\", fractions={1: 0.542, 2: 1, 3: 0.681, 4: 0.397, 5: 0.0614}, seed=10)\n",
        "dataframe_new = pyspark.sql.DataFrame.sample(dataset, .01, seed=None)\n",
        "(trainingData, testData) = dataframe_new.randomSplit([0.7, 0.3], seed = 100)\n",
        "from pyspark.ml.classification import LogisticRegression\n",
        "lr = LogisticRegression(labelCol='overall',featuresCol='features', maxIter=20, regParam=0.3, elasticNetParam=0)\n",
        "lrModel = lr.fit(trainingData)\n",
        "predictions = lrModel.transform(testData)\n",
        "predictions.filter(predictions['prediction'] == 1.0) \\\n",
        "    .select(\"reviewText\",\"overall\",\"probability\",\"prediction\") \\\n",
        "    .orderBy(\"probability\", ascending=False) \\\n",
        "    .show(n = 10, truncate = 30)\n",
        "evaluator = MulticlassClassificationEvaluator(labelCol='overall', predictionCol=\"prediction\")\n",
        "evaluator.evaluate(predictions)"
      ],
      "execution_count": 78,
      "outputs": [
        {
          "output_type": "error",
          "ename": "Py4JJavaError",
          "evalue": "ignored",
          "traceback": [
            "\u001b[0;31m---------------------------------------------------------------------------\u001b[0m",
            "\u001b[0;31mPy4JJavaError\u001b[0m                             Traceback (most recent call last)",
            "\u001b[0;32m<ipython-input-78-6f029568ad08>\u001b[0m in \u001b[0;36m<module>\u001b[0;34m()\u001b[0m\n\u001b[1;32m      2\u001b[0m \u001b[0mcount_vectorizer_estimator\u001b[0m \u001b[0;34m=\u001b[0m \u001b[0mCountVectorizer\u001b[0m\u001b[0;34m(\u001b[0m\u001b[0;34m)\u001b[0m\u001b[0;34m.\u001b[0m\u001b[0msetInputCol\u001b[0m\u001b[0;34m(\u001b[0m\u001b[0;34m'words'\u001b[0m\u001b[0;34m)\u001b[0m\u001b[0;34m.\u001b[0m\u001b[0msetOutputCol\u001b[0m\u001b[0;34m(\u001b[0m\u001b[0;34m'features'\u001b[0m\u001b[0;34m)\u001b[0m\u001b[0;34m\u001b[0m\u001b[0;34m\u001b[0m\u001b[0m\n\u001b[1;32m      3\u001b[0m \u001b[0mpipeline_cv_estimator\u001b[0m \u001b[0;34m=\u001b[0m \u001b[0mPipeline\u001b[0m\u001b[0;34m(\u001b[0m\u001b[0mstages\u001b[0m\u001b[0;34m=\u001b[0m\u001b[0;34m[\u001b[0m\u001b[0mtokenizer\u001b[0m\u001b[0;34m,\u001b[0m \u001b[0mcount_vectorizer_estimator\u001b[0m\u001b[0;34m]\u001b[0m\u001b[0;34m)\u001b[0m\u001b[0;34m\u001b[0m\u001b[0;34m\u001b[0m\u001b[0m\n\u001b[0;32m----> 4\u001b[0;31m \u001b[0mpipeline_cv_transformer\u001b[0m \u001b[0;34m=\u001b[0m \u001b[0mpipeline_cv_estimator\u001b[0m\u001b[0;34m.\u001b[0m\u001b[0mfit\u001b[0m\u001b[0;34m(\u001b[0m\u001b[0mgrocery_food\u001b[0m\u001b[0;34m)\u001b[0m\u001b[0;34m\u001b[0m\u001b[0;34m\u001b[0m\u001b[0m\n\u001b[0m\u001b[1;32m      5\u001b[0m \u001b[0mdataset\u001b[0m \u001b[0;34m=\u001b[0m \u001b[0mpipeline_cv_transformer\u001b[0m\u001b[0;34m.\u001b[0m\u001b[0mtransform\u001b[0m\u001b[0;34m(\u001b[0m\u001b[0mgrocery_food\u001b[0m\u001b[0;34m)\u001b[0m\u001b[0;34m\u001b[0m\u001b[0;34m\u001b[0m\u001b[0m\n\u001b[1;32m      6\u001b[0m \u001b[0mdataset\u001b[0m \u001b[0;34m=\u001b[0m \u001b[0mdataset\u001b[0m\u001b[0;34m.\u001b[0m\u001b[0msampleBy\u001b[0m\u001b[0;34m(\u001b[0m\u001b[0;34m\"overall\"\u001b[0m\u001b[0;34m,\u001b[0m \u001b[0mfractions\u001b[0m\u001b[0;34m=\u001b[0m\u001b[0;34m{\u001b[0m\u001b[0;36m1\u001b[0m\u001b[0;34m:\u001b[0m \u001b[0;36m0.542\u001b[0m\u001b[0;34m,\u001b[0m \u001b[0;36m2\u001b[0m\u001b[0;34m:\u001b[0m \u001b[0;36m1\u001b[0m\u001b[0;34m,\u001b[0m \u001b[0;36m3\u001b[0m\u001b[0;34m:\u001b[0m \u001b[0;36m0.681\u001b[0m\u001b[0;34m,\u001b[0m \u001b[0;36m4\u001b[0m\u001b[0;34m:\u001b[0m \u001b[0;36m0.397\u001b[0m\u001b[0;34m,\u001b[0m \u001b[0;36m5\u001b[0m\u001b[0;34m:\u001b[0m \u001b[0;36m0.0614\u001b[0m\u001b[0;34m}\u001b[0m\u001b[0;34m,\u001b[0m \u001b[0mseed\u001b[0m\u001b[0;34m=\u001b[0m\u001b[0;36m10\u001b[0m\u001b[0;34m)\u001b[0m\u001b[0;34m\u001b[0m\u001b[0;34m\u001b[0m\u001b[0m\n",
            "\u001b[0;32m/usr/local/lib/python3.7/dist-packages/pyspark/ml/base.py\u001b[0m in \u001b[0;36mfit\u001b[0;34m(self, dataset, params)\u001b[0m\n\u001b[1;32m    159\u001b[0m                 \u001b[0;32mreturn\u001b[0m \u001b[0mself\u001b[0m\u001b[0;34m.\u001b[0m\u001b[0mcopy\u001b[0m\u001b[0;34m(\u001b[0m\u001b[0mparams\u001b[0m\u001b[0;34m)\u001b[0m\u001b[0;34m.\u001b[0m\u001b[0m_fit\u001b[0m\u001b[0;34m(\u001b[0m\u001b[0mdataset\u001b[0m\u001b[0;34m)\u001b[0m\u001b[0;34m\u001b[0m\u001b[0;34m\u001b[0m\u001b[0m\n\u001b[1;32m    160\u001b[0m             \u001b[0;32melse\u001b[0m\u001b[0;34m:\u001b[0m\u001b[0;34m\u001b[0m\u001b[0;34m\u001b[0m\u001b[0m\n\u001b[0;32m--> 161\u001b[0;31m                 \u001b[0;32mreturn\u001b[0m \u001b[0mself\u001b[0m\u001b[0;34m.\u001b[0m\u001b[0m_fit\u001b[0m\u001b[0;34m(\u001b[0m\u001b[0mdataset\u001b[0m\u001b[0;34m)\u001b[0m\u001b[0;34m\u001b[0m\u001b[0;34m\u001b[0m\u001b[0m\n\u001b[0m\u001b[1;32m    162\u001b[0m         \u001b[0;32melse\u001b[0m\u001b[0;34m:\u001b[0m\u001b[0;34m\u001b[0m\u001b[0;34m\u001b[0m\u001b[0m\n\u001b[1;32m    163\u001b[0m             raise ValueError(\"Params must be either a param map or a list/tuple of param maps, \"\n",
            "\u001b[0;32m/usr/local/lib/python3.7/dist-packages/pyspark/ml/pipeline.py\u001b[0m in \u001b[0;36m_fit\u001b[0;34m(self, dataset)\u001b[0m\n\u001b[1;32m    112\u001b[0m                     \u001b[0mdataset\u001b[0m \u001b[0;34m=\u001b[0m \u001b[0mstage\u001b[0m\u001b[0;34m.\u001b[0m\u001b[0mtransform\u001b[0m\u001b[0;34m(\u001b[0m\u001b[0mdataset\u001b[0m\u001b[0;34m)\u001b[0m\u001b[0;34m\u001b[0m\u001b[0;34m\u001b[0m\u001b[0m\n\u001b[1;32m    113\u001b[0m                 \u001b[0;32melse\u001b[0m\u001b[0;34m:\u001b[0m  \u001b[0;31m# must be an Estimator\u001b[0m\u001b[0;34m\u001b[0m\u001b[0;34m\u001b[0m\u001b[0m\n\u001b[0;32m--> 114\u001b[0;31m                     \u001b[0mmodel\u001b[0m \u001b[0;34m=\u001b[0m \u001b[0mstage\u001b[0m\u001b[0;34m.\u001b[0m\u001b[0mfit\u001b[0m\u001b[0;34m(\u001b[0m\u001b[0mdataset\u001b[0m\u001b[0;34m)\u001b[0m\u001b[0;34m\u001b[0m\u001b[0;34m\u001b[0m\u001b[0m\n\u001b[0m\u001b[1;32m    115\u001b[0m                     \u001b[0mtransformers\u001b[0m\u001b[0;34m.\u001b[0m\u001b[0mappend\u001b[0m\u001b[0;34m(\u001b[0m\u001b[0mmodel\u001b[0m\u001b[0;34m)\u001b[0m\u001b[0;34m\u001b[0m\u001b[0;34m\u001b[0m\u001b[0m\n\u001b[1;32m    116\u001b[0m                     \u001b[0;32mif\u001b[0m \u001b[0mi\u001b[0m \u001b[0;34m<\u001b[0m \u001b[0mindexOfLastEstimator\u001b[0m\u001b[0;34m:\u001b[0m\u001b[0;34m\u001b[0m\u001b[0;34m\u001b[0m\u001b[0m\n",
            "\u001b[0;32m/usr/local/lib/python3.7/dist-packages/pyspark/ml/base.py\u001b[0m in \u001b[0;36mfit\u001b[0;34m(self, dataset, params)\u001b[0m\n\u001b[1;32m    159\u001b[0m                 \u001b[0;32mreturn\u001b[0m \u001b[0mself\u001b[0m\u001b[0;34m.\u001b[0m\u001b[0mcopy\u001b[0m\u001b[0;34m(\u001b[0m\u001b[0mparams\u001b[0m\u001b[0;34m)\u001b[0m\u001b[0;34m.\u001b[0m\u001b[0m_fit\u001b[0m\u001b[0;34m(\u001b[0m\u001b[0mdataset\u001b[0m\u001b[0;34m)\u001b[0m\u001b[0;34m\u001b[0m\u001b[0;34m\u001b[0m\u001b[0m\n\u001b[1;32m    160\u001b[0m             \u001b[0;32melse\u001b[0m\u001b[0;34m:\u001b[0m\u001b[0;34m\u001b[0m\u001b[0;34m\u001b[0m\u001b[0m\n\u001b[0;32m--> 161\u001b[0;31m                 \u001b[0;32mreturn\u001b[0m \u001b[0mself\u001b[0m\u001b[0;34m.\u001b[0m\u001b[0m_fit\u001b[0m\u001b[0;34m(\u001b[0m\u001b[0mdataset\u001b[0m\u001b[0;34m)\u001b[0m\u001b[0;34m\u001b[0m\u001b[0;34m\u001b[0m\u001b[0m\n\u001b[0m\u001b[1;32m    162\u001b[0m         \u001b[0;32melse\u001b[0m\u001b[0;34m:\u001b[0m\u001b[0;34m\u001b[0m\u001b[0;34m\u001b[0m\u001b[0m\n\u001b[1;32m    163\u001b[0m             raise ValueError(\"Params must be either a param map or a list/tuple of param maps, \"\n",
            "\u001b[0;32m/usr/local/lib/python3.7/dist-packages/pyspark/ml/wrapper.py\u001b[0m in \u001b[0;36m_fit\u001b[0;34m(self, dataset)\u001b[0m\n\u001b[1;32m    333\u001b[0m \u001b[0;34m\u001b[0m\u001b[0m\n\u001b[1;32m    334\u001b[0m     \u001b[0;32mdef\u001b[0m \u001b[0m_fit\u001b[0m\u001b[0;34m(\u001b[0m\u001b[0mself\u001b[0m\u001b[0;34m,\u001b[0m \u001b[0mdataset\u001b[0m\u001b[0;34m)\u001b[0m\u001b[0;34m:\u001b[0m\u001b[0;34m\u001b[0m\u001b[0;34m\u001b[0m\u001b[0m\n\u001b[0;32m--> 335\u001b[0;31m         \u001b[0mjava_model\u001b[0m \u001b[0;34m=\u001b[0m \u001b[0mself\u001b[0m\u001b[0;34m.\u001b[0m\u001b[0m_fit_java\u001b[0m\u001b[0;34m(\u001b[0m\u001b[0mdataset\u001b[0m\u001b[0;34m)\u001b[0m\u001b[0;34m\u001b[0m\u001b[0;34m\u001b[0m\u001b[0m\n\u001b[0m\u001b[1;32m    336\u001b[0m         \u001b[0mmodel\u001b[0m \u001b[0;34m=\u001b[0m \u001b[0mself\u001b[0m\u001b[0;34m.\u001b[0m\u001b[0m_create_model\u001b[0m\u001b[0;34m(\u001b[0m\u001b[0mjava_model\u001b[0m\u001b[0;34m)\u001b[0m\u001b[0;34m\u001b[0m\u001b[0;34m\u001b[0m\u001b[0m\n\u001b[1;32m    337\u001b[0m         \u001b[0;32mreturn\u001b[0m \u001b[0mself\u001b[0m\u001b[0;34m.\u001b[0m\u001b[0m_copyValues\u001b[0m\u001b[0;34m(\u001b[0m\u001b[0mmodel\u001b[0m\u001b[0;34m)\u001b[0m\u001b[0;34m\u001b[0m\u001b[0;34m\u001b[0m\u001b[0m\n",
            "\u001b[0;32m/usr/local/lib/python3.7/dist-packages/pyspark/ml/wrapper.py\u001b[0m in \u001b[0;36m_fit_java\u001b[0;34m(self, dataset)\u001b[0m\n\u001b[1;32m    330\u001b[0m         \"\"\"\n\u001b[1;32m    331\u001b[0m         \u001b[0mself\u001b[0m\u001b[0;34m.\u001b[0m\u001b[0m_transfer_params_to_java\u001b[0m\u001b[0;34m(\u001b[0m\u001b[0;34m)\u001b[0m\u001b[0;34m\u001b[0m\u001b[0;34m\u001b[0m\u001b[0m\n\u001b[0;32m--> 332\u001b[0;31m         \u001b[0;32mreturn\u001b[0m \u001b[0mself\u001b[0m\u001b[0;34m.\u001b[0m\u001b[0m_java_obj\u001b[0m\u001b[0;34m.\u001b[0m\u001b[0mfit\u001b[0m\u001b[0;34m(\u001b[0m\u001b[0mdataset\u001b[0m\u001b[0;34m.\u001b[0m\u001b[0m_jdf\u001b[0m\u001b[0;34m)\u001b[0m\u001b[0;34m\u001b[0m\u001b[0;34m\u001b[0m\u001b[0m\n\u001b[0m\u001b[1;32m    333\u001b[0m \u001b[0;34m\u001b[0m\u001b[0m\n\u001b[1;32m    334\u001b[0m     \u001b[0;32mdef\u001b[0m \u001b[0m_fit\u001b[0m\u001b[0;34m(\u001b[0m\u001b[0mself\u001b[0m\u001b[0;34m,\u001b[0m \u001b[0mdataset\u001b[0m\u001b[0;34m)\u001b[0m\u001b[0;34m:\u001b[0m\u001b[0;34m\u001b[0m\u001b[0;34m\u001b[0m\u001b[0m\n",
            "\u001b[0;32m/usr/local/lib/python3.7/dist-packages/py4j/java_gateway.py\u001b[0m in \u001b[0;36m__call__\u001b[0;34m(self, *args)\u001b[0m\n\u001b[1;32m   1303\u001b[0m         \u001b[0manswer\u001b[0m \u001b[0;34m=\u001b[0m \u001b[0mself\u001b[0m\u001b[0;34m.\u001b[0m\u001b[0mgateway_client\u001b[0m\u001b[0;34m.\u001b[0m\u001b[0msend_command\u001b[0m\u001b[0;34m(\u001b[0m\u001b[0mcommand\u001b[0m\u001b[0;34m)\u001b[0m\u001b[0;34m\u001b[0m\u001b[0;34m\u001b[0m\u001b[0m\n\u001b[1;32m   1304\u001b[0m         return_value = get_return_value(\n\u001b[0;32m-> 1305\u001b[0;31m             answer, self.gateway_client, self.target_id, self.name)\n\u001b[0m\u001b[1;32m   1306\u001b[0m \u001b[0;34m\u001b[0m\u001b[0m\n\u001b[1;32m   1307\u001b[0m         \u001b[0;32mfor\u001b[0m \u001b[0mtemp_arg\u001b[0m \u001b[0;32min\u001b[0m \u001b[0mtemp_args\u001b[0m\u001b[0;34m:\u001b[0m\u001b[0;34m\u001b[0m\u001b[0;34m\u001b[0m\u001b[0m\n",
            "\u001b[0;32m/usr/local/lib/python3.7/dist-packages/pyspark/sql/utils.py\u001b[0m in \u001b[0;36mdeco\u001b[0;34m(*a, **kw)\u001b[0m\n\u001b[1;32m    109\u001b[0m     \u001b[0;32mdef\u001b[0m \u001b[0mdeco\u001b[0m\u001b[0;34m(\u001b[0m\u001b[0;34m*\u001b[0m\u001b[0ma\u001b[0m\u001b[0;34m,\u001b[0m \u001b[0;34m**\u001b[0m\u001b[0mkw\u001b[0m\u001b[0;34m)\u001b[0m\u001b[0;34m:\u001b[0m\u001b[0;34m\u001b[0m\u001b[0;34m\u001b[0m\u001b[0m\n\u001b[1;32m    110\u001b[0m         \u001b[0;32mtry\u001b[0m\u001b[0;34m:\u001b[0m\u001b[0;34m\u001b[0m\u001b[0;34m\u001b[0m\u001b[0m\n\u001b[0;32m--> 111\u001b[0;31m             \u001b[0;32mreturn\u001b[0m \u001b[0mf\u001b[0m\u001b[0;34m(\u001b[0m\u001b[0;34m*\u001b[0m\u001b[0ma\u001b[0m\u001b[0;34m,\u001b[0m \u001b[0;34m**\u001b[0m\u001b[0mkw\u001b[0m\u001b[0;34m)\u001b[0m\u001b[0;34m\u001b[0m\u001b[0;34m\u001b[0m\u001b[0m\n\u001b[0m\u001b[1;32m    112\u001b[0m         \u001b[0;32mexcept\u001b[0m \u001b[0mpy4j\u001b[0m\u001b[0;34m.\u001b[0m\u001b[0mprotocol\u001b[0m\u001b[0;34m.\u001b[0m\u001b[0mPy4JJavaError\u001b[0m \u001b[0;32mas\u001b[0m \u001b[0me\u001b[0m\u001b[0;34m:\u001b[0m\u001b[0;34m\u001b[0m\u001b[0;34m\u001b[0m\u001b[0m\n\u001b[1;32m    113\u001b[0m             \u001b[0mconverted\u001b[0m \u001b[0;34m=\u001b[0m \u001b[0mconvert_exception\u001b[0m\u001b[0;34m(\u001b[0m\u001b[0me\u001b[0m\u001b[0;34m.\u001b[0m\u001b[0mjava_exception\u001b[0m\u001b[0;34m)\u001b[0m\u001b[0;34m\u001b[0m\u001b[0;34m\u001b[0m\u001b[0m\n",
            "\u001b[0;32m/usr/local/lib/python3.7/dist-packages/py4j/protocol.py\u001b[0m in \u001b[0;36mget_return_value\u001b[0;34m(answer, gateway_client, target_id, name)\u001b[0m\n\u001b[1;32m    326\u001b[0m                 raise Py4JJavaError(\n\u001b[1;32m    327\u001b[0m                     \u001b[0;34m\"An error occurred while calling {0}{1}{2}.\\n\"\u001b[0m\u001b[0;34m.\u001b[0m\u001b[0;34m\u001b[0m\u001b[0;34m\u001b[0m\u001b[0m\n\u001b[0;32m--> 328\u001b[0;31m                     format(target_id, \".\", name), value)\n\u001b[0m\u001b[1;32m    329\u001b[0m             \u001b[0;32melse\u001b[0m\u001b[0;34m:\u001b[0m\u001b[0;34m\u001b[0m\u001b[0;34m\u001b[0m\u001b[0m\n\u001b[1;32m    330\u001b[0m                 raise Py4JError(\n",
            "\u001b[0;31mPy4JJavaError\u001b[0m: An error occurred while calling o661.fit.\n: org.apache.spark.SparkException: Job aborted due to stage failure: Task 0 in stage 96.0 failed 1 times, most recent failure: Lost task 0.0 in stage 96.0 (TID 3081) (f76dad76467d executor driver): org.apache.spark.SparkException: Failed to execute user defined function(Tokenizer$$Lambda$3280/19845347: (string) => array<string>)\n\tat org.apache.spark.sql.catalyst.expressions.GeneratedClass$GeneratedIteratorForCodegenStage1.processNext(Unknown Source)\n\tat org.apache.spark.sql.execution.BufferedRowIterator.hasNext(BufferedRowIterator.java:43)\n\tat org.apache.spark.sql.execution.WholeStageCodegenExec$$anon$1.hasNext(WholeStageCodegenExec.scala:755)\n\tat scala.collection.Iterator$$anon$10.hasNext(Iterator.scala:458)\n\tat scala.collection.Iterator$$anon$10.hasNext(Iterator.scala:458)\n\tat scala.collection.Iterator$$anon$10.hasNext(Iterator.scala:458)\n\tat scala.collection.Iterator$$anon$11.hasNext(Iterator.scala:489)\n\tat org.apache.spark.util.collection.ExternalSorter.insertAll(ExternalSorter.scala:192)\n\tat org.apache.spark.shuffle.sort.SortShuffleWriter.write(SortShuffleWriter.scala:62)\n\tat org.apache.spark.shuffle.ShuffleWriteProcessor.write(ShuffleWriteProcessor.scala:59)\n\tat org.apache.spark.scheduler.ShuffleMapTask.runTask(ShuffleMapTask.scala:99)\n\tat org.apache.spark.scheduler.ShuffleMapTask.runTask(ShuffleMapTask.scala:52)\n\tat org.apache.spark.scheduler.Task.run(Task.scala:131)\n\tat org.apache.spark.executor.Executor$TaskRunner.$anonfun$run$3(Executor.scala:497)\n\tat org.apache.spark.util.Utils$.tryWithSafeFinally(Utils.scala:1439)\n\tat org.apache.spark.executor.Executor$TaskRunner.run(Executor.scala:500)\n\tat java.util.concurrent.ThreadPoolExecutor.runWorker(ThreadPoolExecutor.java:1149)\n\tat java.util.concurrent.ThreadPoolExecutor$Worker.run(ThreadPoolExecutor.java:624)\n\tat java.lang.Thread.run(Thread.java:748)\nCaused by: java.lang.NullPointerException\n\tat org.apache.spark.ml.feature.Tokenizer.$anonfun$createTransformFunc$1(Tokenizer.scala:40)\n\t... 19 more\n\nDriver stacktrace:\n\tat org.apache.spark.scheduler.DAGScheduler.failJobAndIndependentStages(DAGScheduler.scala:2253)\n\tat org.apache.spark.scheduler.DAGScheduler.$anonfun$abortStage$2(DAGScheduler.scala:2202)\n\tat org.apache.spark.scheduler.DAGScheduler.$anonfun$abortStage$2$adapted(DAGScheduler.scala:2201)\n\tat scala.collection.mutable.ResizableArray.foreach(ResizableArray.scala:62)\n\tat scala.collection.mutable.ResizableArray.foreach$(ResizableArray.scala:55)\n\tat scala.collection.mutable.ArrayBuffer.foreach(ArrayBuffer.scala:49)\n\tat org.apache.spark.scheduler.DAGScheduler.abortStage(DAGScheduler.scala:2201)\n\tat org.apache.spark.scheduler.DAGScheduler.$anonfun$handleTaskSetFailed$1(DAGScheduler.scala:1078)\n\tat org.apache.spark.scheduler.DAGScheduler.$anonfun$handleTaskSetFailed$1$adapted(DAGScheduler.scala:1078)\n\tat scala.Option.foreach(Option.scala:407)\n\tat org.apache.spark.scheduler.DAGScheduler.handleTaskSetFailed(DAGScheduler.scala:1078)\n\tat org.apache.spark.scheduler.DAGSchedulerEventProcessLoop.doOnReceive(DAGScheduler.scala:2440)\n\tat org.apache.spark.scheduler.DAGSchedulerEventProcessLoop.onReceive(DAGScheduler.scala:2382)\n\tat org.apache.spark.scheduler.DAGSchedulerEventProcessLoop.onReceive(DAGScheduler.scala:2371)\n\tat org.apache.spark.util.EventLoop$$anon$1.run(EventLoop.scala:49)\n\tat org.apache.spark.scheduler.DAGScheduler.runJob(DAGScheduler.scala:868)\n\tat org.apache.spark.SparkContext.runJob(SparkContext.scala:2202)\n\tat org.apache.spark.SparkContext.runJob(SparkContext.scala:2223)\n\tat org.apache.spark.SparkContext.runJob(SparkContext.scala:2242)\n\tat org.apache.spark.SparkContext.runJob(SparkContext.scala:2267)\n\tat org.apache.spark.rdd.RDD.count(RDD.scala:1253)\n\tat org.apache.spark.ml.feature.CountVectorizer.fit(CountVectorizer.scala:233)\n\tat org.apache.spark.ml.feature.CountVectorizer.fit(CountVectorizer.scala:149)\n\tat sun.reflect.NativeMethodAccessorImpl.invoke0(Native Method)\n\tat sun.reflect.NativeMethodAccessorImpl.invoke(NativeMethodAccessorImpl.java:62)\n\tat sun.reflect.DelegatingMethodAccessorImpl.invoke(DelegatingMethodAccessorImpl.java:43)\n\tat java.lang.reflect.Method.invoke(Method.java:498)\n\tat py4j.reflection.MethodInvoker.invoke(MethodInvoker.java:244)\n\tat py4j.reflection.ReflectionEngine.invoke(ReflectionEngine.java:357)\n\tat py4j.Gateway.invoke(Gateway.java:282)\n\tat py4j.commands.AbstractCommand.invokeMethod(AbstractCommand.java:132)\n\tat py4j.commands.CallCommand.execute(CallCommand.java:79)\n\tat py4j.GatewayConnection.run(GatewayConnection.java:238)\n\tat java.lang.Thread.run(Thread.java:748)\nCaused by: org.apache.spark.SparkException: Failed to execute user defined function(Tokenizer$$Lambda$3280/19845347: (string) => array<string>)\n\tat org.apache.spark.sql.catalyst.expressions.GeneratedClass$GeneratedIteratorForCodegenStage1.processNext(Unknown Source)\n\tat org.apache.spark.sql.execution.BufferedRowIterator.hasNext(BufferedRowIterator.java:43)\n\tat org.apache.spark.sql.execution.WholeStageCodegenExec$$anon$1.hasNext(WholeStageCodegenExec.scala:755)\n\tat scala.collection.Iterator$$anon$10.hasNext(Iterator.scala:458)\n\tat scala.collection.Iterator$$anon$10.hasNext(Iterator.scala:458)\n\tat scala.collection.Iterator$$anon$10.hasNext(Iterator.scala:458)\n\tat scala.collection.Iterator$$anon$11.hasNext(Iterator.scala:489)\n\tat org.apache.spark.util.collection.ExternalSorter.insertAll(ExternalSorter.scala:192)\n\tat org.apache.spark.shuffle.sort.SortShuffleWriter.write(SortShuffleWriter.scala:62)\n\tat org.apache.spark.shuffle.ShuffleWriteProcessor.write(ShuffleWriteProcessor.scala:59)\n\tat org.apache.spark.scheduler.ShuffleMapTask.runTask(ShuffleMapTask.scala:99)\n\tat org.apache.spark.scheduler.ShuffleMapTask.runTask(ShuffleMapTask.scala:52)\n\tat org.apache.spark.scheduler.Task.run(Task.scala:131)\n\tat org.apache.spark.executor.Executor$TaskRunner.$anonfun$run$3(Executor.scala:497)\n\tat org.apache.spark.util.Utils$.tryWithSafeFinally(Utils.scala:1439)\n\tat org.apache.spark.executor.Executor$TaskRunner.run(Executor.scala:500)\n\tat java.util.concurrent.ThreadPoolExecutor.runWorker(ThreadPoolExecutor.java:1149)\n\tat java.util.concurrent.ThreadPoolExecutor$Worker.run(ThreadPoolExecutor.java:624)\n\t... 1 more\nCaused by: java.lang.NullPointerException\n\tat org.apache.spark.ml.feature.Tokenizer.$anonfun$createTransformFunc$1(Tokenizer.scala:40)\n\t... 19 more\n"
          ]
        }
      ]
    },
    {
      "cell_type": "markdown",
      "metadata": {
        "id": "R3HVswjDKss-"
      },
      "source": [
        "### Random Forest"
      ]
    },
    {
      "cell_type": "code",
      "metadata": {
        "id": "Z9u4JbU2owne"
      },
      "source": [
        "dataset = pipeline_cv_transformer.transform(grocery_food)"
      ],
      "execution_count": 53,
      "outputs": []
    },
    {
      "cell_type": "code",
      "metadata": {
        "id": "oXn9OksfojFB"
      },
      "source": [
        "dataset = dataset.sampleBy(\"overall\", fractions={1: 0.542, 2: 1, 3: 0.681, 4: 0.397, 5: 0.0614}, seed=10)"
      ],
      "execution_count": 54,
      "outputs": []
    },
    {
      "cell_type": "code",
      "metadata": {
        "id": "ycxJd0blZGoB"
      },
      "source": [
        "dataframe_new = pyspark.sql.DataFrame.sample(dataset, .01, seed=None)"
      ],
      "execution_count": 55,
      "outputs": []
    },
    {
      "cell_type": "code",
      "metadata": {
        "colab": {
          "base_uri": "https://localhost:8080/"
        },
        "id": "58KftRIxHrTa",
        "outputId": "1f59b31e-73c9-4b51-9d6f-b9a6f85f7cf5"
      },
      "source": [
        "dataframe_new.show()"
      ],
      "execution_count": 56,
      "outputs": [
        {
          "output_type": "stream",
          "text": [
            "+----------+-------+--------------------+--------------------+--------------------+--------------------+\n",
            "|      asin|overall|          reviewText|             summary|               words|            features|\n",
            "+----------+-------+--------------------+--------------------+--------------------+--------------------+\n",
            "|9742356831|    2.0|Super hot and not...|Meeh - it's too s...|[super, hot, and,...|(262144,[1,2,14,1...|\n",
            "|B00005BPQ9|    2.0|               Stale|           Two Stars|             [stale]|(262144,[769],[1.0])|\n",
            "|B00006BN4U|    2.0|Even in the over ...|Low Rate and Just...|[even, in, the, o...|(262144,[0,1,2,3,...|\n",
            "|B00006FMLY|    4.0|                Good|          Four Stars|              [good]| (262144,[27],[1.0])|\n",
            "|B00008RCN8|    2.0|Received Peppermi...|Wrong flavor deli...|[received, pepper...|(262144,[0,5,8,13...|\n",
            "|B00008RCN8|    2.0|Orbit is usually ...|and is also usual...|[orbit, is, usual...|(262144,[2,3,9,12...|\n",
            "|B0000A1OEF|    1.0|They make cupcake...|            One Star|[they, make, cupc...|(262144,[0,3,23,3...|\n",
            "|B0000CA4TK|    5.0|Perfect for authe...|Home brewed Carib...|[perfect, for, au...|(262144,[0,3,10,1...|\n",
            "|B0000CDBPT|    5.0|  I love this stuff!|          Five Stars|[i, love, this, s...|(262144,[1,7,30,8...|\n",
            "|B0000CDBQL|    3.0|I use Chef Paul p...|A little disappoi...|[i, use, chef, pa...|(262144,[0,1,2,3,...|\n",
            "|B0000CFH7B|    2.0|I did not taste i...|... said spraying...|[i, did, not, tas...|(262144,[0,1,2,6,...|\n",
            "|B0000CFH7B|    5.0|          super fun!|          Five Stars|       [super, fun!]|(262144,[302,4937...|\n",
            "|B0000CFH7B|    3.0|It will take hold...|Do not, my friend...|[it, will, take, ...|(262144,[2,6,8,21...|\n",
            "|B0000CFH7B|    2.0|Washes off with M...|Not the original....|[washes, off, wit...|(262144,[0,1,2,3,...|\n",
            "|B0000CFMU7|    5.0|Love the gel.  So...|          Five Stars|[love, the, gel.,...|(262144,[0,4,5,17...|\n",
            "|B0000CFPI2|    4.0|For me, this is t...|Easy to use in my...|[for, me,, this, ...|(262144,[0,1,5,7,...|\n",
            "|B0000CFPI2|    3.0|Nothing to compla...|but wasn't amazin...|[nothing, to, com...|(262144,[0,1,5,6,...|\n",
            "|B0000CFPI2|    1.0|This had the best...|This had the best...|[this, had, the, ...|(262144,[0,4,5,6,...|\n",
            "|B0000CFPI2|    5.0|I love the mix an...|I love the mix an...|[i, love, the, mi...|(262144,[0,1,2,5,...|\n",
            "|B0000CFPI2|    4.0|Good quality good...|          Four Stars|[good, quality, g...|(262144,[27,87,13...|\n",
            "+----------+-------+--------------------+--------------------+--------------------+--------------------+\n",
            "only showing top 20 rows\n",
            "\n"
          ],
          "name": "stdout"
        }
      ]
    },
    {
      "cell_type": "code",
      "metadata": {
        "colab": {
          "base_uri": "https://localhost:8080/",
          "height": 307
        },
        "id": "UJOJotF4sR7i",
        "outputId": "b233a362-9739-4c02-dcd1-3c7c959e85d5"
      },
      "source": [
        "dataframe_new.groupBy(\"overall\").count().sort(desc(\"count\")).show()"
      ],
      "execution_count": 59,
      "outputs": [
        {
          "output_type": "error",
          "ename": "KeyboardInterrupt",
          "evalue": "ignored",
          "traceback": [
            "\u001b[0;31m---------------------------------------------------------------------------\u001b[0m",
            "\u001b[0;31mKeyboardInterrupt\u001b[0m                         Traceback (most recent call last)",
            "\u001b[0;32m<ipython-input-59-6bb3ba1b5d19>\u001b[0m in \u001b[0;36m<module>\u001b[0;34m()\u001b[0m\n\u001b[0;32m----> 1\u001b[0;31m \u001b[0mdataframe_new\u001b[0m\u001b[0;34m.\u001b[0m\u001b[0mgroupBy\u001b[0m\u001b[0;34m(\u001b[0m\u001b[0;34m\"overall\"\u001b[0m\u001b[0;34m)\u001b[0m\u001b[0;34m.\u001b[0m\u001b[0mcount\u001b[0m\u001b[0;34m(\u001b[0m\u001b[0;34m)\u001b[0m\u001b[0;34m.\u001b[0m\u001b[0msort\u001b[0m\u001b[0;34m(\u001b[0m\u001b[0mdesc\u001b[0m\u001b[0;34m(\u001b[0m\u001b[0;34m\"count\"\u001b[0m\u001b[0;34m)\u001b[0m\u001b[0;34m)\u001b[0m\u001b[0;34m.\u001b[0m\u001b[0mshow\u001b[0m\u001b[0;34m(\u001b[0m\u001b[0;34m)\u001b[0m\u001b[0;34m\u001b[0m\u001b[0;34m\u001b[0m\u001b[0m\n\u001b[0m",
            "\u001b[0;32m/usr/local/lib/python3.7/dist-packages/pyspark/sql/dataframe.py\u001b[0m in \u001b[0;36mshow\u001b[0;34m(self, n, truncate, vertical)\u001b[0m\n\u001b[1;32m    482\u001b[0m         \"\"\"\n\u001b[1;32m    483\u001b[0m         \u001b[0;32mif\u001b[0m \u001b[0misinstance\u001b[0m\u001b[0;34m(\u001b[0m\u001b[0mtruncate\u001b[0m\u001b[0;34m,\u001b[0m \u001b[0mbool\u001b[0m\u001b[0;34m)\u001b[0m \u001b[0;32mand\u001b[0m \u001b[0mtruncate\u001b[0m\u001b[0;34m:\u001b[0m\u001b[0;34m\u001b[0m\u001b[0;34m\u001b[0m\u001b[0m\n\u001b[0;32m--> 484\u001b[0;31m             \u001b[0mprint\u001b[0m\u001b[0;34m(\u001b[0m\u001b[0mself\u001b[0m\u001b[0;34m.\u001b[0m\u001b[0m_jdf\u001b[0m\u001b[0;34m.\u001b[0m\u001b[0mshowString\u001b[0m\u001b[0;34m(\u001b[0m\u001b[0mn\u001b[0m\u001b[0;34m,\u001b[0m \u001b[0;36m20\u001b[0m\u001b[0;34m,\u001b[0m \u001b[0mvertical\u001b[0m\u001b[0;34m)\u001b[0m\u001b[0;34m)\u001b[0m\u001b[0;34m\u001b[0m\u001b[0;34m\u001b[0m\u001b[0m\n\u001b[0m\u001b[1;32m    485\u001b[0m         \u001b[0;32melse\u001b[0m\u001b[0;34m:\u001b[0m\u001b[0;34m\u001b[0m\u001b[0;34m\u001b[0m\u001b[0m\n\u001b[1;32m    486\u001b[0m             \u001b[0mprint\u001b[0m\u001b[0;34m(\u001b[0m\u001b[0mself\u001b[0m\u001b[0;34m.\u001b[0m\u001b[0m_jdf\u001b[0m\u001b[0;34m.\u001b[0m\u001b[0mshowString\u001b[0m\u001b[0;34m(\u001b[0m\u001b[0mn\u001b[0m\u001b[0;34m,\u001b[0m \u001b[0mint\u001b[0m\u001b[0;34m(\u001b[0m\u001b[0mtruncate\u001b[0m\u001b[0;34m)\u001b[0m\u001b[0;34m,\u001b[0m \u001b[0mvertical\u001b[0m\u001b[0;34m)\u001b[0m\u001b[0;34m)\u001b[0m\u001b[0;34m\u001b[0m\u001b[0;34m\u001b[0m\u001b[0m\n",
            "\u001b[0;32m/usr/local/lib/python3.7/dist-packages/py4j/java_gateway.py\u001b[0m in \u001b[0;36m__call__\u001b[0;34m(self, *args)\u001b[0m\n\u001b[1;32m   1301\u001b[0m             \u001b[0mproto\u001b[0m\u001b[0;34m.\u001b[0m\u001b[0mEND_COMMAND_PART\u001b[0m\u001b[0;34m\u001b[0m\u001b[0;34m\u001b[0m\u001b[0m\n\u001b[1;32m   1302\u001b[0m \u001b[0;34m\u001b[0m\u001b[0m\n\u001b[0;32m-> 1303\u001b[0;31m         \u001b[0manswer\u001b[0m \u001b[0;34m=\u001b[0m \u001b[0mself\u001b[0m\u001b[0;34m.\u001b[0m\u001b[0mgateway_client\u001b[0m\u001b[0;34m.\u001b[0m\u001b[0msend_command\u001b[0m\u001b[0;34m(\u001b[0m\u001b[0mcommand\u001b[0m\u001b[0;34m)\u001b[0m\u001b[0;34m\u001b[0m\u001b[0;34m\u001b[0m\u001b[0m\n\u001b[0m\u001b[1;32m   1304\u001b[0m         return_value = get_return_value(\n\u001b[1;32m   1305\u001b[0m             answer, self.gateway_client, self.target_id, self.name)\n",
            "\u001b[0;32m/usr/local/lib/python3.7/dist-packages/py4j/java_gateway.py\u001b[0m in \u001b[0;36msend_command\u001b[0;34m(self, command, retry, binary)\u001b[0m\n\u001b[1;32m   1031\u001b[0m         \u001b[0mconnection\u001b[0m \u001b[0;34m=\u001b[0m \u001b[0mself\u001b[0m\u001b[0;34m.\u001b[0m\u001b[0m_get_connection\u001b[0m\u001b[0;34m(\u001b[0m\u001b[0;34m)\u001b[0m\u001b[0;34m\u001b[0m\u001b[0;34m\u001b[0m\u001b[0m\n\u001b[1;32m   1032\u001b[0m         \u001b[0;32mtry\u001b[0m\u001b[0;34m:\u001b[0m\u001b[0;34m\u001b[0m\u001b[0;34m\u001b[0m\u001b[0m\n\u001b[0;32m-> 1033\u001b[0;31m             \u001b[0mresponse\u001b[0m \u001b[0;34m=\u001b[0m \u001b[0mconnection\u001b[0m\u001b[0;34m.\u001b[0m\u001b[0msend_command\u001b[0m\u001b[0;34m(\u001b[0m\u001b[0mcommand\u001b[0m\u001b[0;34m)\u001b[0m\u001b[0;34m\u001b[0m\u001b[0;34m\u001b[0m\u001b[0m\n\u001b[0m\u001b[1;32m   1034\u001b[0m             \u001b[0;32mif\u001b[0m \u001b[0mbinary\u001b[0m\u001b[0;34m:\u001b[0m\u001b[0;34m\u001b[0m\u001b[0;34m\u001b[0m\u001b[0m\n\u001b[1;32m   1035\u001b[0m                 \u001b[0;32mreturn\u001b[0m \u001b[0mresponse\u001b[0m\u001b[0;34m,\u001b[0m \u001b[0mself\u001b[0m\u001b[0;34m.\u001b[0m\u001b[0m_create_connection_guard\u001b[0m\u001b[0;34m(\u001b[0m\u001b[0mconnection\u001b[0m\u001b[0;34m)\u001b[0m\u001b[0;34m\u001b[0m\u001b[0;34m\u001b[0m\u001b[0m\n",
            "\u001b[0;32m/usr/local/lib/python3.7/dist-packages/py4j/java_gateway.py\u001b[0m in \u001b[0;36msend_command\u001b[0;34m(self, command)\u001b[0m\n\u001b[1;32m   1198\u001b[0m \u001b[0;34m\u001b[0m\u001b[0m\n\u001b[1;32m   1199\u001b[0m         \u001b[0;32mtry\u001b[0m\u001b[0;34m:\u001b[0m\u001b[0;34m\u001b[0m\u001b[0;34m\u001b[0m\u001b[0m\n\u001b[0;32m-> 1200\u001b[0;31m             \u001b[0manswer\u001b[0m \u001b[0;34m=\u001b[0m \u001b[0msmart_decode\u001b[0m\u001b[0;34m(\u001b[0m\u001b[0mself\u001b[0m\u001b[0;34m.\u001b[0m\u001b[0mstream\u001b[0m\u001b[0;34m.\u001b[0m\u001b[0mreadline\u001b[0m\u001b[0;34m(\u001b[0m\u001b[0;34m)\u001b[0m\u001b[0;34m[\u001b[0m\u001b[0;34m:\u001b[0m\u001b[0;34m-\u001b[0m\u001b[0;36m1\u001b[0m\u001b[0;34m]\u001b[0m\u001b[0;34m)\u001b[0m\u001b[0;34m\u001b[0m\u001b[0;34m\u001b[0m\u001b[0m\n\u001b[0m\u001b[1;32m   1201\u001b[0m             \u001b[0mlogger\u001b[0m\u001b[0;34m.\u001b[0m\u001b[0mdebug\u001b[0m\u001b[0;34m(\u001b[0m\u001b[0;34m\"Answer received: {0}\"\u001b[0m\u001b[0;34m.\u001b[0m\u001b[0mformat\u001b[0m\u001b[0;34m(\u001b[0m\u001b[0manswer\u001b[0m\u001b[0;34m)\u001b[0m\u001b[0;34m)\u001b[0m\u001b[0;34m\u001b[0m\u001b[0;34m\u001b[0m\u001b[0m\n\u001b[1;32m   1202\u001b[0m             \u001b[0;32mif\u001b[0m \u001b[0manswer\u001b[0m\u001b[0;34m.\u001b[0m\u001b[0mstartswith\u001b[0m\u001b[0;34m(\u001b[0m\u001b[0mproto\u001b[0m\u001b[0;34m.\u001b[0m\u001b[0mRETURN_MESSAGE\u001b[0m\u001b[0;34m)\u001b[0m\u001b[0;34m:\u001b[0m\u001b[0;34m\u001b[0m\u001b[0;34m\u001b[0m\u001b[0m\n",
            "\u001b[0;32m/usr/lib/python3.7/socket.py\u001b[0m in \u001b[0;36mreadinto\u001b[0;34m(self, b)\u001b[0m\n\u001b[1;32m    587\u001b[0m         \u001b[0;32mwhile\u001b[0m \u001b[0;32mTrue\u001b[0m\u001b[0;34m:\u001b[0m\u001b[0;34m\u001b[0m\u001b[0;34m\u001b[0m\u001b[0m\n\u001b[1;32m    588\u001b[0m             \u001b[0;32mtry\u001b[0m\u001b[0;34m:\u001b[0m\u001b[0;34m\u001b[0m\u001b[0;34m\u001b[0m\u001b[0m\n\u001b[0;32m--> 589\u001b[0;31m                 \u001b[0;32mreturn\u001b[0m \u001b[0mself\u001b[0m\u001b[0;34m.\u001b[0m\u001b[0m_sock\u001b[0m\u001b[0;34m.\u001b[0m\u001b[0mrecv_into\u001b[0m\u001b[0;34m(\u001b[0m\u001b[0mb\u001b[0m\u001b[0;34m)\u001b[0m\u001b[0;34m\u001b[0m\u001b[0;34m\u001b[0m\u001b[0m\n\u001b[0m\u001b[1;32m    590\u001b[0m             \u001b[0;32mexcept\u001b[0m \u001b[0mtimeout\u001b[0m\u001b[0;34m:\u001b[0m\u001b[0;34m\u001b[0m\u001b[0;34m\u001b[0m\u001b[0m\n\u001b[1;32m    591\u001b[0m                 \u001b[0mself\u001b[0m\u001b[0;34m.\u001b[0m\u001b[0m_timeout_occurred\u001b[0m \u001b[0;34m=\u001b[0m \u001b[0;32mTrue\u001b[0m\u001b[0;34m\u001b[0m\u001b[0;34m\u001b[0m\u001b[0m\n",
            "\u001b[0;31mKeyboardInterrupt\u001b[0m: "
          ]
        }
      ]
    },
    {
      "cell_type": "code",
      "metadata": {
        "id": "0ThhxnoIm1Tm"
      },
      "source": [
        "(trainingData, testData) = dataframe_new.randomSplit([0.7, 0.3], seed = 100)\n",
        "print(\"Training Dataset Count: \" + str(trainingData.count()))\n",
        "print(\"Test Dataset Count: \" + str(testData.count()))"
      ],
      "execution_count": null,
      "outputs": []
    },
    {
      "cell_type": "code",
      "metadata": {
        "id": "hEPAjhGYZGoB"
      },
      "source": [
        "from pyspark.ml.classification import RandomForestClassifier\n",
        "rf = RandomForestClassifier(labelCol=\"overall\", \\\n",
        "                            featuresCol=\"features\")\n",
        "# Train model with Training Data\n",
        "rfModel = rf.fit(trainingData)\n",
        "predictions = rfModel.transform(testData)\n",
        "predictions.filter(predictions['prediction'] == 5.0) \\\n",
        "    .select(\"reviewText\",\"overall\",\"probability\",\"prediction\") \\\n",
        "    .orderBy(\"probability\", ascending=False) \\\n",
        "    .show(n = 10, truncate = 30)"
      ],
      "execution_count": null,
      "outputs": []
    },
    {
      "cell_type": "code",
      "metadata": {
        "id": "5vMHWRGNK98k"
      },
      "source": [
        "predictions.write.json(\"/content/drive/MyDrive/big_dta/project/predictions_rf\")"
      ],
      "execution_count": null,
      "outputs": []
    },
    {
      "cell_type": "code",
      "metadata": {
        "id": "LaOW6bFEZGoC"
      },
      "source": [
        "from pyspark.ml.evaluation import MulticlassClassificationEvaluator\n",
        "evaluator = MulticlassClassificationEvaluator(labelCol='overall', predictionCol=\"prediction\")\n",
        "evaluator.evaluate(predictions)"
      ],
      "execution_count": null,
      "outputs": []
    },
    {
      "cell_type": "code",
      "metadata": {
        "id": "h6SB6Eqmpljd"
      },
      "source": [
        "pred_grouped = predictions.withColumn('flag', F.when(((F.col(\"prediction\") <= F.lit(3)) & (F.col(\"overall\") <= F.lit(3))) | ((F.col(\"prediction\") > F.lit(3)) & (F.col(\"overall\") > F.lit(3))), 1).otherwise(0))"
      ],
      "execution_count": null,
      "outputs": []
    },
    {
      "cell_type": "code",
      "metadata": {
        "id": "bkpSfuxDps4C"
      },
      "source": [
        "pred_grouped.select(F.sum('flag')/count('flag')).collect()[0][0]"
      ],
      "execution_count": null,
      "outputs": []
    },
    {
      "cell_type": "code",
      "metadata": {
        "id": "PLjowKquICBq"
      },
      "source": [
        "pred_grouped.show()"
      ],
      "execution_count": null,
      "outputs": []
    },
    {
      "cell_type": "markdown",
      "metadata": {
        "id": "lxvPtLTU9JGD"
      },
      "source": [
        "### Sentiment Analysis"
      ]
    },
    {
      "cell_type": "code",
      "metadata": {
        "id": "MHlXdh1mj4Ut"
      },
      "source": [
        "from pyspark.sql.functions import udf\n",
        "from pyspark.sql.types import StringType\n"
      ],
      "execution_count": 60,
      "outputs": []
    },
    {
      "cell_type": "code",
      "metadata": {
        "id": "0TNBISGD2Mjq"
      },
      "source": [
        "from pyspark.sql.types import FloatType\n",
        "\n",
        "from textblob import TextBlob\n",
        "\n",
        "def sentiment_analysis(text):\n",
        "    return TextBlob(text).sentiment.polarity\n",
        "\n",
        "sentiment_analysis_udf = udf(sentiment_analysis , FloatType())"
      ],
      "execution_count": 61,
      "outputs": []
    },
    {
      "cell_type": "code",
      "metadata": {
        "id": "ZTM0t57h-biD"
      },
      "source": [
        "pred_grouped = pred_grouped.withColumn(\"sentiment_score\", sentiment_analysis_udf(pred_grouped['reviewText']))"
      ],
      "execution_count": 62,
      "outputs": []
    },
    {
      "cell_type": "code",
      "metadata": {
        "id": "t6BQsKPO-jUf"
      },
      "source": [
        "def condition(r):\n",
        "    if (r >0):\n",
        "        label = \"positive\"\n",
        "    elif(r <= 0):\n",
        "        label = \"negative\"\n",
        "    return label\n",
        "\n",
        "sentiment_udf = udf(lambda x: condition(x), StringType())"
      ],
      "execution_count": 63,
      "outputs": []
    },
    {
      "cell_type": "code",
      "metadata": {
        "colab": {
          "base_uri": "https://localhost:8080/"
        },
        "id": "WLm01njf_LDg",
        "outputId": "6b03917d-e88d-400b-a54e-dea3cd4cb56e"
      },
      "source": [
        "pred_grouped.withColumn(\"sentiment\", sentiment_udf(pred_grouped['sentiment_score'] )).show()"
      ],
      "execution_count": 64,
      "outputs": [
        {
          "output_type": "stream",
          "text": [
            "+----------+-------+--------------------+--------------------+--------------------+--------------------+--------------------+--------------------+----------+----+---------------+---------+\n",
            "|      asin|overall|          reviewText|             summary|               words|            features|       rawPrediction|         probability|prediction|flag|sentiment_score|sentiment|\n",
            "+----------+-------+--------------------+--------------------+--------------------+--------------------+--------------------+--------------------+----------+----+---------------+---------+\n",
            "|B00005IX97|    2.0|Hard to find I.S....|  Not Espresso taste|[hard, to, find, ...|(262144,[0,3,5,6,...|[-6.1203947420993...|[9.89797637855141...|       3.0|   1|    0.016319444| positive|\n",
            "|B0000CDE88|    5.0|I received a pack...|           Delicious|[i, received, a, ...|(262144,[0,1,2,3,...|[-6.1273146616117...|[9.88186499593824...|       4.0|   1|     0.16001984| positive|\n",
            "|B0000CFH7B|    1.0|Very thing mist i...|            One Star|[very, thing, mis...|(262144,[9,29,305...|[-6.1126092273905...|[1.26113831197066...|       4.0|   0|     0.24285714| positive|\n",
            "|B0000CFH7B|    5.0|IT BURNS OH IT BU...|    SHINY AND CHROME|[it, burns, oh, i...|(262144,[0,3,5,6,...|[-6.1136109651625...|[1.17508657743288...|       4.0|   1|            1.0| positive|\n",
            "|B0000CFPI2|    3.0|I prefer the Nesc...|Decent flavor, co...|[i, prefer, the, ...|(262144,[0,1,2,3,...|[-6.1243925201585...|[7.03085535594541...|       3.0|   1|     0.14107142| positive|\n",
            "|B0000D916Y|    5.0|These cookies wer...|These cookies wer...|[these, cookies, ...|(262144,[0,1,2,3,...|[-6.1150210261803...|[1.24953590704937...|       3.0|   0|            0.0| negative|\n",
            "|B0000D953W|    4.0|It was satrisfact...|          Four Stars|[it, was, satrisf...|(262144,[6,15],[1...|[-6.1122605819569...|[1.29370873377549...|       5.0|   1|            0.0| negative|\n",
            "|B0000DA0XJ|    5.0|           VERY GOOD|          Five Stars|        [very, good]|(262144,[27,29],[...|[-6.1125112171008...|[1.27573267440090...|       5.0|   1|           0.91| positive|\n",
            "|B0000DG4MK|    4.0|It's not this sau...|When it does come...|[it's, not, this,...|(262144,[0,1,2,3,...|[-6.1210868295324...|[9.42996336725025...|       4.0|   1|      0.1754762| positive|\n",
            "|B0000DG8AR|    1.0|died very quickly...|            One Star|[died, very, quic...|(262144,[29,59,93...|[-6.1129388338708...|[1.26334126104925...|       1.0|   1|    -0.21666667| negative|\n",
            "|B0000DG8AR|    2.0|I was very disapp...|           Two Stars|[i, was, very, di...|(262144,[0,1,5,14...|[-6.1136481769859...|[1.25965952835512...|       1.0|   1|         -0.975| negative|\n",
            "|B0000DGF9V|    3.0|The first tree I ...|Misleading descri...|[the, first, tree...|(262144,[0,1,2,3,...|[-6.1276003027045...|[1.00609511771414...|       5.0|   0|     0.12967262| positive|\n",
            "|B0000DGG22|    2.0|Arrived with pot ...|          Broken pot|[arrived, with, p...|(262144,[17,160,8...|[-6.1127998909645...|[1.28217800595949...|       1.0|   1|           -0.4| negative|\n",
            "|B0000DGG8B|    3.0|The tree is lovel...|Brussel's Fringe ...|[the, tree, is, l...|(262144,[0,1,2,3,...|[-6.1226539487368...|[1.07163802371188...|       1.0|   1|      0.2540025| positive|\n",
            "|B0000DHXGL|    1.0|So so disappointe...|So, so disappoint...|[so, so, disappoi...|(262144,[0,1,2,3,...|[-6.1228993309403...|[1.03213967132003...|       1.0|   1|     0.08614719| positive|\n",
            "|B0000E5L4E|    3.0|BE CAREFUL openin...|Open GENTLY: Don'...|[be, careful, ope...|(262144,[0,1,2,6,...|[-6.1187503931220...|[1.12783549095216...|       1.0|   1|      0.3175926| positive|\n",
            "|B0000EWY28|    4.0|I am on a gluten ...|       I love pecans|[i, am, on, a, gl...|(262144,[0,1,2,3,...|[-6.1160854068226...|[1.04014754928276...|       5.0|   1|            0.4| positive|\n",
            "|B0000VLH8S|    4.0|Works really well...|nice and smooth a...|[works, really, w...|(262144,[0,2,3,7,...|[-6.1161675370905...|[1.18381748886605...|       4.0|   1|     0.31428573| positive|\n",
            "|B0000VLHK6|    4.0|We used this glit...|Need quite a bit ...|[we, used, this, ...|(262144,[0,2,3,5,...|[-6.1158602715894...|[1.23530697934960...|       4.0|   1|     0.42666668| positive|\n",
            "|B0000WKU8K|    3.0|I saw a TV segmen...|             NOT BAD|[i, saw, a, tv, s...|(262144,[0,1,2,3,...|[-6.1238061802373...|[9.43918813946756...|       4.0|   0|     0.16444445| positive|\n",
            "+----------+-------+--------------------+--------------------+--------------------+--------------------+--------------------+--------------------+----------+----+---------------+---------+\n",
            "only showing top 20 rows\n",
            "\n"
          ],
          "name": "stdout"
        }
      ]
    },
    {
      "cell_type": "code",
      "metadata": {
        "id": "xOeYBhJlMHNz"
      },
      "source": [
        "def condition(r):\n",
        "    if (r >0.1):\n",
        "        label = \"positive\"\n",
        "    elif(r <= -0.1):\n",
        "        label = \"negative\"\n",
        "    else:\n",
        "        label = \"neutral\"\n",
        "    return label\n",
        "\n",
        "sentiment_udf = udf(lambda x: condition(x), StringType())"
      ],
      "execution_count": 72,
      "outputs": []
    },
    {
      "cell_type": "code",
      "metadata": {
        "id": "yP1qJCyE_VCj"
      },
      "source": [
        "pred_grouped = pred_grouped.withColumn(\"sentiment\", sentiment_udf(pred_grouped['sentiment_score'] ))"
      ],
      "execution_count": 73,
      "outputs": []
    },
    {
      "cell_type": "code",
      "metadata": {
        "colab": {
          "base_uri": "https://localhost:8080/"
        },
        "id": "mhXbst_YMO6g",
        "outputId": "263fbd46-c1bd-4e60-a735-b5ffe2a406a4"
      },
      "source": [
        "pred_grouped.groupBy(\"sentiment\").count().sort(desc(\"count\")).show()"
      ],
      "execution_count": 74,
      "outputs": [
        {
          "output_type": "stream",
          "text": [
            "+---------+-----+\n",
            "|sentiment|count|\n",
            "+---------+-----+\n",
            "| positive| 1873|\n",
            "|  neutral|  871|\n",
            "| negative|  476|\n",
            "+---------+-----+\n",
            "\n"
          ],
          "name": "stdout"
        }
      ]
    },
    {
      "cell_type": "code",
      "metadata": {
        "colab": {
          "base_uri": "https://localhost:8080/"
        },
        "id": "56fSN2DqNMVq",
        "outputId": "86686dc8-a5ff-4244-b081-dbebbc3e77d5"
      },
      "source": [
        "pred_grouped.registerTempTable(\"pred_grouped\")\n",
        "\n",
        "query = \"\"\"\n",
        "SELECT sentiment, count(*) as sent_count\n",
        "FROM pred_grouped\n",
        "GROUP BY sentiment\n",
        "ORDER BY sent_count DESC\n",
        "\"\"\"\n",
        "\n",
        "sent_count = spark.sql(query)\n",
        "sent_count.show()"
      ],
      "execution_count": 75,
      "outputs": [
        {
          "output_type": "stream",
          "text": [
            "+---------+----------+\n",
            "|sentiment|sent_count|\n",
            "+---------+----------+\n",
            "| positive|      1873|\n",
            "|  neutral|       871|\n",
            "| negative|       476|\n",
            "+---------+----------+\n",
            "\n"
          ],
          "name": "stdout"
        }
      ]
    },
    {
      "cell_type": "code",
      "metadata": {
        "colab": {
          "base_uri": "https://localhost:8080/",
          "height": 142
        },
        "id": "oRxFuALcN1xC",
        "outputId": "672dac84-db37-4cd8-faec-65e2fe4d4607"
      },
      "source": [
        "sent_count_pd = sent_count.toPandas()\n",
        "sent_count_pd.head()\n"
      ],
      "execution_count": 76,
      "outputs": [
        {
          "output_type": "execute_result",
          "data": {
            "text/html": [
              "<div>\n",
              "<style scoped>\n",
              "    .dataframe tbody tr th:only-of-type {\n",
              "        vertical-align: middle;\n",
              "    }\n",
              "\n",
              "    .dataframe tbody tr th {\n",
              "        vertical-align: top;\n",
              "    }\n",
              "\n",
              "    .dataframe thead th {\n",
              "        text-align: right;\n",
              "    }\n",
              "</style>\n",
              "<table border=\"1\" class=\"dataframe\">\n",
              "  <thead>\n",
              "    <tr style=\"text-align: right;\">\n",
              "      <th></th>\n",
              "      <th>sentiment</th>\n",
              "      <th>sent_count</th>\n",
              "    </tr>\n",
              "  </thead>\n",
              "  <tbody>\n",
              "    <tr>\n",
              "      <th>0</th>\n",
              "      <td>positive</td>\n",
              "      <td>1873</td>\n",
              "    </tr>\n",
              "    <tr>\n",
              "      <th>1</th>\n",
              "      <td>neutral</td>\n",
              "      <td>871</td>\n",
              "    </tr>\n",
              "    <tr>\n",
              "      <th>2</th>\n",
              "      <td>negative</td>\n",
              "      <td>476</td>\n",
              "    </tr>\n",
              "  </tbody>\n",
              "</table>\n",
              "</div>"
            ],
            "text/plain": [
              "  sentiment  sent_count\n",
              "0  positive        1873\n",
              "1   neutral         871\n",
              "2  negative         476"
            ]
          },
          "metadata": {
            "tags": []
          },
          "execution_count": 76
        }
      ]
    },
    {
      "cell_type": "code",
      "metadata": {
        "colab": {
          "base_uri": "https://localhost:8080/",
          "height": 509
        },
        "id": "ArdYZH2oMrim",
        "outputId": "34a3f491-d0a6-4f58-ead3-6357a8d2420c"
      },
      "source": [
        "pl = sent_count_pd.plot(kind=\"bar\", \n",
        "                            x=\"sentiment\", y=\"sent_count\", \n",
        "                            figsize=(10, 7), log=False, alpha=0.5, color=\"darkred\")\n",
        "pl.set_xlabel(\"Sentiment\")\n",
        "pl.set_ylabel(\"Count by Sentiment\")\n",
        "pl.set_title(\"Number of reviews by sentiment\")"
      ],
      "execution_count": 106,
      "outputs": [
        {
          "output_type": "execute_result",
          "data": {
            "text/plain": [
              "Text(0.5, 1.0, 'Number of reviews by sentiment')"
            ]
          },
          "metadata": {
            "tags": []
          },
          "execution_count": 106
        },
        {
          "output_type": "display_data",
          "data": {
            "image/png": "[encoded data removed]",
            "text/plain": [
              "<Figure size 720x504 with 1 Axes>"
            ]
          },
          "metadata": {
            "tags": [],
            "needs_background": "light"
          }
        }
      ]
    },
    {
      "cell_type": "code",
      "metadata": {
        "id": "z6Znbkx6WiIM"
      },
      "source": [
        ""
      ],
      "execution_count": null,
      "outputs": []
    }
  ]
}